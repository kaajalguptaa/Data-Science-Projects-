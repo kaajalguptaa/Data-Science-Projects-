{
  "nbformat": 4,
  "nbformat_minor": 0,
  "metadata": {
    "colab": {
      "provenance": [],
      "collapsed_sections": [],
      "include_colab_link": true
    },
    "kernelspec": {
      "name": "python3",
      "display_name": "Python 3"
    },
    "language_info": {
      "name": "python"
    }
  },
  "cells": [
    {
      "cell_type": "markdown",
      "metadata": {
        "id": "view-in-github",
        "colab_type": "text"
      },
      "source": [
        "<a href=\"https://colab.research.google.com/github/kaajalguptaa/Earthquake/blob/main/BloodDonationPrediciton.ipynb\" target=\"_parent\"><img src=\"https://colab.research.google.com/assets/colab-badge.svg\" alt=\"Open In Colab\"/></a>"
      ]
    },
    {
      "cell_type": "markdown",
      "source": [
        "#**Blood donation prediction**\n",
        "\n",
        "by Mohammad Ovesh, Kajal kumari S, Deepak Raj\n",
        "\n",
        "Team ID : PTID-CDS-JUL22-1335\n",
        "\n",
        "Project ID: PCRP-1011-BloodDonaPred"
      ],
      "metadata": {
        "id": "a6dKzdOwYqCb"
      }
    },
    {
      "cell_type": "code",
      "execution_count": null,
      "metadata": {
        "id": "XCVLHdy-8gE8"
      },
      "outputs": [],
      "source": [
        "import pandas as pd\n",
        "import numpy as np\n",
        "\n",
        "import matplotlib.pyplot as plt\n",
        "import seaborn as sns\n",
        "from sklearn.model_selection import train_test_split, cross_val_score\n",
        "%matplotlib inline \n",
        "\n",
        "# Models from Scikit-Learn\n",
        "from sklearn.linear_model import LogisticRegression\n",
        "from sklearn.neighbors import KNeighborsClassifier\n",
        "from sklearn.ensemble import RandomForestClassifier\n",
        "from sklearn.linear_model import LogisticRegression\n",
        "from sklearn.svm import SVC\n",
        "from sklearn.tree import DecisionTreeClassifier\n",
        "from sklearn.linear_model import SGDClassifier\n",
        "from xgboost import  XGBClassifier\n",
        "from sklearn.naive_bayes import GaussianNB\n",
        "from sklearn.neural_network import MLPClassifier\n",
        "from sklearn.gaussian_process import GaussianProcessClassifier\n",
        "from sklearn.gaussian_process.kernels import RBF\n",
        "from sklearn.metrics import accuracy_score\n",
        "from sklearn.metrics import confusion_matrix, classification_report\n",
        "from sklearn.metrics import roc_auc_score,roc_curve,plot_roc_curve \n",
        "from sklearn.metrics import precision_score, recall_score,f1_score\n",
        "from sklearn.metrics import plot_roc_curve\n",
        "from sklearn.metrics import plot_confusion_matrix\n",
        "from sklearn.model_selection import RandomizedSearchCV, GridSearchCV\n",
        "from sklearn.metrics import classification_report\n",
        "from sklearn.model_selection import cross_val_score\n",
        "from imblearn.over_sampling import SMOTE\n",
        "# To ignore warnings \n",
        "import warnings \n",
        "warnings.filterwarnings('ignore')"
      ]
    },
    {
      "cell_type": "code",
      "source": [
        "data = pd.read_csv(\"https://raw.githubusercontent.com/21Ovi/DataScience-DataSets/main/Data/Warm_Up_Predict_Blood_Donations_-_Traning_Data.csv\")\n"
      ],
      "metadata": {
        "id": "yndLeOXd81o_"
      },
      "execution_count": null,
      "outputs": []
    },
    {
      "cell_type": "markdown",
      "source": [
        "# **BASIC CHECKS**"
      ],
      "metadata": {
        "id": "_qVgM4QdAun5"
      }
    },
    {
      "cell_type": "code",
      "source": [
        "data.info()"
      ],
      "metadata": {
        "colab": {
          "base_uri": "https://localhost:8080/"
        },
        "id": "8KCKqq1X9thu",
        "outputId": "8115d763-9569-4821-aeed-f88331ada516"
      },
      "execution_count": null,
      "outputs": [
        {
          "output_type": "stream",
          "name": "stdout",
          "text": [
            "<class 'pandas.core.frame.DataFrame'>\n",
            "RangeIndex: 576 entries, 0 to 575\n",
            "Data columns (total 6 columns):\n",
            " #   Column                       Non-Null Count  Dtype\n",
            "---  ------                       --------------  -----\n",
            " 0   Unnamed: 0                   576 non-null    int64\n",
            " 1   Months since Last Donation   576 non-null    int64\n",
            " 2   Number of Donations          576 non-null    int64\n",
            " 3   Total Volume Donated (c.c.)  576 non-null    int64\n",
            " 4   Months since First Donation  576 non-null    int64\n",
            " 5   Made Donation in March 2007  576 non-null    int64\n",
            "dtypes: int64(6)\n",
            "memory usage: 27.1 KB\n"
          ]
        }
      ]
    },
    {
      "cell_type": "markdown",
      "source": [
        "* From above info(), we found all the data is integer"
      ],
      "metadata": {
        "id": "-wCB_h5v7GrY"
      }
    },
    {
      "cell_type": "code",
      "source": [
        "data.head()"
      ],
      "metadata": {
        "colab": {
          "base_uri": "https://localhost:8080/",
          "height": 268
        },
        "id": "6YESyPsGfewn",
        "outputId": "192a4ac1-eda3-4935-852a-6d5b08721e81"
      },
      "execution_count": null,
      "outputs": [
        {
          "output_type": "execute_result",
          "data": {
            "text/plain": [
              "   Unnamed: 0  Months since Last Donation  Number of Donations  \\\n",
              "0         619                           2                   50   \n",
              "1         664                           0                   13   \n",
              "2         441                           1                   16   \n",
              "3         160                           2                   20   \n",
              "4         358                           1                   24   \n",
              "\n",
              "   Total Volume Donated (c.c.)  Months since First Donation  \\\n",
              "0                        12500                           98   \n",
              "1                         3250                           28   \n",
              "2                         4000                           35   \n",
              "3                         5000                           45   \n",
              "4                         6000                           77   \n",
              "\n",
              "   Made Donation in March 2007  \n",
              "0                            1  \n",
              "1                            1  \n",
              "2                            1  \n",
              "3                            1  \n",
              "4                            0  "
            ],
            "text/html": [
              "\n",
              "  <div id=\"df-2110d466-5f43-4bda-a5ce-3d5570315ace\">\n",
              "    <div class=\"colab-df-container\">\n",
              "      <div>\n",
              "<style scoped>\n",
              "    .dataframe tbody tr th:only-of-type {\n",
              "        vertical-align: middle;\n",
              "    }\n",
              "\n",
              "    .dataframe tbody tr th {\n",
              "        vertical-align: top;\n",
              "    }\n",
              "\n",
              "    .dataframe thead th {\n",
              "        text-align: right;\n",
              "    }\n",
              "</style>\n",
              "<table border=\"1\" class=\"dataframe\">\n",
              "  <thead>\n",
              "    <tr style=\"text-align: right;\">\n",
              "      <th></th>\n",
              "      <th>Unnamed: 0</th>\n",
              "      <th>Months since Last Donation</th>\n",
              "      <th>Number of Donations</th>\n",
              "      <th>Total Volume Donated (c.c.)</th>\n",
              "      <th>Months since First Donation</th>\n",
              "      <th>Made Donation in March 2007</th>\n",
              "    </tr>\n",
              "  </thead>\n",
              "  <tbody>\n",
              "    <tr>\n",
              "      <th>0</th>\n",
              "      <td>619</td>\n",
              "      <td>2</td>\n",
              "      <td>50</td>\n",
              "      <td>12500</td>\n",
              "      <td>98</td>\n",
              "      <td>1</td>\n",
              "    </tr>\n",
              "    <tr>\n",
              "      <th>1</th>\n",
              "      <td>664</td>\n",
              "      <td>0</td>\n",
              "      <td>13</td>\n",
              "      <td>3250</td>\n",
              "      <td>28</td>\n",
              "      <td>1</td>\n",
              "    </tr>\n",
              "    <tr>\n",
              "      <th>2</th>\n",
              "      <td>441</td>\n",
              "      <td>1</td>\n",
              "      <td>16</td>\n",
              "      <td>4000</td>\n",
              "      <td>35</td>\n",
              "      <td>1</td>\n",
              "    </tr>\n",
              "    <tr>\n",
              "      <th>3</th>\n",
              "      <td>160</td>\n",
              "      <td>2</td>\n",
              "      <td>20</td>\n",
              "      <td>5000</td>\n",
              "      <td>45</td>\n",
              "      <td>1</td>\n",
              "    </tr>\n",
              "    <tr>\n",
              "      <th>4</th>\n",
              "      <td>358</td>\n",
              "      <td>1</td>\n",
              "      <td>24</td>\n",
              "      <td>6000</td>\n",
              "      <td>77</td>\n",
              "      <td>0</td>\n",
              "    </tr>\n",
              "  </tbody>\n",
              "</table>\n",
              "</div>\n",
              "      <button class=\"colab-df-convert\" onclick=\"convertToInteractive('df-2110d466-5f43-4bda-a5ce-3d5570315ace')\"\n",
              "              title=\"Convert this dataframe to an interactive table.\"\n",
              "              style=\"display:none;\">\n",
              "        \n",
              "  <svg xmlns=\"http://www.w3.org/2000/svg\" height=\"24px\"viewBox=\"0 0 24 24\"\n",
              "       width=\"24px\">\n",
              "    <path d=\"M0 0h24v24H0V0z\" fill=\"none\"/>\n",
              "    <path d=\"M18.56 5.44l.94 2.06.94-2.06 2.06-.94-2.06-.94-.94-2.06-.94 2.06-2.06.94zm-11 1L8.5 8.5l.94-2.06 2.06-.94-2.06-.94L8.5 2.5l-.94 2.06-2.06.94zm10 10l.94 2.06.94-2.06 2.06-.94-2.06-.94-.94-2.06-.94 2.06-2.06.94z\"/><path d=\"M17.41 7.96l-1.37-1.37c-.4-.4-.92-.59-1.43-.59-.52 0-1.04.2-1.43.59L10.3 9.45l-7.72 7.72c-.78.78-.78 2.05 0 2.83L4 21.41c.39.39.9.59 1.41.59.51 0 1.02-.2 1.41-.59l7.78-7.78 2.81-2.81c.8-.78.8-2.07 0-2.86zM5.41 20L4 18.59l7.72-7.72 1.47 1.35L5.41 20z\"/>\n",
              "  </svg>\n",
              "      </button>\n",
              "      \n",
              "  <style>\n",
              "    .colab-df-container {\n",
              "      display:flex;\n",
              "      flex-wrap:wrap;\n",
              "      gap: 12px;\n",
              "    }\n",
              "\n",
              "    .colab-df-convert {\n",
              "      background-color: #E8F0FE;\n",
              "      border: none;\n",
              "      border-radius: 50%;\n",
              "      cursor: pointer;\n",
              "      display: none;\n",
              "      fill: #1967D2;\n",
              "      height: 32px;\n",
              "      padding: 0 0 0 0;\n",
              "      width: 32px;\n",
              "    }\n",
              "\n",
              "    .colab-df-convert:hover {\n",
              "      background-color: #E2EBFA;\n",
              "      box-shadow: 0px 1px 2px rgba(60, 64, 67, 0.3), 0px 1px 3px 1px rgba(60, 64, 67, 0.15);\n",
              "      fill: #174EA6;\n",
              "    }\n",
              "\n",
              "    [theme=dark] .colab-df-convert {\n",
              "      background-color: #3B4455;\n",
              "      fill: #D2E3FC;\n",
              "    }\n",
              "\n",
              "    [theme=dark] .colab-df-convert:hover {\n",
              "      background-color: #434B5C;\n",
              "      box-shadow: 0px 1px 3px 1px rgba(0, 0, 0, 0.15);\n",
              "      filter: drop-shadow(0px 1px 2px rgba(0, 0, 0, 0.3));\n",
              "      fill: #FFFFFF;\n",
              "    }\n",
              "  </style>\n",
              "\n",
              "      <script>\n",
              "        const buttonEl =\n",
              "          document.querySelector('#df-2110d466-5f43-4bda-a5ce-3d5570315ace button.colab-df-convert');\n",
              "        buttonEl.style.display =\n",
              "          google.colab.kernel.accessAllowed ? 'block' : 'none';\n",
              "\n",
              "        async function convertToInteractive(key) {\n",
              "          const element = document.querySelector('#df-2110d466-5f43-4bda-a5ce-3d5570315ace');\n",
              "          const dataTable =\n",
              "            await google.colab.kernel.invokeFunction('convertToInteractive',\n",
              "                                                     [key], {});\n",
              "          if (!dataTable) return;\n",
              "\n",
              "          const docLinkHtml = 'Like what you see? Visit the ' +\n",
              "            '<a target=\"_blank\" href=https://colab.research.google.com/notebooks/data_table.ipynb>data table notebook</a>'\n",
              "            + ' to learn more about interactive tables.';\n",
              "          element.innerHTML = '';\n",
              "          dataTable['output_type'] = 'display_data';\n",
              "          await google.colab.output.renderOutput(dataTable, element);\n",
              "          const docLink = document.createElement('div');\n",
              "          docLink.innerHTML = docLinkHtml;\n",
              "          element.appendChild(docLink);\n",
              "        }\n",
              "      </script>\n",
              "    </div>\n",
              "  </div>\n",
              "  "
            ]
          },
          "metadata": {},
          "execution_count": 38
        }
      ]
    },
    {
      "cell_type": "code",
      "source": [
        "data.tail()"
      ],
      "metadata": {
        "id": "CJNd15yCoin2",
        "colab": {
          "base_uri": "https://localhost:8080/",
          "height": 268
        },
        "outputId": "bd521f15-da9e-4511-f66d-d763314d9228"
      },
      "execution_count": null,
      "outputs": [
        {
          "output_type": "execute_result",
          "data": {
            "text/plain": [
              "     Unnamed: 0  Months since Last Donation  Number of Donations  \\\n",
              "571         698                          23                    1   \n",
              "572         433                          16                    3   \n",
              "573         360                          21                    2   \n",
              "574         541                          39                    1   \n",
              "575          74                          72                    1   \n",
              "\n",
              "     Total Volume Donated (c.c.)  Months since First Donation  \\\n",
              "571                          250                           23   \n",
              "572                          750                           86   \n",
              "573                          500                           52   \n",
              "574                          250                           39   \n",
              "575                          250                           72   \n",
              "\n",
              "     Made Donation in March 2007  \n",
              "571                            0  \n",
              "572                            0  \n",
              "573                            0  \n",
              "574                            0  \n",
              "575                            0  "
            ],
            "text/html": [
              "\n",
              "  <div id=\"df-c692384b-6977-4c82-8f19-07da39e56e04\">\n",
              "    <div class=\"colab-df-container\">\n",
              "      <div>\n",
              "<style scoped>\n",
              "    .dataframe tbody tr th:only-of-type {\n",
              "        vertical-align: middle;\n",
              "    }\n",
              "\n",
              "    .dataframe tbody tr th {\n",
              "        vertical-align: top;\n",
              "    }\n",
              "\n",
              "    .dataframe thead th {\n",
              "        text-align: right;\n",
              "    }\n",
              "</style>\n",
              "<table border=\"1\" class=\"dataframe\">\n",
              "  <thead>\n",
              "    <tr style=\"text-align: right;\">\n",
              "      <th></th>\n",
              "      <th>Unnamed: 0</th>\n",
              "      <th>Months since Last Donation</th>\n",
              "      <th>Number of Donations</th>\n",
              "      <th>Total Volume Donated (c.c.)</th>\n",
              "      <th>Months since First Donation</th>\n",
              "      <th>Made Donation in March 2007</th>\n",
              "    </tr>\n",
              "  </thead>\n",
              "  <tbody>\n",
              "    <tr>\n",
              "      <th>571</th>\n",
              "      <td>698</td>\n",
              "      <td>23</td>\n",
              "      <td>1</td>\n",
              "      <td>250</td>\n",
              "      <td>23</td>\n",
              "      <td>0</td>\n",
              "    </tr>\n",
              "    <tr>\n",
              "      <th>572</th>\n",
              "      <td>433</td>\n",
              "      <td>16</td>\n",
              "      <td>3</td>\n",
              "      <td>750</td>\n",
              "      <td>86</td>\n",
              "      <td>0</td>\n",
              "    </tr>\n",
              "    <tr>\n",
              "      <th>573</th>\n",
              "      <td>360</td>\n",
              "      <td>21</td>\n",
              "      <td>2</td>\n",
              "      <td>500</td>\n",
              "      <td>52</td>\n",
              "      <td>0</td>\n",
              "    </tr>\n",
              "    <tr>\n",
              "      <th>574</th>\n",
              "      <td>541</td>\n",
              "      <td>39</td>\n",
              "      <td>1</td>\n",
              "      <td>250</td>\n",
              "      <td>39</td>\n",
              "      <td>0</td>\n",
              "    </tr>\n",
              "    <tr>\n",
              "      <th>575</th>\n",
              "      <td>74</td>\n",
              "      <td>72</td>\n",
              "      <td>1</td>\n",
              "      <td>250</td>\n",
              "      <td>72</td>\n",
              "      <td>0</td>\n",
              "    </tr>\n",
              "  </tbody>\n",
              "</table>\n",
              "</div>\n",
              "      <button class=\"colab-df-convert\" onclick=\"convertToInteractive('df-c692384b-6977-4c82-8f19-07da39e56e04')\"\n",
              "              title=\"Convert this dataframe to an interactive table.\"\n",
              "              style=\"display:none;\">\n",
              "        \n",
              "  <svg xmlns=\"http://www.w3.org/2000/svg\" height=\"24px\"viewBox=\"0 0 24 24\"\n",
              "       width=\"24px\">\n",
              "    <path d=\"M0 0h24v24H0V0z\" fill=\"none\"/>\n",
              "    <path d=\"M18.56 5.44l.94 2.06.94-2.06 2.06-.94-2.06-.94-.94-2.06-.94 2.06-2.06.94zm-11 1L8.5 8.5l.94-2.06 2.06-.94-2.06-.94L8.5 2.5l-.94 2.06-2.06.94zm10 10l.94 2.06.94-2.06 2.06-.94-2.06-.94-.94-2.06-.94 2.06-2.06.94z\"/><path d=\"M17.41 7.96l-1.37-1.37c-.4-.4-.92-.59-1.43-.59-.52 0-1.04.2-1.43.59L10.3 9.45l-7.72 7.72c-.78.78-.78 2.05 0 2.83L4 21.41c.39.39.9.59 1.41.59.51 0 1.02-.2 1.41-.59l7.78-7.78 2.81-2.81c.8-.78.8-2.07 0-2.86zM5.41 20L4 18.59l7.72-7.72 1.47 1.35L5.41 20z\"/>\n",
              "  </svg>\n",
              "      </button>\n",
              "      \n",
              "  <style>\n",
              "    .colab-df-container {\n",
              "      display:flex;\n",
              "      flex-wrap:wrap;\n",
              "      gap: 12px;\n",
              "    }\n",
              "\n",
              "    .colab-df-convert {\n",
              "      background-color: #E8F0FE;\n",
              "      border: none;\n",
              "      border-radius: 50%;\n",
              "      cursor: pointer;\n",
              "      display: none;\n",
              "      fill: #1967D2;\n",
              "      height: 32px;\n",
              "      padding: 0 0 0 0;\n",
              "      width: 32px;\n",
              "    }\n",
              "\n",
              "    .colab-df-convert:hover {\n",
              "      background-color: #E2EBFA;\n",
              "      box-shadow: 0px 1px 2px rgba(60, 64, 67, 0.3), 0px 1px 3px 1px rgba(60, 64, 67, 0.15);\n",
              "      fill: #174EA6;\n",
              "    }\n",
              "\n",
              "    [theme=dark] .colab-df-convert {\n",
              "      background-color: #3B4455;\n",
              "      fill: #D2E3FC;\n",
              "    }\n",
              "\n",
              "    [theme=dark] .colab-df-convert:hover {\n",
              "      background-color: #434B5C;\n",
              "      box-shadow: 0px 1px 3px 1px rgba(0, 0, 0, 0.15);\n",
              "      filter: drop-shadow(0px 1px 2px rgba(0, 0, 0, 0.3));\n",
              "      fill: #FFFFFF;\n",
              "    }\n",
              "  </style>\n",
              "\n",
              "      <script>\n",
              "        const buttonEl =\n",
              "          document.querySelector('#df-c692384b-6977-4c82-8f19-07da39e56e04 button.colab-df-convert');\n",
              "        buttonEl.style.display =\n",
              "          google.colab.kernel.accessAllowed ? 'block' : 'none';\n",
              "\n",
              "        async function convertToInteractive(key) {\n",
              "          const element = document.querySelector('#df-c692384b-6977-4c82-8f19-07da39e56e04');\n",
              "          const dataTable =\n",
              "            await google.colab.kernel.invokeFunction('convertToInteractive',\n",
              "                                                     [key], {});\n",
              "          if (!dataTable) return;\n",
              "\n",
              "          const docLinkHtml = 'Like what you see? Visit the ' +\n",
              "            '<a target=\"_blank\" href=https://colab.research.google.com/notebooks/data_table.ipynb>data table notebook</a>'\n",
              "            + ' to learn more about interactive tables.';\n",
              "          element.innerHTML = '';\n",
              "          dataTable['output_type'] = 'display_data';\n",
              "          await google.colab.output.renderOutput(dataTable, element);\n",
              "          const docLink = document.createElement('div');\n",
              "          docLink.innerHTML = docLinkHtml;\n",
              "          element.appendChild(docLink);\n",
              "        }\n",
              "      </script>\n",
              "    </div>\n",
              "  </div>\n",
              "  "
            ]
          },
          "metadata": {},
          "execution_count": 39
        }
      ]
    },
    {
      "cell_type": "code",
      "source": [
        "data.shape"
      ],
      "metadata": {
        "colab": {
          "base_uri": "https://localhost:8080/"
        },
        "id": "Us54krH7CJJT",
        "outputId": "3f732651-689d-4493-850c-962fb2783561"
      },
      "execution_count": null,
      "outputs": [
        {
          "output_type": "execute_result",
          "data": {
            "text/plain": [
              "(576, 6)"
            ]
          },
          "metadata": {},
          "execution_count": 40
        }
      ]
    },
    {
      "cell_type": "code",
      "source": [
        "data.rename(columns = {\"Months since Last Donation\":\"Month_since_last_donation\",\"Number of Donations\":\"No_of_Donations\",\"Total Volume Donated (c.c.)\":\"Total_volume_donated\",\"Months since First Donation\":\"Months_since_first_donation\",\"Made Donation in March 2007\":\"Made_Donation_in_march_2007\"},inplace=True)"
      ],
      "metadata": {
        "id": "wHC9HaPqFnY8"
      },
      "execution_count": null,
      "outputs": []
    },
    {
      "cell_type": "markdown",
      "source": [
        "## Rename unnamed column"
      ],
      "metadata": {
        "id": "rNWT0fkcBFpF"
      }
    },
    {
      "cell_type": "markdown",
      "source": [
        "Lets rename our **first column** \"Unamed: 0\", as **Donar_id**  using rename function"
      ],
      "metadata": {
        "id": "N4vVgFwp09Jl"
      }
    },
    {
      "cell_type": "code",
      "source": [
        "data.rename(columns = {\"Unnamed: 0\":\"Donar_id\"},inplace=True)\n",
        "data.head()"
      ],
      "metadata": {
        "colab": {
          "base_uri": "https://localhost:8080/",
          "height": 270
        },
        "id": "Fa1Ng9UWowW2",
        "outputId": "d2d0016f-b5e9-4aa8-954e-b2d0a29d49be"
      },
      "execution_count": null,
      "outputs": [
        {
          "output_type": "execute_result",
          "data": {
            "text/plain": [
              "   Donar_id  Month_since_last_donation  No_of_Donations  Total_volume_donated  \\\n",
              "0       619                          2               50                 12500   \n",
              "1       664                          0               13                  3250   \n",
              "2       441                          1               16                  4000   \n",
              "3       160                          2               20                  5000   \n",
              "4       358                          1               24                  6000   \n",
              "\n",
              "   Months_since_first_donation  Made_Donation_in_march_2007  \n",
              "0                           98                            1  \n",
              "1                           28                            1  \n",
              "2                           35                            1  \n",
              "3                           45                            1  \n",
              "4                           77                            0  "
            ],
            "text/html": [
              "\n",
              "  <div id=\"df-24c9ad1e-6c27-4484-892e-cfd046a68708\">\n",
              "    <div class=\"colab-df-container\">\n",
              "      <div>\n",
              "<style scoped>\n",
              "    .dataframe tbody tr th:only-of-type {\n",
              "        vertical-align: middle;\n",
              "    }\n",
              "\n",
              "    .dataframe tbody tr th {\n",
              "        vertical-align: top;\n",
              "    }\n",
              "\n",
              "    .dataframe thead th {\n",
              "        text-align: right;\n",
              "    }\n",
              "</style>\n",
              "<table border=\"1\" class=\"dataframe\">\n",
              "  <thead>\n",
              "    <tr style=\"text-align: right;\">\n",
              "      <th></th>\n",
              "      <th>Donar_id</th>\n",
              "      <th>Month_since_last_donation</th>\n",
              "      <th>No_of_Donations</th>\n",
              "      <th>Total_volume_donated</th>\n",
              "      <th>Months_since_first_donation</th>\n",
              "      <th>Made_Donation_in_march_2007</th>\n",
              "    </tr>\n",
              "  </thead>\n",
              "  <tbody>\n",
              "    <tr>\n",
              "      <th>0</th>\n",
              "      <td>619</td>\n",
              "      <td>2</td>\n",
              "      <td>50</td>\n",
              "      <td>12500</td>\n",
              "      <td>98</td>\n",
              "      <td>1</td>\n",
              "    </tr>\n",
              "    <tr>\n",
              "      <th>1</th>\n",
              "      <td>664</td>\n",
              "      <td>0</td>\n",
              "      <td>13</td>\n",
              "      <td>3250</td>\n",
              "      <td>28</td>\n",
              "      <td>1</td>\n",
              "    </tr>\n",
              "    <tr>\n",
              "      <th>2</th>\n",
              "      <td>441</td>\n",
              "      <td>1</td>\n",
              "      <td>16</td>\n",
              "      <td>4000</td>\n",
              "      <td>35</td>\n",
              "      <td>1</td>\n",
              "    </tr>\n",
              "    <tr>\n",
              "      <th>3</th>\n",
              "      <td>160</td>\n",
              "      <td>2</td>\n",
              "      <td>20</td>\n",
              "      <td>5000</td>\n",
              "      <td>45</td>\n",
              "      <td>1</td>\n",
              "    </tr>\n",
              "    <tr>\n",
              "      <th>4</th>\n",
              "      <td>358</td>\n",
              "      <td>1</td>\n",
              "      <td>24</td>\n",
              "      <td>6000</td>\n",
              "      <td>77</td>\n",
              "      <td>0</td>\n",
              "    </tr>\n",
              "  </tbody>\n",
              "</table>\n",
              "</div>\n",
              "      <button class=\"colab-df-convert\" onclick=\"convertToInteractive('df-24c9ad1e-6c27-4484-892e-cfd046a68708')\"\n",
              "              title=\"Convert this dataframe to an interactive table.\"\n",
              "              style=\"display:none;\">\n",
              "        \n",
              "  <svg xmlns=\"http://www.w3.org/2000/svg\" height=\"24px\"viewBox=\"0 0 24 24\"\n",
              "       width=\"24px\">\n",
              "    <path d=\"M0 0h24v24H0V0z\" fill=\"none\"/>\n",
              "    <path d=\"M18.56 5.44l.94 2.06.94-2.06 2.06-.94-2.06-.94-.94-2.06-.94 2.06-2.06.94zm-11 1L8.5 8.5l.94-2.06 2.06-.94-2.06-.94L8.5 2.5l-.94 2.06-2.06.94zm10 10l.94 2.06.94-2.06 2.06-.94-2.06-.94-.94-2.06-.94 2.06-2.06.94z\"/><path d=\"M17.41 7.96l-1.37-1.37c-.4-.4-.92-.59-1.43-.59-.52 0-1.04.2-1.43.59L10.3 9.45l-7.72 7.72c-.78.78-.78 2.05 0 2.83L4 21.41c.39.39.9.59 1.41.59.51 0 1.02-.2 1.41-.59l7.78-7.78 2.81-2.81c.8-.78.8-2.07 0-2.86zM5.41 20L4 18.59l7.72-7.72 1.47 1.35L5.41 20z\"/>\n",
              "  </svg>\n",
              "      </button>\n",
              "      \n",
              "  <style>\n",
              "    .colab-df-container {\n",
              "      display:flex;\n",
              "      flex-wrap:wrap;\n",
              "      gap: 12px;\n",
              "    }\n",
              "\n",
              "    .colab-df-convert {\n",
              "      background-color: #E8F0FE;\n",
              "      border: none;\n",
              "      border-radius: 50%;\n",
              "      cursor: pointer;\n",
              "      display: none;\n",
              "      fill: #1967D2;\n",
              "      height: 32px;\n",
              "      padding: 0 0 0 0;\n",
              "      width: 32px;\n",
              "    }\n",
              "\n",
              "    .colab-df-convert:hover {\n",
              "      background-color: #E2EBFA;\n",
              "      box-shadow: 0px 1px 2px rgba(60, 64, 67, 0.3), 0px 1px 3px 1px rgba(60, 64, 67, 0.15);\n",
              "      fill: #174EA6;\n",
              "    }\n",
              "\n",
              "    [theme=dark] .colab-df-convert {\n",
              "      background-color: #3B4455;\n",
              "      fill: #D2E3FC;\n",
              "    }\n",
              "\n",
              "    [theme=dark] .colab-df-convert:hover {\n",
              "      background-color: #434B5C;\n",
              "      box-shadow: 0px 1px 3px 1px rgba(0, 0, 0, 0.15);\n",
              "      filter: drop-shadow(0px 1px 2px rgba(0, 0, 0, 0.3));\n",
              "      fill: #FFFFFF;\n",
              "    }\n",
              "  </style>\n",
              "\n",
              "      <script>\n",
              "        const buttonEl =\n",
              "          document.querySelector('#df-24c9ad1e-6c27-4484-892e-cfd046a68708 button.colab-df-convert');\n",
              "        buttonEl.style.display =\n",
              "          google.colab.kernel.accessAllowed ? 'block' : 'none';\n",
              "\n",
              "        async function convertToInteractive(key) {\n",
              "          const element = document.querySelector('#df-24c9ad1e-6c27-4484-892e-cfd046a68708');\n",
              "          const dataTable =\n",
              "            await google.colab.kernel.invokeFunction('convertToInteractive',\n",
              "                                                     [key], {});\n",
              "          if (!dataTable) return;\n",
              "\n",
              "          const docLinkHtml = 'Like what you see? Visit the ' +\n",
              "            '<a target=\"_blank\" href=https://colab.research.google.com/notebooks/data_table.ipynb>data table notebook</a>'\n",
              "            + ' to learn more about interactive tables.';\n",
              "          element.innerHTML = '';\n",
              "          dataTable['output_type'] = 'display_data';\n",
              "          await google.colab.output.renderOutput(dataTable, element);\n",
              "          const docLink = document.createElement('div');\n",
              "          docLink.innerHTML = docLinkHtml;\n",
              "          element.appendChild(docLink);\n",
              "        }\n",
              "      </script>\n",
              "    </div>\n",
              "  </div>\n",
              "  "
            ]
          },
          "metadata": {},
          "execution_count": 42
        }
      ]
    },
    {
      "cell_type": "code",
      "source": [
        "data.head().T"
      ],
      "metadata": {
        "id": "z_AQa6xp0f7n",
        "colab": {
          "base_uri": "https://localhost:8080/",
          "height": 238
        },
        "outputId": "5bff453d-84fc-4d99-bb52-a98c8e9ab3ff"
      },
      "execution_count": null,
      "outputs": [
        {
          "output_type": "execute_result",
          "data": {
            "text/plain": [
              "                                 0     1     2     3     4\n",
              "Donar_id                       619   664   441   160   358\n",
              "Month_since_last_donation        2     0     1     2     1\n",
              "No_of_Donations                 50    13    16    20    24\n",
              "Total_volume_donated         12500  3250  4000  5000  6000\n",
              "Months_since_first_donation     98    28    35    45    77\n",
              "Made_Donation_in_march_2007      1     1     1     1     0"
            ],
            "text/html": [
              "\n",
              "  <div id=\"df-250c1a42-b692-4eab-8bb4-acd9f563935d\">\n",
              "    <div class=\"colab-df-container\">\n",
              "      <div>\n",
              "<style scoped>\n",
              "    .dataframe tbody tr th:only-of-type {\n",
              "        vertical-align: middle;\n",
              "    }\n",
              "\n",
              "    .dataframe tbody tr th {\n",
              "        vertical-align: top;\n",
              "    }\n",
              "\n",
              "    .dataframe thead th {\n",
              "        text-align: right;\n",
              "    }\n",
              "</style>\n",
              "<table border=\"1\" class=\"dataframe\">\n",
              "  <thead>\n",
              "    <tr style=\"text-align: right;\">\n",
              "      <th></th>\n",
              "      <th>0</th>\n",
              "      <th>1</th>\n",
              "      <th>2</th>\n",
              "      <th>3</th>\n",
              "      <th>4</th>\n",
              "    </tr>\n",
              "  </thead>\n",
              "  <tbody>\n",
              "    <tr>\n",
              "      <th>Donar_id</th>\n",
              "      <td>619</td>\n",
              "      <td>664</td>\n",
              "      <td>441</td>\n",
              "      <td>160</td>\n",
              "      <td>358</td>\n",
              "    </tr>\n",
              "    <tr>\n",
              "      <th>Month_since_last_donation</th>\n",
              "      <td>2</td>\n",
              "      <td>0</td>\n",
              "      <td>1</td>\n",
              "      <td>2</td>\n",
              "      <td>1</td>\n",
              "    </tr>\n",
              "    <tr>\n",
              "      <th>No_of_Donations</th>\n",
              "      <td>50</td>\n",
              "      <td>13</td>\n",
              "      <td>16</td>\n",
              "      <td>20</td>\n",
              "      <td>24</td>\n",
              "    </tr>\n",
              "    <tr>\n",
              "      <th>Total_volume_donated</th>\n",
              "      <td>12500</td>\n",
              "      <td>3250</td>\n",
              "      <td>4000</td>\n",
              "      <td>5000</td>\n",
              "      <td>6000</td>\n",
              "    </tr>\n",
              "    <tr>\n",
              "      <th>Months_since_first_donation</th>\n",
              "      <td>98</td>\n",
              "      <td>28</td>\n",
              "      <td>35</td>\n",
              "      <td>45</td>\n",
              "      <td>77</td>\n",
              "    </tr>\n",
              "    <tr>\n",
              "      <th>Made_Donation_in_march_2007</th>\n",
              "      <td>1</td>\n",
              "      <td>1</td>\n",
              "      <td>1</td>\n",
              "      <td>1</td>\n",
              "      <td>0</td>\n",
              "    </tr>\n",
              "  </tbody>\n",
              "</table>\n",
              "</div>\n",
              "      <button class=\"colab-df-convert\" onclick=\"convertToInteractive('df-250c1a42-b692-4eab-8bb4-acd9f563935d')\"\n",
              "              title=\"Convert this dataframe to an interactive table.\"\n",
              "              style=\"display:none;\">\n",
              "        \n",
              "  <svg xmlns=\"http://www.w3.org/2000/svg\" height=\"24px\"viewBox=\"0 0 24 24\"\n",
              "       width=\"24px\">\n",
              "    <path d=\"M0 0h24v24H0V0z\" fill=\"none\"/>\n",
              "    <path d=\"M18.56 5.44l.94 2.06.94-2.06 2.06-.94-2.06-.94-.94-2.06-.94 2.06-2.06.94zm-11 1L8.5 8.5l.94-2.06 2.06-.94-2.06-.94L8.5 2.5l-.94 2.06-2.06.94zm10 10l.94 2.06.94-2.06 2.06-.94-2.06-.94-.94-2.06-.94 2.06-2.06.94z\"/><path d=\"M17.41 7.96l-1.37-1.37c-.4-.4-.92-.59-1.43-.59-.52 0-1.04.2-1.43.59L10.3 9.45l-7.72 7.72c-.78.78-.78 2.05 0 2.83L4 21.41c.39.39.9.59 1.41.59.51 0 1.02-.2 1.41-.59l7.78-7.78 2.81-2.81c.8-.78.8-2.07 0-2.86zM5.41 20L4 18.59l7.72-7.72 1.47 1.35L5.41 20z\"/>\n",
              "  </svg>\n",
              "      </button>\n",
              "      \n",
              "  <style>\n",
              "    .colab-df-container {\n",
              "      display:flex;\n",
              "      flex-wrap:wrap;\n",
              "      gap: 12px;\n",
              "    }\n",
              "\n",
              "    .colab-df-convert {\n",
              "      background-color: #E8F0FE;\n",
              "      border: none;\n",
              "      border-radius: 50%;\n",
              "      cursor: pointer;\n",
              "      display: none;\n",
              "      fill: #1967D2;\n",
              "      height: 32px;\n",
              "      padding: 0 0 0 0;\n",
              "      width: 32px;\n",
              "    }\n",
              "\n",
              "    .colab-df-convert:hover {\n",
              "      background-color: #E2EBFA;\n",
              "      box-shadow: 0px 1px 2px rgba(60, 64, 67, 0.3), 0px 1px 3px 1px rgba(60, 64, 67, 0.15);\n",
              "      fill: #174EA6;\n",
              "    }\n",
              "\n",
              "    [theme=dark] .colab-df-convert {\n",
              "      background-color: #3B4455;\n",
              "      fill: #D2E3FC;\n",
              "    }\n",
              "\n",
              "    [theme=dark] .colab-df-convert:hover {\n",
              "      background-color: #434B5C;\n",
              "      box-shadow: 0px 1px 3px 1px rgba(0, 0, 0, 0.15);\n",
              "      filter: drop-shadow(0px 1px 2px rgba(0, 0, 0, 0.3));\n",
              "      fill: #FFFFFF;\n",
              "    }\n",
              "  </style>\n",
              "\n",
              "      <script>\n",
              "        const buttonEl =\n",
              "          document.querySelector('#df-250c1a42-b692-4eab-8bb4-acd9f563935d button.colab-df-convert');\n",
              "        buttonEl.style.display =\n",
              "          google.colab.kernel.accessAllowed ? 'block' : 'none';\n",
              "\n",
              "        async function convertToInteractive(key) {\n",
              "          const element = document.querySelector('#df-250c1a42-b692-4eab-8bb4-acd9f563935d');\n",
              "          const dataTable =\n",
              "            await google.colab.kernel.invokeFunction('convertToInteractive',\n",
              "                                                     [key], {});\n",
              "          if (!dataTable) return;\n",
              "\n",
              "          const docLinkHtml = 'Like what you see? Visit the ' +\n",
              "            '<a target=\"_blank\" href=https://colab.research.google.com/notebooks/data_table.ipynb>data table notebook</a>'\n",
              "            + ' to learn more about interactive tables.';\n",
              "          element.innerHTML = '';\n",
              "          dataTable['output_type'] = 'display_data';\n",
              "          await google.colab.output.renderOutput(dataTable, element);\n",
              "          const docLink = document.createElement('div');\n",
              "          docLink.innerHTML = docLinkHtml;\n",
              "          element.appendChild(docLink);\n",
              "        }\n",
              "      </script>\n",
              "    </div>\n",
              "  </div>\n",
              "  "
            ]
          },
          "metadata": {},
          "execution_count": 43
        }
      ]
    },
    {
      "cell_type": "code",
      "source": [
        "data.describe()"
      ],
      "metadata": {
        "id": "UO3J7M-H_QKO",
        "colab": {
          "base_uri": "https://localhost:8080/",
          "height": 364
        },
        "outputId": "ea42e828-c15d-47bb-a788-a3ed4659e97f"
      },
      "execution_count": null,
      "outputs": [
        {
          "output_type": "execute_result",
          "data": {
            "text/plain": [
              "         Donar_id  Month_since_last_donation  No_of_Donations  \\\n",
              "count  576.000000                 576.000000       576.000000   \n",
              "mean   374.034722                   9.439236         5.427083   \n",
              "std    216.947773                   8.175454         5.740010   \n",
              "min      0.000000                   0.000000         1.000000   \n",
              "25%    183.750000                   2.000000         2.000000   \n",
              "50%    375.500000                   7.000000         4.000000   \n",
              "75%    562.500000                  14.000000         7.000000   \n",
              "max    747.000000                  74.000000        50.000000   \n",
              "\n",
              "       Total_volume_donated  Months_since_first_donation  \\\n",
              "count            576.000000                   576.000000   \n",
              "mean            1356.770833                    34.050347   \n",
              "std             1435.002556                    24.227672   \n",
              "min              250.000000                     2.000000   \n",
              "25%              500.000000                    16.000000   \n",
              "50%             1000.000000                    28.000000   \n",
              "75%             1750.000000                    49.250000   \n",
              "max            12500.000000                    98.000000   \n",
              "\n",
              "       Made_Donation_in_march_2007  \n",
              "count                   576.000000  \n",
              "mean                      0.239583  \n",
              "std                       0.427200  \n",
              "min                       0.000000  \n",
              "25%                       0.000000  \n",
              "50%                       0.000000  \n",
              "75%                       0.000000  \n",
              "max                       1.000000  "
            ],
            "text/html": [
              "\n",
              "  <div id=\"df-199d78c0-3f9e-4721-9552-f9b276cae47c\">\n",
              "    <div class=\"colab-df-container\">\n",
              "      <div>\n",
              "<style scoped>\n",
              "    .dataframe tbody tr th:only-of-type {\n",
              "        vertical-align: middle;\n",
              "    }\n",
              "\n",
              "    .dataframe tbody tr th {\n",
              "        vertical-align: top;\n",
              "    }\n",
              "\n",
              "    .dataframe thead th {\n",
              "        text-align: right;\n",
              "    }\n",
              "</style>\n",
              "<table border=\"1\" class=\"dataframe\">\n",
              "  <thead>\n",
              "    <tr style=\"text-align: right;\">\n",
              "      <th></th>\n",
              "      <th>Donar_id</th>\n",
              "      <th>Month_since_last_donation</th>\n",
              "      <th>No_of_Donations</th>\n",
              "      <th>Total_volume_donated</th>\n",
              "      <th>Months_since_first_donation</th>\n",
              "      <th>Made_Donation_in_march_2007</th>\n",
              "    </tr>\n",
              "  </thead>\n",
              "  <tbody>\n",
              "    <tr>\n",
              "      <th>count</th>\n",
              "      <td>576.000000</td>\n",
              "      <td>576.000000</td>\n",
              "      <td>576.000000</td>\n",
              "      <td>576.000000</td>\n",
              "      <td>576.000000</td>\n",
              "      <td>576.000000</td>\n",
              "    </tr>\n",
              "    <tr>\n",
              "      <th>mean</th>\n",
              "      <td>374.034722</td>\n",
              "      <td>9.439236</td>\n",
              "      <td>5.427083</td>\n",
              "      <td>1356.770833</td>\n",
              "      <td>34.050347</td>\n",
              "      <td>0.239583</td>\n",
              "    </tr>\n",
              "    <tr>\n",
              "      <th>std</th>\n",
              "      <td>216.947773</td>\n",
              "      <td>8.175454</td>\n",
              "      <td>5.740010</td>\n",
              "      <td>1435.002556</td>\n",
              "      <td>24.227672</td>\n",
              "      <td>0.427200</td>\n",
              "    </tr>\n",
              "    <tr>\n",
              "      <th>min</th>\n",
              "      <td>0.000000</td>\n",
              "      <td>0.000000</td>\n",
              "      <td>1.000000</td>\n",
              "      <td>250.000000</td>\n",
              "      <td>2.000000</td>\n",
              "      <td>0.000000</td>\n",
              "    </tr>\n",
              "    <tr>\n",
              "      <th>25%</th>\n",
              "      <td>183.750000</td>\n",
              "      <td>2.000000</td>\n",
              "      <td>2.000000</td>\n",
              "      <td>500.000000</td>\n",
              "      <td>16.000000</td>\n",
              "      <td>0.000000</td>\n",
              "    </tr>\n",
              "    <tr>\n",
              "      <th>50%</th>\n",
              "      <td>375.500000</td>\n",
              "      <td>7.000000</td>\n",
              "      <td>4.000000</td>\n",
              "      <td>1000.000000</td>\n",
              "      <td>28.000000</td>\n",
              "      <td>0.000000</td>\n",
              "    </tr>\n",
              "    <tr>\n",
              "      <th>75%</th>\n",
              "      <td>562.500000</td>\n",
              "      <td>14.000000</td>\n",
              "      <td>7.000000</td>\n",
              "      <td>1750.000000</td>\n",
              "      <td>49.250000</td>\n",
              "      <td>0.000000</td>\n",
              "    </tr>\n",
              "    <tr>\n",
              "      <th>max</th>\n",
              "      <td>747.000000</td>\n",
              "      <td>74.000000</td>\n",
              "      <td>50.000000</td>\n",
              "      <td>12500.000000</td>\n",
              "      <td>98.000000</td>\n",
              "      <td>1.000000</td>\n",
              "    </tr>\n",
              "  </tbody>\n",
              "</table>\n",
              "</div>\n",
              "      <button class=\"colab-df-convert\" onclick=\"convertToInteractive('df-199d78c0-3f9e-4721-9552-f9b276cae47c')\"\n",
              "              title=\"Convert this dataframe to an interactive table.\"\n",
              "              style=\"display:none;\">\n",
              "        \n",
              "  <svg xmlns=\"http://www.w3.org/2000/svg\" height=\"24px\"viewBox=\"0 0 24 24\"\n",
              "       width=\"24px\">\n",
              "    <path d=\"M0 0h24v24H0V0z\" fill=\"none\"/>\n",
              "    <path d=\"M18.56 5.44l.94 2.06.94-2.06 2.06-.94-2.06-.94-.94-2.06-.94 2.06-2.06.94zm-11 1L8.5 8.5l.94-2.06 2.06-.94-2.06-.94L8.5 2.5l-.94 2.06-2.06.94zm10 10l.94 2.06.94-2.06 2.06-.94-2.06-.94-.94-2.06-.94 2.06-2.06.94z\"/><path d=\"M17.41 7.96l-1.37-1.37c-.4-.4-.92-.59-1.43-.59-.52 0-1.04.2-1.43.59L10.3 9.45l-7.72 7.72c-.78.78-.78 2.05 0 2.83L4 21.41c.39.39.9.59 1.41.59.51 0 1.02-.2 1.41-.59l7.78-7.78 2.81-2.81c.8-.78.8-2.07 0-2.86zM5.41 20L4 18.59l7.72-7.72 1.47 1.35L5.41 20z\"/>\n",
              "  </svg>\n",
              "      </button>\n",
              "      \n",
              "  <style>\n",
              "    .colab-df-container {\n",
              "      display:flex;\n",
              "      flex-wrap:wrap;\n",
              "      gap: 12px;\n",
              "    }\n",
              "\n",
              "    .colab-df-convert {\n",
              "      background-color: #E8F0FE;\n",
              "      border: none;\n",
              "      border-radius: 50%;\n",
              "      cursor: pointer;\n",
              "      display: none;\n",
              "      fill: #1967D2;\n",
              "      height: 32px;\n",
              "      padding: 0 0 0 0;\n",
              "      width: 32px;\n",
              "    }\n",
              "\n",
              "    .colab-df-convert:hover {\n",
              "      background-color: #E2EBFA;\n",
              "      box-shadow: 0px 1px 2px rgba(60, 64, 67, 0.3), 0px 1px 3px 1px rgba(60, 64, 67, 0.15);\n",
              "      fill: #174EA6;\n",
              "    }\n",
              "\n",
              "    [theme=dark] .colab-df-convert {\n",
              "      background-color: #3B4455;\n",
              "      fill: #D2E3FC;\n",
              "    }\n",
              "\n",
              "    [theme=dark] .colab-df-convert:hover {\n",
              "      background-color: #434B5C;\n",
              "      box-shadow: 0px 1px 3px 1px rgba(0, 0, 0, 0.15);\n",
              "      filter: drop-shadow(0px 1px 2px rgba(0, 0, 0, 0.3));\n",
              "      fill: #FFFFFF;\n",
              "    }\n",
              "  </style>\n",
              "\n",
              "      <script>\n",
              "        const buttonEl =\n",
              "          document.querySelector('#df-199d78c0-3f9e-4721-9552-f9b276cae47c button.colab-df-convert');\n",
              "        buttonEl.style.display =\n",
              "          google.colab.kernel.accessAllowed ? 'block' : 'none';\n",
              "\n",
              "        async function convertToInteractive(key) {\n",
              "          const element = document.querySelector('#df-199d78c0-3f9e-4721-9552-f9b276cae47c');\n",
              "          const dataTable =\n",
              "            await google.colab.kernel.invokeFunction('convertToInteractive',\n",
              "                                                     [key], {});\n",
              "          if (!dataTable) return;\n",
              "\n",
              "          const docLinkHtml = 'Like what you see? Visit the ' +\n",
              "            '<a target=\"_blank\" href=https://colab.research.google.com/notebooks/data_table.ipynb>data table notebook</a>'\n",
              "            + ' to learn more about interactive tables.';\n",
              "          element.innerHTML = '';\n",
              "          dataTable['output_type'] = 'display_data';\n",
              "          await google.colab.output.renderOutput(dataTable, element);\n",
              "          const docLink = document.createElement('div');\n",
              "          docLink.innerHTML = docLinkHtml;\n",
              "          element.appendChild(docLink);\n",
              "        }\n",
              "      </script>\n",
              "    </div>\n",
              "  </div>\n",
              "  "
            ]
          },
          "metadata": {},
          "execution_count": 44
        }
      ]
    },
    {
      "cell_type": "markdown",
      "source": [
        "**DESCRIBE :**\n",
        "\n",
        "It returns the count, mean, standard deviation, minimum and maximum values and the quantiles of the data."
      ],
      "metadata": {
        "id": "5uL106-KBznf"
      }
    },
    {
      "cell_type": "markdown",
      "source": [
        "# **EXPLORATORY DATA ANALYSIS** "
      ],
      "metadata": {
        "id": "D-F5g-7ICd3k"
      }
    },
    {
      "cell_type": "markdown",
      "source": [
        "## Univariate Data Analysis"
      ],
      "metadata": {
        "id": "FhjlPH4gEPeV"
      }
    },
    {
      "cell_type": "markdown",
      "source": [
        "\n",
        " \n",
        "For initial investigation on data\n",
        " \n",
        "* To discover patterns \n",
        "* To plot anomalis\n",
        "\n",
        "* To check assumptions with statistics and graphical representations\n"
      ],
      "metadata": {
        "id": "QgKvTdJDCqSG"
      }
    },
    {
      "cell_type": "markdown",
      "source": [
        "Importing sweetviz to analyze dataset"
      ],
      "metadata": {
        "id": "s2RAYmX7CxFZ"
      }
    },
    {
      "cell_type": "code",
      "source": [
        "#pip install sweetviz"
      ],
      "metadata": {
        "id": "nSbuWBzaCyid"
      },
      "execution_count": null,
      "outputs": []
    },
    {
      "cell_type": "markdown",
      "source": [
        "UNIVARIATE ANALYSIS :\n",
        "\n",
        "  *  To check features using various statistical methods and visualizations\n",
        "   \n",
        "   *  Missing values\n",
        "   * Outliers\n",
        "   * Normal distribution - skewness and kurtosis"
      ],
      "metadata": {
        "id": "ojPwWUxlC_1D"
      }
    },
    {
      "cell_type": "code",
      "source": [
        "'''blood_donation_report = sv.analyze(data) #display the report\n",
        "blood_donation_report.show_html('Blood_Donation_Prediction.html')'''"
      ],
      "metadata": {
        "colab": {
          "base_uri": "https://localhost:8080/",
          "height": 53
        },
        "id": "O7oFrrdTDEsQ",
        "outputId": "31494478-2077-4283-ecd0-d9d3fe9df5b8"
      },
      "execution_count": null,
      "outputs": [
        {
          "output_type": "execute_result",
          "data": {
            "text/plain": [
              "\"blood_donation_report = sv.analyze(data) #display the report\\nblood_donation_report.show_html('Blood_Donation_Prediction.html')\""
            ],
            "application/vnd.google.colaboratory.intrinsic+json": {
              "type": "string"
            }
          },
          "metadata": {},
          "execution_count": 46
        }
      ]
    },
    {
      "cell_type": "markdown",
      "source": [
        "**INSIGHTS FROM ABOVE UNIVARIATE ANALYSIS :**\n",
        " \n",
        "   *  Maximum number of donars donated since **last month  donation is 74.**\n",
        "   * Maximum number of donation made is **more than 50%**\n",
        "   * maximum volume donated  is around  **250 volume** by **20.5% of donars**  \n",
        "   * **Highest volume** of blood donated is around **12500 litres** by **0.2% of donars**.\n",
        "   * **Mximum number** of blood donated since first donation is 7.3% by **42 donars.**\n",
        "   * **Less number of donation** since first donation is **1.4%** , donated by 8 donars.\n",
        "   * Out of 576 donars only 138 donations were made, which is only **24% of donation**.\n",
        "   *Around **78% donars** have **not donated** the blood.\n"
      ],
      "metadata": {
        "id": "qTCvWKVYEuWR"
      }
    },
    {
      "cell_type": "markdown",
      "source": [
        "## BIVARIATE ANALYSIS"
      ],
      "metadata": {
        "id": "Kad8wmshEeX9"
      }
    },
    {
      "cell_type": "code",
      "source": [
        "plt.figure(figsize=(10,15), facecolor='white')# defining  canvas size\n",
        "plotnumber = 1 # initializing plotnumber variable to 1 it will maintain the count of how many graph is going to plot in canvas \n",
        "\n",
        "for column in data: # iteration of columns / acessing the columns from  dataset \n",
        "    if plotnumber<=15 :     # as there are 13 columns in the data\n",
        "        ax = plt.subplot(5,3,plotnumber)# plotting 40 graphs (4-rows,3-columns) ,plotnumber is for count  \n",
        "        sns.histplot(x=data[column],hue=data.Made_Donation_in_march_2007) ## it give frequency hue =value counts\n",
        "        plt.xlabel(column,fontsize=10) #assigning name to x-axis and \"name\" font size is 10\n",
        "        plt.ylabel('Blood Donation present ',fontsize=10)#assigning name to y-axis and \"name\" font size is 10\n",
        "    plotnumber+=1 # increment of plotnumber \n",
        "plt.tight_layout()#to show plot"
      ],
      "metadata": {
        "colab": {
          "base_uri": "https://localhost:8080/",
          "height": 461
        },
        "id": "OuREymrKExRA",
        "outputId": "256ba9ff-a4e8-4683-e7ab-90c119b9cc2b"
      },
      "execution_count": null,
      "outputs": [
        {
          "output_type": "display_data",
          "data": {
            "text/plain": [
              "<Figure size 720x1080 with 6 Axes>"
            ],
            "image/png": "[encoded data removed]"
          },
          "metadata": {}
        }
      ]
    },
    {
      "cell_type": "markdown",
      "source": [
        "INSIGHTS FROM ABOVE BIVARIATE ANALYSIS :\n",
        "\n",
        "*  **Around 60** blood donations were made since the last donation month.\n",
        "* Between the **month 25 to 30** only **few blood donations** were made since first donation of month. \n",
        "* **Out of 175** donations present , only around **25 donations** were made.\n",
        "* **Around 5%** of blood donor Blood donated  with the **volume of 5000**.\n",
        "*  **Atmost 150 donars** donated blood in **march 2007**.\n",
        "* **More than 400 donars** have **not donated** blood in march 2007.\n",
        "* Only **few donar**s donated blood around **12500 volume**."
      ],
      "metadata": {
        "id": "bex5N-8qG5pg"
      }
    },
    {
      "cell_type": "code",
      "source": [
        "sns.scatterplot(x=\"Months_since_first_donation\",y=\"No_of_Donations\",data=data);"
      ],
      "metadata": {
        "colab": {
          "base_uri": "https://localhost:8080/",
          "height": 280
        },
        "id": "LMBMD6_SJTns",
        "outputId": "6e2e25d8-70a3-43d3-ea97-9bb4e145dfd5"
      },
      "execution_count": null,
      "outputs": [
        {
          "output_type": "display_data",
          "data": {
            "text/plain": [
              "<Figure size 432x288 with 1 Axes>"
            ],
            "image/png": "[encoded data removed]"
          },
          "metadata": {
            "needs_background": "light"
          }
        }
      ]
    },
    {
      "cell_type": "markdown",
      "source": [
        "*  Most of the donations are made between 20 to 50 months since the first donation.\n"
      ],
      "metadata": {
        "id": "ve8scUXMLI9t"
      }
    },
    {
      "cell_type": "code",
      "source": [
        "sns.scatterplot(x=\"Months_since_first_donation\",y=\"Total_volume_donated\",data=data);"
      ],
      "metadata": {
        "colab": {
          "base_uri": "https://localhost:8080/",
          "height": 280
        },
        "id": "9LlK20C7KrYx",
        "outputId": "6beeda91-279c-4226-f77e-7184760efc21"
      },
      "execution_count": null,
      "outputs": [
        {
          "output_type": "display_data",
          "data": {
            "text/plain": [
              "<Figure size 432x288 with 1 Axes>"
            ],
            "image/png": "[encoded data removed]"
          },
          "metadata": {
            "needs_background": "light"
          }
        }
      ]
    },
    {
      "cell_type": "markdown",
      "source": [
        "* Total number of volume donated by  donars **between 10 to 50 months** since the first donation has occured many compared to other months.\n",
        "* **Most of the donars** donated blood with a volume of **2000 litre**.\n"
      ],
      "metadata": {
        "id": "vSE4-49HLMNB"
      }
    },
    {
      "cell_type": "code",
      "source": [
        "sns.scatterplot(x=\"Month_since_last_donation\",y=\"No_of_Donations\",data=data);"
      ],
      "metadata": {
        "colab": {
          "base_uri": "https://localhost:8080/",
          "height": 280
        },
        "id": "wh2Qw-RqLlGj",
        "outputId": "1d5a9b0e-5be5-43f9-cf57-65de5647a4a0"
      },
      "execution_count": null,
      "outputs": [
        {
          "output_type": "display_data",
          "data": {
            "text/plain": [
              "<Figure size 432x288 with 1 Axes>"
            ],
            "image/png": "[encoded data removed]"
          },
          "metadata": {
            "needs_background": "light"
          }
        }
      ]
    },
    {
      "cell_type": "markdown",
      "source": [
        "* No of donations made by many donars is **around 18 donations**.\n",
        "* Only **few donars** donated more than **40 donations**."
      ],
      "metadata": {
        "id": "XxyJ1o0uMHlA"
      }
    },
    {
      "cell_type": "markdown",
      "source": [
        "# DataPreprocessing"
      ],
      "metadata": {
        "id": "Re9o13iGpgFs"
      }
    },
    {
      "cell_type": "code",
      "source": [
        "data.duplicated().sum()"
      ],
      "metadata": {
        "colab": {
          "base_uri": "https://localhost:8080/"
        },
        "id": "STifbEYoplLg",
        "outputId": "0013b2f6-72de-4726-e7b5-f9cabf36eed0"
      },
      "execution_count": null,
      "outputs": [
        {
          "output_type": "execute_result",
          "data": {
            "text/plain": [
              "0"
            ]
          },
          "metadata": {},
          "execution_count": 51
        }
      ]
    },
    {
      "cell_type": "markdown",
      "source": [
        "No **Duplicate Values**"
      ],
      "metadata": {
        "id": "ZA5qmU_SpqB7"
      }
    },
    {
      "cell_type": "code",
      "source": [
        "data.isnull().sum()"
      ],
      "metadata": {
        "colab": {
          "base_uri": "https://localhost:8080/"
        },
        "id": "4Exbpg76puVD",
        "outputId": "5b2218e7-8b18-4cbc-f6b3-17c5f336ba76"
      },
      "execution_count": null,
      "outputs": [
        {
          "output_type": "execute_result",
          "data": {
            "text/plain": [
              "Donar_id                       0\n",
              "Month_since_last_donation      0\n",
              "No_of_Donations                0\n",
              "Total_volume_donated           0\n",
              "Months_since_first_donation    0\n",
              "Made_Donation_in_march_2007    0\n",
              "dtype: int64"
            ]
          },
          "metadata": {},
          "execution_count": 52
        }
      ]
    },
    {
      "cell_type": "markdown",
      "source": [
        "**No NULL** Values"
      ],
      "metadata": {
        "id": "Wo84_RGkp037"
      }
    },
    {
      "cell_type": "markdown",
      "source": [
        "## Drop unwanted column"
      ],
      "metadata": {
        "id": "jWVRvN3Gp9Ho"
      }
    },
    {
      "cell_type": "code",
      "source": [
        "data.drop('Donar_id',axis=1,inplace=True)"
      ],
      "metadata": {
        "id": "9yb_vOXDqENh"
      },
      "execution_count": null,
      "outputs": []
    },
    {
      "cell_type": "code",
      "source": [
        "data.info()"
      ],
      "metadata": {
        "colab": {
          "base_uri": "https://localhost:8080/"
        },
        "id": "ezFDtXOHqKnR",
        "outputId": "6f5076b4-f0d2-4ceb-d12b-f45b944a97d2"
      },
      "execution_count": null,
      "outputs": [
        {
          "output_type": "stream",
          "name": "stdout",
          "text": [
            "<class 'pandas.core.frame.DataFrame'>\n",
            "RangeIndex: 576 entries, 0 to 575\n",
            "Data columns (total 5 columns):\n",
            " #   Column                       Non-Null Count  Dtype\n",
            "---  ------                       --------------  -----\n",
            " 0   Month_since_last_donation    576 non-null    int64\n",
            " 1   No_of_Donations              576 non-null    int64\n",
            " 2   Total_volume_donated         576 non-null    int64\n",
            " 3   Months_since_first_donation  576 non-null    int64\n",
            " 4   Made_Donation_in_march_2007  576 non-null    int64\n",
            "dtypes: int64(5)\n",
            "memory usage: 22.6 KB\n"
          ]
        }
      ]
    },
    {
      "cell_type": "markdown",
      "source": [
        "# Modeling"
      ],
      "metadata": {
        "id": "_rilrKZtqi_u"
      }
    },
    {
      "cell_type": "markdown",
      "source": [
        "## Splitting data into Training and Testing"
      ],
      "metadata": {
        "id": "C3jl4omQqrI5"
      }
    },
    {
      "cell_type": "code",
      "source": [
        "X=data.iloc[:,0:-1]  #independent variable\n",
        "y=data.Made_Donation_in_march_2007"
      ],
      "metadata": {
        "id": "AMaXwXM4qp1E"
      },
      "execution_count": null,
      "outputs": []
    },
    {
      "cell_type": "code",
      "source": [
        "X"
      ],
      "metadata": {
        "colab": {
          "base_uri": "https://localhost:8080/",
          "height": 424
        },
        "id": "shhXGVsUrBu8",
        "outputId": "5998587b-02ea-4d8c-b3e0-a1aeb8759ac2"
      },
      "execution_count": null,
      "outputs": [
        {
          "output_type": "execute_result",
          "data": {
            "text/plain": [
              "     Month_since_last_donation  No_of_Donations  Total_volume_donated  \\\n",
              "0                            2               50                 12500   \n",
              "1                            0               13                  3250   \n",
              "2                            1               16                  4000   \n",
              "3                            2               20                  5000   \n",
              "4                            1               24                  6000   \n",
              "..                         ...              ...                   ...   \n",
              "571                         23                1                   250   \n",
              "572                         16                3                   750   \n",
              "573                         21                2                   500   \n",
              "574                         39                1                   250   \n",
              "575                         72                1                   250   \n",
              "\n",
              "     Months_since_first_donation  \n",
              "0                             98  \n",
              "1                             28  \n",
              "2                             35  \n",
              "3                             45  \n",
              "4                             77  \n",
              "..                           ...  \n",
              "571                           23  \n",
              "572                           86  \n",
              "573                           52  \n",
              "574                           39  \n",
              "575                           72  \n",
              "\n",
              "[576 rows x 4 columns]"
            ],
            "text/html": [
              "\n",
              "  <div id=\"df-58e9bdb0-6bac-438f-80c9-2aadf92bab8b\">\n",
              "    <div class=\"colab-df-container\">\n",
              "      <div>\n",
              "<style scoped>\n",
              "    .dataframe tbody tr th:only-of-type {\n",
              "        vertical-align: middle;\n",
              "    }\n",
              "\n",
              "    .dataframe tbody tr th {\n",
              "        vertical-align: top;\n",
              "    }\n",
              "\n",
              "    .dataframe thead th {\n",
              "        text-align: right;\n",
              "    }\n",
              "</style>\n",
              "<table border=\"1\" class=\"dataframe\">\n",
              "  <thead>\n",
              "    <tr style=\"text-align: right;\">\n",
              "      <th></th>\n",
              "      <th>Month_since_last_donation</th>\n",
              "      <th>No_of_Donations</th>\n",
              "      <th>Total_volume_donated</th>\n",
              "      <th>Months_since_first_donation</th>\n",
              "    </tr>\n",
              "  </thead>\n",
              "  <tbody>\n",
              "    <tr>\n",
              "      <th>0</th>\n",
              "      <td>2</td>\n",
              "      <td>50</td>\n",
              "      <td>12500</td>\n",
              "      <td>98</td>\n",
              "    </tr>\n",
              "    <tr>\n",
              "      <th>1</th>\n",
              "      <td>0</td>\n",
              "      <td>13</td>\n",
              "      <td>3250</td>\n",
              "      <td>28</td>\n",
              "    </tr>\n",
              "    <tr>\n",
              "      <th>2</th>\n",
              "      <td>1</td>\n",
              "      <td>16</td>\n",
              "      <td>4000</td>\n",
              "      <td>35</td>\n",
              "    </tr>\n",
              "    <tr>\n",
              "      <th>3</th>\n",
              "      <td>2</td>\n",
              "      <td>20</td>\n",
              "      <td>5000</td>\n",
              "      <td>45</td>\n",
              "    </tr>\n",
              "    <tr>\n",
              "      <th>4</th>\n",
              "      <td>1</td>\n",
              "      <td>24</td>\n",
              "      <td>6000</td>\n",
              "      <td>77</td>\n",
              "    </tr>\n",
              "    <tr>\n",
              "      <th>...</th>\n",
              "      <td>...</td>\n",
              "      <td>...</td>\n",
              "      <td>...</td>\n",
              "      <td>...</td>\n",
              "    </tr>\n",
              "    <tr>\n",
              "      <th>571</th>\n",
              "      <td>23</td>\n",
              "      <td>1</td>\n",
              "      <td>250</td>\n",
              "      <td>23</td>\n",
              "    </tr>\n",
              "    <tr>\n",
              "      <th>572</th>\n",
              "      <td>16</td>\n",
              "      <td>3</td>\n",
              "      <td>750</td>\n",
              "      <td>86</td>\n",
              "    </tr>\n",
              "    <tr>\n",
              "      <th>573</th>\n",
              "      <td>21</td>\n",
              "      <td>2</td>\n",
              "      <td>500</td>\n",
              "      <td>52</td>\n",
              "    </tr>\n",
              "    <tr>\n",
              "      <th>574</th>\n",
              "      <td>39</td>\n",
              "      <td>1</td>\n",
              "      <td>250</td>\n",
              "      <td>39</td>\n",
              "    </tr>\n",
              "    <tr>\n",
              "      <th>575</th>\n",
              "      <td>72</td>\n",
              "      <td>1</td>\n",
              "      <td>250</td>\n",
              "      <td>72</td>\n",
              "    </tr>\n",
              "  </tbody>\n",
              "</table>\n",
              "<p>576 rows × 4 columns</p>\n",
              "</div>\n",
              "      <button class=\"colab-df-convert\" onclick=\"convertToInteractive('df-58e9bdb0-6bac-438f-80c9-2aadf92bab8b')\"\n",
              "              title=\"Convert this dataframe to an interactive table.\"\n",
              "              style=\"display:none;\">\n",
              "        \n",
              "  <svg xmlns=\"http://www.w3.org/2000/svg\" height=\"24px\"viewBox=\"0 0 24 24\"\n",
              "       width=\"24px\">\n",
              "    <path d=\"M0 0h24v24H0V0z\" fill=\"none\"/>\n",
              "    <path d=\"M18.56 5.44l.94 2.06.94-2.06 2.06-.94-2.06-.94-.94-2.06-.94 2.06-2.06.94zm-11 1L8.5 8.5l.94-2.06 2.06-.94-2.06-.94L8.5 2.5l-.94 2.06-2.06.94zm10 10l.94 2.06.94-2.06 2.06-.94-2.06-.94-.94-2.06-.94 2.06-2.06.94z\"/><path d=\"M17.41 7.96l-1.37-1.37c-.4-.4-.92-.59-1.43-.59-.52 0-1.04.2-1.43.59L10.3 9.45l-7.72 7.72c-.78.78-.78 2.05 0 2.83L4 21.41c.39.39.9.59 1.41.59.51 0 1.02-.2 1.41-.59l7.78-7.78 2.81-2.81c.8-.78.8-2.07 0-2.86zM5.41 20L4 18.59l7.72-7.72 1.47 1.35L5.41 20z\"/>\n",
              "  </svg>\n",
              "      </button>\n",
              "      \n",
              "  <style>\n",
              "    .colab-df-container {\n",
              "      display:flex;\n",
              "      flex-wrap:wrap;\n",
              "      gap: 12px;\n",
              "    }\n",
              "\n",
              "    .colab-df-convert {\n",
              "      background-color: #E8F0FE;\n",
              "      border: none;\n",
              "      border-radius: 50%;\n",
              "      cursor: pointer;\n",
              "      display: none;\n",
              "      fill: #1967D2;\n",
              "      height: 32px;\n",
              "      padding: 0 0 0 0;\n",
              "      width: 32px;\n",
              "    }\n",
              "\n",
              "    .colab-df-convert:hover {\n",
              "      background-color: #E2EBFA;\n",
              "      box-shadow: 0px 1px 2px rgba(60, 64, 67, 0.3), 0px 1px 3px 1px rgba(60, 64, 67, 0.15);\n",
              "      fill: #174EA6;\n",
              "    }\n",
              "\n",
              "    [theme=dark] .colab-df-convert {\n",
              "      background-color: #3B4455;\n",
              "      fill: #D2E3FC;\n",
              "    }\n",
              "\n",
              "    [theme=dark] .colab-df-convert:hover {\n",
              "      background-color: #434B5C;\n",
              "      box-shadow: 0px 1px 3px 1px rgba(0, 0, 0, 0.15);\n",
              "      filter: drop-shadow(0px 1px 2px rgba(0, 0, 0, 0.3));\n",
              "      fill: #FFFFFF;\n",
              "    }\n",
              "  </style>\n",
              "\n",
              "      <script>\n",
              "        const buttonEl =\n",
              "          document.querySelector('#df-58e9bdb0-6bac-438f-80c9-2aadf92bab8b button.colab-df-convert');\n",
              "        buttonEl.style.display =\n",
              "          google.colab.kernel.accessAllowed ? 'block' : 'none';\n",
              "\n",
              "        async function convertToInteractive(key) {\n",
              "          const element = document.querySelector('#df-58e9bdb0-6bac-438f-80c9-2aadf92bab8b');\n",
              "          const dataTable =\n",
              "            await google.colab.kernel.invokeFunction('convertToInteractive',\n",
              "                                                     [key], {});\n",
              "          if (!dataTable) return;\n",
              "\n",
              "          const docLinkHtml = 'Like what you see? Visit the ' +\n",
              "            '<a target=\"_blank\" href=https://colab.research.google.com/notebooks/data_table.ipynb>data table notebook</a>'\n",
              "            + ' to learn more about interactive tables.';\n",
              "          element.innerHTML = '';\n",
              "          dataTable['output_type'] = 'display_data';\n",
              "          await google.colab.output.renderOutput(dataTable, element);\n",
              "          const docLink = document.createElement('div');\n",
              "          docLink.innerHTML = docLinkHtml;\n",
              "          element.appendChild(docLink);\n",
              "        }\n",
              "      </script>\n",
              "    </div>\n",
              "  </div>\n",
              "  "
            ]
          },
          "metadata": {},
          "execution_count": 56
        }
      ]
    },
    {
      "cell_type": "code",
      "source": [
        "y"
      ],
      "metadata": {
        "colab": {
          "base_uri": "https://localhost:8080/"
        },
        "id": "QdhhvRRZrX2i",
        "outputId": "e853a0e1-af03-4a81-a81c-c2de40de510d"
      },
      "execution_count": null,
      "outputs": [
        {
          "output_type": "execute_result",
          "data": {
            "text/plain": [
              "0      1\n",
              "1      1\n",
              "2      1\n",
              "3      1\n",
              "4      0\n",
              "      ..\n",
              "571    0\n",
              "572    0\n",
              "573    0\n",
              "574    0\n",
              "575    0\n",
              "Name: Made_Donation_in_march_2007, Length: 576, dtype: int64"
            ]
          },
          "metadata": {},
          "execution_count": 57
        }
      ]
    },
    {
      "cell_type": "markdown",
      "source": [
        "**X** is **independent** variable\n",
        "\n",
        "**y** is **dependent** variable"
      ],
      "metadata": {
        "id": "ibufdaz9rf86"
      }
    },
    {
      "cell_type": "code",
      "source": [
        "np.random.seed(42)\n",
        "X_train, X_test, y_train, y_test = train_test_split(X, y, test_size=0.2)"
      ],
      "metadata": {
        "id": "jk9EUOVFrdza"
      },
      "execution_count": null,
      "outputs": []
    },
    {
      "cell_type": "markdown",
      "source": [
        "Spliting training and test data"
      ],
      "metadata": {
        "id": "aqzRLWBTrz4j"
      }
    },
    {
      "cell_type": "code",
      "source": [
        "print(X_train.shape, y_train.shape, X_test.shape, y_test.shape)"
      ],
      "metadata": {
        "colab": {
          "base_uri": "https://localhost:8080/"
        },
        "id": "BlYQbzDer4Xx",
        "outputId": "583ca5e1-eb74-4796-a8cd-db2b985f8738"
      },
      "execution_count": null,
      "outputs": [
        {
          "output_type": "stream",
          "name": "stdout",
          "text": [
            "(460, 4) (460,) (116, 4) (116,)\n"
          ]
        }
      ]
    },
    {
      "cell_type": "code",
      "source": [
        "sc=SMOTE()\n",
        "X_smote,Y_smote=sc.fit_resample(X_train,y_train)"
      ],
      "metadata": {
        "id": "j82CrLK60BQ0"
      },
      "execution_count": null,
      "outputs": []
    },
    {
      "cell_type": "markdown",
      "source": [
        "Balance Data"
      ],
      "metadata": {
        "id": "4XzrvhdX0kFc"
      }
    },
    {
      "cell_type": "code",
      "source": [
        "print(X_smote.shape,Y_smote.shape)"
      ],
      "metadata": {
        "colab": {
          "base_uri": "https://localhost:8080/"
        },
        "id": "pVnGZ2jA0U17",
        "outputId": "203d2878-fe59-4853-bec7-9af7cca184c7"
      },
      "execution_count": null,
      "outputs": [
        {
          "output_type": "stream",
          "name": "stdout",
          "text": [
            "(702, 4) (702,)\n"
          ]
        }
      ]
    },
    {
      "cell_type": "markdown",
      "source": [
        "## Feature Selection"
      ],
      "metadata": {
        "id": "kDs_0hNAxM0I"
      }
    },
    {
      "cell_type": "code",
      "source": [
        "plt.figure(figsize=(10,10))\n",
        "cor = X_smote.corr()\n",
        "sns.heatmap(cor, annot=True, cmap=plt.cm.YlGnBu)\n",
        "plt.show()"
      ],
      "metadata": {
        "colab": {
          "base_uri": "https://localhost:8080/",
          "height": 727
        },
        "id": "gS_TUpodxRT2",
        "outputId": "545243ba-8ad3-4259-810a-82ae78207ea0"
      },
      "execution_count": null,
      "outputs": [
        {
          "output_type": "display_data",
          "data": {
            "text/plain": [
              "<Figure size 720x720 with 2 Axes>"
            ],
            "image/png": "[encoded data removed]"
          },
          "metadata": {
            "needs_background": "light"
          }
        }
      ]
    },
    {
      "cell_type": "code",
      "source": [
        "def correlation(dataset, threshold):\n",
        "    col_corr = set()  # Set of all the names of correlated columns\n",
        "    corr_matrix = dataset.corr()\n",
        "    for i in range(len(corr_matrix.columns)):\n",
        "        for j in range(i):\n",
        "            if abs(corr_matrix.iloc[i, j]) > threshold: # we are interested in absolute coeff value\n",
        "                colname = corr_matrix.columns[i]  # getting the name of column\n",
        "                col_corr.add(colname)\n",
        "    return col_corr"
      ],
      "metadata": {
        "id": "YsM_z1tGx_40"
      },
      "execution_count": null,
      "outputs": []
    },
    {
      "cell_type": "markdown",
      "source": [
        "Set the threashold to find **Highly correlation columns**"
      ],
      "metadata": {
        "id": "lHAih9Uvycfa"
      }
    },
    {
      "cell_type": "markdown",
      "source": [],
      "metadata": {
        "id": "tCEPgpse4EJ1"
      }
    },
    {
      "cell_type": "code",
      "source": [
        "corr_features = correlation(X_smote, 0.9)\n",
        "len(set(corr_features))"
      ],
      "metadata": {
        "colab": {
          "base_uri": "https://localhost:8080/"
        },
        "id": "Vcx7VtJzyevf",
        "outputId": "7b645b6f-4d24-4dc4-89e6-a5cf4685f781"
      },
      "execution_count": null,
      "outputs": [
        {
          "output_type": "execute_result",
          "data": {
            "text/plain": [
              "1"
            ]
          },
          "metadata": {},
          "execution_count": 68
        }
      ]
    },
    {
      "cell_type": "markdown",
      "source": [
        "**1 Columns** are highly correlated"
      ],
      "metadata": {
        "id": "GyzzO14Sy_B8"
      }
    },
    {
      "cell_type": "code",
      "source": [
        "corr_features"
      ],
      "metadata": {
        "colab": {
          "base_uri": "https://localhost:8080/"
        },
        "id": "WWFmwKg3zMco",
        "outputId": "71b85d73-f1ff-4f7b-dfcf-f3fd1c4a13b4"
      },
      "execution_count": null,
      "outputs": [
        {
          "output_type": "execute_result",
          "data": {
            "text/plain": [
              "{'Total_volume_donated'}"
            ]
          },
          "metadata": {},
          "execution_count": 69
        }
      ]
    },
    {
      "cell_type": "markdown",
      "source": [
        "Correlated columns"
      ],
      "metadata": {
        "id": "WJtnwS2ozdMK"
      }
    },
    {
      "cell_type": "markdown",
      "source": [
        "## Dropping Highly correlated features"
      ],
      "metadata": {
        "id": "7CYkSuMEz2Nz"
      }
    },
    {
      "cell_type": "code",
      "source": [
        "X_smote.drop(corr_features,axis=1)\n",
        "X_test.drop(corr_features,axis=1)"
      ],
      "metadata": {
        "colab": {
          "base_uri": "https://localhost:8080/",
          "height": 424
        },
        "id": "C2DBxyBQ0LY9",
        "outputId": "3c19d7d4-75bc-45e7-abf7-6c59cdeb5282"
      },
      "execution_count": null,
      "outputs": [
        {
          "output_type": "execute_result",
          "data": {
            "text/plain": [
              "     Month_since_last_donation  No_of_Donations  Months_since_first_donation\n",
              "234                         14                2                           14\n",
              "118                          2                2                           11\n",
              "346                         23                2                           28\n",
              "498                          9                1                            9\n",
              "402                          4               13                           39\n",
              "..                         ...              ...                          ...\n",
              "75                           4                2                            4\n",
              "355                         21                1                           21\n",
              "244                          9                1                            9\n",
              "272                         16                4                           28\n",
              "68                           2                4                           16\n",
              "\n",
              "[116 rows x 3 columns]"
            ],
            "text/html": [
              "\n",
              "  <div id=\"df-f7fd753b-1579-4e40-9016-15e55847b95c\">\n",
              "    <div class=\"colab-df-container\">\n",
              "      <div>\n",
              "<style scoped>\n",
              "    .dataframe tbody tr th:only-of-type {\n",
              "        vertical-align: middle;\n",
              "    }\n",
              "\n",
              "    .dataframe tbody tr th {\n",
              "        vertical-align: top;\n",
              "    }\n",
              "\n",
              "    .dataframe thead th {\n",
              "        text-align: right;\n",
              "    }\n",
              "</style>\n",
              "<table border=\"1\" class=\"dataframe\">\n",
              "  <thead>\n",
              "    <tr style=\"text-align: right;\">\n",
              "      <th></th>\n",
              "      <th>Month_since_last_donation</th>\n",
              "      <th>No_of_Donations</th>\n",
              "      <th>Months_since_first_donation</th>\n",
              "    </tr>\n",
              "  </thead>\n",
              "  <tbody>\n",
              "    <tr>\n",
              "      <th>234</th>\n",
              "      <td>14</td>\n",
              "      <td>2</td>\n",
              "      <td>14</td>\n",
              "    </tr>\n",
              "    <tr>\n",
              "      <th>118</th>\n",
              "      <td>2</td>\n",
              "      <td>2</td>\n",
              "      <td>11</td>\n",
              "    </tr>\n",
              "    <tr>\n",
              "      <th>346</th>\n",
              "      <td>23</td>\n",
              "      <td>2</td>\n",
              "      <td>28</td>\n",
              "    </tr>\n",
              "    <tr>\n",
              "      <th>498</th>\n",
              "      <td>9</td>\n",
              "      <td>1</td>\n",
              "      <td>9</td>\n",
              "    </tr>\n",
              "    <tr>\n",
              "      <th>402</th>\n",
              "      <td>4</td>\n",
              "      <td>13</td>\n",
              "      <td>39</td>\n",
              "    </tr>\n",
              "    <tr>\n",
              "      <th>...</th>\n",
              "      <td>...</td>\n",
              "      <td>...</td>\n",
              "      <td>...</td>\n",
              "    </tr>\n",
              "    <tr>\n",
              "      <th>75</th>\n",
              "      <td>4</td>\n",
              "      <td>2</td>\n",
              "      <td>4</td>\n",
              "    </tr>\n",
              "    <tr>\n",
              "      <th>355</th>\n",
              "      <td>21</td>\n",
              "      <td>1</td>\n",
              "      <td>21</td>\n",
              "    </tr>\n",
              "    <tr>\n",
              "      <th>244</th>\n",
              "      <td>9</td>\n",
              "      <td>1</td>\n",
              "      <td>9</td>\n",
              "    </tr>\n",
              "    <tr>\n",
              "      <th>272</th>\n",
              "      <td>16</td>\n",
              "      <td>4</td>\n",
              "      <td>28</td>\n",
              "    </tr>\n",
              "    <tr>\n",
              "      <th>68</th>\n",
              "      <td>2</td>\n",
              "      <td>4</td>\n",
              "      <td>16</td>\n",
              "    </tr>\n",
              "  </tbody>\n",
              "</table>\n",
              "<p>116 rows × 3 columns</p>\n",
              "</div>\n",
              "      <button class=\"colab-df-convert\" onclick=\"convertToInteractive('df-f7fd753b-1579-4e40-9016-15e55847b95c')\"\n",
              "              title=\"Convert this dataframe to an interactive table.\"\n",
              "              style=\"display:none;\">\n",
              "        \n",
              "  <svg xmlns=\"http://www.w3.org/2000/svg\" height=\"24px\"viewBox=\"0 0 24 24\"\n",
              "       width=\"24px\">\n",
              "    <path d=\"M0 0h24v24H0V0z\" fill=\"none\"/>\n",
              "    <path d=\"M18.56 5.44l.94 2.06.94-2.06 2.06-.94-2.06-.94-.94-2.06-.94 2.06-2.06.94zm-11 1L8.5 8.5l.94-2.06 2.06-.94-2.06-.94L8.5 2.5l-.94 2.06-2.06.94zm10 10l.94 2.06.94-2.06 2.06-.94-2.06-.94-.94-2.06-.94 2.06-2.06.94z\"/><path d=\"M17.41 7.96l-1.37-1.37c-.4-.4-.92-.59-1.43-.59-.52 0-1.04.2-1.43.59L10.3 9.45l-7.72 7.72c-.78.78-.78 2.05 0 2.83L4 21.41c.39.39.9.59 1.41.59.51 0 1.02-.2 1.41-.59l7.78-7.78 2.81-2.81c.8-.78.8-2.07 0-2.86zM5.41 20L4 18.59l7.72-7.72 1.47 1.35L5.41 20z\"/>\n",
              "  </svg>\n",
              "      </button>\n",
              "      \n",
              "  <style>\n",
              "    .colab-df-container {\n",
              "      display:flex;\n",
              "      flex-wrap:wrap;\n",
              "      gap: 12px;\n",
              "    }\n",
              "\n",
              "    .colab-df-convert {\n",
              "      background-color: #E8F0FE;\n",
              "      border: none;\n",
              "      border-radius: 50%;\n",
              "      cursor: pointer;\n",
              "      display: none;\n",
              "      fill: #1967D2;\n",
              "      height: 32px;\n",
              "      padding: 0 0 0 0;\n",
              "      width: 32px;\n",
              "    }\n",
              "\n",
              "    .colab-df-convert:hover {\n",
              "      background-color: #E2EBFA;\n",
              "      box-shadow: 0px 1px 2px rgba(60, 64, 67, 0.3), 0px 1px 3px 1px rgba(60, 64, 67, 0.15);\n",
              "      fill: #174EA6;\n",
              "    }\n",
              "\n",
              "    [theme=dark] .colab-df-convert {\n",
              "      background-color: #3B4455;\n",
              "      fill: #D2E3FC;\n",
              "    }\n",
              "\n",
              "    [theme=dark] .colab-df-convert:hover {\n",
              "      background-color: #434B5C;\n",
              "      box-shadow: 0px 1px 3px 1px rgba(0, 0, 0, 0.15);\n",
              "      filter: drop-shadow(0px 1px 2px rgba(0, 0, 0, 0.3));\n",
              "      fill: #FFFFFF;\n",
              "    }\n",
              "  </style>\n",
              "\n",
              "      <script>\n",
              "        const buttonEl =\n",
              "          document.querySelector('#df-f7fd753b-1579-4e40-9016-15e55847b95c button.colab-df-convert');\n",
              "        buttonEl.style.display =\n",
              "          google.colab.kernel.accessAllowed ? 'block' : 'none';\n",
              "\n",
              "        async function convertToInteractive(key) {\n",
              "          const element = document.querySelector('#df-f7fd753b-1579-4e40-9016-15e55847b95c');\n",
              "          const dataTable =\n",
              "            await google.colab.kernel.invokeFunction('convertToInteractive',\n",
              "                                                     [key], {});\n",
              "          if (!dataTable) return;\n",
              "\n",
              "          const docLinkHtml = 'Like what you see? Visit the ' +\n",
              "            '<a target=\"_blank\" href=https://colab.research.google.com/notebooks/data_table.ipynb>data table notebook</a>'\n",
              "            + ' to learn more about interactive tables.';\n",
              "          element.innerHTML = '';\n",
              "          dataTable['output_type'] = 'display_data';\n",
              "          await google.colab.output.renderOutput(dataTable, element);\n",
              "          const docLink = document.createElement('div');\n",
              "          docLink.innerHTML = docLinkHtml;\n",
              "          element.appendChild(docLink);\n",
              "        }\n",
              "      </script>\n",
              "    </div>\n",
              "  </div>\n",
              "  "
            ]
          },
          "metadata": {},
          "execution_count": 66
        }
      ]
    },
    {
      "cell_type": "markdown",
      "source": [
        "## Modeling"
      ],
      "metadata": {
        "id": "mCGBF1JazaqH"
      }
    },
    {
      "cell_type": "markdown",
      "source": [
        "Now we've got our data splitted into training and testing sets, it's time to build a machine learning model.\n",
        "\n",
        "We'll Train it (finding patterns) on the training set.\n",
        "\n",
        "and then test it testing set\n",
        "\n",
        "selecting a model from : https://scikit-learn.org/stable/tutorial/machine_learning_map/index.html\n",
        "\n",
        "after having a look I found some model to work with.\n",
        "\n",
        "We're going to try 6 different Machine Learning Model:\n",
        "1. `Logistic Regression`\n",
        "2. `K-Nearest neighbours Classifer`\n",
        "3. `RandomForestClassifer`\n",
        "4. `SVC Classifier`\n",
        "5. `XGBOOST Classifier`\n",
        "6. `SGD Classifier`\n",
        "7. `MlP Classifier`\n",
        "8. `Radial Basis Function`\n",
        "9. `Naive Bayes Classifier`\n"
      ],
      "metadata": {
        "id": "URy3EPN7zipy"
      }
    },
    {
      "cell_type": "code",
      "source": [
        "LR=LogisticRegression() \n",
        "LR.fit(X_smote.drop(corr_features,axis=1),Y_smote)#fit train data "
      ],
      "metadata": {
        "colab": {
          "base_uri": "https://localhost:8080/"
        },
        "id": "wY3xV2MA8OAo",
        "outputId": "efc7a80b-b376-40fa-bad8-7a3cf04f8307"
      },
      "execution_count": null,
      "outputs": [
        {
          "output_type": "execute_result",
          "data": {
            "text/plain": [
              "LogisticRegression()"
            ]
          },
          "metadata": {},
          "execution_count": 71
        }
      ]
    },
    {
      "cell_type": "code",
      "source": [
        "print(LR.intercept_) #line intercept"
      ],
      "metadata": {
        "colab": {
          "base_uri": "https://localhost:8080/"
        },
        "id": "JrAbeTjM9nrH",
        "outputId": "5b340a04-efed-4b2a-c15c-716586b785ae"
      },
      "execution_count": null,
      "outputs": [
        {
          "output_type": "stream",
          "name": "stdout",
          "text": [
            "[0.63176671]\n"
          ]
        }
      ]
    },
    {
      "cell_type": "markdown",
      "source": [
        "Line Intercept"
      ],
      "metadata": {
        "id": "LYvJ51mdBw0W"
      }
    },
    {
      "cell_type": "code",
      "source": [
        "y_log_pred=LR.predict(X_test.drop(corr_features,axis=1))"
      ],
      "metadata": {
        "id": "6b4ASn6n9uAy"
      },
      "execution_count": null,
      "outputs": []
    },
    {
      "cell_type": "code",
      "source": [
        "print(classification_report(y_test,y_log_pred))"
      ],
      "metadata": {
        "colab": {
          "base_uri": "https://localhost:8080/"
        },
        "id": "LQns1WGF-wTg",
        "outputId": "6652bbfb-5e1f-432e-e404-e4c017857c22"
      },
      "execution_count": null,
      "outputs": [
        {
          "output_type": "stream",
          "name": "stdout",
          "text": [
            "              precision    recall  f1-score   support\n",
            "\n",
            "           0       0.90      0.62      0.73        87\n",
            "           1       0.41      0.79      0.54        29\n",
            "\n",
            "    accuracy                           0.66       116\n",
            "   macro avg       0.66      0.71      0.64       116\n",
            "weighted avg       0.78      0.66      0.69       116\n",
            "\n"
          ]
        }
      ]
    },
    {
      "cell_type": "markdown",
      "source": [
        "Classification Report"
      ],
      "metadata": {
        "id": "1YxroI9YUwDb"
      }
    },
    {
      "cell_type": "code",
      "source": [
        "pd.crosstab(y_test,y_log_pred)"
      ],
      "metadata": {
        "colab": {
          "base_uri": "https://localhost:8080/",
          "height": 143
        },
        "id": "HwbjUOrc_EMy",
        "outputId": "8c9a0cb9-8ff5-4dc6-e2a0-f061005b8568"
      },
      "execution_count": null,
      "outputs": [
        {
          "output_type": "execute_result",
          "data": {
            "text/plain": [
              "col_0                         0   1\n",
              "Made_Donation_in_march_2007        \n",
              "0                            54  33\n",
              "1                             6  23"
            ],
            "text/html": [
              "\n",
              "  <div id=\"df-d684846b-7b12-4b47-a09b-03eb14375b30\">\n",
              "    <div class=\"colab-df-container\">\n",
              "      <div>\n",
              "<style scoped>\n",
              "    .dataframe tbody tr th:only-of-type {\n",
              "        vertical-align: middle;\n",
              "    }\n",
              "\n",
              "    .dataframe tbody tr th {\n",
              "        vertical-align: top;\n",
              "    }\n",
              "\n",
              "    .dataframe thead th {\n",
              "        text-align: right;\n",
              "    }\n",
              "</style>\n",
              "<table border=\"1\" class=\"dataframe\">\n",
              "  <thead>\n",
              "    <tr style=\"text-align: right;\">\n",
              "      <th>col_0</th>\n",
              "      <th>0</th>\n",
              "      <th>1</th>\n",
              "    </tr>\n",
              "    <tr>\n",
              "      <th>Made_Donation_in_march_2007</th>\n",
              "      <th></th>\n",
              "      <th></th>\n",
              "    </tr>\n",
              "  </thead>\n",
              "  <tbody>\n",
              "    <tr>\n",
              "      <th>0</th>\n",
              "      <td>54</td>\n",
              "      <td>33</td>\n",
              "    </tr>\n",
              "    <tr>\n",
              "      <th>1</th>\n",
              "      <td>6</td>\n",
              "      <td>23</td>\n",
              "    </tr>\n",
              "  </tbody>\n",
              "</table>\n",
              "</div>\n",
              "      <button class=\"colab-df-convert\" onclick=\"convertToInteractive('df-d684846b-7b12-4b47-a09b-03eb14375b30')\"\n",
              "              title=\"Convert this dataframe to an interactive table.\"\n",
              "              style=\"display:none;\">\n",
              "        \n",
              "  <svg xmlns=\"http://www.w3.org/2000/svg\" height=\"24px\"viewBox=\"0 0 24 24\"\n",
              "       width=\"24px\">\n",
              "    <path d=\"M0 0h24v24H0V0z\" fill=\"none\"/>\n",
              "    <path d=\"M18.56 5.44l.94 2.06.94-2.06 2.06-.94-2.06-.94-.94-2.06-.94 2.06-2.06.94zm-11 1L8.5 8.5l.94-2.06 2.06-.94-2.06-.94L8.5 2.5l-.94 2.06-2.06.94zm10 10l.94 2.06.94-2.06 2.06-.94-2.06-.94-.94-2.06-.94 2.06-2.06.94z\"/><path d=\"M17.41 7.96l-1.37-1.37c-.4-.4-.92-.59-1.43-.59-.52 0-1.04.2-1.43.59L10.3 9.45l-7.72 7.72c-.78.78-.78 2.05 0 2.83L4 21.41c.39.39.9.59 1.41.59.51 0 1.02-.2 1.41-.59l7.78-7.78 2.81-2.81c.8-.78.8-2.07 0-2.86zM5.41 20L4 18.59l7.72-7.72 1.47 1.35L5.41 20z\"/>\n",
              "  </svg>\n",
              "      </button>\n",
              "      \n",
              "  <style>\n",
              "    .colab-df-container {\n",
              "      display:flex;\n",
              "      flex-wrap:wrap;\n",
              "      gap: 12px;\n",
              "    }\n",
              "\n",
              "    .colab-df-convert {\n",
              "      background-color: #E8F0FE;\n",
              "      border: none;\n",
              "      border-radius: 50%;\n",
              "      cursor: pointer;\n",
              "      display: none;\n",
              "      fill: #1967D2;\n",
              "      height: 32px;\n",
              "      padding: 0 0 0 0;\n",
              "      width: 32px;\n",
              "    }\n",
              "\n",
              "    .colab-df-convert:hover {\n",
              "      background-color: #E2EBFA;\n",
              "      box-shadow: 0px 1px 2px rgba(60, 64, 67, 0.3), 0px 1px 3px 1px rgba(60, 64, 67, 0.15);\n",
              "      fill: #174EA6;\n",
              "    }\n",
              "\n",
              "    [theme=dark] .colab-df-convert {\n",
              "      background-color: #3B4455;\n",
              "      fill: #D2E3FC;\n",
              "    }\n",
              "\n",
              "    [theme=dark] .colab-df-convert:hover {\n",
              "      background-color: #434B5C;\n",
              "      box-shadow: 0px 1px 3px 1px rgba(0, 0, 0, 0.15);\n",
              "      filter: drop-shadow(0px 1px 2px rgba(0, 0, 0, 0.3));\n",
              "      fill: #FFFFFF;\n",
              "    }\n",
              "  </style>\n",
              "\n",
              "      <script>\n",
              "        const buttonEl =\n",
              "          document.querySelector('#df-d684846b-7b12-4b47-a09b-03eb14375b30 button.colab-df-convert');\n",
              "        buttonEl.style.display =\n",
              "          google.colab.kernel.accessAllowed ? 'block' : 'none';\n",
              "\n",
              "        async function convertToInteractive(key) {\n",
              "          const element = document.querySelector('#df-d684846b-7b12-4b47-a09b-03eb14375b30');\n",
              "          const dataTable =\n",
              "            await google.colab.kernel.invokeFunction('convertToInteractive',\n",
              "                                                     [key], {});\n",
              "          if (!dataTable) return;\n",
              "\n",
              "          const docLinkHtml = 'Like what you see? Visit the ' +\n",
              "            '<a target=\"_blank\" href=https://colab.research.google.com/notebooks/data_table.ipynb>data table notebook</a>'\n",
              "            + ' to learn more about interactive tables.';\n",
              "          element.innerHTML = '';\n",
              "          dataTable['output_type'] = 'display_data';\n",
              "          await google.colab.output.renderOutput(dataTable, element);\n",
              "          const docLink = document.createElement('div');\n",
              "          docLink.innerHTML = docLinkHtml;\n",
              "          element.appendChild(docLink);\n",
              "        }\n",
              "      </script>\n",
              "    </div>\n",
              "  </div>\n",
              "  "
            ]
          },
          "metadata": {},
          "execution_count": 75
        }
      ]
    },
    {
      "cell_type": "code",
      "source": [
        "y_prob=LR.predict_proba(X_test.drop(corr_features,axis=1))[:,1] # predict proba for class 1"
      ],
      "metadata": {
        "id": "lyyJg7Tq_jUJ"
      },
      "execution_count": null,
      "outputs": []
    },
    {
      "cell_type": "code",
      "source": [
        "\n",
        "fpr,tpr,threshold=roc_curve(y_test,y_prob)"
      ],
      "metadata": {
        "id": "l_pN20lkAcDX"
      },
      "execution_count": null,
      "outputs": []
    },
    {
      "cell_type": "code",
      "source": [
        "roc_auc = roc_auc_score(y_test,y_prob)\n",
        "print('roc-curve',roc_auc)"
      ],
      "metadata": {
        "colab": {
          "base_uri": "https://localhost:8080/"
        },
        "id": "nfqZw8mcDZFm",
        "outputId": "66f0bd17-bdc0-4f56-aca7-4d754ea3a102"
      },
      "execution_count": null,
      "outputs": [
        {
          "output_type": "stream",
          "name": "stdout",
          "text": [
            "roc-curve 0.7861672611969878\n"
          ]
        }
      ]
    },
    {
      "cell_type": "code",
      "source": [
        "def plot_roc_curve(fpr, tpr):# function to plot roc curve\n",
        "    plt.plot(fpr, tpr, color='orange', label='ROC curve (area = %0.3f)' % roc_auc)#line plot between fpr and tpr\n",
        "    plt.plot([0, 1], [0, 1], color='darkblue', linestyle='--')\n",
        "    plt.xlabel('False Positive Rate')# assigning name to  x axis\n",
        "    plt.ylabel('True Positive Rate')# assigning name to y axis\n",
        "    plt.title('Receiver Operating Characteristic (ROC) Curve')#assigning name to curve  \n",
        "    plt.legend()#area describing the elements of the graph\n",
        "    plt.show()#to show graph without location"
      ],
      "metadata": {
        "id": "jd8IKunDAjeJ"
      },
      "execution_count": null,
      "outputs": []
    },
    {
      "cell_type": "code",
      "source": [
        "plot_roc_curve(fpr, tpr)#plotting ruc curve"
      ],
      "metadata": {
        "colab": {
          "base_uri": "https://localhost:8080/",
          "height": 295
        },
        "id": "rTQNBsX4An5V",
        "outputId": "60066a3a-2fc0-432c-f5e4-7b3dcf8325b7"
      },
      "execution_count": null,
      "outputs": [
        {
          "output_type": "display_data",
          "data": {
            "text/plain": [
              "<Figure size 432x288 with 1 Axes>"
            ],
            "image/png": "[encoded data removed]"
          },
          "metadata": {
            "needs_background": "light"
          }
        }
      ]
    },
    {
      "cell_type": "code",
      "source": [
        "# Putting Models in a Dictionary to make our function more dynamic\n",
        "\n",
        "models = {\n",
        "    \"Logistic Regression\":LogisticRegression(),\n",
        "    \"KNN\":KNeighborsClassifier(),\n",
        "    \"Random Forest\":RandomForestClassifier(),\n",
        "    \"SVC\":SVC(),\n",
        "    \"Xgboost\":XGBClassifier(),\n",
        "    \"SGD\":SGDClassifier(),\n",
        "    \"NB\":GaussianNB(),\n",
        "    \"MLP\":MLPClassifier(),\n",
        "   \n",
        "\n",
        "}\n",
        "\n",
        "# Create a function to fit and score models\n",
        "def fit_and_score(models, X_smote, X_test, Y_smote, y_test):\n",
        "  \"\"\"\n",
        "  Fits and evaluate given machine learning models.\n",
        "  Models: a dictionary of diccerent sklearn Machine Learnng Models\n",
        "  X_train : Training data (no labeles)\n",
        "  X_test : Testing data (no labels)\n",
        "  y_train : Training labels\n",
        "  y_test : Test labels\n",
        "  \"\"\"\n",
        "  # Setting up Random seeds\n",
        "  np.random.seed(42)\n",
        "  # Make a dictionary to keep model scores\n",
        "  model_scores ={}\n",
        "  # Loop through models\n",
        "  for name, model in models.items():\n",
        "    # Fit the model to data\n",
        "    model.fit(X_smote.drop(corr_features,axis=1), Y_smote)\n",
        "    # Evaluate the model and append its score to model_scores\n",
        "    model_scores[name] = model.score(X_test.drop(corr_features,axis=1),y_test)\n",
        "  return model_scores"
      ],
      "metadata": {
        "id": "QKwSipzQzuiT"
      },
      "execution_count": null,
      "outputs": []
    },
    {
      "cell_type": "code",
      "source": [
        "%time\n",
        "model_scores = fit_and_score(models=models,\n",
        "                             X_smote=X_smote,\n",
        "                             X_test=X_test,\n",
        "                             Y_smote = Y_smote,\n",
        "                             y_test = y_test)"
      ],
      "metadata": {
        "colab": {
          "base_uri": "https://localhost:8080/"
        },
        "id": "B7t2GoCh0H_h",
        "outputId": "b0a68f67-58c3-41b7-e653-32ed8c153af1"
      },
      "execution_count": null,
      "outputs": [
        {
          "output_type": "stream",
          "name": "stdout",
          "text": [
            "CPU times: user 4 µs, sys: 0 ns, total: 4 µs\n",
            "Wall time: 8.58 µs\n"
          ]
        }
      ]
    },
    {
      "cell_type": "code",
      "source": [
        "model_scores"
      ],
      "metadata": {
        "colab": {
          "base_uri": "https://localhost:8080/"
        },
        "id": "5F81EeIX0Mmi",
        "outputId": "e9f5b7b1-cf5f-400a-ca84-00e96c306d9c"
      },
      "execution_count": null,
      "outputs": [
        {
          "output_type": "execute_result",
          "data": {
            "text/plain": [
              "{'Logistic Regression': 0.6637931034482759,\n",
              " 'KNN': 0.7413793103448276,\n",
              " 'Random Forest': 0.7241379310344828,\n",
              " 'SVC': 0.6810344827586207,\n",
              " 'Xgboost': 0.6896551724137931,\n",
              " 'SGD': 0.5689655172413793,\n",
              " 'NB': 0.6293103448275862,\n",
              " 'MLP': 0.6982758620689655}"
            ]
          },
          "metadata": {},
          "execution_count": 94
        }
      ]
    },
    {
      "cell_type": "code",
      "source": [
        "kernel = 1.0 * RBF(1.0)\n",
        "gpc = GaussianProcessClassifier(kernel=kernel,random_state=42).fit(X_smote.drop(corr_features,axis=1), Y_smote)\n",
        "print('Rbf:',gpc.score( X_smote.drop(corr_features,axis=1), Y_smote))"
      ],
      "metadata": {
        "colab": {
          "base_uri": "https://localhost:8080/"
        },
        "id": "_FtkvTANaQ6r",
        "outputId": "2bee93c2-14c6-4e91-b433-b42affcc9b64"
      },
      "execution_count": null,
      "outputs": [
        {
          "output_type": "stream",
          "name": "stdout",
          "text": [
            "Rbf: 0.7849002849002849\n"
          ]
        }
      ]
    },
    {
      "cell_type": "markdown",
      "source": [
        "Let's visulaize the model comparision before goin any further"
      ],
      "metadata": {
        "id": "TDRQvc9-0n6z"
      }
    },
    {
      "cell_type": "code",
      "source": [
        "model_compare = pd.DataFrame(model_scores, index=[\"accuracy\"])\n",
        "model_compare.T.plot.bar();"
      ],
      "metadata": {
        "colab": {
          "base_uri": "https://localhost:8080/",
          "height": 351
        },
        "id": "qj8ctUkS0tkg",
        "outputId": "9a3ab7a1-6808-4c6f-dcf8-adf42105e2ff"
      },
      "execution_count": null,
      "outputs": [
        {
          "output_type": "display_data",
          "data": {
            "text/plain": [
              "<Figure size 432x288 with 1 Axes>"
            ],
            "image/png": "[encoded data removed]"
          },
          "metadata": {
            "needs_background": "light"
          }
        }
      ]
    },
    {
      "cell_type": "markdown",
      "source": [
        "As we can see `XGBoost Classification`, performs best while `KNN`,`Logistic Regression`,`SVC` and `SGD Classification` and was slightly behind and `Random Forest`was perform worst.\n",
        "\n",
        "but still, model's first predictions aren't always what we should based our next step off.\n",
        "\n",
        "so let's do Hyperparameter Tuning"
      ],
      "metadata": {
        "id": "1n6QGlk_1E7T"
      }
    },
    {
      "cell_type": "markdown",
      "source": [
        "# Hyper Tuning"
      ],
      "metadata": {
        "id": "zcGcoAj137mp"
      }
    },
    {
      "cell_type": "markdown",
      "source": [
        "## Logistic Regression"
      ],
      "metadata": {
        "id": "dFlaxRKP0oG3"
      }
    },
    {
      "cell_type": "code",
      "source": [
        "# Creating a hyperparameter grid for LogisticRegression\n",
        "log_reg_grid = {\"C\":np.logspace(-4,4,20),\n",
        "                \"solver\":[\"liblinear\"]}\n",
        "\n",
        "# Create a hyperparameter grid for RandomForestClassifer\n",
        "rf_grid = {\"n_estimators\":np.arange(10,1000,50),\n",
        "           \"max_depth\":[None,3,5,10],\n",
        "           \"min_samples_split\":np.arange(2,20,2),\n",
        "           \"min_samples_leaf\":np.arange(1,20,2)}"
      ],
      "metadata": {
        "id": "GW2KmGFy4FCI"
      },
      "execution_count": null,
      "outputs": []
    },
    {
      "cell_type": "markdown",
      "source": [
        "So now rather than doing hyperparamer tuning by hand or manully let's use `RandomizedSearchCV`"
      ],
      "metadata": {
        "id": "kurY76_z4I72"
      }
    },
    {
      "cell_type": "code",
      "source": [
        "np.random.seed(42)\n",
        "\n",
        "# setup random hyperparameter search for LogisticRegression\n",
        "rs_log_reg = RandomizedSearchCV(LogisticRegression(),\n",
        "                                param_distributions=log_reg_grid,\n",
        "                                cv=5,\n",
        "                                n_iter=20,\n",
        "                                verbose=True)\n",
        "\n",
        "# Fit random hyperparameter search model for LoisticRegression\n",
        "rs_log_reg.fit(X_smote.drop(corr_features,axis=1), Y_smote)"
      ],
      "metadata": {
        "colab": {
          "base_uri": "https://localhost:8080/"
        },
        "id": "lk7iltS54OMx",
        "outputId": "c074eceb-c562-4ada-a1d2-5f7ab826f19a"
      },
      "execution_count": null,
      "outputs": [
        {
          "output_type": "stream",
          "name": "stdout",
          "text": [
            "Fitting 5 folds for each of 20 candidates, totalling 100 fits\n"
          ]
        },
        {
          "output_type": "execute_result",
          "data": {
            "text/plain": [
              "RandomizedSearchCV(cv=5, estimator=LogisticRegression(), n_iter=20,\n",
              "                   param_distributions={'C': array([1.00000000e-04, 2.63665090e-04, 6.95192796e-04, 1.83298071e-03,\n",
              "       4.83293024e-03, 1.27427499e-02, 3.35981829e-02, 8.85866790e-02,\n",
              "       2.33572147e-01, 6.15848211e-01, 1.62377674e+00, 4.28133240e+00,\n",
              "       1.12883789e+01, 2.97635144e+01, 7.84759970e+01, 2.06913808e+02,\n",
              "       5.45559478e+02, 1.43844989e+03, 3.79269019e+03, 1.00000000e+04]),\n",
              "                                        'solver': ['liblinear']},\n",
              "                   verbose=True)"
            ]
          },
          "metadata": {},
          "execution_count": 97
        }
      ]
    },
    {
      "cell_type": "code",
      "source": [
        "rs_log_reg.best_params_"
      ],
      "metadata": {
        "colab": {
          "base_uri": "https://localhost:8080/"
        },
        "id": "YzowN5iI406I",
        "outputId": "d1336a4f-05d0-4e1b-cd7d-7a9522bc8e28"
      },
      "execution_count": null,
      "outputs": [
        {
          "output_type": "execute_result",
          "data": {
            "text/plain": [
              "{'solver': 'liblinear', 'C': 0.012742749857031334}"
            ]
          },
          "metadata": {},
          "execution_count": 98
        }
      ]
    },
    {
      "cell_type": "code",
      "source": [
        "rs_log_reg.score(X_test.drop(corr_features,axis=1),y_test)"
      ],
      "metadata": {
        "colab": {
          "base_uri": "https://localhost:8080/"
        },
        "id": "8k9FO58244zY",
        "outputId": "3b8ea3bc-4a69-47da-a36d-22e2042cfda9"
      },
      "execution_count": null,
      "outputs": [
        {
          "output_type": "execute_result",
          "data": {
            "text/plain": [
              "0.6982758620689655"
            ]
          },
          "metadata": {},
          "execution_count": 99
        }
      ]
    },
    {
      "cell_type": "markdown",
      "source": [
        "After Tuning Logistic Regression, we got the best score as **0.69** as less than before tuning"
      ],
      "metadata": {
        "id": "g9-eHzHzMj3D"
      }
    },
    {
      "cell_type": "markdown",
      "source": [
        "## k Nearest Neighbor"
      ],
      "metadata": {
        "id": "flCD7avAMxmC"
      }
    },
    {
      "cell_type": "code",
      "source": [
        "%time\n",
        "# Let's Tune KNN\n",
        "\n",
        "train_scores = []\n",
        "test_scores = []\n",
        "\n",
        "#create a list of different values of n_neighbours\n",
        "neighbours = range(1,10)\n",
        "\n",
        "# setup KNN instance\n",
        "knn = KNeighborsClassifier()\n",
        "\n",
        "# Loop through different n_neigbours\n",
        "for i in neighbours:\n",
        "  knn.set_params(n_neighbors = i)\n",
        "\n",
        "  # Fit the algorithm\n",
        "  knn.fit(X_smote.drop(corr_features,axis=1), Y_smote)\n",
        "\n",
        "  # Update the training score list\n",
        "  train_scores.append(knn.score(X_smote.drop(corr_features,axis=1),Y_smote))\n",
        "\n",
        "  # Update the test score list\n",
        "  test_scores.append(knn.score(X_test.drop(corr_features,axis=1), y_test))"
      ],
      "metadata": {
        "colab": {
          "base_uri": "https://localhost:8080/"
        },
        "id": "lpzXYIQv4YEc",
        "outputId": "8f9bb523-21b8-4c33-88db-ead450ff6618"
      },
      "execution_count": null,
      "outputs": [
        {
          "output_type": "stream",
          "name": "stdout",
          "text": [
            "CPU times: user 4 µs, sys: 1 µs, total: 5 µs\n",
            "Wall time: 9.54 µs\n"
          ]
        }
      ]
    },
    {
      "cell_type": "code",
      "source": [
        "train_scores"
      ],
      "metadata": {
        "colab": {
          "base_uri": "https://localhost:8080/"
        },
        "id": "7VJD3LAgM9o-",
        "outputId": "c93dbf6d-3950-4d98-be19-b332ff02dc8b"
      },
      "execution_count": null,
      "outputs": [
        {
          "output_type": "execute_result",
          "data": {
            "text/plain": [
              "[0.9045584045584045,\n",
              " 0.8262108262108262,\n",
              " 0.8190883190883191,\n",
              " 0.7991452991452992,\n",
              " 0.7792022792022792,\n",
              " 0.782051282051282,\n",
              " 0.7635327635327636,\n",
              " 0.7806267806267806,\n",
              " 0.7678062678062678]"
            ]
          },
          "metadata": {},
          "execution_count": 101
        }
      ]
    },
    {
      "cell_type": "code",
      "source": [
        "test_scores"
      ],
      "metadata": {
        "colab": {
          "base_uri": "https://localhost:8080/"
        },
        "id": "G0joFTN4NBJR",
        "outputId": "38117c07-37c4-47ae-b1e8-0b87cf0cafd6"
      },
      "execution_count": null,
      "outputs": [
        {
          "output_type": "execute_result",
          "data": {
            "text/plain": [
              "[0.6293103448275862,\n",
              " 0.7327586206896551,\n",
              " 0.6896551724137931,\n",
              " 0.7586206896551724,\n",
              " 0.7413793103448276,\n",
              " 0.7844827586206896,\n",
              " 0.7586206896551724,\n",
              " 0.7844827586206896,\n",
              " 0.7758620689655172]"
            ]
          },
          "metadata": {},
          "execution_count": 102
        }
      ]
    },
    {
      "cell_type": "code",
      "source": [
        "plt.plot(neighbours, train_scores, label = \"Train Score\")\n",
        "plt.plot(neighbours, test_scores, label = \"Test Score\")\n",
        "plt.xticks(np.arange(1,21,1))\n",
        "plt.xlabel(\"Number of Neighbours\")\n",
        "plt.ylabel(\"Model Score\")\n",
        "plt.legend()\n",
        "\n",
        "print(f\"Maximum KNN score on the test data:\",max(test_scores) )\n"
      ],
      "metadata": {
        "colab": {
          "base_uri": "https://localhost:8080/",
          "height": 296
        },
        "id": "EkNDu8V6NFqs",
        "outputId": "736878b9-1209-45de-cde1-b75ae47ef7fc"
      },
      "execution_count": null,
      "outputs": [
        {
          "output_type": "stream",
          "name": "stdout",
          "text": [
            "Maximum KNN score on the test data: 0.7844827586206896\n"
          ]
        },
        {
          "output_type": "display_data",
          "data": {
            "text/plain": [
              "<Figure size 432x288 with 1 Axes>"
            ],
            "image/png": "[encoded data removed]"
          },
          "metadata": {
            "needs_background": "light"
          }
        }
      ]
    },
    {
      "cell_type": "markdown",
      "source": [
        "After Tuning KNN, we got best score as **0.78** as higher than before tuning"
      ],
      "metadata": {
        "id": "RtJ9_G_yNNPS"
      }
    },
    {
      "cell_type": "markdown",
      "source": [
        "## Stochastic Gradient Descent"
      ],
      "metadata": {
        "id": "M2f0ZsA4NaO2"
      }
    },
    {
      "cell_type": "code",
      "source": [
        "loss = ['hinge', 'log', 'modified_huber', 'squared_hinge',  \n",
        "'perceptron'] \n",
        "penalty = ['l1', 'l2', 'elasticnet'] \n",
        "alpha = [0.0001, 0.001, 0.01, 0.1, 1, 10, 100, 1000] \n",
        "learning_rate = ['constant', 'optimal', 'invscaling', 'adaptive'] \n",
        "\n",
        "eta0 = [1, 10, 100] "
      ],
      "metadata": {
        "id": "9dwf5PBsNdyK"
      },
      "execution_count": null,
      "outputs": []
    },
    {
      "cell_type": "code",
      "source": [
        "param_distributions = dict(loss=loss, \n",
        "penalty=penalty, \n",
        "alpha=alpha, \n",
        "learning_rate=learning_rate, \n",
        "\n",
        "eta0=eta0) "
      ],
      "metadata": {
        "id": "Mzc8makeNiif"
      },
      "execution_count": null,
      "outputs": []
    },
    {
      "cell_type": "markdown",
      "source": [
        "So now rather than doing hyperparamer tuning by hand or manully let's use `RandomizedSearchCV`"
      ],
      "metadata": {
        "id": "S7tYGJO-NvPT"
      }
    },
    {
      "cell_type": "code",
      "source": [
        "np.random.seed(42)\n",
        "sgd = SGDClassifier(loss=\"hinge\", penalty=\"l2\", max_iter=5) \n",
        "random = RandomizedSearchCV(estimator=sgd, \n",
        "param_distributions=param_distributions, \n",
        "scoring='roc_auc', \n",
        "verbose=1, n_jobs=-1, \n",
        "n_iter=1000) "
      ],
      "metadata": {
        "id": "hdFPjbz7NuIa"
      },
      "execution_count": null,
      "outputs": []
    },
    {
      "cell_type": "code",
      "source": [
        "random_result = random.fit(X_smote.drop(corr_features,axis=1), Y_smote)"
      ],
      "metadata": {
        "colab": {
          "base_uri": "https://localhost:8080/"
        },
        "id": "aO-L0f3zN15w",
        "outputId": "cdb1e192-7835-4d51-a3c9-23e6ac5172e7"
      },
      "execution_count": null,
      "outputs": [
        {
          "output_type": "stream",
          "name": "stdout",
          "text": [
            "Fitting 5 folds for each of 1000 candidates, totalling 5000 fits\n"
          ]
        }
      ]
    },
    {
      "cell_type": "code",
      "source": [
        "random_result.best_params_"
      ],
      "metadata": {
        "colab": {
          "base_uri": "https://localhost:8080/"
        },
        "id": "n_SWxECQOSS7",
        "outputId": "71eead69-e5ff-49ed-a9d0-2469bb9e01d5"
      },
      "execution_count": null,
      "outputs": [
        {
          "output_type": "execute_result",
          "data": {
            "text/plain": [
              "{'penalty': 'l2',\n",
              " 'loss': 'modified_huber',\n",
              " 'learning_rate': 'optimal',\n",
              " 'eta0': 10,\n",
              " 'alpha': 1}"
            ]
          },
          "metadata": {},
          "execution_count": 119
        }
      ]
    },
    {
      "cell_type": "code",
      "source": [
        "np.random.seed(42)\n",
        "sgd1=SGDClassifier(penalty='l2',\n",
        " loss = 'modified_huber',\n",
        " learning_rate = 'optimal',\n",
        " eta0 = 10,\n",
        " alpha = 1)"
      ],
      "metadata": {
        "id": "-skmTmtPOWxG"
      },
      "execution_count": null,
      "outputs": []
    },
    {
      "cell_type": "code",
      "source": [
        "sgd1.fit(X_smote.drop(corr_features,axis=1),Y_smote)"
      ],
      "metadata": {
        "colab": {
          "base_uri": "https://localhost:8080/"
        },
        "id": "11XvqMhAOk_e",
        "outputId": "69d795e0-abc1-4b80-fc76-873cdcbbc2d4"
      },
      "execution_count": null,
      "outputs": [
        {
          "output_type": "execute_result",
          "data": {
            "text/plain": [
              "SGDClassifier(alpha=1, eta0=10, loss='modified_huber')"
            ]
          },
          "metadata": {},
          "execution_count": 121
        }
      ]
    },
    {
      "cell_type": "code",
      "source": [
        "sgd1.score(X_test.drop(corr_features,axis=1),y_test)"
      ],
      "metadata": {
        "colab": {
          "base_uri": "https://localhost:8080/"
        },
        "id": "14-9P5lQOoIe",
        "outputId": "4a509517-a008-40cd-c65c-b40f74c06bfa"
      },
      "execution_count": null,
      "outputs": [
        {
          "output_type": "execute_result",
          "data": {
            "text/plain": [
              "0.7068965517241379"
            ]
          },
          "metadata": {},
          "execution_count": 122
        }
      ]
    },
    {
      "cell_type": "markdown",
      "source": [
        "After Tuned Stochastic Gradient Descent and got best score as **0.70** as **higher** than before tuning."
      ],
      "metadata": {
        "id": "orAO8xBPO0Rr"
      }
    },
    {
      "cell_type": "markdown",
      "source": [
        "## Random Forest Classification"
      ],
      "metadata": {
        "id": "GDinrKsoO_g6"
      }
    },
    {
      "cell_type": "code",
      "source": [
        "n_estimators=[int(x) for x in np.linspace(start=200,stop=2000,num=10)]\n",
        "n_estimators"
      ],
      "metadata": {
        "colab": {
          "base_uri": "https://localhost:8080/"
        },
        "id": "1A6dbjGrOzVR",
        "outputId": "15809ab3-d1c9-4789-f0cd-ed304713b5ce"
      },
      "execution_count": null,
      "outputs": [
        {
          "output_type": "execute_result",
          "data": {
            "text/plain": [
              "[200, 400, 600, 800, 1000, 1200, 1400, 1600, 1800, 2000]"
            ]
          },
          "metadata": {},
          "execution_count": 123
        }
      ]
    },
    {
      "cell_type": "code",
      "source": [
        "n_estimators = [int(x) for x in np.linspace(start=200, stop=2000, num=10)]\n",
        "max_features = ['auto', 'sqrt']\n",
        "max_depth = [int(x) for x in np.linspace(10, 110, num=11)]\n",
        "max_depth.append(None)\n",
        "min_samples_split = list(range(1,11))\n",
        "min_samples_leaf = list(range(1,11))\n",
        "bootstrap = [True, False] \n",
        "\n",
        "    \n",
        "params={\n",
        "  'n_estimators': n_estimators, 'max_features': max_features,\n",
        "               'max_depth': max_depth, 'min_samples_split': min_samples_split,\n",
        "               'min_samples_leaf': min_samples_leaf, 'bootstrap': bootstrap\n",
        "     \n",
        "}\n"
      ],
      "metadata": {
        "id": "XVCGsvAHPHw7"
      },
      "execution_count": null,
      "outputs": []
    },
    {
      "cell_type": "code",
      "source": [
        "np.random.seed(42)\n",
        "RC1=RandomForestClassifier()"
      ],
      "metadata": {
        "id": "OTqDwx53PLwl"
      },
      "execution_count": null,
      "outputs": []
    },
    {
      "cell_type": "markdown",
      "source": [
        "So now rather than doing hyperparamer tuning by hand or manully let's use `RandomizedSearchCV`"
      ],
      "metadata": {
        "id": "E8D1kVsYPRsj"
      }
    },
    {
      "cell_type": "code",
      "source": [
        "RS=RandomizedSearchCV(estimator=RC1, scoring='f1',param_distributions=params, n_iter=100, cv=3, \n",
        "                               verbose=3, random_state=42, n_jobs=-1)\n",
        "\n",
        "RS.fit(X_smote.drop(corr_features,axis=1),Y_smote)"
      ],
      "metadata": {
        "colab": {
          "base_uri": "https://localhost:8080/"
        },
        "id": "3d6GGkmKPV_7",
        "outputId": "769a29d1-8369-49cc-dfe6-00a688025ad4"
      },
      "execution_count": null,
      "outputs": [
        {
          "output_type": "stream",
          "name": "stdout",
          "text": [
            "Fitting 3 folds for each of 100 candidates, totalling 300 fits\n"
          ]
        },
        {
          "output_type": "execute_result",
          "data": {
            "text/plain": [
              "RandomizedSearchCV(cv=3, estimator=RandomForestClassifier(), n_iter=100,\n",
              "                   n_jobs=-1,\n",
              "                   param_distributions={'bootstrap': [True, False],\n",
              "                                        'max_depth': [10, 20, 30, 40, 50, 60,\n",
              "                                                      70, 80, 90, 100, 110,\n",
              "                                                      None],\n",
              "                                        'max_features': ['auto', 'sqrt'],\n",
              "                                        'min_samples_leaf': [1, 2, 3, 4, 5, 6,\n",
              "                                                             7, 8, 9, 10],\n",
              "                                        'min_samples_split': [1, 2, 3, 4, 5, 6,\n",
              "                                                              7, 8, 9, 10],\n",
              "                                        'n_estimators': [200, 400, 600, 800,\n",
              "                                                         1000, 1200, 1400, 1600,\n",
              "                                                         1800, 2000]},\n",
              "                   random_state=42, scoring='f1', verbose=3)"
            ]
          },
          "metadata": {},
          "execution_count": 127
        }
      ]
    },
    {
      "cell_type": "code",
      "source": [
        "RS.best_estimator_"
      ],
      "metadata": {
        "colab": {
          "base_uri": "https://localhost:8080/"
        },
        "id": "fxdNSG4dQ3QS",
        "outputId": "e135ea79-6bfd-416b-dfb8-5d75c6a22218"
      },
      "execution_count": null,
      "outputs": [
        {
          "output_type": "execute_result",
          "data": {
            "text/plain": [
              "RandomForestClassifier(max_depth=10, max_features='sqrt', n_estimators=1400)"
            ]
          },
          "metadata": {},
          "execution_count": 128
        }
      ]
    },
    {
      "cell_type": "code",
      "source": [
        "RS.best_params_ #best_params"
      ],
      "metadata": {
        "colab": {
          "base_uri": "https://localhost:8080/"
        },
        "id": "sD50DlJfRBPh",
        "outputId": "4b8d26c7-da65-4f6f-a7af-db98419a9463"
      },
      "execution_count": null,
      "outputs": [
        {
          "output_type": "execute_result",
          "data": {
            "text/plain": [
              "{'n_estimators': 1400,\n",
              " 'min_samples_split': 2,\n",
              " 'min_samples_leaf': 1,\n",
              " 'max_features': 'sqrt',\n",
              " 'max_depth': 10,\n",
              " 'bootstrap': True}"
            ]
          },
          "metadata": {},
          "execution_count": 129
        }
      ]
    },
    {
      "cell_type": "code",
      "source": [
        "np.random.seed(42)\n",
        "model_RC=RandomForestClassifier(max_features='sqrt', min_samples_leaf=1,max_depth= 10,\n",
        "                       min_samples_split=2, n_estimators=1400,bootstrap=True) #fit with best_params\n",
        "model_RC.fit(X_smote.drop(corr_features,axis=1), Y_smote)"
      ],
      "metadata": {
        "colab": {
          "base_uri": "https://localhost:8080/"
        },
        "id": "94RqZrqORGtD",
        "outputId": "7cd27650-9e46-4094-c11f-9e70f76e69e9"
      },
      "execution_count": null,
      "outputs": [
        {
          "output_type": "execute_result",
          "data": {
            "text/plain": [
              "RandomForestClassifier(max_depth=10, max_features='sqrt', n_estimators=1400)"
            ]
          },
          "metadata": {},
          "execution_count": 130
        }
      ]
    },
    {
      "cell_type": "code",
      "source": [
        "model_RC.score(X_test.drop(corr_features,axis=1),y_test)"
      ],
      "metadata": {
        "colab": {
          "base_uri": "https://localhost:8080/"
        },
        "id": "X73chQVhRZbz",
        "outputId": "873475e3-daf9-4673-c90d-ab4e7414343c"
      },
      "execution_count": null,
      "outputs": [
        {
          "output_type": "execute_result",
          "data": {
            "text/plain": [
              "0.6982758620689655"
            ]
          },
          "metadata": {},
          "execution_count": 131
        }
      ]
    },
    {
      "cell_type": "markdown",
      "source": [
        "After Random Forest Classification Tuned and got best score as **0.69** as less than before tuning."
      ],
      "metadata": {
        "id": "OX1xJffgRcw-"
      }
    },
    {
      "cell_type": "markdown",
      "source": [
        "## Support Vector Classification"
      ],
      "metadata": {
        "id": "s15-0nNQRpdc"
      }
    },
    {
      "cell_type": "code",
      "source": [
        "#Hyper params\n",
        "params={'C':[0.1,0.2,1,10,100,1000,10000,100000],\n",
        "         'gamma':[0.1,0.01,0.001,0.0001,0.00001]}"
      ],
      "metadata": {
        "id": "3gHoF-jyRwFY"
      },
      "execution_count": null,
      "outputs": []
    },
    {
      "cell_type": "markdown",
      "source": [
        "So now rather than doing hyperparamer tuning by hand or manully let's use `GridSearchCV`"
      ],
      "metadata": {
        "id": "wvV3jp2iRzSn"
      }
    },
    {
      "cell_type": "code",
      "source": [
        "#GridSearchCV\n",
        "\n",
        "svc_grid=GridSearchCV(SVC(random_state=42),params,scoring='f1',\n",
        "    n_jobs=-1,\n",
        "    refit=True,\n",
        "    verbose=3,                  \n",
        "    cv=3)\n",
        "svc_grid.fit(X_smote.drop(corr_features,axis=1), Y_smote)"
      ],
      "metadata": {
        "colab": {
          "base_uri": "https://localhost:8080/"
        },
        "id": "3PerCvHYR3Nh",
        "outputId": "4d932ee5-746a-4a53-b6ad-bc6e8a20b03d"
      },
      "execution_count": null,
      "outputs": [
        {
          "output_type": "stream",
          "name": "stdout",
          "text": [
            "Fitting 3 folds for each of 40 candidates, totalling 120 fits\n"
          ]
        },
        {
          "output_type": "execute_result",
          "data": {
            "text/plain": [
              "GridSearchCV(cv=3, estimator=SVC(random_state=42), n_jobs=-1,\n",
              "             param_grid={'C': [0.1, 0.2, 1, 10, 100, 1000, 10000, 100000],\n",
              "                         'gamma': [0.1, 0.01, 0.001, 0.0001, 1e-05]},\n",
              "             scoring='f1', verbose=3)"
            ]
          },
          "metadata": {},
          "execution_count": 134
        }
      ]
    },
    {
      "cell_type": "code",
      "source": [
        "svc_grid.best_estimator_ "
      ],
      "metadata": {
        "colab": {
          "base_uri": "https://localhost:8080/"
        },
        "id": "vSq1KXwlSAeT",
        "outputId": "b127996a-b168-4927-c71b-1aaf5de181aa"
      },
      "execution_count": null,
      "outputs": [
        {
          "output_type": "execute_result",
          "data": {
            "text/plain": [
              "SVC(C=10000, gamma=0.001, random_state=42)"
            ]
          },
          "metadata": {},
          "execution_count": 135
        }
      ]
    },
    {
      "cell_type": "code",
      "source": [
        "svc_grid.best_params_"
      ],
      "metadata": {
        "colab": {
          "base_uri": "https://localhost:8080/"
        },
        "id": "TjktlWW4SEr2",
        "outputId": "a09d2592-29a1-45a9-c843-1584762aed1b"
      },
      "execution_count": null,
      "outputs": [
        {
          "output_type": "execute_result",
          "data": {
            "text/plain": [
              "{'C': 10000, 'gamma': 0.001}"
            ]
          },
          "metadata": {},
          "execution_count": 136
        }
      ]
    },
    {
      "cell_type": "code",
      "source": [
        "svc_best_params=SVC(C=1000, gamma=0.001, random_state=42,verbose=3)"
      ],
      "metadata": {
        "id": "TW-JdbXuSI9x"
      },
      "execution_count": null,
      "outputs": []
    },
    {
      "cell_type": "code",
      "source": [
        "svc_best_params"
      ],
      "metadata": {
        "colab": {
          "base_uri": "https://localhost:8080/"
        },
        "id": "I4okLDqBSL0k",
        "outputId": "3a182438-455a-4707-ba27-7bc114acf822"
      },
      "execution_count": null,
      "outputs": [
        {
          "output_type": "execute_result",
          "data": {
            "text/plain": [
              "SVC(C=1000, gamma=0.001, random_state=42, verbose=3)"
            ]
          },
          "metadata": {},
          "execution_count": 138
        }
      ]
    },
    {
      "cell_type": "code",
      "source": [
        "svc_best_params.fit(X_smote.drop(corr_features,axis=1), Y_smote)"
      ],
      "metadata": {
        "colab": {
          "base_uri": "https://localhost:8080/"
        },
        "id": "alEdqhQLSO3X",
        "outputId": "cd2c6b8e-6fb0-4347-cd69-22ecc391d1cb"
      },
      "execution_count": null,
      "outputs": [
        {
          "output_type": "stream",
          "name": "stdout",
          "text": [
            "[LibSVM]"
          ]
        },
        {
          "output_type": "execute_result",
          "data": {
            "text/plain": [
              "SVC(C=1000, gamma=0.001, random_state=42, verbose=3)"
            ]
          },
          "metadata": {},
          "execution_count": 140
        }
      ]
    },
    {
      "cell_type": "code",
      "source": [
        "svc_best_params.score(X_test.drop(corr_features,axis=1),y_test)"
      ],
      "metadata": {
        "colab": {
          "base_uri": "https://localhost:8080/"
        },
        "id": "0VWtWapOSUtK",
        "outputId": "33e4fcd7-9d4a-45bc-8c77-585dad1327a6"
      },
      "execution_count": null,
      "outputs": [
        {
          "output_type": "execute_result",
          "data": {
            "text/plain": [
              "0.7068965517241379"
            ]
          },
          "metadata": {},
          "execution_count": 141
        }
      ]
    },
    {
      "cell_type": "markdown",
      "source": [
        "Afte Tuning **SVC**,we  got **0.70** as higher than before tuning."
      ],
      "metadata": {
        "id": "q8ZGIZyRSZ7u"
      }
    },
    {
      "cell_type": "markdown",
      "source": [
        "## XGBOOST Classification"
      ],
      "metadata": {
        "id": "7hZirv4BSp14"
      }
    },
    {
      "cell_type": "code",
      "source": [
        "params_xg={\n",
        "    'gamma':[x for x in np.linspace(0,100,1000)],\n",
        "    'max_depth':[int(x) for x in range(1,11)],\n",
        "\n",
        "    'n_estimators':[int(x) for x in np.arange(1,200)],\n",
        "    'learning_rate':[0.01,0.02,0.03,0.05,0.1,0.2,0.300000012,0.4,0.5]\n",
        "}"
      ],
      "metadata": {
        "id": "HDBptN5OSy3j"
      },
      "execution_count": null,
      "outputs": []
    },
    {
      "cell_type": "code",
      "source": [
        "np.random.seed(42)\n",
        "XG=XGBClassifier()"
      ],
      "metadata": {
        "id": "eHMLh88lS2Wt"
      },
      "execution_count": null,
      "outputs": []
    },
    {
      "cell_type": "markdown",
      "source": [
        "So now rather than doing hyperparamer tuning by hand or manully let's use `RandomizedSearchCV`"
      ],
      "metadata": {
        "id": "AdMP-GyOS6W8"
      }
    },
    {
      "cell_type": "code",
      "source": [
        "Xg_RS=RandomizedSearchCV(estimator=XG, scoring='f1',param_distributions=params_xg, n_iter=100, cv=3, \n",
        "                               verbose=3, random_state=42, n_jobs=-1)\n",
        "\n",
        "Xg_RS.fit(X_smote.drop(corr_features,axis=1), Y_smote)"
      ],
      "metadata": {
        "colab": {
          "base_uri": "https://localhost:8080/"
        },
        "id": "LpM0AneDS-10",
        "outputId": "802fc821-00a7-4158-e191-747c51b2eb2e"
      },
      "execution_count": null,
      "outputs": [
        {
          "output_type": "stream",
          "name": "stdout",
          "text": [
            "Fitting 3 folds for each of 100 candidates, totalling 300 fits\n"
          ]
        },
        {
          "output_type": "execute_result",
          "data": {
            "text/plain": [
              "RandomizedSearchCV(cv=3, estimator=XGBClassifier(), n_iter=100, n_jobs=-1,\n",
              "                   param_distributions={'gamma': [0.0, 0.1001001001001001,\n",
              "                                                  0.2002002002002002,\n",
              "                                                  0.3003003003003003,\n",
              "                                                  0.4004004004004004,\n",
              "                                                  0.5005005005005005,\n",
              "                                                  0.6006006006006006,\n",
              "                                                  0.7007007007007008,\n",
              "                                                  0.8008008008008008,\n",
              "                                                  0.9009009009009009,\n",
              "                                                  1.001001001001001,\n",
              "                                                  1.1011011011011012,\n",
              "                                                  1.2012012012012012,\n",
              "                                                  1.3013013013013013...\n",
              "                                                  2.4024024024024024,\n",
              "                                                  2.5025025025025025,\n",
              "                                                  2.6026026026026026,\n",
              "                                                  2.702702702702703,\n",
              "                                                  2.802802802802803,\n",
              "                                                  2.902902902902903, ...],\n",
              "                                        'learning_rate': [0.01, 0.02, 0.03,\n",
              "                                                          0.05, 0.1, 0.2,\n",
              "                                                          0.300000012, 0.4,\n",
              "                                                          0.5],\n",
              "                                        'max_depth': [1, 2, 3, 4, 5, 6, 7, 8, 9,\n",
              "                                                      10],\n",
              "                                        'n_estimators': [1, 2, 3, 4, 5, 6, 7, 8,\n",
              "                                                         9, 10, 11, 12, 13, 14,\n",
              "                                                         15, 16, 17, 18, 19, 20,\n",
              "                                                         21, 22, 23, 24, 25, 26,\n",
              "                                                         27, 28, 29, 30, ...]},\n",
              "                   random_state=42, scoring='f1', verbose=3)"
            ]
          },
          "metadata": {},
          "execution_count": 144
        }
      ]
    },
    {
      "cell_type": "code",
      "source": [
        "Xg_RS.best_estimator_ #best_estimator"
      ],
      "metadata": {
        "colab": {
          "base_uri": "https://localhost:8080/"
        },
        "id": "oaLLlPaRTD0p",
        "outputId": "5b9add45-7684-4407-edd2-99f95e25ab24"
      },
      "execution_count": null,
      "outputs": [
        {
          "output_type": "execute_result",
          "data": {
            "text/plain": [
              "XGBClassifier(gamma=0.2002002002002002, learning_rate=0.300000012, max_depth=7,\n",
              "              n_estimators=31)"
            ]
          },
          "metadata": {},
          "execution_count": 145
        }
      ]
    },
    {
      "cell_type": "code",
      "source": [
        "Xg_RS.best_params_ #best_params"
      ],
      "metadata": {
        "colab": {
          "base_uri": "https://localhost:8080/"
        },
        "id": "hfr-PfWTTHnU",
        "outputId": "cd3f0093-2520-4efc-8173-47f1510e84be"
      },
      "execution_count": null,
      "outputs": [
        {
          "output_type": "execute_result",
          "data": {
            "text/plain": [
              "{'n_estimators': 31,\n",
              " 'max_depth': 7,\n",
              " 'learning_rate': 0.300000012,\n",
              " 'gamma': 0.2002002002002002}"
            ]
          },
          "metadata": {},
          "execution_count": 146
        }
      ]
    },
    {
      "cell_type": "code",
      "source": [
        "xg_boost=XGBClassifier(gamma=0.2002002002002002, learning_rate=0.300000012, max_depth=7,\n",
        "              n_estimators=31, random_state=42)\n",
        "xg_boost.fit(X_smote.drop(corr_features,axis=1), Y_smote) #fit"
      ],
      "metadata": {
        "colab": {
          "base_uri": "https://localhost:8080/"
        },
        "id": "hZ9Ekz9CTLYH",
        "outputId": "9cc8850f-e2eb-4744-93a1-1275953e289f"
      },
      "execution_count": null,
      "outputs": [
        {
          "output_type": "execute_result",
          "data": {
            "text/plain": [
              "XGBClassifier(gamma=0.2002002002002002, learning_rate=0.300000012, max_depth=7,\n",
              "              n_estimators=31, random_state=42)"
            ]
          },
          "metadata": {},
          "execution_count": 147
        }
      ]
    },
    {
      "cell_type": "code",
      "source": [
        "xg_boost.score(X_test.drop(corr_features,axis=1),y_test)"
      ],
      "metadata": {
        "colab": {
          "base_uri": "https://localhost:8080/"
        },
        "id": "A3R-LMK0Tp-e",
        "outputId": "35494b41-d937-435b-c9e4-d36f772913db"
      },
      "execution_count": null,
      "outputs": [
        {
          "output_type": "execute_result",
          "data": {
            "text/plain": [
              "0.6896551724137931"
            ]
          },
          "metadata": {},
          "execution_count": 148
        }
      ]
    },
    {
      "cell_type": "markdown",
      "source": [
        "After Tuned XGBPOOOST Classifier and got best score as **0.68** as same as before tunning"
      ],
      "metadata": {
        "id": "PAtV3PoDTt-R"
      }
    },
    {
      "cell_type": "markdown",
      "source": [
        "## Multilayer Perceptron Classification"
      ],
      "metadata": {
        "id": "vBAjIdShTiof"
      }
    },
    {
      "cell_type": "code",
      "source": [
        "model_mlp = MLPClassifier(hidden_layer_sizes=(50,3),\n",
        "                       learning_rate_init=0.1,\n",
        "                       max_iter=100,\n",
        "                       activation='relu',\n",
        "                       random_state=42) ## model object creation max_iter=Stopping parameter\n",
        "model_mlp.fit(X_smote.drop(corr_features,axis=1),Y_smote) ## training the data\n",
        "y_predict_proba_mlp = model_mlp.predict_proba(X_test.drop(corr_features,axis=1)) ## predicting the pro\n",
        "## bability of class\n",
        "y_predict_mlp = model_mlp.predict(X_test.drop(corr_features,axis=1))\n",
        "y_train_predict_mlp = model_mlp.predict(X_smote.drop(corr_features,axis=1))"
      ],
      "metadata": {
        "id": "oc7hH2rgT8Fz"
      },
      "execution_count": null,
      "outputs": []
    },
    {
      "cell_type": "code",
      "source": [
        "model_mlp.score(X_test.drop(corr_features,axis=1),y_test)"
      ],
      "metadata": {
        "colab": {
          "base_uri": "https://localhost:8080/"
        },
        "id": "CwdKDIO-W2QN",
        "outputId": "c4065bb1-efae-401e-f16a-62c09502dea3"
      },
      "execution_count": null,
      "outputs": [
        {
          "output_type": "execute_result",
          "data": {
            "text/plain": [
              "0.7586206896551724"
            ]
          },
          "metadata": {},
          "execution_count": 164
        }
      ]
    },
    {
      "cell_type": "markdown",
      "source": [
        "After Tuned Multilayer Perceptron Classifier and got best score as **0.75** as higher than tunning"
      ],
      "metadata": {
        "id": "qsoibLzXY8mI"
      }
    },
    {
      "cell_type": "markdown",
      "source": [
        "# Cross validation"
      ],
      "metadata": {
        "id": "h6IyZBJ8jwOy"
      }
    },
    {
      "cell_type": "markdown",
      "source": [
        "## Logistic Regression"
      ],
      "metadata": {
        "id": "1R0bx_crkDaL"
      }
    },
    {
      "cell_type": "code",
      "source": [
        "cross_validation=cross_val_score(LogisticRegression(random_state=42),X_smote.drop(corr_features,axis=1),Y_smote,scoring='f1',cv=3)\n",
        "print(\"Cross validation Score:\",cross_validation.mean())\n",
        "print(\"Std :\",cross_validation.std())"
      ],
      "metadata": {
        "colab": {
          "base_uri": "https://localhost:8080/"
        },
        "id": "5YmoXMfTj34t",
        "outputId": "c5e1b6a1-ebd0-41c7-c237-6bf4610d77cc"
      },
      "execution_count": null,
      "outputs": [
        {
          "output_type": "stream",
          "name": "stdout",
          "text": [
            "Cross validation Score: 0.6956148768728304\n",
            "Std : 0.021945923101028934\n"
          ]
        }
      ]
    },
    {
      "cell_type": "markdown",
      "source": [
        "Logistic Regression **Cross validation** Score :0.69\n",
        " \n",
        "Logistic Regression **Std** Score :0.02 "
      ],
      "metadata": {
        "id": "_VsPztoZkMD3"
      }
    },
    {
      "cell_type": "markdown",
      "source": [
        "## K Nearest Neighbor"
      ],
      "metadata": {
        "id": "FZ7oVeDxkeUv"
      }
    },
    {
      "cell_type": "code",
      "source": [
        "cross_validation_KNN=cross_val_score(KNeighborsClassifier(),X_smote.drop(corr_features,axis=1),Y_smote,scoring='f1',cv=3)\n",
        "print(\"Cross validation Score:\",cross_validation_KNN.mean())\n",
        "print(\"Std :\",cross_validation_KNN.std())"
      ],
      "metadata": {
        "colab": {
          "base_uri": "https://localhost:8080/"
        },
        "id": "WSHPLMdTmAnB",
        "outputId": "81aa3558-e795-4c9c-8076-fcb948a51791"
      },
      "execution_count": null,
      "outputs": [
        {
          "output_type": "stream",
          "name": "stdout",
          "text": [
            "Cross validation Score: 0.7123562178667405\n",
            "Std : 0.028945900181336814\n"
          ]
        }
      ]
    },
    {
      "cell_type": "markdown",
      "source": [
        "K Nearest Neighbor **Cross validation** Score :0.71\n",
        "\n",
        "K Nearest Neighbor **Std** Score :0.02"
      ],
      "metadata": {
        "id": "caSvFziUmYYj"
      }
    },
    {
      "cell_type": "markdown",
      "source": [
        "## Stochastic Gradient Descent"
      ],
      "metadata": {
        "id": "zr-Vjtovm47V"
      }
    },
    {
      "cell_type": "code",
      "source": [
        "cross_validation_Sgd=cross_val_score(SGDClassifier(random_state=42),X_smote.drop(corr_features,axis=1),Y_smote,scoring='f1',cv=3)\n",
        "print(\"Cross validation Score:\",cross_validation_Sgd.mean())\n",
        "print(\"Std :\",cross_validation_Sgd.std())"
      ],
      "metadata": {
        "colab": {
          "base_uri": "https://localhost:8080/"
        },
        "id": "HMzd_fm0nCdO",
        "outputId": "17050098-b7d9-4e5b-df98-07159adca414"
      },
      "execution_count": null,
      "outputs": [
        {
          "output_type": "stream",
          "name": "stdout",
          "text": [
            "Cross validation Score: 0.48814668326863453\n",
            "Std : 0.29919119228377883\n"
          ]
        }
      ]
    },
    {
      "cell_type": "markdown",
      "source": [
        "Stochastic Gradient Descent **Cross validation** Score :0.48\n",
        " \n",
        "Stochastic Gradient Descent **Std** Score :0.29"
      ],
      "metadata": {
        "id": "9km8r9owoF96"
      }
    },
    {
      "cell_type": "markdown",
      "source": [
        "## Random Forest Classification"
      ],
      "metadata": {
        "id": "SEuHawE4oNp5"
      }
    },
    {
      "cell_type": "code",
      "source": [
        "cross_validation_rf=cross_val_score(RandomForestClassifier(random_state=42),X_smote.drop(corr_features,axis=1),Y_smote,scoring='f1',cv=3)\n",
        "print(\"Cross validation Score:\",cross_validation_rf.mean())\n",
        "print(\"Std :\",cross_validation_rf.std())"
      ],
      "metadata": {
        "colab": {
          "base_uri": "https://localhost:8080/"
        },
        "id": "XGYEUqLloWCI",
        "outputId": "024187be-3651-40a6-d38b-4d3c0d8c85ef"
      },
      "execution_count": null,
      "outputs": [
        {
          "output_type": "stream",
          "name": "stdout",
          "text": [
            "Cross validation Score: 0.7568771230155038\n",
            "Std : 0.04689623122328667\n"
          ]
        }
      ]
    },
    {
      "cell_type": "markdown",
      "source": [
        "Random Forest Classification **Cross validation** Score :0.75\n",
        " \n",
        "Random Forest Classification **Std** Score :0.04"
      ],
      "metadata": {
        "id": "F7heXiQCoi7-"
      }
    },
    {
      "cell_type": "markdown",
      "source": [
        "## Support Vector Classifier"
      ],
      "metadata": {
        "id": "FkJ9YTRkpQ7s"
      }
    },
    {
      "cell_type": "code",
      "source": [
        "cross_validation_svc=cross_val_score(SVC(random_state=42),X_smote.drop(corr_features,axis=1),Y_smote,scoring='f1',cv=3)\n",
        "print(\"Cross validation Score:\",cross_validation_svc.mean())\n",
        "print(\"Std :\",cross_validation_svc.std())"
      ],
      "metadata": {
        "colab": {
          "base_uri": "https://localhost:8080/"
        },
        "id": "hHQMWS5YpTB3",
        "outputId": "3745a5d4-142a-472c-884a-3430f64bdfcd"
      },
      "execution_count": null,
      "outputs": [
        {
          "output_type": "stream",
          "name": "stdout",
          "text": [
            "Cross validation Score: 0.6960084033613446\n",
            "Std : 0.00699883174150367\n"
          ]
        }
      ]
    },
    {
      "cell_type": "markdown",
      "source": [
        "Support Vector Classification **Cross validation** Score :0.69\n",
        "\n",
        "Support Vector Classification **Std** Score :0.00"
      ],
      "metadata": {
        "id": "bKUvW06wprA4"
      }
    },
    {
      "cell_type": "markdown",
      "source": [
        "## XGBOOST Classification"
      ],
      "metadata": {
        "id": "oKekEt9eqQgq"
      }
    },
    {
      "cell_type": "code",
      "source": [
        "cross_validation_xgb=cross_val_score(XGBClassifier(random_state=42),X_smote.drop(corr_features,axis=1),Y_smote,scoring='f1',cv=3)\n",
        "print(\"Cross validation Score:\",cross_validation_xgb.mean())\n",
        "print(\"Std :\",cross_validation_xgb.std())"
      ],
      "metadata": {
        "colab": {
          "base_uri": "https://localhost:8080/"
        },
        "id": "zHjqQd6cqZCw",
        "outputId": "b34d4e46-d6dc-4860-8720-41fb841f8a27"
      },
      "execution_count": null,
      "outputs": [
        {
          "output_type": "stream",
          "name": "stdout",
          "text": [
            "Cross validation Score: 0.7470020570067639\n",
            "Std : 0.04462197755883526\n"
          ]
        }
      ]
    },
    {
      "cell_type": "markdown",
      "source": [
        "XGBOOST Classification **Cross validation** Score :0.74\n",
        "\n",
        "XGBOOSTClassification **Std** Score :0.04"
      ],
      "metadata": {
        "id": "WxQEkqvdq-3Z"
      }
    },
    {
      "cell_type": "markdown",
      "source": [
        "## Multilayer Perceptron Classification"
      ],
      "metadata": {
        "id": "pwuycJ-erOI-"
      }
    },
    {
      "cell_type": "code",
      "source": [
        "cross_validation_mlp=cross_val_score(MLPClassifier(random_state=42),X_smote.drop(corr_features,axis=1),Y_smote,scoring='f1',cv=3)\n",
        "print(\"Cross validation Score:\",cross_validation_mlp.mean())\n",
        "print(\"Std :\",cross_validation_mlp.std())"
      ],
      "metadata": {
        "colab": {
          "base_uri": "https://localhost:8080/"
        },
        "id": "-RwN9c-OrmeP",
        "outputId": "9ab4d0fd-4784-4d5c-cc92-41f19882d1aa"
      },
      "execution_count": null,
      "outputs": [
        {
          "output_type": "stream",
          "name": "stdout",
          "text": [
            "Cross validation Score: 0.700358493909259\n",
            "Std : 0.020607078411210344\n"
          ]
        }
      ]
    },
    {
      "cell_type": "markdown",
      "source": [
        "Multilayer Perceptron Classification **Cross validation** Score :0.70\n",
        "\n",
        "Multilayer Perceptron Classification  **Std** Score :0.02"
      ],
      "metadata": {
        "id": "ipTB6pzcru8E"
      }
    },
    {
      "cell_type": "markdown",
      "source": [
        "## Radial Based Function"
      ],
      "metadata": {
        "id": "11LZpuUNsELd"
      }
    },
    {
      "cell_type": "code",
      "source": [
        "cross_validation_rbf=cross_val_score(GaussianProcessClassifier(kernel=kernel,random_state=42),X_smote.drop(corr_features,axis=1),Y_smote,scoring='f1',cv=3)\n",
        "print(\"Cross validation Score:\",cross_validation_rbf.mean())\n",
        "print(\"Std :\",cross_validation_rbf.std())"
      ],
      "metadata": {
        "colab": {
          "base_uri": "https://localhost:8080/"
        },
        "id": "MQFObdV_sM-e",
        "outputId": "8c9b842f-768d-4ed3-e0cd-228ac28447d8"
      },
      "execution_count": null,
      "outputs": [
        {
          "output_type": "stream",
          "name": "stdout",
          "text": [
            "Cross validation Score: 0.6905215483027501\n",
            "Std : 0.0031856114902127806\n"
          ]
        }
      ]
    },
    {
      "cell_type": "markdown",
      "source": [
        "Radial Based Function **Cross validation** Score :0.69\n",
        "\n",
        "Radial Based Function **Std** Score :0.00"
      ],
      "metadata": {
        "id": "oDGnONp6t2XS"
      }
    },
    {
      "cell_type": "markdown",
      "source": [
        "# Result :"
      ],
      "metadata": {
        "id": "GbYJ9Sm7uNrT"
      }
    },
    {
      "cell_type": "markdown",
      "source": [
        "<table>\n",
        "  <tr>\n",
        "    <th>S No</th>\n",
        "    <th>Algorithm</th>\n",
        "    <th>Accuracy score</th>\n",
        "     <th>Cross Validation</th>\n",
        "  </tr>\n",
        "  <tr>\n",
        "    <td>1</td>\n",
        "    <td>Logistic Regression</td>\n",
        "    <td>0.69</td>\n",
        "    <td>0.69</td>\n",
        "  </tr>\n",
        "  <tr>\n",
        "    <td>2</td>\n",
        "    <td>K Nearest Neighbor</td>\n",
        "    <td>0.78</td>\n",
        "    <td>0.71</td>\n",
        "  </tr>\n",
        "  <tr>\n",
        "    <td>3</td>\n",
        "    <td>Stochastic Gradient Descent</td>\n",
        "    <td>0.70</td>\n",
        "    <td>0.48</td>\n",
        "  </tr>\n",
        " \n",
        "  <tr>\n",
        "    <td>4</td>\n",
        "    <td>Random Forest Classification</td>\n",
        "    <td>0.69</td>\n",
        "      <td>0.75</td>\n",
        "  </tr>\n",
        "  <tr>\n",
        "    <td>5</td>\n",
        "    <td>Support Vector Classifier</td>\n",
        "    <td>0.70</td>\n",
        "    <td>0.60</td>\n",
        "  </tr>\n",
        "  <tr>\n",
        "    <td>6</td>\n",
        "    <td>XGBOOST Classification</td>\n",
        "    <td>0.68</td>\n",
        "      <td>0.74</td>\n",
        "  </tr>\n",
        "  <tr>\n",
        "    <td>7</td>\n",
        "    <td>Multilayer Perceptron Classification</td>\n",
        "    <td>0.75</td>\n",
        "    <td>0.70</td>\n",
        "  </tr>\n",
        "   <tr>\n",
        "    <td>8</td>\n",
        "    <td>Radial Based Function</td>\n",
        "    <td>0.78</td>\n",
        "   <td>0.69</td>\n",
        "  </tr>\n",
        "</table>"
      ],
      "metadata": {
        "id": "7_5ixfVfu291"
      }
    },
    {
      "cell_type": "markdown",
      "source": [
        "#**Conclusion** :\n",
        "  *  From the above result table , we can conclude that **Random forest classification and XGBOOST classification** gives high accuracy of **0.75 and 0.74**.\n",
        "  * Thus we conclude that our model **RandomForest Classifier** performed with an accuracy of **75%**, which is the best fit model for BloodDonationPrediction.\n",
        "\n",
        " "
      ],
      "metadata": {
        "id": "uebYVcySyn9M"
      }
    }
  ]
}