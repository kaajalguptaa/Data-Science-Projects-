{
  "nbformat": 4,
  "nbformat_minor": 0,
  "metadata": {
    "colab": {
      "provenance": [],
      "collapsed_sections": [],
      "include_colab_link": true
    },
    "kernelspec": {
      "name": "python3",
      "display_name": "Python 3"
    },
    "language_info": {
      "name": "python"
    }
  },
  "cells": [
    {
      "cell_type": "markdown",
      "metadata": {
        "id": "view-in-github",
        "colab_type": "text"
      },
      "source": [
        "<a href=\"https://colab.research.google.com/github/kaajalguptaa/Earthquake/blob/main/LiverPatientPrediction.ipynb\" target=\"_parent\"><img src=\"https://colab.research.google.com/assets/colab-badge.svg\" alt=\"Open In Colab\"/></a>"
      ]
    },
    {
      "cell_type": "markdown",
      "source": [
        "# Liver Patient prediction \n",
        "###### by Mohammad Ovesh, Kajal kumari S, Deepak Raj\n",
        "###### Team ID : PTID-CDS-JUL22-1335\n",
        "###### Project ID: PCRP-1007-LiverPatientPred"
      ],
      "metadata": {
        "id": "5Dvbh13uBf0e"
      }
    },
    {
      "cell_type": "code",
      "execution_count": null,
      "metadata": {
        "id": "b5FROJsWG-sF"
      },
      "outputs": [],
      "source": [
        "import numpy as np # linear algebra\n",
        "import pandas as pd # data processing, CSV file I/O (e.g. pd.read_csv)\n",
        "import seaborn as sns\n",
        "import os\n",
        "from sklearn.neighbors import KNeighborsClassifier\n",
        "from xgboost import  XGBClassifier\n",
        "import matplotlib.pyplot as plt\n",
        "from sklearn.model_selection import train_test_split,GridSearchCV,RandomizedSearchCV\n",
        "from sklearn.metrics import accuracy_score,confusion_matrix,precision_score,recall_score,classification_report, roc_auc_score, roc_curve,f1_score\n",
        "from sklearn.ensemble import RandomForestClassifier\n",
        "from sklearn.linear_model import LogisticRegression\n",
        "from sklearn.svm import SVC\n",
        "from sklearn.tree import DecisionTreeClassifier\n",
        "from sklearn.linear_model import SGDClassifier\n",
        "from sklearn.metrics import f1_score"
      ]
    },
    {
      "cell_type": "code",
      "source": [
        "# Ignoring the warnings so that our notebook looks more prettier\n",
        "import warnings\n",
        "warnings.filterwarnings('ignore')"
      ],
      "metadata": {
        "id": "3uUkp6AvXb0v"
      },
      "execution_count": null,
      "outputs": []
    },
    {
      "cell_type": "code",
      "source": [
        "data = pd.read_csv(\"https://raw.githubusercontent.com/21Ovi/DataScience-DataSets/main/liver.csv\")"
      ],
      "metadata": {
        "id": "UV_irF8fHiaH"
      },
      "execution_count": null,
      "outputs": []
    },
    {
      "cell_type": "code",
      "source": [
        "data.head()"
      ],
      "metadata": {
        "colab": {
          "base_uri": "https://localhost:8080/",
          "height": 288
        },
        "id": "UcF1dUokHtY6",
        "outputId": "efe61b59-137e-4d85-9f95-436796bf54e5"
      },
      "execution_count": null,
      "outputs": [
        {
          "output_type": "execute_result",
          "data": {
            "text/plain": [
              "   Unnamed: 0  age  gender  tot_bilirubin  direct_bilirubin  alk_phos  \\\n",
              "0           0   65  Female            0.7               0.1       187   \n",
              "1           1   62    Male           10.9               5.5       699   \n",
              "2           2   62    Male            7.3               4.1       490   \n",
              "3           3   58    Male            1.0               0.4       182   \n",
              "4           4   72    Male            3.9               2.0       195   \n",
              "\n",
              "   alamine_aminotransferase  aspartate_aminotransferase  tot_proteins  \\\n",
              "0                        16                          18           6.8   \n",
              "1                        64                         100           7.5   \n",
              "2                        60                          68           7.0   \n",
              "3                        14                          20           6.8   \n",
              "4                        27                          59           7.3   \n",
              "\n",
              "   albumin  ag_ratio  target  \n",
              "0      3.3      0.90       1  \n",
              "1      3.2      0.74       1  \n",
              "2      3.3      0.89       1  \n",
              "3      3.4      1.00       1  \n",
              "4      2.4      0.40       1  "
            ],
            "text/html": [
              "\n",
              "  <div id=\"df-fb237980-331a-4e78-b897-b4654b1861b9\">\n",
              "    <div class=\"colab-df-container\">\n",
              "      <div>\n",
              "<style scoped>\n",
              "    .dataframe tbody tr th:only-of-type {\n",
              "        vertical-align: middle;\n",
              "    }\n",
              "\n",
              "    .dataframe tbody tr th {\n",
              "        vertical-align: top;\n",
              "    }\n",
              "\n",
              "    .dataframe thead th {\n",
              "        text-align: right;\n",
              "    }\n",
              "</style>\n",
              "<table border=\"1\" class=\"dataframe\">\n",
              "  <thead>\n",
              "    <tr style=\"text-align: right;\">\n",
              "      <th></th>\n",
              "      <th>Unnamed: 0</th>\n",
              "      <th>age</th>\n",
              "      <th>gender</th>\n",
              "      <th>tot_bilirubin</th>\n",
              "      <th>direct_bilirubin</th>\n",
              "      <th>alk_phos</th>\n",
              "      <th>alamine_aminotransferase</th>\n",
              "      <th>aspartate_aminotransferase</th>\n",
              "      <th>tot_proteins</th>\n",
              "      <th>albumin</th>\n",
              "      <th>ag_ratio</th>\n",
              "      <th>target</th>\n",
              "    </tr>\n",
              "  </thead>\n",
              "  <tbody>\n",
              "    <tr>\n",
              "      <th>0</th>\n",
              "      <td>0</td>\n",
              "      <td>65</td>\n",
              "      <td>Female</td>\n",
              "      <td>0.7</td>\n",
              "      <td>0.1</td>\n",
              "      <td>187</td>\n",
              "      <td>16</td>\n",
              "      <td>18</td>\n",
              "      <td>6.8</td>\n",
              "      <td>3.3</td>\n",
              "      <td>0.90</td>\n",
              "      <td>1</td>\n",
              "    </tr>\n",
              "    <tr>\n",
              "      <th>1</th>\n",
              "      <td>1</td>\n",
              "      <td>62</td>\n",
              "      <td>Male</td>\n",
              "      <td>10.9</td>\n",
              "      <td>5.5</td>\n",
              "      <td>699</td>\n",
              "      <td>64</td>\n",
              "      <td>100</td>\n",
              "      <td>7.5</td>\n",
              "      <td>3.2</td>\n",
              "      <td>0.74</td>\n",
              "      <td>1</td>\n",
              "    </tr>\n",
              "    <tr>\n",
              "      <th>2</th>\n",
              "      <td>2</td>\n",
              "      <td>62</td>\n",
              "      <td>Male</td>\n",
              "      <td>7.3</td>\n",
              "      <td>4.1</td>\n",
              "      <td>490</td>\n",
              "      <td>60</td>\n",
              "      <td>68</td>\n",
              "      <td>7.0</td>\n",
              "      <td>3.3</td>\n",
              "      <td>0.89</td>\n",
              "      <td>1</td>\n",
              "    </tr>\n",
              "    <tr>\n",
              "      <th>3</th>\n",
              "      <td>3</td>\n",
              "      <td>58</td>\n",
              "      <td>Male</td>\n",
              "      <td>1.0</td>\n",
              "      <td>0.4</td>\n",
              "      <td>182</td>\n",
              "      <td>14</td>\n",
              "      <td>20</td>\n",
              "      <td>6.8</td>\n",
              "      <td>3.4</td>\n",
              "      <td>1.00</td>\n",
              "      <td>1</td>\n",
              "    </tr>\n",
              "    <tr>\n",
              "      <th>4</th>\n",
              "      <td>4</td>\n",
              "      <td>72</td>\n",
              "      <td>Male</td>\n",
              "      <td>3.9</td>\n",
              "      <td>2.0</td>\n",
              "      <td>195</td>\n",
              "      <td>27</td>\n",
              "      <td>59</td>\n",
              "      <td>7.3</td>\n",
              "      <td>2.4</td>\n",
              "      <td>0.40</td>\n",
              "      <td>1</td>\n",
              "    </tr>\n",
              "  </tbody>\n",
              "</table>\n",
              "</div>\n",
              "      <button class=\"colab-df-convert\" onclick=\"convertToInteractive('df-fb237980-331a-4e78-b897-b4654b1861b9')\"\n",
              "              title=\"Convert this dataframe to an interactive table.\"\n",
              "              style=\"display:none;\">\n",
              "        \n",
              "  <svg xmlns=\"http://www.w3.org/2000/svg\" height=\"24px\"viewBox=\"0 0 24 24\"\n",
              "       width=\"24px\">\n",
              "    <path d=\"M0 0h24v24H0V0z\" fill=\"none\"/>\n",
              "    <path d=\"M18.56 5.44l.94 2.06.94-2.06 2.06-.94-2.06-.94-.94-2.06-.94 2.06-2.06.94zm-11 1L8.5 8.5l.94-2.06 2.06-.94-2.06-.94L8.5 2.5l-.94 2.06-2.06.94zm10 10l.94 2.06.94-2.06 2.06-.94-2.06-.94-.94-2.06-.94 2.06-2.06.94z\"/><path d=\"M17.41 7.96l-1.37-1.37c-.4-.4-.92-.59-1.43-.59-.52 0-1.04.2-1.43.59L10.3 9.45l-7.72 7.72c-.78.78-.78 2.05 0 2.83L4 21.41c.39.39.9.59 1.41.59.51 0 1.02-.2 1.41-.59l7.78-7.78 2.81-2.81c.8-.78.8-2.07 0-2.86zM5.41 20L4 18.59l7.72-7.72 1.47 1.35L5.41 20z\"/>\n",
              "  </svg>\n",
              "      </button>\n",
              "      \n",
              "  <style>\n",
              "    .colab-df-container {\n",
              "      display:flex;\n",
              "      flex-wrap:wrap;\n",
              "      gap: 12px;\n",
              "    }\n",
              "\n",
              "    .colab-df-convert {\n",
              "      background-color: #E8F0FE;\n",
              "      border: none;\n",
              "      border-radius: 50%;\n",
              "      cursor: pointer;\n",
              "      display: none;\n",
              "      fill: #1967D2;\n",
              "      height: 32px;\n",
              "      padding: 0 0 0 0;\n",
              "      width: 32px;\n",
              "    }\n",
              "\n",
              "    .colab-df-convert:hover {\n",
              "      background-color: #E2EBFA;\n",
              "      box-shadow: 0px 1px 2px rgba(60, 64, 67, 0.3), 0px 1px 3px 1px rgba(60, 64, 67, 0.15);\n",
              "      fill: #174EA6;\n",
              "    }\n",
              "\n",
              "    [theme=dark] .colab-df-convert {\n",
              "      background-color: #3B4455;\n",
              "      fill: #D2E3FC;\n",
              "    }\n",
              "\n",
              "    [theme=dark] .colab-df-convert:hover {\n",
              "      background-color: #434B5C;\n",
              "      box-shadow: 0px 1px 3px 1px rgba(0, 0, 0, 0.15);\n",
              "      filter: drop-shadow(0px 1px 2px rgba(0, 0, 0, 0.3));\n",
              "      fill: #FFFFFF;\n",
              "    }\n",
              "  </style>\n",
              "\n",
              "      <script>\n",
              "        const buttonEl =\n",
              "          document.querySelector('#df-fb237980-331a-4e78-b897-b4654b1861b9 button.colab-df-convert');\n",
              "        buttonEl.style.display =\n",
              "          google.colab.kernel.accessAllowed ? 'block' : 'none';\n",
              "\n",
              "        async function convertToInteractive(key) {\n",
              "          const element = document.querySelector('#df-fb237980-331a-4e78-b897-b4654b1861b9');\n",
              "          const dataTable =\n",
              "            await google.colab.kernel.invokeFunction('convertToInteractive',\n",
              "                                                     [key], {});\n",
              "          if (!dataTable) return;\n",
              "\n",
              "          const docLinkHtml = 'Like what you see? Visit the ' +\n",
              "            '<a target=\"_blank\" href=https://colab.research.google.com/notebooks/data_table.ipynb>data table notebook</a>'\n",
              "            + ' to learn more about interactive tables.';\n",
              "          element.innerHTML = '';\n",
              "          dataTable['output_type'] = 'display_data';\n",
              "          await google.colab.output.renderOutput(dataTable, element);\n",
              "          const docLink = document.createElement('div');\n",
              "          docLink.innerHTML = docLinkHtml;\n",
              "          element.appendChild(docLink);\n",
              "        }\n",
              "      </script>\n",
              "    </div>\n",
              "  </div>\n",
              "  "
            ]
          },
          "metadata": {},
          "execution_count": 227
        }
      ]
    },
    {
      "cell_type": "markdown",
      "source": [
        "# Basic check"
      ],
      "metadata": {
        "id": "y-xl4FOsW_cR"
      }
    },
    {
      "cell_type": "code",
      "source": [
        "data.info()"
      ],
      "metadata": {
        "id": "o0ACb_tK2Kk1",
        "colab": {
          "base_uri": "https://localhost:8080/"
        },
        "outputId": "88cac469-9550-41bc-e9dd-9308be03998e"
      },
      "execution_count": null,
      "outputs": [
        {
          "output_type": "stream",
          "name": "stdout",
          "text": [
            "<class 'pandas.core.frame.DataFrame'>\n",
            "RangeIndex: 583 entries, 0 to 582\n",
            "Data columns (total 12 columns):\n",
            " #   Column                      Non-Null Count  Dtype  \n",
            "---  ------                      --------------  -----  \n",
            " 0   Unnamed: 0                  583 non-null    int64  \n",
            " 1   age                         583 non-null    int64  \n",
            " 2   gender                      583 non-null    object \n",
            " 3   tot_bilirubin               583 non-null    float64\n",
            " 4   direct_bilirubin            583 non-null    float64\n",
            " 5   alk_phos                    583 non-null    int64  \n",
            " 6   alamine_aminotransferase    583 non-null    int64  \n",
            " 7   aspartate_aminotransferase  583 non-null    int64  \n",
            " 8   tot_proteins                583 non-null    float64\n",
            " 9   albumin                     583 non-null    float64\n",
            " 10  ag_ratio                    579 non-null    float64\n",
            " 11  target                      583 non-null    int64  \n",
            "dtypes: float64(5), int64(6), object(1)\n",
            "memory usage: 54.8+ KB\n"
          ]
        }
      ]
    },
    {
      "cell_type": "markdown",
      "source": [
        "Basic Information about given dataset "
      ],
      "metadata": {
        "id": "U0SEIBdEXxkZ"
      }
    },
    {
      "cell_type": "code",
      "source": [
        "data.shape"
      ],
      "metadata": {
        "colab": {
          "base_uri": "https://localhost:8080/"
        },
        "id": "BpN6Cp2bYCvI",
        "outputId": "aba55e41-bfea-485c-f831-66d8e7d2122b"
      },
      "execution_count": null,
      "outputs": [
        {
          "output_type": "execute_result",
          "data": {
            "text/plain": [
              "(583, 12)"
            ]
          },
          "metadata": {},
          "execution_count": 229
        }
      ]
    },
    {
      "cell_type": "markdown",
      "source": [
        "No of rows from the given dataset is **583**\n",
        "\n",
        "No of columns from the given dataset is **12**"
      ],
      "metadata": {
        "id": "EvRTkd6EYNT2"
      }
    },
    {
      "cell_type": "code",
      "source": [
        "data.describe() "
      ],
      "metadata": {
        "colab": {
          "base_uri": "https://localhost:8080/",
          "height": 382
        },
        "id": "oj3X6NrLYiqY",
        "outputId": "a1bbbed7-5599-49d4-9adc-361f84ec7988"
      },
      "execution_count": null,
      "outputs": [
        {
          "output_type": "execute_result",
          "data": {
            "text/plain": [
              "       Unnamed: 0         age  tot_bilirubin  direct_bilirubin     alk_phos  \\\n",
              "count  583.000000  583.000000     583.000000        583.000000   583.000000   \n",
              "mean   291.000000   44.746141       3.298799          1.486106   290.576329   \n",
              "std    168.441879   16.189833       6.209522          2.808498   242.937989   \n",
              "min      0.000000    4.000000       0.400000          0.100000    63.000000   \n",
              "25%    145.500000   33.000000       0.800000          0.200000   175.500000   \n",
              "50%    291.000000   45.000000       1.000000          0.300000   208.000000   \n",
              "75%    436.500000   58.000000       2.600000          1.300000   298.000000   \n",
              "max    582.000000   90.000000      75.000000         19.700000  2110.000000   \n",
              "\n",
              "       alamine_aminotransferase  aspartate_aminotransferase  tot_proteins  \\\n",
              "count                583.000000                  583.000000    583.000000   \n",
              "mean                  80.713551                  109.910806      6.483190   \n",
              "std                  182.620356                  288.918529      1.085451   \n",
              "min                   10.000000                   10.000000      2.700000   \n",
              "25%                   23.000000                   25.000000      5.800000   \n",
              "50%                   35.000000                   42.000000      6.600000   \n",
              "75%                   60.500000                   87.000000      7.200000   \n",
              "max                 2000.000000                 4929.000000      9.600000   \n",
              "\n",
              "          albumin    ag_ratio      target  \n",
              "count  583.000000  579.000000  583.000000  \n",
              "mean     3.141852    0.947064    1.286449  \n",
              "std      0.795519    0.319592    0.452490  \n",
              "min      0.900000    0.300000    1.000000  \n",
              "25%      2.600000    0.700000    1.000000  \n",
              "50%      3.100000    0.930000    1.000000  \n",
              "75%      3.800000    1.100000    2.000000  \n",
              "max      5.500000    2.800000    2.000000  "
            ],
            "text/html": [
              "\n",
              "  <div id=\"df-efb7d7da-ae3c-4016-9324-098413157f25\">\n",
              "    <div class=\"colab-df-container\">\n",
              "      <div>\n",
              "<style scoped>\n",
              "    .dataframe tbody tr th:only-of-type {\n",
              "        vertical-align: middle;\n",
              "    }\n",
              "\n",
              "    .dataframe tbody tr th {\n",
              "        vertical-align: top;\n",
              "    }\n",
              "\n",
              "    .dataframe thead th {\n",
              "        text-align: right;\n",
              "    }\n",
              "</style>\n",
              "<table border=\"1\" class=\"dataframe\">\n",
              "  <thead>\n",
              "    <tr style=\"text-align: right;\">\n",
              "      <th></th>\n",
              "      <th>Unnamed: 0</th>\n",
              "      <th>age</th>\n",
              "      <th>tot_bilirubin</th>\n",
              "      <th>direct_bilirubin</th>\n",
              "      <th>alk_phos</th>\n",
              "      <th>alamine_aminotransferase</th>\n",
              "      <th>aspartate_aminotransferase</th>\n",
              "      <th>tot_proteins</th>\n",
              "      <th>albumin</th>\n",
              "      <th>ag_ratio</th>\n",
              "      <th>target</th>\n",
              "    </tr>\n",
              "  </thead>\n",
              "  <tbody>\n",
              "    <tr>\n",
              "      <th>count</th>\n",
              "      <td>583.000000</td>\n",
              "      <td>583.000000</td>\n",
              "      <td>583.000000</td>\n",
              "      <td>583.000000</td>\n",
              "      <td>583.000000</td>\n",
              "      <td>583.000000</td>\n",
              "      <td>583.000000</td>\n",
              "      <td>583.000000</td>\n",
              "      <td>583.000000</td>\n",
              "      <td>579.000000</td>\n",
              "      <td>583.000000</td>\n",
              "    </tr>\n",
              "    <tr>\n",
              "      <th>mean</th>\n",
              "      <td>291.000000</td>\n",
              "      <td>44.746141</td>\n",
              "      <td>3.298799</td>\n",
              "      <td>1.486106</td>\n",
              "      <td>290.576329</td>\n",
              "      <td>80.713551</td>\n",
              "      <td>109.910806</td>\n",
              "      <td>6.483190</td>\n",
              "      <td>3.141852</td>\n",
              "      <td>0.947064</td>\n",
              "      <td>1.286449</td>\n",
              "    </tr>\n",
              "    <tr>\n",
              "      <th>std</th>\n",
              "      <td>168.441879</td>\n",
              "      <td>16.189833</td>\n",
              "      <td>6.209522</td>\n",
              "      <td>2.808498</td>\n",
              "      <td>242.937989</td>\n",
              "      <td>182.620356</td>\n",
              "      <td>288.918529</td>\n",
              "      <td>1.085451</td>\n",
              "      <td>0.795519</td>\n",
              "      <td>0.319592</td>\n",
              "      <td>0.452490</td>\n",
              "    </tr>\n",
              "    <tr>\n",
              "      <th>min</th>\n",
              "      <td>0.000000</td>\n",
              "      <td>4.000000</td>\n",
              "      <td>0.400000</td>\n",
              "      <td>0.100000</td>\n",
              "      <td>63.000000</td>\n",
              "      <td>10.000000</td>\n",
              "      <td>10.000000</td>\n",
              "      <td>2.700000</td>\n",
              "      <td>0.900000</td>\n",
              "      <td>0.300000</td>\n",
              "      <td>1.000000</td>\n",
              "    </tr>\n",
              "    <tr>\n",
              "      <th>25%</th>\n",
              "      <td>145.500000</td>\n",
              "      <td>33.000000</td>\n",
              "      <td>0.800000</td>\n",
              "      <td>0.200000</td>\n",
              "      <td>175.500000</td>\n",
              "      <td>23.000000</td>\n",
              "      <td>25.000000</td>\n",
              "      <td>5.800000</td>\n",
              "      <td>2.600000</td>\n",
              "      <td>0.700000</td>\n",
              "      <td>1.000000</td>\n",
              "    </tr>\n",
              "    <tr>\n",
              "      <th>50%</th>\n",
              "      <td>291.000000</td>\n",
              "      <td>45.000000</td>\n",
              "      <td>1.000000</td>\n",
              "      <td>0.300000</td>\n",
              "      <td>208.000000</td>\n",
              "      <td>35.000000</td>\n",
              "      <td>42.000000</td>\n",
              "      <td>6.600000</td>\n",
              "      <td>3.100000</td>\n",
              "      <td>0.930000</td>\n",
              "      <td>1.000000</td>\n",
              "    </tr>\n",
              "    <tr>\n",
              "      <th>75%</th>\n",
              "      <td>436.500000</td>\n",
              "      <td>58.000000</td>\n",
              "      <td>2.600000</td>\n",
              "      <td>1.300000</td>\n",
              "      <td>298.000000</td>\n",
              "      <td>60.500000</td>\n",
              "      <td>87.000000</td>\n",
              "      <td>7.200000</td>\n",
              "      <td>3.800000</td>\n",
              "      <td>1.100000</td>\n",
              "      <td>2.000000</td>\n",
              "    </tr>\n",
              "    <tr>\n",
              "      <th>max</th>\n",
              "      <td>582.000000</td>\n",
              "      <td>90.000000</td>\n",
              "      <td>75.000000</td>\n",
              "      <td>19.700000</td>\n",
              "      <td>2110.000000</td>\n",
              "      <td>2000.000000</td>\n",
              "      <td>4929.000000</td>\n",
              "      <td>9.600000</td>\n",
              "      <td>5.500000</td>\n",
              "      <td>2.800000</td>\n",
              "      <td>2.000000</td>\n",
              "    </tr>\n",
              "  </tbody>\n",
              "</table>\n",
              "</div>\n",
              "      <button class=\"colab-df-convert\" onclick=\"convertToInteractive('df-efb7d7da-ae3c-4016-9324-098413157f25')\"\n",
              "              title=\"Convert this dataframe to an interactive table.\"\n",
              "              style=\"display:none;\">\n",
              "        \n",
              "  <svg xmlns=\"http://www.w3.org/2000/svg\" height=\"24px\"viewBox=\"0 0 24 24\"\n",
              "       width=\"24px\">\n",
              "    <path d=\"M0 0h24v24H0V0z\" fill=\"none\"/>\n",
              "    <path d=\"M18.56 5.44l.94 2.06.94-2.06 2.06-.94-2.06-.94-.94-2.06-.94 2.06-2.06.94zm-11 1L8.5 8.5l.94-2.06 2.06-.94-2.06-.94L8.5 2.5l-.94 2.06-2.06.94zm10 10l.94 2.06.94-2.06 2.06-.94-2.06-.94-.94-2.06-.94 2.06-2.06.94z\"/><path d=\"M17.41 7.96l-1.37-1.37c-.4-.4-.92-.59-1.43-.59-.52 0-1.04.2-1.43.59L10.3 9.45l-7.72 7.72c-.78.78-.78 2.05 0 2.83L4 21.41c.39.39.9.59 1.41.59.51 0 1.02-.2 1.41-.59l7.78-7.78 2.81-2.81c.8-.78.8-2.07 0-2.86zM5.41 20L4 18.59l7.72-7.72 1.47 1.35L5.41 20z\"/>\n",
              "  </svg>\n",
              "      </button>\n",
              "      \n",
              "  <style>\n",
              "    .colab-df-container {\n",
              "      display:flex;\n",
              "      flex-wrap:wrap;\n",
              "      gap: 12px;\n",
              "    }\n",
              "\n",
              "    .colab-df-convert {\n",
              "      background-color: #E8F0FE;\n",
              "      border: none;\n",
              "      border-radius: 50%;\n",
              "      cursor: pointer;\n",
              "      display: none;\n",
              "      fill: #1967D2;\n",
              "      height: 32px;\n",
              "      padding: 0 0 0 0;\n",
              "      width: 32px;\n",
              "    }\n",
              "\n",
              "    .colab-df-convert:hover {\n",
              "      background-color: #E2EBFA;\n",
              "      box-shadow: 0px 1px 2px rgba(60, 64, 67, 0.3), 0px 1px 3px 1px rgba(60, 64, 67, 0.15);\n",
              "      fill: #174EA6;\n",
              "    }\n",
              "\n",
              "    [theme=dark] .colab-df-convert {\n",
              "      background-color: #3B4455;\n",
              "      fill: #D2E3FC;\n",
              "    }\n",
              "\n",
              "    [theme=dark] .colab-df-convert:hover {\n",
              "      background-color: #434B5C;\n",
              "      box-shadow: 0px 1px 3px 1px rgba(0, 0, 0, 0.15);\n",
              "      filter: drop-shadow(0px 1px 2px rgba(0, 0, 0, 0.3));\n",
              "      fill: #FFFFFF;\n",
              "    }\n",
              "  </style>\n",
              "\n",
              "      <script>\n",
              "        const buttonEl =\n",
              "          document.querySelector('#df-efb7d7da-ae3c-4016-9324-098413157f25 button.colab-df-convert');\n",
              "        buttonEl.style.display =\n",
              "          google.colab.kernel.accessAllowed ? 'block' : 'none';\n",
              "\n",
              "        async function convertToInteractive(key) {\n",
              "          const element = document.querySelector('#df-efb7d7da-ae3c-4016-9324-098413157f25');\n",
              "          const dataTable =\n",
              "            await google.colab.kernel.invokeFunction('convertToInteractive',\n",
              "                                                     [key], {});\n",
              "          if (!dataTable) return;\n",
              "\n",
              "          const docLinkHtml = 'Like what you see? Visit the ' +\n",
              "            '<a target=\"_blank\" href=https://colab.research.google.com/notebooks/data_table.ipynb>data table notebook</a>'\n",
              "            + ' to learn more about interactive tables.';\n",
              "          element.innerHTML = '';\n",
              "          dataTable['output_type'] = 'display_data';\n",
              "          await google.colab.output.renderOutput(dataTable, element);\n",
              "          const docLink = document.createElement('div');\n",
              "          docLink.innerHTML = docLinkHtml;\n",
              "          element.appendChild(docLink);\n",
              "        }\n",
              "      </script>\n",
              "    </div>\n",
              "  </div>\n",
              "  "
            ]
          },
          "metadata": {},
          "execution_count": 230
        }
      ]
    },
    {
      "cell_type": "markdown",
      "source": [
        "Statistical Information on **Numerical Dataset**"
      ],
      "metadata": {
        "id": "PeNWYwrvYrI-"
      }
    },
    {
      "cell_type": "code",
      "source": [
        "data.describe(include='O') "
      ],
      "metadata": {
        "colab": {
          "base_uri": "https://localhost:8080/",
          "height": 175
        },
        "id": "BKSGJz9tY4Ng",
        "outputId": "6fa7d429-9e81-49b5-ccb7-553ed618648b"
      },
      "execution_count": null,
      "outputs": [
        {
          "output_type": "execute_result",
          "data": {
            "text/plain": [
              "       gender\n",
              "count     583\n",
              "unique      2\n",
              "top      Male\n",
              "freq      441"
            ],
            "text/html": [
              "\n",
              "  <div id=\"df-c4635319-b99d-4ac3-b67f-1706bfddc303\">\n",
              "    <div class=\"colab-df-container\">\n",
              "      <div>\n",
              "<style scoped>\n",
              "    .dataframe tbody tr th:only-of-type {\n",
              "        vertical-align: middle;\n",
              "    }\n",
              "\n",
              "    .dataframe tbody tr th {\n",
              "        vertical-align: top;\n",
              "    }\n",
              "\n",
              "    .dataframe thead th {\n",
              "        text-align: right;\n",
              "    }\n",
              "</style>\n",
              "<table border=\"1\" class=\"dataframe\">\n",
              "  <thead>\n",
              "    <tr style=\"text-align: right;\">\n",
              "      <th></th>\n",
              "      <th>gender</th>\n",
              "    </tr>\n",
              "  </thead>\n",
              "  <tbody>\n",
              "    <tr>\n",
              "      <th>count</th>\n",
              "      <td>583</td>\n",
              "    </tr>\n",
              "    <tr>\n",
              "      <th>unique</th>\n",
              "      <td>2</td>\n",
              "    </tr>\n",
              "    <tr>\n",
              "      <th>top</th>\n",
              "      <td>Male</td>\n",
              "    </tr>\n",
              "    <tr>\n",
              "      <th>freq</th>\n",
              "      <td>441</td>\n",
              "    </tr>\n",
              "  </tbody>\n",
              "</table>\n",
              "</div>\n",
              "      <button class=\"colab-df-convert\" onclick=\"convertToInteractive('df-c4635319-b99d-4ac3-b67f-1706bfddc303')\"\n",
              "              title=\"Convert this dataframe to an interactive table.\"\n",
              "              style=\"display:none;\">\n",
              "        \n",
              "  <svg xmlns=\"http://www.w3.org/2000/svg\" height=\"24px\"viewBox=\"0 0 24 24\"\n",
              "       width=\"24px\">\n",
              "    <path d=\"M0 0h24v24H0V0z\" fill=\"none\"/>\n",
              "    <path d=\"M18.56 5.44l.94 2.06.94-2.06 2.06-.94-2.06-.94-.94-2.06-.94 2.06-2.06.94zm-11 1L8.5 8.5l.94-2.06 2.06-.94-2.06-.94L8.5 2.5l-.94 2.06-2.06.94zm10 10l.94 2.06.94-2.06 2.06-.94-2.06-.94-.94-2.06-.94 2.06-2.06.94z\"/><path d=\"M17.41 7.96l-1.37-1.37c-.4-.4-.92-.59-1.43-.59-.52 0-1.04.2-1.43.59L10.3 9.45l-7.72 7.72c-.78.78-.78 2.05 0 2.83L4 21.41c.39.39.9.59 1.41.59.51 0 1.02-.2 1.41-.59l7.78-7.78 2.81-2.81c.8-.78.8-2.07 0-2.86zM5.41 20L4 18.59l7.72-7.72 1.47 1.35L5.41 20z\"/>\n",
              "  </svg>\n",
              "      </button>\n",
              "      \n",
              "  <style>\n",
              "    .colab-df-container {\n",
              "      display:flex;\n",
              "      flex-wrap:wrap;\n",
              "      gap: 12px;\n",
              "    }\n",
              "\n",
              "    .colab-df-convert {\n",
              "      background-color: #E8F0FE;\n",
              "      border: none;\n",
              "      border-radius: 50%;\n",
              "      cursor: pointer;\n",
              "      display: none;\n",
              "      fill: #1967D2;\n",
              "      height: 32px;\n",
              "      padding: 0 0 0 0;\n",
              "      width: 32px;\n",
              "    }\n",
              "\n",
              "    .colab-df-convert:hover {\n",
              "      background-color: #E2EBFA;\n",
              "      box-shadow: 0px 1px 2px rgba(60, 64, 67, 0.3), 0px 1px 3px 1px rgba(60, 64, 67, 0.15);\n",
              "      fill: #174EA6;\n",
              "    }\n",
              "\n",
              "    [theme=dark] .colab-df-convert {\n",
              "      background-color: #3B4455;\n",
              "      fill: #D2E3FC;\n",
              "    }\n",
              "\n",
              "    [theme=dark] .colab-df-convert:hover {\n",
              "      background-color: #434B5C;\n",
              "      box-shadow: 0px 1px 3px 1px rgba(0, 0, 0, 0.15);\n",
              "      filter: drop-shadow(0px 1px 2px rgba(0, 0, 0, 0.3));\n",
              "      fill: #FFFFFF;\n",
              "    }\n",
              "  </style>\n",
              "\n",
              "      <script>\n",
              "        const buttonEl =\n",
              "          document.querySelector('#df-c4635319-b99d-4ac3-b67f-1706bfddc303 button.colab-df-convert');\n",
              "        buttonEl.style.display =\n",
              "          google.colab.kernel.accessAllowed ? 'block' : 'none';\n",
              "\n",
              "        async function convertToInteractive(key) {\n",
              "          const element = document.querySelector('#df-c4635319-b99d-4ac3-b67f-1706bfddc303');\n",
              "          const dataTable =\n",
              "            await google.colab.kernel.invokeFunction('convertToInteractive',\n",
              "                                                     [key], {});\n",
              "          if (!dataTable) return;\n",
              "\n",
              "          const docLinkHtml = 'Like what you see? Visit the ' +\n",
              "            '<a target=\"_blank\" href=https://colab.research.google.com/notebooks/data_table.ipynb>data table notebook</a>'\n",
              "            + ' to learn more about interactive tables.';\n",
              "          element.innerHTML = '';\n",
              "          dataTable['output_type'] = 'display_data';\n",
              "          await google.colab.output.renderOutput(dataTable, element);\n",
              "          const docLink = document.createElement('div');\n",
              "          docLink.innerHTML = docLinkHtml;\n",
              "          element.appendChild(docLink);\n",
              "        }\n",
              "      </script>\n",
              "    </div>\n",
              "  </div>\n",
              "  "
            ]
          },
          "metadata": {},
          "execution_count": 231
        }
      ]
    },
    {
      "cell_type": "markdown",
      "source": [
        "Statistical Information on **Categorical Dataset**"
      ],
      "metadata": {
        "id": "8jsL9QjdZThj"
      }
    },
    {
      "cell_type": "code",
      "source": [
        "for label, content in data.items():\n",
        "  if pd.api.types.is_string_dtype(content):\n",
        "    print(label)"
      ],
      "metadata": {
        "colab": {
          "base_uri": "https://localhost:8080/"
        },
        "id": "K8khHnmEdfS3",
        "outputId": "ba08455d-a4dd-4fca-9ac2-6966a09889f9"
      },
      "execution_count": null,
      "outputs": [
        {
          "output_type": "stream",
          "name": "stdout",
          "text": [
            "gender\n"
          ]
        }
      ]
    },
    {
      "cell_type": "markdown",
      "source": [
        "Total no of Numerical data is **10**\n",
        "\n",
        "Total no of Categorical data is **1**"
      ],
      "metadata": {
        "id": "bJWu8L1YZ0Ay"
      }
    },
    {
      "cell_type": "markdown",
      "source": [
        "# Exploratory Data Analysis"
      ],
      "metadata": {
        "id": "qDhzHq2eaLgl"
      }
    },
    {
      "cell_type": "code",
      "source": [
        "#pip install sweetviz"
      ],
      "metadata": {
        "id": "Q0t5i9PMagow"
      },
      "execution_count": null,
      "outputs": []
    },
    {
      "cell_type": "code",
      "source": [
        "'''import sweetviz as sz\n",
        "analytics=sz.analyze(data)\n",
        "analytics.show_html('LiverPrediction.html')'''"
      ],
      "metadata": {
        "colab": {
          "base_uri": "https://localhost:8080/",
          "height": 35
        },
        "id": "AqVW0aYIbBTl",
        "outputId": "6820b114-2a4b-4f30-ed5b-4b64e7bbbe46"
      },
      "execution_count": null,
      "outputs": [
        {
          "output_type": "execute_result",
          "data": {
            "text/plain": [
              "\"import sweetviz as sz\\nanalytics=sz.analyze(data)\\nanalytics.show_html('LiverPrediction.html')\""
            ],
            "application/vnd.google.colaboratory.intrinsic+json": {
              "type": "string"
            }
          },
          "metadata": {},
          "execution_count": 234
        }
      ]
    },
    {
      "cell_type": "markdown",
      "source": [
        "INSIGHTS FROM THE ABOVE UNIVARIATE DATA : \n",
        "  \n",
        "  1. Ages between `30 to 60` has high risk of getting **liver disease**.\n",
        "\n",
        "  2. `76%` of **Males** are affected by liver disease than **Females(24%)**.\n",
        "  3. **Total Billirubin** occured frequently between `0.3 to 0.8 mg/dl`, which indicates the patient is **Normal**\n",
        "  4. Total Billirubin at `75.0 and 42.0 mg/dl` are high, the patient has **high risk** of liver disease.\n",
        "  5. **Direct Billirubin**( billirubin attached by liver to glucuronic acid) level around `0.1 to 1.2` is high ,which is **normal**\n",
        "  6. Only few no.of patients`(0.2%)` have **high direct billirubin** around `18.3 to 19.7`.\n",
        "  7. Alkaline Phosphatase(alk_phos) content is high betweeen `198 -240 IU/L` and **more than 60%** are affected.\n",
        "  8. Alanine Aminotransferase (`23-25`U/L ) is normal value range, it indicates there is no risk of heart disease.\n",
        "  9. Patient with Alanine Aminotransferase `2000`U/L, which is more than **10 times the upper limit** of normal Alanine Aminotransferase and it results in **high risk** of liver disease.\n",
        "  10. High levels of Aspertate Aminotransferase has occured in 0.2% of patients which ranges 4929,2946 U/L.\n",
        "  11. Total protien levels between `6.0-7.0(g/DL)` are highly occured in patients`(25%)`, which is **normal** and does not involve in affecting the liver.\n",
        "  12. Only `0.2%` of patients are **highly affected** to the liver disease that ranges around `9.5-9.6 (g/DL)`.\n",
        "  13. Albumin range betweeen `3.4-5.4 (g/DL)` is normal and does not cause liver disease and around `19%` of patients shows **normal albumin level**.\n",
        "  14. `5.5g/DL` of Albumin is seen in the blood of liver patient, which is **high** and has occured in `0.3%` of patients\n",
        "  15. Ratio between **Albumin-globulin** is normal only if it ranges between `1 to 2 AG`, which is found in `43%` of patients. \n",
        "  16. **More than 2AG** that is `2.5 and 2.8AG` of Albumin-Globulin ratio is **high** and leads to liver disease, which is found in `0.5%` of patients."
      ],
      "metadata": {
        "id": "sXO5MXSvq_bs"
      }
    },
    {
      "cell_type": "markdown",
      "source": [
        "## Bivariate Data Analysis"
      ],
      "metadata": {
        "id": "Hd0h0yu4eUps"
      }
    },
    {
      "cell_type": "code",
      "source": [
        "plt.figure(figsize=(10,15), facecolor='white')# defining  canvas size\n",
        "plotnumber = 1 # initializing plotnumber variable to 1 it will maintain the count of how many graph is going to plot in canvas \n",
        "\n",
        "for column in data: # iteration of columns / acessing the columns from  dataset \n",
        "    if plotnumber<=13 :     # as there are 13 columns in the data\n",
        "        ax = plt.subplot(4,3,plotnumber)# plotting 40 graphs (4-rows,3-columns) ,plotnumber is for count  \n",
        "        sns.histplot(x=data[column],hue=data.target) ## it give frequency hue =value counts\n",
        "        plt.xlabel(column,fontsize=10) #assigning name to x-axis and \"name\" font size is 10\n",
        "        plt.ylabel('target',fontsize=10)#assigning name to y-axis and \"name\" font size is 10\n",
        "    plotnumber+=1 # increment of plotnumber \n",
        "plt.tight_layout()#to show plot"
      ],
      "metadata": {
        "colab": {
          "base_uri": "https://localhost:8080/",
          "height": 1000
        },
        "id": "XAPqVpl4ejaF",
        "outputId": "e0e8c779-8708-42d7-fcbe-a3095cfe9ba5"
      },
      "execution_count": null,
      "outputs": [
        {
          "output_type": "display_data",
          "data": {
            "text/plain": [
              "<Figure size 720x1080 with 12 Axes>"
            ],
            "image/png": "[encoded data removed]"
          },
          "metadata": {}
        }
      ]
    },
    {
      "cell_type": "code",
      "source": [
        "plt.figure(figsize=(15,8))\n",
        "ax=sns.countplot(x='age',hue='target',data=data);"
      ],
      "metadata": {
        "colab": {
          "base_uri": "https://localhost:8080/",
          "height": 497
        },
        "id": "m0FcvXqejnqE",
        "outputId": "05ca0f41-d3c6-4b7c-ae58-f0da14ac33d9"
      },
      "execution_count": null,
      "outputs": [
        {
          "output_type": "display_data",
          "data": {
            "text/plain": [
              "<Figure size 1080x576 with 1 Axes>"
            ],
            "image/png": "[encoded data removed]"
          },
          "metadata": {
            "needs_background": "light"
          }
        }
      ]
    },
    {
      "cell_type": "markdown",
      "source": [
        "  INSIGHTS FROM THE ABOVE BIVARIATE DATA : \n",
        "  \n",
        "  1. Liver disease is increasing with increase in age.\n",
        "\n",
        "  2. Age above **18** is **highly** affected by liver disease.  \n",
        "  \n",
        "  3. People at the Age **38 and 66** are **highly** affected."
      ],
      "metadata": {
        "id": "RGNYMhaDjvW4"
      }
    },
    {
      "cell_type": "code",
      "source": [
        "plt.figure(figsize=(30,14))\n",
        "ax=sns.countplot(x='tot_bilirubin',hue='target',data=data);"
      ],
      "metadata": {
        "colab": {
          "base_uri": "https://localhost:8080/",
          "height": 458
        },
        "id": "epePTh2xUu-W",
        "outputId": "e36e2f68-22a9-4a75-fd30-934e90409fd1"
      },
      "execution_count": null,
      "outputs": [
        {
          "output_type": "display_data",
          "data": {
            "text/plain": [
              "<Figure size 2160x1008 with 1 Axes>"
            ],
            "image/png": "[encoded data removed]"
          },
          "metadata": {
            "needs_background": "light"
          }
        }
      ]
    },
    {
      "cell_type": "markdown",
      "source": [
        "  INSIGHTS FROM THE ABOVE BIVARIATE DATA : \n",
        "  \n",
        "  1. Total bilirubin level is high between `55 to 82`.\n",
        "\n",
        "  2. the post between `60 to 85` are highly"
      ],
      "metadata": {
        "id": "5SprWgGfVfK9"
      }
    },
    {
      "cell_type": "code",
      "source": [
        "plt.figure(figsize=(35,14))\n",
        "ax=sns.countplot(x='alamine_aminotransferase',hue='target',data=data);"
      ],
      "metadata": {
        "colab": {
          "base_uri": "https://localhost:8080/",
          "height": 394
        },
        "id": "N-Tw12yDVhq6",
        "outputId": "fabe2188-3202-43f4-d88a-36d713c7fb52"
      },
      "execution_count": null,
      "outputs": [
        {
          "output_type": "display_data",
          "data": {
            "text/plain": [
              "<Figure size 2520x1008 with 1 Axes>"
            ],
            "image/png": "[encoded data removed]"
          },
          "metadata": {
            "needs_background": "light"
          }
        }
      ]
    },
    {
      "cell_type": "markdown",
      "source": [
        "  INSIGHTS FROM THE ABOVE BIVARIATE DATA : \n",
        "  \n",
        "  1. alamine_aminotransferase between `10 to 62` is high\n",
        "\n",
        "  2. the post between `10 to 33` are highly"
      ],
      "metadata": {
        "id": "O4F6Zr0aWdnT"
      }
    },
    {
      "cell_type": "code",
      "source": [
        "plt.figure(figsize=(35,14))\n",
        "ax=sns.countplot(x='aspartate_aminotransferase',hue='target',data=data);"
      ],
      "metadata": {
        "colab": {
          "base_uri": "https://localhost:8080/",
          "height": 396
        },
        "id": "AxqNmv_SWd-G",
        "outputId": "851a7196-59eb-4bd6-82c3-b368c1ea8567"
      },
      "execution_count": null,
      "outputs": [
        {
          "output_type": "display_data",
          "data": {
            "text/plain": [
              "<Figure size 2520x1008 with 1 Axes>"
            ],
            "image/png": "[encoded data removed]"
          },
          "metadata": {
            "needs_background": "light"
          }
        }
      ]
    },
    {
      "cell_type": "markdown",
      "source": [
        "  INSIGHTS FROM THE ABOVE BIVARIATE DATA : \n",
        "  \n",
        "  1. asperate_aminotransferase between `55 to 82`is high\n",
        "\n",
        "  2. the post between `10 to 85` are highly"
      ],
      "metadata": {
        "id": "sonuSV_KWwZl"
      }
    },
    {
      "cell_type": "code",
      "source": [
        "sns.scatterplot(x='age',y='alk_phos',hue='target',data=data);"
      ],
      "metadata": {
        "colab": {
          "base_uri": "https://localhost:8080/",
          "height": 279
        },
        "id": "8mugVrHzWKEQ",
        "outputId": "d147721a-dc5c-4a37-e838-aecae403459b"
      },
      "execution_count": null,
      "outputs": [
        {
          "output_type": "display_data",
          "data": {
            "text/plain": [
              "<Figure size 432x288 with 1 Axes>"
            ],
            "image/png": "[encoded data removed]"
          },
          "metadata": {
            "needs_background": "light"
          }
        }
      ]
    },
    {
      "cell_type": "markdown",
      "source": [
        "  INSIGHTS FROM THE ABOVE BIVARIATE DATA : \n",
        "  \n",
        "  1. alk_phos increases with increase in age \n",
        "\n",
        "  2.Age above **18** are **highly** affected by liver disease  \n",
        "  \n",
        "  3.People at the Age **38 and 66** are **highly** affected"
      ],
      "metadata": {
        "id": "eAKWIdPJWdl-"
      }
    },
    {
      "cell_type": "code",
      "source": [
        "sns.scatterplot(x='tot_bilirubin',y='direct_bilirubin',hue='target',data=data);"
      ],
      "metadata": {
        "colab": {
          "base_uri": "https://localhost:8080/",
          "height": 280
        },
        "id": "8C1AiTCXgpgf",
        "outputId": "0f7deec0-d834-4edc-b8a5-f8f430f9f2b1"
      },
      "execution_count": null,
      "outputs": [
        {
          "output_type": "display_data",
          "data": {
            "text/plain": [
              "<Figure size 432x288 with 1 Axes>"
            ],
            "image/png": "[encoded data removed]"
          },
          "metadata": {
            "needs_background": "light"
          }
        }
      ]
    },
    {
      "cell_type": "markdown",
      "source": [
        "  INSIGHTS FROM THE ABOVE BIVARIATE DATA : \n",
        "  \n",
        "  1. Total bilirubin **increases with increase in direct_bilirubin**.\n",
        "\n",
        "  2. People with less liver disease are many.\n",
        "  "
      ],
      "metadata": {
        "id": "60yXs1Omm7k5"
      }
    },
    {
      "cell_type": "code",
      "source": [
        "sns.scatterplot(x='tot_bilirubin',y='alk_phos',hue='target',data=data);"
      ],
      "metadata": {
        "colab": {
          "base_uri": "https://localhost:8080/",
          "height": 280
        },
        "id": "_b039OqxYtRV",
        "outputId": "ebb4fe34-05a6-42c6-82c9-3eddeade21f7"
      },
      "execution_count": null,
      "outputs": [
        {
          "output_type": "display_data",
          "data": {
            "text/plain": [
              "<Figure size 432x288 with 1 Axes>"
            ],
            "image/png": "[encoded data removed]"
          },
          "metadata": {
            "needs_background": "light"
          }
        }
      ]
    },
    {
      "cell_type": "markdown",
      "source": [
        "  INSIGHTS FROM THE ABOVE BIVARIATE DATA : \n",
        "  \n",
        "  1. Total bilirubin is **increasing with decrease in alk_phos** .\n",
        "\n",
        "  2. People with less liver disease are many.  \n",
        "  "
      ],
      "metadata": {
        "id": "DGrZVuxYZBP8"
      }
    },
    {
      "cell_type": "code",
      "source": [
        "sns.scatterplot(x='tot_bilirubin',y='alamine_aminotransferase',hue='target',data=data);"
      ],
      "metadata": {
        "colab": {
          "base_uri": "https://localhost:8080/",
          "height": 280
        },
        "id": "z_qGy1YFkOv5",
        "outputId": "da08d32e-147a-4531-f3fa-63eb6a09f48b"
      },
      "execution_count": null,
      "outputs": [
        {
          "output_type": "display_data",
          "data": {
            "text/plain": [
              "<Figure size 432x288 with 1 Axes>"
            ],
            "image/png": "[encoded data removed]"
          },
          "metadata": {
            "needs_background": "light"
          }
        }
      ]
    },
    {
      "cell_type": "markdown",
      "source": [
        "  INSIGHTS FROM THE ABOVE BIVARIATE DATA : \n",
        "  \n",
        "  1. Total bilirubin is **increasing with decrease in alamine_aminotransferase**.\n",
        "\n",
        "  2. People with less liver disease are many. "
      ],
      "metadata": {
        "id": "M5UgH2DniOm3"
      }
    },
    {
      "cell_type": "code",
      "source": [
        "sns.scatterplot(x='tot_bilirubin',y='albumin',hue='target',data=data);"
      ],
      "metadata": {
        "colab": {
          "base_uri": "https://localhost:8080/",
          "height": 280
        },
        "id": "kS1LRtIJmCeV",
        "outputId": "bd7b730f-c863-4ca9-a756-026265c77791"
      },
      "execution_count": null,
      "outputs": [
        {
          "output_type": "display_data",
          "data": {
            "text/plain": [
              "<Figure size 432x288 with 1 Axes>"
            ],
            "image/png": "[encoded data removed]"
          },
          "metadata": {
            "needs_background": "light"
          }
        }
      ]
    },
    {
      "cell_type": "markdown",
      "source": [
        "  INSIGHTS FROM THE ABOVE BIVARIATE DATA : \n",
        "  \n",
        "  1. Total bilirubin is **increasing with decrease in albumin**.\n",
        "\n",
        "  2. People with less liver disease are many.  "
      ],
      "metadata": {
        "id": "yn3s3lgXmbgl"
      }
    },
    {
      "cell_type": "code",
      "source": [
        "sns.scatterplot(x='alamine_aminotransferase',y='tot_proteins',hue='target',data=data);"
      ],
      "metadata": {
        "colab": {
          "base_uri": "https://localhost:8080/",
          "height": 280
        },
        "id": "K3inMoeQmbwv",
        "outputId": "0efba4d6-4da7-4e34-d600-90e3f7f42f8d"
      },
      "execution_count": null,
      "outputs": [
        {
          "output_type": "display_data",
          "data": {
            "text/plain": [
              "<Figure size 432x288 with 1 Axes>"
            ],
            "image/png": "[encoded data removed]"
          },
          "metadata": {
            "needs_background": "light"
          }
        }
      ]
    },
    {
      "cell_type": "markdown",
      "source": [
        "  INSIGHTS FROM THE ABOVE BIVARIATE DATA : \n",
        "  \n",
        "  1. alamine_aminotransferase is **increasing with decrease in tot_proteins**.\n",
        "\n",
        "  2. People with less liver disease are  many."
      ],
      "metadata": {
        "id": "ymoRk6SXeZ6N"
      }
    },
    {
      "cell_type": "code",
      "source": [
        "sns.scatterplot(x='tot_proteins',y='direct_bilirubin',hue='target',data=data);"
      ],
      "metadata": {
        "colab": {
          "base_uri": "https://localhost:8080/",
          "height": 280
        },
        "id": "Z6JyijwxbEJl",
        "outputId": "9520da54-a9b5-46cf-a382-c9838c70a111"
      },
      "execution_count": null,
      "outputs": [
        {
          "output_type": "display_data",
          "data": {
            "text/plain": [
              "<Figure size 432x288 with 1 Axes>"
            ],
            "image/png": "[encoded data removed]"
          },
          "metadata": {
            "needs_background": "light"
          }
        }
      ]
    },
    {
      "cell_type": "markdown",
      "source": [
        "  INSIGHTS FROM THE ABOVE BIVARIATE DATA : \n",
        "  \n",
        "  1. tot_proteins **increases with increase in direct_bilirubin**. \n",
        "\n",
        "  2. People with less liver disease are many.  "
      ],
      "metadata": {
        "id": "gnRIeFn5fZQ4"
      }
    },
    {
      "cell_type": "code",
      "source": [
        "sns.scatterplot(x='albumin',y='tot_proteins',hue='target',data=data);"
      ],
      "metadata": {
        "colab": {
          "base_uri": "https://localhost:8080/",
          "height": 279
        },
        "id": "_CeGHXJAfZeD",
        "outputId": "1f7da339-6b41-4605-bea0-314efb36790d"
      },
      "execution_count": null,
      "outputs": [
        {
          "output_type": "display_data",
          "data": {
            "text/plain": [
              "<Figure size 432x288 with 1 Axes>"
            ],
            "image/png": "[encoded data removed]"
          },
          "metadata": {
            "needs_background": "light"
          }
        }
      ]
    },
    {
      "cell_type": "markdown",
      "source": [
        "  INSIGHTS FROM THE ABOVE BIVARIATE DATA : \n",
        "  \n",
        "  1. albumin is **increasing with increase in tot_protein**. \n",
        "\n",
        "  2. People with less liver disease are many.  "
      ],
      "metadata": {
        "id": "A3q37DJtgAqQ"
      }
    },
    {
      "cell_type": "code",
      "source": [
        "sns.scatterplot(x='albumin',y='ag_ratio',hue='target',data=data);"
      ],
      "metadata": {
        "colab": {
          "base_uri": "https://localhost:8080/",
          "height": 279
        },
        "id": "ZLOgeP5if_k5",
        "outputId": "28789aac-c0a4-49d1-d65f-d7d27673d1ad"
      },
      "execution_count": null,
      "outputs": [
        {
          "output_type": "display_data",
          "data": {
            "text/plain": [
              "<Figure size 432x288 with 1 Axes>"
            ],
            "image/png": "[encoded data removed]"
          },
          "metadata": {
            "needs_background": "light"
          }
        }
      ]
    },
    {
      "cell_type": "markdown",
      "source": [
        "  INSIGHTS FROM THE ABOVE BIVARIATE DATA : \n",
        "  \n",
        "  1. albumin is **increasing with increase in ag_ration**.\n",
        "\n",
        "  2. People with less liver disease are many."
      ],
      "metadata": {
        "id": "WlAThycXj59J"
      }
    },
    {
      "cell_type": "markdown",
      "source": [
        "# DataPreprocessing"
      ],
      "metadata": {
        "id": "n_nDQpKlkjXl"
      }
    },
    {
      "cell_type": "code",
      "source": [
        "data.duplicated().sum()"
      ],
      "metadata": {
        "colab": {
          "base_uri": "https://localhost:8080/"
        },
        "id": "5QBapiGmlpO0",
        "outputId": "3fe99177-6dda-4b34-e680-68384a10cb50"
      },
      "execution_count": null,
      "outputs": [
        {
          "output_type": "execute_result",
          "data": {
            "text/plain": [
              "0"
            ]
          },
          "metadata": {},
          "execution_count": 249
        }
      ]
    },
    {
      "cell_type": "markdown",
      "source": [
        "No **Duplicate Values**"
      ],
      "metadata": {
        "id": "vj9Mxixll6kE"
      }
    },
    {
      "cell_type": "code",
      "source": [
        "data.isnull().sum()"
      ],
      "metadata": {
        "colab": {
          "base_uri": "https://localhost:8080/"
        },
        "id": "ps76p9N6unMA",
        "outputId": "c640665b-f483-4ddd-bacd-169694260303"
      },
      "execution_count": null,
      "outputs": [
        {
          "output_type": "execute_result",
          "data": {
            "text/plain": [
              "Unnamed: 0                    0\n",
              "age                           0\n",
              "gender                        0\n",
              "tot_bilirubin                 0\n",
              "direct_bilirubin              0\n",
              "alk_phos                      0\n",
              "alamine_aminotransferase      0\n",
              "aspartate_aminotransferase    0\n",
              "tot_proteins                  0\n",
              "albumin                       0\n",
              "ag_ratio                      4\n",
              "target                        0\n",
              "dtype: int64"
            ]
          },
          "metadata": {},
          "execution_count": 250
        }
      ]
    },
    {
      "cell_type": "markdown",
      "source": [
        "ag_ration has **4 null values**"
      ],
      "metadata": {
        "id": "uABCIrVJk0A6"
      }
    },
    {
      "cell_type": "markdown",
      "source": [
        "## Convert Categorical to numerial"
      ],
      "metadata": {
        "id": "phYvuQB3Joqs"
      }
    },
    {
      "cell_type": "code",
      "source": [
        "#label encoder\n",
        "from sklearn.preprocessing import LabelEncoder\n",
        "lc=LabelEncoder()\n",
        "data['gender']=lc.fit_transform(data['gender'])"
      ],
      "metadata": {
        "id": "yk1a51yxJQOC"
      },
      "execution_count": null,
      "outputs": []
    },
    {
      "cell_type": "markdown",
      "source": [
        "Changed **gender datatype from categorical to numerical**"
      ],
      "metadata": {
        "id": "hcMz-dL7L1Zo"
      }
    },
    {
      "cell_type": "markdown",
      "source": [
        "## Drop unwanted column"
      ],
      "metadata": {
        "id": "5AoRzp3oNXiH"
      }
    },
    {
      "cell_type": "code",
      "source": [
        "data.drop('Unnamed: 0',axis=1,inplace=True)"
      ],
      "metadata": {
        "id": "dfZ2vDsUN5bG"
      },
      "execution_count": null,
      "outputs": []
    },
    {
      "cell_type": "markdown",
      "source": [
        "Drop unamed column"
      ],
      "metadata": {
        "id": "_Nj9tePqQYv7"
      }
    },
    {
      "cell_type": "code",
      "source": [
        "data"
      ],
      "metadata": {
        "colab": {
          "base_uri": "https://localhost:8080/",
          "height": 488
        },
        "id": "gVwC6iZ5NUKa",
        "outputId": "9519bb14-9260-41a8-f1e2-bd656ddd9b38"
      },
      "execution_count": null,
      "outputs": [
        {
          "output_type": "execute_result",
          "data": {
            "text/plain": [
              "     age  gender  tot_bilirubin  direct_bilirubin  alk_phos  \\\n",
              "0     65       0            0.7               0.1       187   \n",
              "1     62       1           10.9               5.5       699   \n",
              "2     62       1            7.3               4.1       490   \n",
              "3     58       1            1.0               0.4       182   \n",
              "4     72       1            3.9               2.0       195   \n",
              "..   ...     ...            ...               ...       ...   \n",
              "578   60       1            0.5               0.1       500   \n",
              "579   40       1            0.6               0.1        98   \n",
              "580   52       1            0.8               0.2       245   \n",
              "581   31       1            1.3               0.5       184   \n",
              "582   38       1            1.0               0.3       216   \n",
              "\n",
              "     alamine_aminotransferase  aspartate_aminotransferase  tot_proteins  \\\n",
              "0                          16                          18           6.8   \n",
              "1                          64                         100           7.5   \n",
              "2                          60                          68           7.0   \n",
              "3                          14                          20           6.8   \n",
              "4                          27                          59           7.3   \n",
              "..                        ...                         ...           ...   \n",
              "578                        20                          34           5.9   \n",
              "579                        35                          31           6.0   \n",
              "580                        48                          49           6.4   \n",
              "581                        29                          32           6.8   \n",
              "582                        21                          24           7.3   \n",
              "\n",
              "     albumin  ag_ratio  target  \n",
              "0        3.3      0.90       1  \n",
              "1        3.2      0.74       1  \n",
              "2        3.3      0.89       1  \n",
              "3        3.4      1.00       1  \n",
              "4        2.4      0.40       1  \n",
              "..       ...       ...     ...  \n",
              "578      1.6      0.37       2  \n",
              "579      3.2      1.10       1  \n",
              "580      3.2      1.00       1  \n",
              "581      3.4      1.00       1  \n",
              "582      4.4      1.50       2  \n",
              "\n",
              "[583 rows x 11 columns]"
            ],
            "text/html": [
              "\n",
              "  <div id=\"df-0cf64b52-b688-4f55-bb02-eb17849b9097\">\n",
              "    <div class=\"colab-df-container\">\n",
              "      <div>\n",
              "<style scoped>\n",
              "    .dataframe tbody tr th:only-of-type {\n",
              "        vertical-align: middle;\n",
              "    }\n",
              "\n",
              "    .dataframe tbody tr th {\n",
              "        vertical-align: top;\n",
              "    }\n",
              "\n",
              "    .dataframe thead th {\n",
              "        text-align: right;\n",
              "    }\n",
              "</style>\n",
              "<table border=\"1\" class=\"dataframe\">\n",
              "  <thead>\n",
              "    <tr style=\"text-align: right;\">\n",
              "      <th></th>\n",
              "      <th>age</th>\n",
              "      <th>gender</th>\n",
              "      <th>tot_bilirubin</th>\n",
              "      <th>direct_bilirubin</th>\n",
              "      <th>alk_phos</th>\n",
              "      <th>alamine_aminotransferase</th>\n",
              "      <th>aspartate_aminotransferase</th>\n",
              "      <th>tot_proteins</th>\n",
              "      <th>albumin</th>\n",
              "      <th>ag_ratio</th>\n",
              "      <th>target</th>\n",
              "    </tr>\n",
              "  </thead>\n",
              "  <tbody>\n",
              "    <tr>\n",
              "      <th>0</th>\n",
              "      <td>65</td>\n",
              "      <td>0</td>\n",
              "      <td>0.7</td>\n",
              "      <td>0.1</td>\n",
              "      <td>187</td>\n",
              "      <td>16</td>\n",
              "      <td>18</td>\n",
              "      <td>6.8</td>\n",
              "      <td>3.3</td>\n",
              "      <td>0.90</td>\n",
              "      <td>1</td>\n",
              "    </tr>\n",
              "    <tr>\n",
              "      <th>1</th>\n",
              "      <td>62</td>\n",
              "      <td>1</td>\n",
              "      <td>10.9</td>\n",
              "      <td>5.5</td>\n",
              "      <td>699</td>\n",
              "      <td>64</td>\n",
              "      <td>100</td>\n",
              "      <td>7.5</td>\n",
              "      <td>3.2</td>\n",
              "      <td>0.74</td>\n",
              "      <td>1</td>\n",
              "    </tr>\n",
              "    <tr>\n",
              "      <th>2</th>\n",
              "      <td>62</td>\n",
              "      <td>1</td>\n",
              "      <td>7.3</td>\n",
              "      <td>4.1</td>\n",
              "      <td>490</td>\n",
              "      <td>60</td>\n",
              "      <td>68</td>\n",
              "      <td>7.0</td>\n",
              "      <td>3.3</td>\n",
              "      <td>0.89</td>\n",
              "      <td>1</td>\n",
              "    </tr>\n",
              "    <tr>\n",
              "      <th>3</th>\n",
              "      <td>58</td>\n",
              "      <td>1</td>\n",
              "      <td>1.0</td>\n",
              "      <td>0.4</td>\n",
              "      <td>182</td>\n",
              "      <td>14</td>\n",
              "      <td>20</td>\n",
              "      <td>6.8</td>\n",
              "      <td>3.4</td>\n",
              "      <td>1.00</td>\n",
              "      <td>1</td>\n",
              "    </tr>\n",
              "    <tr>\n",
              "      <th>4</th>\n",
              "      <td>72</td>\n",
              "      <td>1</td>\n",
              "      <td>3.9</td>\n",
              "      <td>2.0</td>\n",
              "      <td>195</td>\n",
              "      <td>27</td>\n",
              "      <td>59</td>\n",
              "      <td>7.3</td>\n",
              "      <td>2.4</td>\n",
              "      <td>0.40</td>\n",
              "      <td>1</td>\n",
              "    </tr>\n",
              "    <tr>\n",
              "      <th>...</th>\n",
              "      <td>...</td>\n",
              "      <td>...</td>\n",
              "      <td>...</td>\n",
              "      <td>...</td>\n",
              "      <td>...</td>\n",
              "      <td>...</td>\n",
              "      <td>...</td>\n",
              "      <td>...</td>\n",
              "      <td>...</td>\n",
              "      <td>...</td>\n",
              "      <td>...</td>\n",
              "    </tr>\n",
              "    <tr>\n",
              "      <th>578</th>\n",
              "      <td>60</td>\n",
              "      <td>1</td>\n",
              "      <td>0.5</td>\n",
              "      <td>0.1</td>\n",
              "      <td>500</td>\n",
              "      <td>20</td>\n",
              "      <td>34</td>\n",
              "      <td>5.9</td>\n",
              "      <td>1.6</td>\n",
              "      <td>0.37</td>\n",
              "      <td>2</td>\n",
              "    </tr>\n",
              "    <tr>\n",
              "      <th>579</th>\n",
              "      <td>40</td>\n",
              "      <td>1</td>\n",
              "      <td>0.6</td>\n",
              "      <td>0.1</td>\n",
              "      <td>98</td>\n",
              "      <td>35</td>\n",
              "      <td>31</td>\n",
              "      <td>6.0</td>\n",
              "      <td>3.2</td>\n",
              "      <td>1.10</td>\n",
              "      <td>1</td>\n",
              "    </tr>\n",
              "    <tr>\n",
              "      <th>580</th>\n",
              "      <td>52</td>\n",
              "      <td>1</td>\n",
              "      <td>0.8</td>\n",
              "      <td>0.2</td>\n",
              "      <td>245</td>\n",
              "      <td>48</td>\n",
              "      <td>49</td>\n",
              "      <td>6.4</td>\n",
              "      <td>3.2</td>\n",
              "      <td>1.00</td>\n",
              "      <td>1</td>\n",
              "    </tr>\n",
              "    <tr>\n",
              "      <th>581</th>\n",
              "      <td>31</td>\n",
              "      <td>1</td>\n",
              "      <td>1.3</td>\n",
              "      <td>0.5</td>\n",
              "      <td>184</td>\n",
              "      <td>29</td>\n",
              "      <td>32</td>\n",
              "      <td>6.8</td>\n",
              "      <td>3.4</td>\n",
              "      <td>1.00</td>\n",
              "      <td>1</td>\n",
              "    </tr>\n",
              "    <tr>\n",
              "      <th>582</th>\n",
              "      <td>38</td>\n",
              "      <td>1</td>\n",
              "      <td>1.0</td>\n",
              "      <td>0.3</td>\n",
              "      <td>216</td>\n",
              "      <td>21</td>\n",
              "      <td>24</td>\n",
              "      <td>7.3</td>\n",
              "      <td>4.4</td>\n",
              "      <td>1.50</td>\n",
              "      <td>2</td>\n",
              "    </tr>\n",
              "  </tbody>\n",
              "</table>\n",
              "<p>583 rows × 11 columns</p>\n",
              "</div>\n",
              "      <button class=\"colab-df-convert\" onclick=\"convertToInteractive('df-0cf64b52-b688-4f55-bb02-eb17849b9097')\"\n",
              "              title=\"Convert this dataframe to an interactive table.\"\n",
              "              style=\"display:none;\">\n",
              "        \n",
              "  <svg xmlns=\"http://www.w3.org/2000/svg\" height=\"24px\"viewBox=\"0 0 24 24\"\n",
              "       width=\"24px\">\n",
              "    <path d=\"M0 0h24v24H0V0z\" fill=\"none\"/>\n",
              "    <path d=\"M18.56 5.44l.94 2.06.94-2.06 2.06-.94-2.06-.94-.94-2.06-.94 2.06-2.06.94zm-11 1L8.5 8.5l.94-2.06 2.06-.94-2.06-.94L8.5 2.5l-.94 2.06-2.06.94zm10 10l.94 2.06.94-2.06 2.06-.94-2.06-.94-.94-2.06-.94 2.06-2.06.94z\"/><path d=\"M17.41 7.96l-1.37-1.37c-.4-.4-.92-.59-1.43-.59-.52 0-1.04.2-1.43.59L10.3 9.45l-7.72 7.72c-.78.78-.78 2.05 0 2.83L4 21.41c.39.39.9.59 1.41.59.51 0 1.02-.2 1.41-.59l7.78-7.78 2.81-2.81c.8-.78.8-2.07 0-2.86zM5.41 20L4 18.59l7.72-7.72 1.47 1.35L5.41 20z\"/>\n",
              "  </svg>\n",
              "      </button>\n",
              "      \n",
              "  <style>\n",
              "    .colab-df-container {\n",
              "      display:flex;\n",
              "      flex-wrap:wrap;\n",
              "      gap: 12px;\n",
              "    }\n",
              "\n",
              "    .colab-df-convert {\n",
              "      background-color: #E8F0FE;\n",
              "      border: none;\n",
              "      border-radius: 50%;\n",
              "      cursor: pointer;\n",
              "      display: none;\n",
              "      fill: #1967D2;\n",
              "      height: 32px;\n",
              "      padding: 0 0 0 0;\n",
              "      width: 32px;\n",
              "    }\n",
              "\n",
              "    .colab-df-convert:hover {\n",
              "      background-color: #E2EBFA;\n",
              "      box-shadow: 0px 1px 2px rgba(60, 64, 67, 0.3), 0px 1px 3px 1px rgba(60, 64, 67, 0.15);\n",
              "      fill: #174EA6;\n",
              "    }\n",
              "\n",
              "    [theme=dark] .colab-df-convert {\n",
              "      background-color: #3B4455;\n",
              "      fill: #D2E3FC;\n",
              "    }\n",
              "\n",
              "    [theme=dark] .colab-df-convert:hover {\n",
              "      background-color: #434B5C;\n",
              "      box-shadow: 0px 1px 3px 1px rgba(0, 0, 0, 0.15);\n",
              "      filter: drop-shadow(0px 1px 2px rgba(0, 0, 0, 0.3));\n",
              "      fill: #FFFFFF;\n",
              "    }\n",
              "  </style>\n",
              "\n",
              "      <script>\n",
              "        const buttonEl =\n",
              "          document.querySelector('#df-0cf64b52-b688-4f55-bb02-eb17849b9097 button.colab-df-convert');\n",
              "        buttonEl.style.display =\n",
              "          google.colab.kernel.accessAllowed ? 'block' : 'none';\n",
              "\n",
              "        async function convertToInteractive(key) {\n",
              "          const element = document.querySelector('#df-0cf64b52-b688-4f55-bb02-eb17849b9097');\n",
              "          const dataTable =\n",
              "            await google.colab.kernel.invokeFunction('convertToInteractive',\n",
              "                                                     [key], {});\n",
              "          if (!dataTable) return;\n",
              "\n",
              "          const docLinkHtml = 'Like what you see? Visit the ' +\n",
              "            '<a target=\"_blank\" href=https://colab.research.google.com/notebooks/data_table.ipynb>data table notebook</a>'\n",
              "            + ' to learn more about interactive tables.';\n",
              "          element.innerHTML = '';\n",
              "          dataTable['output_type'] = 'display_data';\n",
              "          await google.colab.output.renderOutput(dataTable, element);\n",
              "          const docLink = document.createElement('div');\n",
              "          docLink.innerHTML = docLinkHtml;\n",
              "          element.appendChild(docLink);\n",
              "        }\n",
              "      </script>\n",
              "    </div>\n",
              "  </div>\n",
              "  "
            ]
          },
          "metadata": {},
          "execution_count": 253
        }
      ]
    },
    {
      "cell_type": "markdown",
      "source": [
        "## Preprocessing Null values"
      ],
      "metadata": {
        "id": "lIva2j50ZGhl"
      }
    },
    {
      "cell_type": "code",
      "source": [
        "data[data['ag_ratio'].isnull()==True]"
      ],
      "metadata": {
        "colab": {
          "base_uri": "https://localhost:8080/",
          "height": 239
        },
        "id": "yaBV2aikmeQ9",
        "outputId": "465d4dfe-1395-4dc4-fc3b-11dc3185a899"
      },
      "execution_count": null,
      "outputs": [
        {
          "output_type": "execute_result",
          "data": {
            "text/plain": [
              "     age  gender  tot_bilirubin  direct_bilirubin  alk_phos  \\\n",
              "209   45       0            0.9               0.3       189   \n",
              "241   51       1            0.8               0.2       230   \n",
              "253   35       0            0.6               0.2       180   \n",
              "312   27       1            1.3               0.6       106   \n",
              "\n",
              "     alamine_aminotransferase  aspartate_aminotransferase  tot_proteins  \\\n",
              "209                        23                          33           6.6   \n",
              "241                        24                          46           6.5   \n",
              "253                        12                          15           5.2   \n",
              "312                        25                          54           8.5   \n",
              "\n",
              "     albumin  ag_ratio  target  \n",
              "209      3.9       NaN       1  \n",
              "241      3.1       NaN       1  \n",
              "253      2.7       NaN       2  \n",
              "312      4.8       NaN       2  "
            ],
            "text/html": [
              "\n",
              "  <div id=\"df-b47a0d7e-926a-4ee1-8021-f9e7713cef73\">\n",
              "    <div class=\"colab-df-container\">\n",
              "      <div>\n",
              "<style scoped>\n",
              "    .dataframe tbody tr th:only-of-type {\n",
              "        vertical-align: middle;\n",
              "    }\n",
              "\n",
              "    .dataframe tbody tr th {\n",
              "        vertical-align: top;\n",
              "    }\n",
              "\n",
              "    .dataframe thead th {\n",
              "        text-align: right;\n",
              "    }\n",
              "</style>\n",
              "<table border=\"1\" class=\"dataframe\">\n",
              "  <thead>\n",
              "    <tr style=\"text-align: right;\">\n",
              "      <th></th>\n",
              "      <th>age</th>\n",
              "      <th>gender</th>\n",
              "      <th>tot_bilirubin</th>\n",
              "      <th>direct_bilirubin</th>\n",
              "      <th>alk_phos</th>\n",
              "      <th>alamine_aminotransferase</th>\n",
              "      <th>aspartate_aminotransferase</th>\n",
              "      <th>tot_proteins</th>\n",
              "      <th>albumin</th>\n",
              "      <th>ag_ratio</th>\n",
              "      <th>target</th>\n",
              "    </tr>\n",
              "  </thead>\n",
              "  <tbody>\n",
              "    <tr>\n",
              "      <th>209</th>\n",
              "      <td>45</td>\n",
              "      <td>0</td>\n",
              "      <td>0.9</td>\n",
              "      <td>0.3</td>\n",
              "      <td>189</td>\n",
              "      <td>23</td>\n",
              "      <td>33</td>\n",
              "      <td>6.6</td>\n",
              "      <td>3.9</td>\n",
              "      <td>NaN</td>\n",
              "      <td>1</td>\n",
              "    </tr>\n",
              "    <tr>\n",
              "      <th>241</th>\n",
              "      <td>51</td>\n",
              "      <td>1</td>\n",
              "      <td>0.8</td>\n",
              "      <td>0.2</td>\n",
              "      <td>230</td>\n",
              "      <td>24</td>\n",
              "      <td>46</td>\n",
              "      <td>6.5</td>\n",
              "      <td>3.1</td>\n",
              "      <td>NaN</td>\n",
              "      <td>1</td>\n",
              "    </tr>\n",
              "    <tr>\n",
              "      <th>253</th>\n",
              "      <td>35</td>\n",
              "      <td>0</td>\n",
              "      <td>0.6</td>\n",
              "      <td>0.2</td>\n",
              "      <td>180</td>\n",
              "      <td>12</td>\n",
              "      <td>15</td>\n",
              "      <td>5.2</td>\n",
              "      <td>2.7</td>\n",
              "      <td>NaN</td>\n",
              "      <td>2</td>\n",
              "    </tr>\n",
              "    <tr>\n",
              "      <th>312</th>\n",
              "      <td>27</td>\n",
              "      <td>1</td>\n",
              "      <td>1.3</td>\n",
              "      <td>0.6</td>\n",
              "      <td>106</td>\n",
              "      <td>25</td>\n",
              "      <td>54</td>\n",
              "      <td>8.5</td>\n",
              "      <td>4.8</td>\n",
              "      <td>NaN</td>\n",
              "      <td>2</td>\n",
              "    </tr>\n",
              "  </tbody>\n",
              "</table>\n",
              "</div>\n",
              "      <button class=\"colab-df-convert\" onclick=\"convertToInteractive('df-b47a0d7e-926a-4ee1-8021-f9e7713cef73')\"\n",
              "              title=\"Convert this dataframe to an interactive table.\"\n",
              "              style=\"display:none;\">\n",
              "        \n",
              "  <svg xmlns=\"http://www.w3.org/2000/svg\" height=\"24px\"viewBox=\"0 0 24 24\"\n",
              "       width=\"24px\">\n",
              "    <path d=\"M0 0h24v24H0V0z\" fill=\"none\"/>\n",
              "    <path d=\"M18.56 5.44l.94 2.06.94-2.06 2.06-.94-2.06-.94-.94-2.06-.94 2.06-2.06.94zm-11 1L8.5 8.5l.94-2.06 2.06-.94-2.06-.94L8.5 2.5l-.94 2.06-2.06.94zm10 10l.94 2.06.94-2.06 2.06-.94-2.06-.94-.94-2.06-.94 2.06-2.06.94z\"/><path d=\"M17.41 7.96l-1.37-1.37c-.4-.4-.92-.59-1.43-.59-.52 0-1.04.2-1.43.59L10.3 9.45l-7.72 7.72c-.78.78-.78 2.05 0 2.83L4 21.41c.39.39.9.59 1.41.59.51 0 1.02-.2 1.41-.59l7.78-7.78 2.81-2.81c.8-.78.8-2.07 0-2.86zM5.41 20L4 18.59l7.72-7.72 1.47 1.35L5.41 20z\"/>\n",
              "  </svg>\n",
              "      </button>\n",
              "      \n",
              "  <style>\n",
              "    .colab-df-container {\n",
              "      display:flex;\n",
              "      flex-wrap:wrap;\n",
              "      gap: 12px;\n",
              "    }\n",
              "\n",
              "    .colab-df-convert {\n",
              "      background-color: #E8F0FE;\n",
              "      border: none;\n",
              "      border-radius: 50%;\n",
              "      cursor: pointer;\n",
              "      display: none;\n",
              "      fill: #1967D2;\n",
              "      height: 32px;\n",
              "      padding: 0 0 0 0;\n",
              "      width: 32px;\n",
              "    }\n",
              "\n",
              "    .colab-df-convert:hover {\n",
              "      background-color: #E2EBFA;\n",
              "      box-shadow: 0px 1px 2px rgba(60, 64, 67, 0.3), 0px 1px 3px 1px rgba(60, 64, 67, 0.15);\n",
              "      fill: #174EA6;\n",
              "    }\n",
              "\n",
              "    [theme=dark] .colab-df-convert {\n",
              "      background-color: #3B4455;\n",
              "      fill: #D2E3FC;\n",
              "    }\n",
              "\n",
              "    [theme=dark] .colab-df-convert:hover {\n",
              "      background-color: #434B5C;\n",
              "      box-shadow: 0px 1px 3px 1px rgba(0, 0, 0, 0.15);\n",
              "      filter: drop-shadow(0px 1px 2px rgba(0, 0, 0, 0.3));\n",
              "      fill: #FFFFFF;\n",
              "    }\n",
              "  </style>\n",
              "\n",
              "      <script>\n",
              "        const buttonEl =\n",
              "          document.querySelector('#df-b47a0d7e-926a-4ee1-8021-f9e7713cef73 button.colab-df-convert');\n",
              "        buttonEl.style.display =\n",
              "          google.colab.kernel.accessAllowed ? 'block' : 'none';\n",
              "\n",
              "        async function convertToInteractive(key) {\n",
              "          const element = document.querySelector('#df-b47a0d7e-926a-4ee1-8021-f9e7713cef73');\n",
              "          const dataTable =\n",
              "            await google.colab.kernel.invokeFunction('convertToInteractive',\n",
              "                                                     [key], {});\n",
              "          if (!dataTable) return;\n",
              "\n",
              "          const docLinkHtml = 'Like what you see? Visit the ' +\n",
              "            '<a target=\"_blank\" href=https://colab.research.google.com/notebooks/data_table.ipynb>data table notebook</a>'\n",
              "            + ' to learn more about interactive tables.';\n",
              "          element.innerHTML = '';\n",
              "          dataTable['output_type'] = 'display_data';\n",
              "          await google.colab.output.renderOutput(dataTable, element);\n",
              "          const docLink = document.createElement('div');\n",
              "          docLink.innerHTML = docLinkHtml;\n",
              "          element.appendChild(docLink);\n",
              "        }\n",
              "      </script>\n",
              "    </div>\n",
              "  </div>\n",
              "  "
            ]
          },
          "metadata": {},
          "execution_count": 254
        }
      ]
    },
    {
      "cell_type": "markdown",
      "source": [
        "Null value rows"
      ],
      "metadata": {
        "id": "rFsfQjemmuO7"
      }
    },
    {
      "cell_type": "code",
      "source": [
        "data.loc[data['ag_ratio'].isnull()==True,'ag_ratio']=data.ag_ratio.median()"
      ],
      "metadata": {
        "id": "09-HZeaQnaIX"
      },
      "execution_count": null,
      "outputs": []
    },
    {
      "cell_type": "markdown",
      "source": [
        "Replace **Null values** with **median**"
      ],
      "metadata": {
        "id": "ugjxXu1USaxp"
      }
    },
    {
      "cell_type": "code",
      "source": [
        "data.info()"
      ],
      "metadata": {
        "colab": {
          "base_uri": "https://localhost:8080/"
        },
        "id": "2o5JMYvGS1l-",
        "outputId": "7dd5538e-f8b4-4a4a-93c7-b1c53088827c"
      },
      "execution_count": null,
      "outputs": [
        {
          "output_type": "stream",
          "name": "stdout",
          "text": [
            "<class 'pandas.core.frame.DataFrame'>\n",
            "RangeIndex: 583 entries, 0 to 582\n",
            "Data columns (total 11 columns):\n",
            " #   Column                      Non-Null Count  Dtype  \n",
            "---  ------                      --------------  -----  \n",
            " 0   age                         583 non-null    int64  \n",
            " 1   gender                      583 non-null    int64  \n",
            " 2   tot_bilirubin               583 non-null    float64\n",
            " 3   direct_bilirubin            583 non-null    float64\n",
            " 4   alk_phos                    583 non-null    int64  \n",
            " 5   alamine_aminotransferase    583 non-null    int64  \n",
            " 6   aspartate_aminotransferase  583 non-null    int64  \n",
            " 7   tot_proteins                583 non-null    float64\n",
            " 8   albumin                     583 non-null    float64\n",
            " 9   ag_ratio                    583 non-null    float64\n",
            " 10  target                      583 non-null    int64  \n",
            "dtypes: float64(5), int64(6)\n",
            "memory usage: 50.2 KB\n"
          ]
        }
      ]
    },
    {
      "cell_type": "markdown",
      "source": [
        "NO **Null** values in **ag_ratio** column"
      ],
      "metadata": {
        "id": "z5aVyXwmS71A"
      }
    },
    {
      "cell_type": "markdown",
      "source": [
        "# Modeling"
      ],
      "metadata": {
        "id": "zHPfKXjnerCl"
      }
    },
    {
      "cell_type": "markdown",
      "source": [
        "## Splitting data into Training and Testing"
      ],
      "metadata": {
        "id": "OMquXo08fME2"
      }
    },
    {
      "cell_type": "code",
      "source": [
        "X=data.iloc[:,0:-1]  #independent variable\n",
        "y=data.target   #target variable"
      ],
      "metadata": {
        "id": "5fYm0CBHfyho"
      },
      "execution_count": null,
      "outputs": []
    },
    {
      "cell_type": "markdown",
      "source": [
        "**X** is **independent** variable\n",
        "\n",
        "**y** is **dependent** variable"
      ],
      "metadata": {
        "id": "RGb3XvR3giMQ"
      }
    },
    {
      "cell_type": "code",
      "source": [
        "np.random.seed(42)\n",
        "X_train, X_test, y_train, y_test = train_test_split(X, y, test_size=0.2)"
      ],
      "metadata": {
        "id": "-ld95KkReo8u"
      },
      "execution_count": null,
      "outputs": []
    },
    {
      "cell_type": "markdown",
      "source": [
        "Spliting training and test data"
      ],
      "metadata": {
        "id": "JeLpD1HKhcf8"
      }
    },
    {
      "cell_type": "code",
      "source": [
        "print(X_train.shape, y_train.shape, X_test.shape, y_test.shape)"
      ],
      "metadata": {
        "colab": {
          "base_uri": "https://localhost:8080/"
        },
        "id": "chHCcFtchj8f",
        "outputId": "17d1d7d5-0f29-422f-d5b2-e5214b388322"
      },
      "execution_count": null,
      "outputs": [
        {
          "output_type": "stream",
          "name": "stdout",
          "text": [
            "(466, 10) (466,) (117, 10) (117,)\n"
          ]
        }
      ]
    },
    {
      "cell_type": "markdown",
      "source": [
        "## Feature Selection"
      ],
      "metadata": {
        "id": "09_QyqAw1GP8"
      }
    },
    {
      "cell_type": "code",
      "source": [
        "plt.figure(figsize=(10,10))\n",
        "cor = X_train.corr()\n",
        "sns.heatmap(cor, annot=True, cmap=plt.cm.YlGnBu)\n",
        "plt.show()"
      ],
      "metadata": {
        "colab": {
          "base_uri": "https://localhost:8080/",
          "height": 726
        },
        "id": "V4tkyrJMiSSk",
        "outputId": "68c7a9b9-978a-48b9-eedc-067101720440"
      },
      "execution_count": null,
      "outputs": [
        {
          "output_type": "display_data",
          "data": {
            "text/plain": [
              "<Figure size 720x720 with 2 Axes>"
            ],
            "image/png": "[encoded data removed]"
          },
          "metadata": {
            "needs_background": "light"
          }
        }
      ]
    },
    {
      "cell_type": "code",
      "source": [
        "def correlation(dataset, threshold):\n",
        "    col_corr = set()  # Set of all the names of correlated columns\n",
        "    corr_matrix = dataset.corr()\n",
        "    for i in range(len(corr_matrix.columns)):\n",
        "        for j in range(i):\n",
        "            if abs(corr_matrix.iloc[i, j]) > threshold: # we are interested in absolute coeff value\n",
        "                colname = corr_matrix.columns[i]  # getting the name of column\n",
        "                col_corr.add(colname)\n",
        "    return col_corr"
      ],
      "metadata": {
        "id": "QcTuCDkRinfD"
      },
      "execution_count": null,
      "outputs": []
    },
    {
      "cell_type": "markdown",
      "source": [
        "Set the threashold to find **Highly correlation columns**"
      ],
      "metadata": {
        "id": "vY8PWCK70Kt3"
      }
    },
    {
      "cell_type": "code",
      "source": [
        "corr_features = correlation(X_train, 0.7)\n",
        "len(set(corr_features))"
      ],
      "metadata": {
        "colab": {
          "base_uri": "https://localhost:8080/"
        },
        "id": "dT7mnwGMivmZ",
        "outputId": "3715e13d-e89c-4578-ed1e-a4234405250e"
      },
      "execution_count": null,
      "outputs": [
        {
          "output_type": "execute_result",
          "data": {
            "text/plain": [
              "3"
            ]
          },
          "metadata": {},
          "execution_count": 262
        }
      ]
    },
    {
      "cell_type": "markdown",
      "source": [
        "**3 Columns** are highly correlated"
      ],
      "metadata": {
        "id": "B2dwzMXO0ium"
      }
    },
    {
      "cell_type": "code",
      "source": [
        "corr_features"
      ],
      "metadata": {
        "colab": {
          "base_uri": "https://localhost:8080/"
        },
        "id": "OPbgLs75i-GU",
        "outputId": "b94f0fd3-840b-405e-babb-189e4a717791"
      },
      "execution_count": null,
      "outputs": [
        {
          "output_type": "execute_result",
          "data": {
            "text/plain": [
              "{'albumin', 'aspartate_aminotransferase', 'direct_bilirubin'}"
            ]
          },
          "metadata": {},
          "execution_count": 263
        }
      ]
    },
    {
      "cell_type": "markdown",
      "source": [
        "Correlated columns"
      ],
      "metadata": {
        "id": "pTL-Jtke06jN"
      }
    },
    {
      "cell_type": "markdown",
      "source": [
        "## Dropping Highly correlated features"
      ],
      "metadata": {
        "id": "l9bplgYmeYAH"
      }
    },
    {
      "cell_type": "code",
      "source": [
        "X_train.drop(corr_features,axis=1)\n",
        "X_test.drop(corr_features,axis=1)"
      ],
      "metadata": {
        "colab": {
          "base_uri": "https://localhost:8080/",
          "height": 424
        },
        "id": "S8jjr1lUhxP5",
        "outputId": "1fa50e9d-a414-4f29-e092-34ce64561c07"
      },
      "execution_count": null,
      "outputs": [
        {
          "output_type": "execute_result",
          "data": {
            "text/plain": [
              "     age  gender  tot_bilirubin  alk_phos  alamine_aminotransferase  \\\n",
              "355   19       1            1.4       178                        13   \n",
              "407   12       1            1.0       719                       157   \n",
              "90    60       1            5.7       214                       412   \n",
              "402   42       0            0.5       162                       155   \n",
              "268   40       1           14.5       358                        50   \n",
              "..   ...     ...            ...       ...                       ...   \n",
              "516   60       1            0.9       168                        16   \n",
              "305   54       0            1.4       195                        36   \n",
              "167   47       0            3.0       292                        64   \n",
              "312   27       1            1.3       106                        25   \n",
              "329   21       1            0.7       211                        14   \n",
              "\n",
              "     tot_proteins  ag_ratio  \n",
              "355           8.0      1.30  \n",
              "407           7.2      1.00  \n",
              "90            7.3      0.78  \n",
              "402           8.1      0.90  \n",
              "268           5.7      0.50  \n",
              "..            ...       ...  \n",
              "516           6.7      0.80  \n",
              "305           7.9      0.90  \n",
              "167           5.6      0.47  \n",
              "312           8.5      0.93  \n",
              "329           7.3      1.20  \n",
              "\n",
              "[117 rows x 7 columns]"
            ],
            "text/html": [
              "\n",
              "  <div id=\"df-fb013c87-b395-4196-97db-53226bd654b2\">\n",
              "    <div class=\"colab-df-container\">\n",
              "      <div>\n",
              "<style scoped>\n",
              "    .dataframe tbody tr th:only-of-type {\n",
              "        vertical-align: middle;\n",
              "    }\n",
              "\n",
              "    .dataframe tbody tr th {\n",
              "        vertical-align: top;\n",
              "    }\n",
              "\n",
              "    .dataframe thead th {\n",
              "        text-align: right;\n",
              "    }\n",
              "</style>\n",
              "<table border=\"1\" class=\"dataframe\">\n",
              "  <thead>\n",
              "    <tr style=\"text-align: right;\">\n",
              "      <th></th>\n",
              "      <th>age</th>\n",
              "      <th>gender</th>\n",
              "      <th>tot_bilirubin</th>\n",
              "      <th>alk_phos</th>\n",
              "      <th>alamine_aminotransferase</th>\n",
              "      <th>tot_proteins</th>\n",
              "      <th>ag_ratio</th>\n",
              "    </tr>\n",
              "  </thead>\n",
              "  <tbody>\n",
              "    <tr>\n",
              "      <th>355</th>\n",
              "      <td>19</td>\n",
              "      <td>1</td>\n",
              "      <td>1.4</td>\n",
              "      <td>178</td>\n",
              "      <td>13</td>\n",
              "      <td>8.0</td>\n",
              "      <td>1.30</td>\n",
              "    </tr>\n",
              "    <tr>\n",
              "      <th>407</th>\n",
              "      <td>12</td>\n",
              "      <td>1</td>\n",
              "      <td>1.0</td>\n",
              "      <td>719</td>\n",
              "      <td>157</td>\n",
              "      <td>7.2</td>\n",
              "      <td>1.00</td>\n",
              "    </tr>\n",
              "    <tr>\n",
              "      <th>90</th>\n",
              "      <td>60</td>\n",
              "      <td>1</td>\n",
              "      <td>5.7</td>\n",
              "      <td>214</td>\n",
              "      <td>412</td>\n",
              "      <td>7.3</td>\n",
              "      <td>0.78</td>\n",
              "    </tr>\n",
              "    <tr>\n",
              "      <th>402</th>\n",
              "      <td>42</td>\n",
              "      <td>0</td>\n",
              "      <td>0.5</td>\n",
              "      <td>162</td>\n",
              "      <td>155</td>\n",
              "      <td>8.1</td>\n",
              "      <td>0.90</td>\n",
              "    </tr>\n",
              "    <tr>\n",
              "      <th>268</th>\n",
              "      <td>40</td>\n",
              "      <td>1</td>\n",
              "      <td>14.5</td>\n",
              "      <td>358</td>\n",
              "      <td>50</td>\n",
              "      <td>5.7</td>\n",
              "      <td>0.50</td>\n",
              "    </tr>\n",
              "    <tr>\n",
              "      <th>...</th>\n",
              "      <td>...</td>\n",
              "      <td>...</td>\n",
              "      <td>...</td>\n",
              "      <td>...</td>\n",
              "      <td>...</td>\n",
              "      <td>...</td>\n",
              "      <td>...</td>\n",
              "    </tr>\n",
              "    <tr>\n",
              "      <th>516</th>\n",
              "      <td>60</td>\n",
              "      <td>1</td>\n",
              "      <td>0.9</td>\n",
              "      <td>168</td>\n",
              "      <td>16</td>\n",
              "      <td>6.7</td>\n",
              "      <td>0.80</td>\n",
              "    </tr>\n",
              "    <tr>\n",
              "      <th>305</th>\n",
              "      <td>54</td>\n",
              "      <td>0</td>\n",
              "      <td>1.4</td>\n",
              "      <td>195</td>\n",
              "      <td>36</td>\n",
              "      <td>7.9</td>\n",
              "      <td>0.90</td>\n",
              "    </tr>\n",
              "    <tr>\n",
              "      <th>167</th>\n",
              "      <td>47</td>\n",
              "      <td>0</td>\n",
              "      <td>3.0</td>\n",
              "      <td>292</td>\n",
              "      <td>64</td>\n",
              "      <td>5.6</td>\n",
              "      <td>0.47</td>\n",
              "    </tr>\n",
              "    <tr>\n",
              "      <th>312</th>\n",
              "      <td>27</td>\n",
              "      <td>1</td>\n",
              "      <td>1.3</td>\n",
              "      <td>106</td>\n",
              "      <td>25</td>\n",
              "      <td>8.5</td>\n",
              "      <td>0.93</td>\n",
              "    </tr>\n",
              "    <tr>\n",
              "      <th>329</th>\n",
              "      <td>21</td>\n",
              "      <td>1</td>\n",
              "      <td>0.7</td>\n",
              "      <td>211</td>\n",
              "      <td>14</td>\n",
              "      <td>7.3</td>\n",
              "      <td>1.20</td>\n",
              "    </tr>\n",
              "  </tbody>\n",
              "</table>\n",
              "<p>117 rows × 7 columns</p>\n",
              "</div>\n",
              "      <button class=\"colab-df-convert\" onclick=\"convertToInteractive('df-fb013c87-b395-4196-97db-53226bd654b2')\"\n",
              "              title=\"Convert this dataframe to an interactive table.\"\n",
              "              style=\"display:none;\">\n",
              "        \n",
              "  <svg xmlns=\"http://www.w3.org/2000/svg\" height=\"24px\"viewBox=\"0 0 24 24\"\n",
              "       width=\"24px\">\n",
              "    <path d=\"M0 0h24v24H0V0z\" fill=\"none\"/>\n",
              "    <path d=\"M18.56 5.44l.94 2.06.94-2.06 2.06-.94-2.06-.94-.94-2.06-.94 2.06-2.06.94zm-11 1L8.5 8.5l.94-2.06 2.06-.94-2.06-.94L8.5 2.5l-.94 2.06-2.06.94zm10 10l.94 2.06.94-2.06 2.06-.94-2.06-.94-.94-2.06-.94 2.06-2.06.94z\"/><path d=\"M17.41 7.96l-1.37-1.37c-.4-.4-.92-.59-1.43-.59-.52 0-1.04.2-1.43.59L10.3 9.45l-7.72 7.72c-.78.78-.78 2.05 0 2.83L4 21.41c.39.39.9.59 1.41.59.51 0 1.02-.2 1.41-.59l7.78-7.78 2.81-2.81c.8-.78.8-2.07 0-2.86zM5.41 20L4 18.59l7.72-7.72 1.47 1.35L5.41 20z\"/>\n",
              "  </svg>\n",
              "      </button>\n",
              "      \n",
              "  <style>\n",
              "    .colab-df-container {\n",
              "      display:flex;\n",
              "      flex-wrap:wrap;\n",
              "      gap: 12px;\n",
              "    }\n",
              "\n",
              "    .colab-df-convert {\n",
              "      background-color: #E8F0FE;\n",
              "      border: none;\n",
              "      border-radius: 50%;\n",
              "      cursor: pointer;\n",
              "      display: none;\n",
              "      fill: #1967D2;\n",
              "      height: 32px;\n",
              "      padding: 0 0 0 0;\n",
              "      width: 32px;\n",
              "    }\n",
              "\n",
              "    .colab-df-convert:hover {\n",
              "      background-color: #E2EBFA;\n",
              "      box-shadow: 0px 1px 2px rgba(60, 64, 67, 0.3), 0px 1px 3px 1px rgba(60, 64, 67, 0.15);\n",
              "      fill: #174EA6;\n",
              "    }\n",
              "\n",
              "    [theme=dark] .colab-df-convert {\n",
              "      background-color: #3B4455;\n",
              "      fill: #D2E3FC;\n",
              "    }\n",
              "\n",
              "    [theme=dark] .colab-df-convert:hover {\n",
              "      background-color: #434B5C;\n",
              "      box-shadow: 0px 1px 3px 1px rgba(0, 0, 0, 0.15);\n",
              "      filter: drop-shadow(0px 1px 2px rgba(0, 0, 0, 0.3));\n",
              "      fill: #FFFFFF;\n",
              "    }\n",
              "  </style>\n",
              "\n",
              "      <script>\n",
              "        const buttonEl =\n",
              "          document.querySelector('#df-fb013c87-b395-4196-97db-53226bd654b2 button.colab-df-convert');\n",
              "        buttonEl.style.display =\n",
              "          google.colab.kernel.accessAllowed ? 'block' : 'none';\n",
              "\n",
              "        async function convertToInteractive(key) {\n",
              "          const element = document.querySelector('#df-fb013c87-b395-4196-97db-53226bd654b2');\n",
              "          const dataTable =\n",
              "            await google.colab.kernel.invokeFunction('convertToInteractive',\n",
              "                                                     [key], {});\n",
              "          if (!dataTable) return;\n",
              "\n",
              "          const docLinkHtml = 'Like what you see? Visit the ' +\n",
              "            '<a target=\"_blank\" href=https://colab.research.google.com/notebooks/data_table.ipynb>data table notebook</a>'\n",
              "            + ' to learn more about interactive tables.';\n",
              "          element.innerHTML = '';\n",
              "          dataTable['output_type'] = 'display_data';\n",
              "          await google.colab.output.renderOutput(dataTable, element);\n",
              "          const docLink = document.createElement('div');\n",
              "          docLink.innerHTML = docLinkHtml;\n",
              "          element.appendChild(docLink);\n",
              "        }\n",
              "      </script>\n",
              "    </div>\n",
              "  </div>\n",
              "  "
            ]
          },
          "metadata": {},
          "execution_count": 264
        }
      ]
    },
    {
      "cell_type": "markdown",
      "source": [
        "## Modeling"
      ],
      "metadata": {
        "id": "UiTX8G4T5AMF"
      }
    },
    {
      "cell_type": "markdown",
      "source": [
        "Now we've got our data splitted into training and testing sets, it's time to build a machine learning model.\n",
        "\n",
        "We'll Train it (finding patterns) on the training set.\n",
        "\n",
        "and then test it testing set\n",
        "\n",
        "selecting a model from : https://scikit-learn.org/stable/tutorial/machine_learning_map/index.html\n",
        "\n",
        "after having a look I found some model to work with.\n",
        "\n",
        "We're going to try 6 different Machine Learning Model:\n",
        "1. `Logistic Regression`\n",
        "2. `K-Nearest neighbours Classifer`\n",
        "3. `RandomForestClassifer`\n",
        "4. `SVC Classifier`\n",
        "5. `XGBOOST Classifier`\n",
        "6. `SGD Classifier`\n",
        "\n",
        "So rather then initiating then fitting and then scoring `one by one` Let's create a function\n"
      ],
      "metadata": {
        "id": "i-vOOuSN5wkT"
      }
    },
    {
      "cell_type": "code",
      "source": [
        "# Putting Models in a Dictionary to make our function more dynamic\n",
        "models = {\n",
        "    \"Logistic Regression\":LogisticRegression(),\n",
        "    \"KNN\":KNeighborsClassifier(),\n",
        "    \"Random Forest\":RandomForestClassifier(),\n",
        "    \"SVC\":SVC(),\n",
        "    \"Xgboost\":XGBClassifier(),\n",
        "    \"SGD\":SGDClassifier()\n",
        "\n",
        "}\n",
        "\n",
        "# Create a function to fit and score models\n",
        "def fit_and_score(models, X_train, X_test, y_train, y_test):\n",
        "  \"\"\"\n",
        "  Fits and evaluate given machine learning models.\n",
        "  Models: a dictionary of diccerent sklearn Machine Learnng Models\n",
        "  X_train : Training data (no labeles)\n",
        "  X_test : Testing data (no labels)\n",
        "  y_train : Training labels\n",
        "  y_test : Test labels\n",
        "  \"\"\"\n",
        "  # Setting up Random seeds\n",
        "  np.random.seed(42)\n",
        "  # Make a dictionary to keep model scores\n",
        "  model_scores ={}\n",
        "  # Loop through models\n",
        "  for name, model in models.items():\n",
        "    # Fit the model to data\n",
        "    model.fit(X_train.drop(corr_features,axis=1), y_train)\n",
        "    # Evaluate the model and append its score to model_scores\n",
        "    model_scores[name] = model.score(X_test.drop(corr_features,axis=1),y_test)\n",
        "  return model_scores"
      ],
      "metadata": {
        "id": "mHIqmsDFqZbb"
      },
      "execution_count": null,
      "outputs": []
    },
    {
      "cell_type": "code",
      "source": [
        "%time\n",
        "model_scores = fit_and_score(models=models,\n",
        "                             X_train=X_train,\n",
        "                             X_test=X_test,\n",
        "                             y_train = y_train,\n",
        "                             y_test = y_test)"
      ],
      "metadata": {
        "colab": {
          "base_uri": "https://localhost:8080/"
        },
        "id": "oq66tkRsqnFn",
        "outputId": "7283fd8d-0653-4fe8-a2ce-4e3b7d70ee91"
      },
      "execution_count": null,
      "outputs": [
        {
          "output_type": "stream",
          "name": "stdout",
          "text": [
            "CPU times: user 4 µs, sys: 0 ns, total: 4 µs\n",
            "Wall time: 9.06 µs\n"
          ]
        }
      ]
    },
    {
      "cell_type": "code",
      "source": [
        "model_scores"
      ],
      "metadata": {
        "colab": {
          "base_uri": "https://localhost:8080/"
        },
        "id": "5otBa97br7jE",
        "outputId": "72e87a6a-d5cf-49c1-f6de-a4b1faa76556"
      },
      "execution_count": null,
      "outputs": [
        {
          "output_type": "execute_result",
          "data": {
            "text/plain": [
              "{'Logistic Regression': 0.7606837606837606,\n",
              " 'KNN': 0.7094017094017094,\n",
              " 'Random Forest': 0.7606837606837606,\n",
              " 'SVC': 0.7435897435897436,\n",
              " 'Xgboost': 0.7863247863247863,\n",
              " 'SGD': 0.7435897435897436}"
            ]
          },
          "metadata": {},
          "execution_count": 267
        }
      ]
    },
    {
      "cell_type": "markdown",
      "source": [
        "Let's visulaize the model comparision before goin any further"
      ],
      "metadata": {
        "id": "KbpynYtC6bs0"
      }
    },
    {
      "cell_type": "code",
      "source": [
        "model_compare = pd.DataFrame(model_scores, index=[\"accuracy\"])\n",
        "model_compare.T.plot.bar();"
      ],
      "metadata": {
        "colab": {
          "base_uri": "https://localhost:8080/",
          "height": 351
        },
        "id": "dRxrMH9qufwL",
        "outputId": "8031d2be-a0a7-4617-b025-22f600acb87c"
      },
      "execution_count": null,
      "outputs": [
        {
          "output_type": "display_data",
          "data": {
            "text/plain": [
              "<Figure size 432x288 with 1 Axes>"
            ],
            "image/png": "[encoded data removed]"
          },
          "metadata": {
            "needs_background": "light"
          }
        }
      ]
    },
    {
      "cell_type": "markdown",
      "source": [
        "As we can see `LogisticRegressor`,`XGBoost Classification`,`SVC Classification`,`RandomForestClassifer`.`SGD Classification` performs best while `KNN` was slightly behind\n",
        "\n",
        "but still, model's first predictions aren't always what we should based our next step off.\n",
        "\n",
        "so let's do Hyperparameter Tuning"
      ],
      "metadata": {
        "id": "6WZ6nQvyBRMR"
      }
    },
    {
      "cell_type": "markdown",
      "source": [
        "# Hyper Tuning"
      ],
      "metadata": {
        "id": "6e4yavEC7gHT"
      }
    },
    {
      "cell_type": "markdown",
      "source": [
        "## Logistic Regression"
      ],
      "metadata": {
        "id": "bX1C04Ac8TCj"
      }
    },
    {
      "cell_type": "code",
      "source": [
        "# Creating a hyperparameter grid for LogisticRegression\n",
        "log_reg_grid = {\"C\":np.logspace(-4,4,20),\n",
        "                \"solver\":[\"liblinear\"]}\n",
        "\n",
        "# Create a hyperparameter grid for RandomForestClassifer\n",
        "rf_grid = {\"n_estimators\":np.arange(10,1000,50),\n",
        "           \"max_depth\":[None,3,5,10],\n",
        "           \"min_samples_split\":np.arange(2,20,2),\n",
        "           \"min_samples_leaf\":np.arange(1,20,2)}"
      ],
      "metadata": {
        "id": "R9UR2efdyYbT"
      },
      "execution_count": null,
      "outputs": []
    },
    {
      "cell_type": "markdown",
      "source": [
        "So now rather than doing hyperparamer tuning by hand or manully let's use `RandomizedSearchCV`"
      ],
      "metadata": {
        "id": "dx2cP6KeAkgQ"
      }
    },
    {
      "cell_type": "code",
      "source": [
        "np.random.seed(42)\n",
        "\n",
        "# setup random hyperparameter search for LogisticRegression\n",
        "rs_log_reg = RandomizedSearchCV(LogisticRegression(),\n",
        "                                param_distributions=log_reg_grid,\n",
        "                                cv=5,\n",
        "                                n_iter=20,\n",
        "                                verbose=True)\n",
        "\n",
        "# Fit random hyperparameter search model for LoisticRegression\n",
        "rs_log_reg.fit(X_train.drop(corr_features,axis=1), y_train)"
      ],
      "metadata": {
        "colab": {
          "base_uri": "https://localhost:8080/"
        },
        "id": "UuKKUzo4yN6N",
        "outputId": "2bc62390-cf56-4a61-ea8f-f2593547b9f9"
      },
      "execution_count": null,
      "outputs": [
        {
          "output_type": "stream",
          "name": "stdout",
          "text": [
            "Fitting 5 folds for each of 20 candidates, totalling 100 fits\n"
          ]
        },
        {
          "output_type": "execute_result",
          "data": {
            "text/plain": [
              "RandomizedSearchCV(cv=5, estimator=LogisticRegression(), n_iter=20,\n",
              "                   param_distributions={'C': array([1.00000000e-04, 2.63665090e-04, 6.95192796e-04, 1.83298071e-03,\n",
              "       4.83293024e-03, 1.27427499e-02, 3.35981829e-02, 8.85866790e-02,\n",
              "       2.33572147e-01, 6.15848211e-01, 1.62377674e+00, 4.28133240e+00,\n",
              "       1.12883789e+01, 2.97635144e+01, 7.84759970e+01, 2.06913808e+02,\n",
              "       5.45559478e+02, 1.43844989e+03, 3.79269019e+03, 1.00000000e+04]),\n",
              "                                        'solver': ['liblinear']},\n",
              "                   verbose=True)"
            ]
          },
          "metadata": {},
          "execution_count": 270
        }
      ]
    },
    {
      "cell_type": "code",
      "source": [
        "rs_log_reg.best_params_"
      ],
      "metadata": {
        "colab": {
          "base_uri": "https://localhost:8080/"
        },
        "id": "uc0FbF0G2j5c",
        "outputId": "619346f2-9e50-41df-c4f8-2e8810be5476"
      },
      "execution_count": null,
      "outputs": [
        {
          "output_type": "execute_result",
          "data": {
            "text/plain": [
              "{'solver': 'liblinear', 'C': 545.5594781168514}"
            ]
          },
          "metadata": {},
          "execution_count": 271
        }
      ]
    },
    {
      "cell_type": "code",
      "source": [
        "rs_log_reg.score(X_test.drop(corr_features,axis=1),y_test)"
      ],
      "metadata": {
        "colab": {
          "base_uri": "https://localhost:8080/"
        },
        "id": "EP8330PoykTn",
        "outputId": "04e9dc1d-779b-43bd-fdc3-ad1e90d57985"
      },
      "execution_count": null,
      "outputs": [
        {
          "output_type": "execute_result",
          "data": {
            "text/plain": [
              "0.7692307692307693"
            ]
          },
          "metadata": {},
          "execution_count": 272
        }
      ]
    },
    {
      "cell_type": "markdown",
      "source": [
        "After Tuned Logistic Regression and got best score as **0.76** is slighly **higher** than before tuning"
      ],
      "metadata": {
        "id": "momkKTA38hQe"
      }
    },
    {
      "cell_type": "markdown",
      "source": [
        "## k Nearest Neighbor"
      ],
      "metadata": {
        "id": "jfnE6Wwa7w5y"
      }
    },
    {
      "cell_type": "code",
      "source": [
        "%time\n",
        "# Let's Tune KNN\n",
        "\n",
        "train_scores = []\n",
        "test_scores = []\n",
        "\n",
        "#create a list of different values of n_neighbours\n",
        "neighbours = range(1,10)\n",
        "\n",
        "# setup KNN instance\n",
        "knn = KNeighborsClassifier()\n",
        "\n",
        "# Loop through different n_neigbours\n",
        "for i in neighbours:\n",
        "  knn.set_params(n_neighbors = i)\n",
        "\n",
        "  # Fit the algorithm\n",
        "  knn.fit(X_train.drop(corr_features,axis=1), y_train)\n",
        "\n",
        "  # Update the training score list\n",
        "  train_scores.append(knn.score(X_train.drop(corr_features,axis=1), y_train))\n",
        "\n",
        "  # Update the test score list\n",
        "  test_scores.append(knn.score(X_test.drop(corr_features,axis=1), y_test))"
      ],
      "metadata": {
        "colab": {
          "base_uri": "https://localhost:8080/"
        },
        "id": "fLTVOp4PwqXK",
        "outputId": "8af88cbe-7ef3-4a94-8e64-33fc9c7592d3"
      },
      "execution_count": null,
      "outputs": [
        {
          "output_type": "stream",
          "name": "stdout",
          "text": [
            "CPU times: user 2 µs, sys: 0 ns, total: 2 µs\n",
            "Wall time: 5.96 µs\n"
          ]
        }
      ]
    },
    {
      "cell_type": "code",
      "source": [
        "train_scores"
      ],
      "metadata": {
        "colab": {
          "base_uri": "https://localhost:8080/"
        },
        "id": "FzCMZMkJyIyG",
        "outputId": "37a996ad-4252-4792-8574-7bf72326cfc2"
      },
      "execution_count": null,
      "outputs": [
        {
          "output_type": "execute_result",
          "data": {
            "text/plain": [
              "[1.0,\n",
              " 0.8111587982832618,\n",
              " 0.8068669527896996,\n",
              " 0.7618025751072961,\n",
              " 0.7746781115879828,\n",
              " 0.7424892703862661,\n",
              " 0.7575107296137339,\n",
              " 0.7446351931330472,\n",
              " 0.7575107296137339]"
            ]
          },
          "metadata": {},
          "execution_count": 274
        }
      ]
    },
    {
      "cell_type": "code",
      "source": [
        "test_scores"
      ],
      "metadata": {
        "colab": {
          "base_uri": "https://localhost:8080/"
        },
        "id": "ChpaqH2uyN_T",
        "outputId": "7467e0fe-3b8c-4db4-d2e5-c61dd62862dd"
      },
      "execution_count": null,
      "outputs": [
        {
          "output_type": "execute_result",
          "data": {
            "text/plain": [
              "[0.6923076923076923,\n",
              " 0.7094017094017094,\n",
              " 0.6495726495726496,\n",
              " 0.7008547008547008,\n",
              " 0.7094017094017094,\n",
              " 0.7094017094017094,\n",
              " 0.7008547008547008,\n",
              " 0.7008547008547008,\n",
              " 0.7264957264957265]"
            ]
          },
          "metadata": {},
          "execution_count": 275
        }
      ]
    },
    {
      "cell_type": "code",
      "source": [
        "plt.plot(neighbours, train_scores, label = \"Train Score\")\n",
        "plt.plot(neighbours, test_scores, label = \"Test Score\")\n",
        "plt.xticks(np.arange(1,21,1))\n",
        "plt.xlabel(\"Number of Neighbours\")\n",
        "plt.ylabel(\"Model Score\")\n",
        "plt.legend()\n",
        "\n",
        "print(f\"Maximum KNN score on the test data:\",max(test_scores) )\n"
      ],
      "metadata": {
        "colab": {
          "base_uri": "https://localhost:8080/",
          "height": 296
        },
        "id": "_JHViD6ByS2e",
        "outputId": "626a0f05-b69d-423f-820c-384bde548224"
      },
      "execution_count": null,
      "outputs": [
        {
          "output_type": "stream",
          "name": "stdout",
          "text": [
            "Maximum KNN score on the test data: 0.7264957264957265\n"
          ]
        },
        {
          "output_type": "display_data",
          "data": {
            "text/plain": [
              "<Figure size 432x288 with 1 Axes>"
            ],
            "image/png": "[encoded data removed]"
          },
          "metadata": {
            "needs_background": "light"
          }
        }
      ]
    },
    {
      "cell_type": "markdown",
      "source": [
        "So we Tuned KNN and got best score as **0.72**"
      ],
      "metadata": {
        "id": "QmTWtwzc777t"
      }
    },
    {
      "cell_type": "markdown",
      "source": [
        "## Stochastic Gradient Descent"
      ],
      "metadata": {
        "id": "wvNB2snIESE0"
      }
    },
    {
      "cell_type": "code",
      "source": [
        "loss = ['hinge', 'log', 'modified_huber', 'squared_hinge',  \n",
        "'perceptron'] \n",
        "penalty = ['l1', 'l2', 'elasticnet'] \n",
        "alpha = [0.0001, 0.001, 0.01, 0.1, 1, 10, 100, 1000] \n",
        "learning_rate = ['constant', 'optimal', 'invscaling', 'adaptive'] \n",
        "\n",
        "eta0 = [1, 10, 100] "
      ],
      "metadata": {
        "id": "JI5SNmUIEcok"
      },
      "execution_count": null,
      "outputs": []
    },
    {
      "cell_type": "code",
      "source": [
        "param_distributions = dict(loss=loss, \n",
        "penalty=penalty, \n",
        "alpha=alpha, \n",
        "learning_rate=learning_rate, \n",
        "\n",
        "eta0=eta0) "
      ],
      "metadata": {
        "id": "n-4iup3iEkXf"
      },
      "execution_count": null,
      "outputs": []
    },
    {
      "cell_type": "markdown",
      "source": [
        "So now rather than doing hyperparamer tuning by hand or manully let's use `RandomizedSearchCV`"
      ],
      "metadata": {
        "id": "6CewD4WvK7GC"
      }
    },
    {
      "cell_type": "code",
      "source": [
        "np.random.seed(42)\n",
        "sgd = SGDClassifier(loss=\"hinge\", penalty=\"l2\", max_iter=5) \n",
        "random = RandomizedSearchCV(estimator=sgd, \n",
        "param_distributions=param_distributions, \n",
        "scoring='roc_auc', \n",
        "verbose=1, n_jobs=-1, \n",
        "n_iter=1000) "
      ],
      "metadata": {
        "id": "jl0ksgzRFd6J"
      },
      "execution_count": null,
      "outputs": []
    },
    {
      "cell_type": "code",
      "source": [
        "random_result = random.fit(X_train.drop(corr_features,axis=1), y_train)"
      ],
      "metadata": {
        "colab": {
          "base_uri": "https://localhost:8080/"
        },
        "id": "v5CySKPFF2R-",
        "outputId": "b3587ed5-cae3-46e9-9324-33af548145c1"
      },
      "execution_count": null,
      "outputs": [
        {
          "output_type": "stream",
          "name": "stdout",
          "text": [
            "Fitting 5 folds for each of 1000 candidates, totalling 5000 fits\n"
          ]
        }
      ]
    },
    {
      "cell_type": "code",
      "source": [
        "random_result.best_params_"
      ],
      "metadata": {
        "colab": {
          "base_uri": "https://localhost:8080/"
        },
        "id": "pIJhq6seIX2y",
        "outputId": "3c8ab890-7df8-4b5a-ebb8-e8e5b7f807ca"
      },
      "execution_count": null,
      "outputs": [
        {
          "output_type": "execute_result",
          "data": {
            "text/plain": [
              "{'penalty': 'elasticnet',\n",
              " 'loss': 'squared_hinge',\n",
              " 'learning_rate': 'optimal',\n",
              " 'eta0': 10,\n",
              " 'alpha': 100}"
            ]
          },
          "metadata": {},
          "execution_count": 281
        }
      ]
    },
    {
      "cell_type": "code",
      "source": [
        "np.random.seed(42)\n",
        "sgd1=SGDClassifier(penalty='l2',\n",
        " loss = 'hinge',\n",
        " learning_rate = 'optimal',\n",
        " eta0 = 100,\n",
        " alpha = 1000)"
      ],
      "metadata": {
        "id": "FWpAvfqxIfCx"
      },
      "execution_count": null,
      "outputs": []
    },
    {
      "cell_type": "code",
      "source": [
        "sgd1.fit(X_train.drop(corr_features,axis=1),y_train)"
      ],
      "metadata": {
        "colab": {
          "base_uri": "https://localhost:8080/"
        },
        "id": "rAY6QCtnJy4F",
        "outputId": "0a123902-3524-40e7-f6b0-920123ec9670"
      },
      "execution_count": null,
      "outputs": [
        {
          "output_type": "execute_result",
          "data": {
            "text/plain": [
              "SGDClassifier(alpha=1000, eta0=100)"
            ]
          },
          "metadata": {},
          "execution_count": 283
        }
      ]
    },
    {
      "cell_type": "code",
      "source": [
        "sgd1.score(X_test.drop(corr_features,axis=1),y_test)"
      ],
      "metadata": {
        "colab": {
          "base_uri": "https://localhost:8080/"
        },
        "id": "_N4g1oaLKZDQ",
        "outputId": "c150547c-498b-4f3f-e2f8-d1c30d0ac25b"
      },
      "execution_count": null,
      "outputs": [
        {
          "output_type": "execute_result",
          "data": {
            "text/plain": [
              "0.7435897435897436"
            ]
          },
          "metadata": {},
          "execution_count": 284
        }
      ]
    },
    {
      "cell_type": "markdown",
      "source": [
        "After Tuned Stochastic Gradient Descent and got best score as **0.74** as **same** as before tuning."
      ],
      "metadata": {
        "id": "LYuTPnfkLSYM"
      }
    },
    {
      "cell_type": "markdown",
      "source": [
        "## Random Forest Classification"
      ],
      "metadata": {
        "id": "eoaWPu_C9Ev_"
      }
    },
    {
      "cell_type": "code",
      "source": [
        "n_estimators=[int(x) for x in np.linspace(start=200,stop=2000,num=10)]\n",
        "n_estimators"
      ],
      "metadata": {
        "colab": {
          "base_uri": "https://localhost:8080/"
        },
        "id": "tEQIcKbj_Rrh",
        "outputId": "b7d03111-54a8-426a-bb16-e46157131ec5"
      },
      "execution_count": null,
      "outputs": [
        {
          "output_type": "execute_result",
          "data": {
            "text/plain": [
              "[200, 400, 600, 800, 1000, 1200, 1400, 1600, 1800, 2000]"
            ]
          },
          "metadata": {},
          "execution_count": 285
        }
      ]
    },
    {
      "cell_type": "code",
      "source": [
        "n_estimators = [int(x) for x in np.linspace(start=200, stop=2000, num=10)]\n",
        "max_features = ['auto', 'sqrt']\n",
        "max_depth = [int(x) for x in np.linspace(10, 110, num=11)]\n",
        "max_depth.append(None)\n",
        "min_samples_split = list(range(1,11))\n",
        "min_samples_leaf = list(range(1,11))\n",
        "bootstrap = [True, False] \n",
        "\n",
        "    \n",
        "params={\n",
        "  'n_estimators': n_estimators, 'max_features': max_features,\n",
        "               'max_depth': max_depth, 'min_samples_split': min_samples_split,\n",
        "               'min_samples_leaf': min_samples_leaf, 'bootstrap': bootstrap\n",
        "     \n",
        "}\n"
      ],
      "metadata": {
        "id": "nHZt68zh3EdZ"
      },
      "execution_count": null,
      "outputs": []
    },
    {
      "cell_type": "code",
      "source": [
        "np.random.seed(42)\n",
        "RC1=RandomForestClassifier()"
      ],
      "metadata": {
        "id": "0QJBbXmC_pet"
      },
      "execution_count": null,
      "outputs": []
    },
    {
      "cell_type": "markdown",
      "source": [
        "So now rather than doing hyperparamer tuning by hand or manully let's use `RandomizedSearchCV`"
      ],
      "metadata": {
        "id": "SrnN3pkGAv7Q"
      }
    },
    {
      "cell_type": "code",
      "source": [
        "RS=RandomizedSearchCV(estimator=RC1, scoring='f1',param_distributions=params, n_iter=100, cv=3, \n",
        "                               verbose=3, random_state=42, n_jobs=-1)\n",
        "\n",
        "RS.fit(X_train.drop(corr_features,axis=1),y_train)"
      ],
      "metadata": {
        "colab": {
          "base_uri": "https://localhost:8080/"
        },
        "id": "Ew05BKAX_02N",
        "outputId": "4336a3dc-5ce8-4717-afcd-b69279c6da55"
      },
      "execution_count": null,
      "outputs": [
        {
          "output_type": "stream",
          "name": "stdout",
          "text": [
            "Fitting 3 folds for each of 100 candidates, totalling 300 fits\n"
          ]
        },
        {
          "output_type": "execute_result",
          "data": {
            "text/plain": [
              "RandomizedSearchCV(cv=3, estimator=RandomForestClassifier(), n_iter=100,\n",
              "                   n_jobs=-1,\n",
              "                   param_distributions={'bootstrap': [True, False],\n",
              "                                        'max_depth': [10, 20, 30, 40, 50, 60,\n",
              "                                                      70, 80, 90, 100, 110,\n",
              "                                                      None],\n",
              "                                        'max_features': ['auto', 'sqrt'],\n",
              "                                        'min_samples_leaf': [1, 2, 3, 4, 5, 6,\n",
              "                                                             7, 8, 9, 10],\n",
              "                                        'min_samples_split': [1, 2, 3, 4, 5, 6,\n",
              "                                                              7, 8, 9, 10],\n",
              "                                        'n_estimators': [200, 400, 600, 800,\n",
              "                                                         1000, 1200, 1400, 1600,\n",
              "                                                         1800, 2000]},\n",
              "                   random_state=42, scoring='f1', verbose=3)"
            ]
          },
          "metadata": {},
          "execution_count": 288
        }
      ]
    },
    {
      "cell_type": "code",
      "source": [
        "RS.best_estimator_"
      ],
      "metadata": {
        "id": "7L9EobeXCU6Y",
        "colab": {
          "base_uri": "https://localhost:8080/"
        },
        "outputId": "40d98d75-eb50-49b8-bac0-84a3836914dd"
      },
      "execution_count": null,
      "outputs": [
        {
          "output_type": "execute_result",
          "data": {
            "text/plain": [
              "RandomForestClassifier(max_depth=100, max_features='sqrt', min_samples_leaf=8,\n",
              "                       min_samples_split=7, n_estimators=2000)"
            ]
          },
          "metadata": {},
          "execution_count": 289
        }
      ]
    },
    {
      "cell_type": "code",
      "source": [
        "best_params=RS.best_params_ #best_params\n"
      ],
      "metadata": {
        "id": "hir9kCBoCc-Z"
      },
      "execution_count": null,
      "outputs": []
    },
    {
      "cell_type": "code",
      "source": [
        "best_params"
      ],
      "metadata": {
        "colab": {
          "base_uri": "https://localhost:8080/"
        },
        "id": "qsCaDNsXLkvT",
        "outputId": "ca3743a0-4119-4c56-c3cc-8ea525ccb712"
      },
      "execution_count": null,
      "outputs": [
        {
          "output_type": "execute_result",
          "data": {
            "text/plain": [
              "{'n_estimators': 2000,\n",
              " 'min_samples_split': 7,\n",
              " 'min_samples_leaf': 8,\n",
              " 'max_features': 'sqrt',\n",
              " 'max_depth': 100,\n",
              " 'bootstrap': True}"
            ]
          },
          "metadata": {},
          "execution_count": 291
        }
      ]
    },
    {
      "cell_type": "code",
      "source": [
        "np.random.seed(42)\n",
        "model_RC=RandomForestClassifier(max_features='sqrt', min_samples_leaf=7,\n",
        "                       min_samples_split=7, n_estimators=600, bootstrap= True) #fit with best_params\n",
        "model_RC.fit(X_train.drop(corr_features,axis=1), y_train)"
      ],
      "metadata": {
        "id": "NPBLXUEkCi3N",
        "colab": {
          "base_uri": "https://localhost:8080/"
        },
        "outputId": "7622b3ff-9dad-4741-b9d3-34bf5c51d0ff"
      },
      "execution_count": null,
      "outputs": [
        {
          "output_type": "execute_result",
          "data": {
            "text/plain": [
              "RandomForestClassifier(max_features='sqrt', min_samples_leaf=7,\n",
              "                       min_samples_split=7, n_estimators=600)"
            ]
          },
          "metadata": {},
          "execution_count": 292
        }
      ]
    },
    {
      "cell_type": "code",
      "source": [
        "model_RC.score(X_test.drop(corr_features,axis=1),y_test)"
      ],
      "metadata": {
        "id": "4fZLlDloC_ig",
        "colab": {
          "base_uri": "https://localhost:8080/"
        },
        "outputId": "b0060d52-3707-4345-8243-f73121c2c273"
      },
      "execution_count": null,
      "outputs": [
        {
          "output_type": "execute_result",
          "data": {
            "text/plain": [
              "0.7606837606837606"
            ]
          },
          "metadata": {},
          "execution_count": 293
        }
      ]
    },
    {
      "cell_type": "markdown",
      "source": [
        "After Random Forest Classification Tuned and got best score as **0.76** as **same** as before tuning."
      ],
      "metadata": {
        "id": "k6P_jTp19uoh"
      }
    },
    {
      "cell_type": "markdown",
      "source": [
        "## Support Vector Classification"
      ],
      "metadata": {
        "id": "PwiUxLh2-Y38"
      }
    },
    {
      "cell_type": "code",
      "source": [
        "#Hyper params\n",
        "params={'C':[0.1,0.2,1,10,100,1000,10000,100000],\n",
        "         'gamma':[0.1,0.01,0.001,0.0001,0.00001]}"
      ],
      "metadata": {
        "id": "zZl3Gx2hGa9m"
      },
      "execution_count": null,
      "outputs": []
    },
    {
      "cell_type": "markdown",
      "source": [
        "So now rather than doing hyperparamer tuning by hand or manully let's use `GridSearchCV`"
      ],
      "metadata": {
        "id": "UkfP7SpqA04B"
      }
    },
    {
      "cell_type": "code",
      "source": [
        "#GridSearchCV\n",
        "\n",
        "svc_grid=GridSearchCV(SVC(random_state=42),params,scoring='f1',\n",
        "    n_jobs=-1,\n",
        "    refit=True,\n",
        "    verbose=3,                  \n",
        "    cv=3)\n",
        "svc_grid.fit(X_train.drop(corr_features,axis=1), y_train)"
      ],
      "metadata": {
        "id": "A9SqNGdxGgiu",
        "colab": {
          "base_uri": "https://localhost:8080/"
        },
        "outputId": "17939651-042a-433c-9ad1-116f0492e3cb"
      },
      "execution_count": null,
      "outputs": [
        {
          "output_type": "stream",
          "name": "stdout",
          "text": [
            "Fitting 3 folds for each of 40 candidates, totalling 120 fits\n"
          ]
        },
        {
          "output_type": "execute_result",
          "data": {
            "text/plain": [
              "GridSearchCV(cv=3, estimator=SVC(random_state=42), n_jobs=-1,\n",
              "             param_grid={'C': [0.1, 0.2, 1, 10, 100, 1000, 10000, 100000],\n",
              "                         'gamma': [0.1, 0.01, 0.001, 0.0001, 1e-05]},\n",
              "             scoring='f1', verbose=3)"
            ]
          },
          "metadata": {},
          "execution_count": 295
        }
      ]
    },
    {
      "cell_type": "code",
      "source": [
        "svc_grid.best_estimator_ "
      ],
      "metadata": {
        "id": "YAx5ufDbHKS9",
        "colab": {
          "base_uri": "https://localhost:8080/"
        },
        "outputId": "50bf79ef-82f6-4ec5-fc06-a31a1fa418e1"
      },
      "execution_count": null,
      "outputs": [
        {
          "output_type": "execute_result",
          "data": {
            "text/plain": [
              "SVC(C=1, gamma=0.1, random_state=42)"
            ]
          },
          "metadata": {},
          "execution_count": 296
        }
      ]
    },
    {
      "cell_type": "code",
      "source": [
        "best_params=svc_grid.best_params_ #best_params\n",
        "best_params"
      ],
      "metadata": {
        "id": "Nw-GLlUyHSfg",
        "colab": {
          "base_uri": "https://localhost:8080/"
        },
        "outputId": "45fa397f-6914-4f80-ae8b-d2f6f5b54c43"
      },
      "execution_count": null,
      "outputs": [
        {
          "output_type": "execute_result",
          "data": {
            "text/plain": [
              "{'C': 1, 'gamma': 0.1}"
            ]
          },
          "metadata": {},
          "execution_count": 297
        }
      ]
    },
    {
      "cell_type": "code",
      "source": [
        "svc_best_params=SVC(C=1, gamma=0.1, random_state=42,verbose=3)"
      ],
      "metadata": {
        "id": "7jWivoUkHu5l"
      },
      "execution_count": null,
      "outputs": []
    },
    {
      "cell_type": "code",
      "source": [
        "svc_best_params"
      ],
      "metadata": {
        "id": "-WKDZoTtINpz",
        "colab": {
          "base_uri": "https://localhost:8080/"
        },
        "outputId": "34d13eb9-9c7f-46cd-d8dd-421ebeff62aa"
      },
      "execution_count": null,
      "outputs": [
        {
          "output_type": "execute_result",
          "data": {
            "text/plain": [
              "SVC(C=0.1, gamma=0.1, random_state=42, verbose=3)"
            ]
          },
          "metadata": {},
          "execution_count": 299
        }
      ]
    },
    {
      "cell_type": "code",
      "source": [
        "svc_best_params.fit(X_train.drop(corr_features,axis=1), y_train)"
      ],
      "metadata": {
        "id": "DNkFCftkIopI",
        "colab": {
          "base_uri": "https://localhost:8080/"
        },
        "outputId": "735792b9-9c98-47b5-9ed0-fcce64069b94"
      },
      "execution_count": null,
      "outputs": [
        {
          "output_type": "stream",
          "name": "stdout",
          "text": [
            "[LibSVM]"
          ]
        },
        {
          "output_type": "execute_result",
          "data": {
            "text/plain": [
              "SVC(C=0.1, gamma=0.1, random_state=42, verbose=3)"
            ]
          },
          "metadata": {},
          "execution_count": 300
        }
      ]
    },
    {
      "cell_type": "code",
      "source": [
        "svc_best_params.score(X_test.drop(corr_features,axis=1),y_test)"
      ],
      "metadata": {
        "id": "xRDJsYTrJjUw",
        "colab": {
          "base_uri": "https://localhost:8080/"
        },
        "outputId": "2a8af89b-f7bc-43f2-cf67-98130ae1d190"
      },
      "execution_count": null,
      "outputs": [
        {
          "output_type": "execute_result",
          "data": {
            "text/plain": [
              "0.7435897435897436"
            ]
          },
          "metadata": {},
          "execution_count": 301
        }
      ]
    },
    {
      "cell_type": "markdown",
      "source": [
        "Afte Tuned **SVC** and got **0.74** as same as before tuning."
      ],
      "metadata": {
        "id": "XDQURWn_-sOH"
      }
    },
    {
      "cell_type": "markdown",
      "source": [
        "## XGBOOST Classification"
      ],
      "metadata": {
        "id": "J3gwE1CL_LE3"
      }
    },
    {
      "cell_type": "code",
      "source": [
        "params_xg={\n",
        "    'gamma':[x for x in np.linspace(0,100,1000)],\n",
        "    'max_depth':[int(x) for x in range(1,11)],\n",
        "\n",
        "    'n_estimators':[int(x) for x in np.arange(1,200)],\n",
        "    'learning_rate':[0.01,0.02,0.03,0.05,0.1,0.2,0.300000012,0.4,0.5]\n",
        "}"
      ],
      "metadata": {
        "id": "MGFRNirhMsum"
      },
      "execution_count": null,
      "outputs": []
    },
    {
      "cell_type": "code",
      "source": [
        "XG=XGBClassifier(random_state=42)"
      ],
      "metadata": {
        "id": "XeOUFJBfOgMJ"
      },
      "execution_count": null,
      "outputs": []
    },
    {
      "cell_type": "markdown",
      "source": [
        "So now rather than doing hyperparamer tuning by hand or manully let's use `RandomizedSearchCV`"
      ],
      "metadata": {
        "id": "hoL6fzWwBD9u"
      }
    },
    {
      "cell_type": "code",
      "source": [
        "Xg_RS=RandomizedSearchCV(estimator=XG, scoring='f1',param_distributions=params_xg, n_iter=100, cv=3, \n",
        "                               verbose=3, random_state=42, n_jobs=-1)\n",
        "\n",
        "Xg_RS.fit(X_train.drop(corr_features,axis=1), y_train)"
      ],
      "metadata": {
        "id": "sEFmGaEWOl74",
        "colab": {
          "base_uri": "https://localhost:8080/"
        },
        "outputId": "9bde9175-6bf0-40cf-92cd-5d40958ed733"
      },
      "execution_count": null,
      "outputs": [
        {
          "output_type": "stream",
          "name": "stdout",
          "text": [
            "Fitting 3 folds for each of 100 candidates, totalling 300 fits\n"
          ]
        },
        {
          "output_type": "execute_result",
          "data": {
            "text/plain": [
              "RandomizedSearchCV(cv=3, estimator=XGBClassifier(random_state=42), n_iter=100,\n",
              "                   n_jobs=-1,\n",
              "                   param_distributions={'gamma': [0.0, 0.1001001001001001,\n",
              "                                                  0.2002002002002002,\n",
              "                                                  0.3003003003003003,\n",
              "                                                  0.4004004004004004,\n",
              "                                                  0.5005005005005005,\n",
              "                                                  0.6006006006006006,\n",
              "                                                  0.7007007007007008,\n",
              "                                                  0.8008008008008008,\n",
              "                                                  0.9009009009009009,\n",
              "                                                  1.001001001001001,\n",
              "                                                  1.1011011011011012,\n",
              "                                                  1.2012012012012012,\n",
              "                                                  1.3...\n",
              "                                                  2.4024024024024024,\n",
              "                                                  2.5025025025025025,\n",
              "                                                  2.6026026026026026,\n",
              "                                                  2.702702702702703,\n",
              "                                                  2.802802802802803,\n",
              "                                                  2.902902902902903, ...],\n",
              "                                        'learning_rate': [0.01, 0.02, 0.03,\n",
              "                                                          0.05, 0.1, 0.2,\n",
              "                                                          0.300000012, 0.4,\n",
              "                                                          0.5],\n",
              "                                        'max_depth': [1, 2, 3, 4, 5, 6, 7, 8, 9,\n",
              "                                                      10],\n",
              "                                        'n_estimators': [1, 2, 3, 4, 5, 6, 7, 8,\n",
              "                                                         9, 10, 11, 12, 13, 14,\n",
              "                                                         15, 16, 17, 18, 19, 20,\n",
              "                                                         21, 22, 23, 24, 25, 26,\n",
              "                                                         27, 28, 29, 30, ...]},\n",
              "                   random_state=42, scoring='f1', verbose=3)"
            ]
          },
          "metadata": {},
          "execution_count": 304
        }
      ]
    },
    {
      "cell_type": "code",
      "source": [
        "Xg_RS.best_estimator_ #best_estimator"
      ],
      "metadata": {
        "id": "5vxkmHwzPDjI",
        "colab": {
          "base_uri": "https://localhost:8080/"
        },
        "outputId": "628f3763-0e9c-488a-c983-290a6d2f0fc8"
      },
      "execution_count": null,
      "outputs": [
        {
          "output_type": "execute_result",
          "data": {
            "text/plain": [
              "XGBClassifier(gamma=89.8898898898899, learning_rate=0.2, max_depth=7,\n",
              "              n_estimators=155, random_state=42)"
            ]
          },
          "metadata": {},
          "execution_count": 305
        }
      ]
    },
    {
      "cell_type": "code",
      "source": [
        "best_params_xg=Xg_RS.best_params_ #best_params\n",
        "best_params_xg"
      ],
      "metadata": {
        "id": "S50uD4MYPowF",
        "colab": {
          "base_uri": "https://localhost:8080/"
        },
        "outputId": "f98083b9-0c25-4611-a026-7363dbe01312"
      },
      "execution_count": null,
      "outputs": [
        {
          "output_type": "execute_result",
          "data": {
            "text/plain": [
              "{'n_estimators': 155,\n",
              " 'max_depth': 7,\n",
              " 'learning_rate': 0.2,\n",
              " 'gamma': 89.8898898898899}"
            ]
          },
          "metadata": {},
          "execution_count": 306
        }
      ]
    },
    {
      "cell_type": "code",
      "source": [
        "xg_boost=XGBClassifier(gamma=89.8898898898899, learning_rate=0.2, max_depth=7,\n",
        "              n_estimators=155, random_state=42)\n",
        "xg_boost.fit(X_train.drop(corr_features,axis=1), y_train) #fit"
      ],
      "metadata": {
        "id": "0KYHGjWVPuu9",
        "colab": {
          "base_uri": "https://localhost:8080/"
        },
        "outputId": "dcd6dace-d4b0-4fca-c2e4-5a4f516c01be"
      },
      "execution_count": null,
      "outputs": [
        {
          "output_type": "execute_result",
          "data": {
            "text/plain": [
              "XGBClassifier(gamma=89.8898898898899, learning_rate=0.2, max_depth=7,\n",
              "              n_estimators=155, random_state=42)"
            ]
          },
          "metadata": {},
          "execution_count": 307
        }
      ]
    },
    {
      "cell_type": "code",
      "source": [
        "xg_boost.score(X_test.drop(corr_features,axis=1),y_test)"
      ],
      "metadata": {
        "id": "VeZMnOFgQw6m",
        "colab": {
          "base_uri": "https://localhost:8080/"
        },
        "outputId": "17d051dc-be97-4c69-f095-0ce9dc87f7d9"
      },
      "execution_count": null,
      "outputs": [
        {
          "output_type": "execute_result",
          "data": {
            "text/plain": [
              "0.7435897435897436"
            ]
          },
          "metadata": {},
          "execution_count": 308
        }
      ]
    },
    {
      "cell_type": "markdown",
      "source": [
        "After Tuned XGBPOOOST Classifier and got best score as **0.74** as slightly less than before tunning"
      ],
      "metadata": {
        "id": "XNhEsFnw_YAf"
      }
    },
    {
      "cell_type": "markdown",
      "source": [
        "RESULT: "
      ],
      "metadata": {
        "id": "9t0h1d4pct6F"
      }
    },
    {
      "cell_type": "markdown",
      "source": [
        "Lets tabulate the different models and their accuracies , compare them and to find **Best fit model.**"
      ],
      "metadata": {
        "id": "d4o1flKYhSSt"
      }
    },
    {
      "cell_type": "code",
      "source": [
        "#pip install tabulate"
      ],
      "metadata": {
        "id": "MUDOm2ObcL9c"
      },
      "execution_count": null,
      "outputs": []
    },
    {
      "cell_type": "code",
      "source": [
        "from tabulate import tabulate"
      ],
      "metadata": {
        "id": "qhm2fr0kcVbW"
      },
      "execution_count": null,
      "outputs": []
    },
    {
      "cell_type": "code",
      "source": [
        "table =[['RESULT:'],['MACHINE LEARNING MODEL', 'ACCURACY'],['Logistic Regression','0.76'],['K-Nearest Neibour','0.72'],['Random Forest','0.76'],['Support Vector Classifier','0.74'],['XGBoost','0.74'],['Stochastic Gradient Descent','0.74']]"
      ],
      "metadata": {
        "id": "elVNwAgwccx8"
      },
      "execution_count": null,
      "outputs": []
    },
    {
      "cell_type": "code",
      "source": [
        "print(tabulate(table))"
      ],
      "metadata": {
        "colab": {
          "base_uri": "https://localhost:8080/"
        },
        "id": "wRedsa4RclSp",
        "outputId": "5ac458b5-f6c8-4a64-c2bd-85f579c14e1b"
      },
      "execution_count": null,
      "outputs": [
        {
          "output_type": "stream",
          "name": "stdout",
          "text": [
            "---------------------------  --------\n",
            "RESULT:\n",
            "MACHINE LEARNING MODEL       ACCURACY\n",
            "Logistic Regression          0.76\n",
            "K-Nearest Neibour            0.72\n",
            "Random Forest                0.76\n",
            "Support Vector Classifier    0.74\n",
            "XGBoost                      0.74\n",
            "Stochastic Gradient Descent  0.74\n",
            "---------------------------  --------\n"
          ]
        }
      ]
    },
    {
      "cell_type": "markdown",
      "source": [
        "# Conclusion"
      ],
      "metadata": {
        "id": "b3QodK0YNpYK"
      }
    },
    {
      "cell_type": "markdown",
      "source": [
        "  * From the above result table, we can see that ML model **Logistic Regression** and **Random Forest**  gives a good accuracy of `76%`.\n",
        "  * **SVC**, **SGD** and **SGD** with `74%` accuracy.\n",
        "  * **KNN Model** gives a less accuracy of `72%` as compared to other models.\n",
        "\n",
        "  Thus we conclude that our model(**Logistic Regression** and **RandomForest Classifier**) performed with an **accuracy of 76%**, which is the best fit model for Liver Patient Prediction.\n"
      ],
      "metadata": {
        "id": "PQLN4t6wWAhN"
      }
    }
  ]
}