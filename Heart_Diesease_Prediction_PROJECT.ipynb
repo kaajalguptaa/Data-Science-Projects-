{
  "cells": [
    {
      "cell_type": "markdown",
      "metadata": {
        "id": "view-in-github",
        "colab_type": "text"
      },
      "source": [
        "<a href=\"https://colab.research.google.com/github/kaajalguptaa/Earthquake/blob/main/Heart_Diesease_Prediction_PROJECT.ipynb\" target=\"_parent\"><img src=\"https://colab.research.google.com/assets/colab-badge.svg\" alt=\"Open In Colab\"/></a>"
      ]
    },
    {
      "cell_type": "markdown",
      "metadata": {
        "id": "0mX-U1DB7Mmj"
      },
      "source": [
        "# **PREDICTING HEART DISEASE**\n",
        "\n",
        "\n",
        "Heart disease is the number one cause of death worldwide, so if you're looking to use data science for good you've come to the right place. To learn how to prevent heart disease we must first learn to reliably detect it.\n",
        "Our dataset is from a study of heart disease that has been open to the public for many years. The study collects various measurements on patient health and cardiovascular statistics, and of course makes patient identities anonymous.\n",
        "\n",
        " \n",
        "**OVERVIEW :**\n",
        "\n",
        "* Preventing heart disease is important. Good data-driven systems for predicting heart disease can improve the entire research and prevention process, making sure that more people can live healthy lives.\n",
        "\n",
        "* In the United States, the Centers for Disease Control and Prevention is a good resource for information about heart disease.\n",
        "\n",
        "* \tAbout 610,000 people die of heart disease in the United States every year–that’s 1 in every 4 deaths, according to their website.\n",
        "\n",
        "* Heart disease is the leading cause of death for both men and women. More than half of the deaths due to heart disease in 2009 were in men.\n",
        "\n",
        "* Coronary heart disease (CHD) is the most common type of heart disease, killing over 370,000 people annually.\n",
        "\n",
        "* Every year about 735,000 Americans have a heart attack. Of these, 525,000 are a first heart attack and 210,000 happen in people who have already had a heart attack.\n",
        "\n",
        "* Heart disease is the leading cause of death for people of most ethnicities in the United States, including African Americans, Hispanics, and whites. \n",
        "\n",
        "* For American Indians or Alaska Natives and Asians or Pacific Islanders, heart disease is second only to cancer.\n",
        "\n",
        "**PROBLEM DESCRIPTION**\n",
        " \n",
        "To predict the heart_disease_present(binary class), which represents whether patient has heart disease or not.\n",
        "\n",
        "**FEATURES**\n",
        "* **heart_disease_present** - patient with heart disease\n",
        " * Type - Binary\n",
        "   * 0 - no heart disease present\n",
        "   * 1 - heart disease present\n",
        "\n",
        "There are 14 columns in the dataset, \n",
        "\n",
        "* **patient_id column** - unique and random identifier\n",
        "\n",
        "The remaining 13 features are described in the section below,\n",
        "\n",
        "*\t**slope_of_peak_exercise_st_segment** - slope of quality of blood flow to the heart\n",
        " * Type - Integer\n",
        "         * 1 - flat\n",
        "         * 2 - upslope\n",
        "         * 3 - downslope\n",
        "\n",
        "* **thal** - Thallium stress test measuring blood flow to the heart\n",
        " * Type - categorical\n",
        "   * normal\n",
        "   * fixed_effect\n",
        "   * reversible_effect\n",
        "\n",
        "*\t**resting_blood_pressure** - resting blood pressure\n",
        " * Type - Integer\n",
        "\n",
        "* **chest_pain_type** - chest pain type (4 values)\n",
        " * Type - Interger\n",
        "     * 1\n",
        "     * 2\n",
        "     * 3\n",
        "     * 4\n",
        "\n",
        "\n",
        "* **num_major_vessels** - number of major vessels (0-3) colored by flourosopy\n",
        " * Type - Interger\n",
        "   * 0 - Arota \n",
        "   * 1 - vena cava\n",
        "   * 2 - pulmonary artery \n",
        "   * 3 - pulmonary vien \n",
        "\n",
        "* **fasting_blood_sugar_gt_120_mg_per_dl** - fasting blood sugar > 120 mg/dl\n",
        " * Type - Binary\n",
        "   * 0 - blood sugar range that will not affect heart (< 120 mg/dl)\n",
        "   * 1 - blood sugar range that will affect heart (> 120 mg/dl)\n",
        "\n",
        "* **resting_ekg_results** - resting electrocardiographic results\n",
        "  * Type - Integer\n",
        "    * 0 - normal\n",
        "    * 1 - has ST-T (preclinical cardiac involement)\n",
        "    * 2 - hypertrophy (maximum heart rate) \n",
        "\n",
        "* **serum_cholesterol_mg_per_dl** - serum cholestoral in mg/dl\n",
        "  * Type - Integer\n",
        "\n",
        "\n",
        "* **oldpeak_eq_st_depression** - oldpeak = ST depression induced by exercise relative to rest, a measure of abnormality in electrocardiograms\n",
        " * Type - Float\n",
        "\n",
        "* **sex** \n",
        " * Type - binary\n",
        "   * 0 - female\n",
        "   * 1 - male\n",
        "\n",
        "* **age** - Age in years\n",
        " \n",
        "  * Type - Integer\n",
        "\n",
        "* **max_heart_rate_achieved** -  maximum heart rate achieved \n",
        " * Type - Integer (Beats per minute)\n",
        "\n",
        "* **exercise_induced_angina** - pain in the chest that comes on with exercise, stress, or other things that make the heart work harder. \n",
        " *  Type- Binary\n",
        "       \n",
        "       * 0 - No chest pain\n",
        "\n",
        "       * 1 - chest pain\n",
        " "
      ]
    },
    {
      "cell_type": "markdown",
      "metadata": {
        "id": "GoZVYVrw-E2D"
      },
      "source": [
        "**PREPARING THE TOOLS**"
      ]
    },
    {
      "cell_type": "code",
      "execution_count": null,
      "metadata": {
        "id": "VvJxDXTjLN82"
      },
      "outputs": [],
      "source": [
        "# Import all the tools we need\n",
        "\n",
        "# Regular EDA(Exploratory data analysis) and plotting libraries\n",
        "import numpy as np\n",
        "import pandas as pd\n",
        "import matplotlib.pyplot as plt\n",
        "import seaborn as sns\n",
        "import scipy as sp\n",
        "from scipy import stats \n",
        "\n",
        "# plots to appear inside the notebook \n",
        "%matplotlib inline \n",
        "\n",
        "# Models from Scikit-Learn\n",
        "from sklearn.linear_model import LogisticRegression\n",
        "from sklearn.neighbors import KNeighborsClassifier\n",
        "from sklearn.ensemble import RandomForestClassifier\n",
        "from sklearn.linear_model import LogisticRegression\n",
        "from sklearn.svm import SVC\n",
        "from sklearn.tree import DecisionTreeClassifier\n",
        "from sklearn.linear_model import SGDClassifier\n",
        "from xgboost import  XGBClassifier\n",
        "import matplotlib.pyplot as plt\n",
        "from sklearn.model_selection import train_test_split,GridSearchCV,RandomizedSearchCV\n",
        "# Model Evaluation\n",
        "from sklearn.model_selection import train_test_split, cross_val_score\n",
        "from sklearn.model_selection import RandomizedSearchCV, GridSearchCV\n",
        "from sklearn.metrics import confusion_matrix, classification_report\n",
        "from sklearn.metrics import precision_score, recall_score,f1_score\n",
        "from sklearn.metrics import plot_roc_curve\n",
        "#import sweetviz as sv\n",
        "\n",
        "# To ignore warnings \n",
        "import warnings \n",
        "warnings.filterwarnings('ignore')"
      ]
    },
    {
      "cell_type": "code",
      "execution_count": null,
      "metadata": {
        "id": "xENH_6BG7LXJ"
      },
      "outputs": [],
      "source": [
        "X = pd.read_csv(\"https://raw.githubusercontent.com/21Ovi/DataScience-DataSets/main/PRCP-1016-HeartDieseasePred/Data/values.csv\")\n",
        "Y = pd.read_csv(\"https://raw.githubusercontent.com/21Ovi/DataScience-DataSets/main/PRCP-1016-HeartDieseasePred/Data/labels.csv\")"
      ]
    },
    {
      "cell_type": "code",
      "execution_count": null,
      "metadata": {
        "colab": {
          "base_uri": "https://localhost:8080/",
          "height": 270
        },
        "id": "tCeaIdW07vm_",
        "outputId": "66249752-8892-45c4-d27e-46832bb5bd1e"
      },
      "outputs": [
        {
          "output_type": "execute_result",
          "data": {
            "text/plain": [
              "  patient_id  slope_of_peak_exercise_st_segment               thal  \\\n",
              "0     0z64un                                  1             normal   \n",
              "1     ryoo3j                                  2             normal   \n",
              "2     yt1s1x                                  1             normal   \n",
              "3     l2xjde                                  1  reversible_defect   \n",
              "4     oyt4ek                                  3  reversible_defect   \n",
              "\n",
              "   resting_blood_pressure  chest_pain_type  num_major_vessels  \\\n",
              "0                     128                2                  0   \n",
              "1                     110                3                  0   \n",
              "2                     125                4                  3   \n",
              "3                     152                4                  0   \n",
              "4                     178                1                  0   \n",
              "\n",
              "   fasting_blood_sugar_gt_120_mg_per_dl  resting_ekg_results  \\\n",
              "0                                     0                    2   \n",
              "1                                     0                    0   \n",
              "2                                     0                    2   \n",
              "3                                     0                    0   \n",
              "4                                     0                    2   \n",
              "\n",
              "   serum_cholesterol_mg_per_dl  oldpeak_eq_st_depression  sex  age  \\\n",
              "0                          308                       0.0    1   45   \n",
              "1                          214                       1.6    0   54   \n",
              "2                          304                       0.0    1   77   \n",
              "3                          223                       0.0    1   40   \n",
              "4                          270                       4.2    1   59   \n",
              "\n",
              "   max_heart_rate_achieved  exercise_induced_angina  \n",
              "0                      170                        0  \n",
              "1                      158                        0  \n",
              "2                      162                        1  \n",
              "3                      181                        0  \n",
              "4                      145                        0  "
            ],
            "text/html": [
              "\n",
              "  <div id=\"df-a9def92c-9803-43b7-9f3d-b0638292dcb7\">\n",
              "    <div class=\"colab-df-container\">\n",
              "      <div>\n",
              "<style scoped>\n",
              "    .dataframe tbody tr th:only-of-type {\n",
              "        vertical-align: middle;\n",
              "    }\n",
              "\n",
              "    .dataframe tbody tr th {\n",
              "        vertical-align: top;\n",
              "    }\n",
              "\n",
              "    .dataframe thead th {\n",
              "        text-align: right;\n",
              "    }\n",
              "</style>\n",
              "<table border=\"1\" class=\"dataframe\">\n",
              "  <thead>\n",
              "    <tr style=\"text-align: right;\">\n",
              "      <th></th>\n",
              "      <th>patient_id</th>\n",
              "      <th>slope_of_peak_exercise_st_segment</th>\n",
              "      <th>thal</th>\n",
              "      <th>resting_blood_pressure</th>\n",
              "      <th>chest_pain_type</th>\n",
              "      <th>num_major_vessels</th>\n",
              "      <th>fasting_blood_sugar_gt_120_mg_per_dl</th>\n",
              "      <th>resting_ekg_results</th>\n",
              "      <th>serum_cholesterol_mg_per_dl</th>\n",
              "      <th>oldpeak_eq_st_depression</th>\n",
              "      <th>sex</th>\n",
              "      <th>age</th>\n",
              "      <th>max_heart_rate_achieved</th>\n",
              "      <th>exercise_induced_angina</th>\n",
              "    </tr>\n",
              "  </thead>\n",
              "  <tbody>\n",
              "    <tr>\n",
              "      <th>0</th>\n",
              "      <td>0z64un</td>\n",
              "      <td>1</td>\n",
              "      <td>normal</td>\n",
              "      <td>128</td>\n",
              "      <td>2</td>\n",
              "      <td>0</td>\n",
              "      <td>0</td>\n",
              "      <td>2</td>\n",
              "      <td>308</td>\n",
              "      <td>0.0</td>\n",
              "      <td>1</td>\n",
              "      <td>45</td>\n",
              "      <td>170</td>\n",
              "      <td>0</td>\n",
              "    </tr>\n",
              "    <tr>\n",
              "      <th>1</th>\n",
              "      <td>ryoo3j</td>\n",
              "      <td>2</td>\n",
              "      <td>normal</td>\n",
              "      <td>110</td>\n",
              "      <td>3</td>\n",
              "      <td>0</td>\n",
              "      <td>0</td>\n",
              "      <td>0</td>\n",
              "      <td>214</td>\n",
              "      <td>1.6</td>\n",
              "      <td>0</td>\n",
              "      <td>54</td>\n",
              "      <td>158</td>\n",
              "      <td>0</td>\n",
              "    </tr>\n",
              "    <tr>\n",
              "      <th>2</th>\n",
              "      <td>yt1s1x</td>\n",
              "      <td>1</td>\n",
              "      <td>normal</td>\n",
              "      <td>125</td>\n",
              "      <td>4</td>\n",
              "      <td>3</td>\n",
              "      <td>0</td>\n",
              "      <td>2</td>\n",
              "      <td>304</td>\n",
              "      <td>0.0</td>\n",
              "      <td>1</td>\n",
              "      <td>77</td>\n",
              "      <td>162</td>\n",
              "      <td>1</td>\n",
              "    </tr>\n",
              "    <tr>\n",
              "      <th>3</th>\n",
              "      <td>l2xjde</td>\n",
              "      <td>1</td>\n",
              "      <td>reversible_defect</td>\n",
              "      <td>152</td>\n",
              "      <td>4</td>\n",
              "      <td>0</td>\n",
              "      <td>0</td>\n",
              "      <td>0</td>\n",
              "      <td>223</td>\n",
              "      <td>0.0</td>\n",
              "      <td>1</td>\n",
              "      <td>40</td>\n",
              "      <td>181</td>\n",
              "      <td>0</td>\n",
              "    </tr>\n",
              "    <tr>\n",
              "      <th>4</th>\n",
              "      <td>oyt4ek</td>\n",
              "      <td>3</td>\n",
              "      <td>reversible_defect</td>\n",
              "      <td>178</td>\n",
              "      <td>1</td>\n",
              "      <td>0</td>\n",
              "      <td>0</td>\n",
              "      <td>2</td>\n",
              "      <td>270</td>\n",
              "      <td>4.2</td>\n",
              "      <td>1</td>\n",
              "      <td>59</td>\n",
              "      <td>145</td>\n",
              "      <td>0</td>\n",
              "    </tr>\n",
              "  </tbody>\n",
              "</table>\n",
              "</div>\n",
              "      <button class=\"colab-df-convert\" onclick=\"convertToInteractive('df-a9def92c-9803-43b7-9f3d-b0638292dcb7')\"\n",
              "              title=\"Convert this dataframe to an interactive table.\"\n",
              "              style=\"display:none;\">\n",
              "        \n",
              "  <svg xmlns=\"http://www.w3.org/2000/svg\" height=\"24px\"viewBox=\"0 0 24 24\"\n",
              "       width=\"24px\">\n",
              "    <path d=\"M0 0h24v24H0V0z\" fill=\"none\"/>\n",
              "    <path d=\"M18.56 5.44l.94 2.06.94-2.06 2.06-.94-2.06-.94-.94-2.06-.94 2.06-2.06.94zm-11 1L8.5 8.5l.94-2.06 2.06-.94-2.06-.94L8.5 2.5l-.94 2.06-2.06.94zm10 10l.94 2.06.94-2.06 2.06-.94-2.06-.94-.94-2.06-.94 2.06-2.06.94z\"/><path d=\"M17.41 7.96l-1.37-1.37c-.4-.4-.92-.59-1.43-.59-.52 0-1.04.2-1.43.59L10.3 9.45l-7.72 7.72c-.78.78-.78 2.05 0 2.83L4 21.41c.39.39.9.59 1.41.59.51 0 1.02-.2 1.41-.59l7.78-7.78 2.81-2.81c.8-.78.8-2.07 0-2.86zM5.41 20L4 18.59l7.72-7.72 1.47 1.35L5.41 20z\"/>\n",
              "  </svg>\n",
              "      </button>\n",
              "      \n",
              "  <style>\n",
              "    .colab-df-container {\n",
              "      display:flex;\n",
              "      flex-wrap:wrap;\n",
              "      gap: 12px;\n",
              "    }\n",
              "\n",
              "    .colab-df-convert {\n",
              "      background-color: #E8F0FE;\n",
              "      border: none;\n",
              "      border-radius: 50%;\n",
              "      cursor: pointer;\n",
              "      display: none;\n",
              "      fill: #1967D2;\n",
              "      height: 32px;\n",
              "      padding: 0 0 0 0;\n",
              "      width: 32px;\n",
              "    }\n",
              "\n",
              "    .colab-df-convert:hover {\n",
              "      background-color: #E2EBFA;\n",
              "      box-shadow: 0px 1px 2px rgba(60, 64, 67, 0.3), 0px 1px 3px 1px rgba(60, 64, 67, 0.15);\n",
              "      fill: #174EA6;\n",
              "    }\n",
              "\n",
              "    [theme=dark] .colab-df-convert {\n",
              "      background-color: #3B4455;\n",
              "      fill: #D2E3FC;\n",
              "    }\n",
              "\n",
              "    [theme=dark] .colab-df-convert:hover {\n",
              "      background-color: #434B5C;\n",
              "      box-shadow: 0px 1px 3px 1px rgba(0, 0, 0, 0.15);\n",
              "      filter: drop-shadow(0px 1px 2px rgba(0, 0, 0, 0.3));\n",
              "      fill: #FFFFFF;\n",
              "    }\n",
              "  </style>\n",
              "\n",
              "      <script>\n",
              "        const buttonEl =\n",
              "          document.querySelector('#df-a9def92c-9803-43b7-9f3d-b0638292dcb7 button.colab-df-convert');\n",
              "        buttonEl.style.display =\n",
              "          google.colab.kernel.accessAllowed ? 'block' : 'none';\n",
              "\n",
              "        async function convertToInteractive(key) {\n",
              "          const element = document.querySelector('#df-a9def92c-9803-43b7-9f3d-b0638292dcb7');\n",
              "          const dataTable =\n",
              "            await google.colab.kernel.invokeFunction('convertToInteractive',\n",
              "                                                     [key], {});\n",
              "          if (!dataTable) return;\n",
              "\n",
              "          const docLinkHtml = 'Like what you see? Visit the ' +\n",
              "            '<a target=\"_blank\" href=https://colab.research.google.com/notebooks/data_table.ipynb>data table notebook</a>'\n",
              "            + ' to learn more about interactive tables.';\n",
              "          element.innerHTML = '';\n",
              "          dataTable['output_type'] = 'display_data';\n",
              "          await google.colab.output.renderOutput(dataTable, element);\n",
              "          const docLink = document.createElement('div');\n",
              "          docLink.innerHTML = docLinkHtml;\n",
              "          element.appendChild(docLink);\n",
              "        }\n",
              "      </script>\n",
              "    </div>\n",
              "  </div>\n",
              "  "
            ]
          },
          "metadata": {},
          "execution_count": 391
        }
      ],
      "source": [
        "X.head()"
      ]
    },
    {
      "cell_type": "code",
      "execution_count": null,
      "metadata": {
        "colab": {
          "base_uri": "https://localhost:8080/",
          "height": 206
        },
        "id": "6bqb--fC74Qq",
        "outputId": "1f25a55e-db5d-4ea7-95fb-2a5f05a65f04"
      },
      "outputs": [
        {
          "output_type": "execute_result",
          "data": {
            "text/plain": [
              "  patient_id  heart_disease_present\n",
              "0     0z64un                      0\n",
              "1     ryoo3j                      0\n",
              "2     yt1s1x                      1\n",
              "3     l2xjde                      1\n",
              "4     oyt4ek                      0"
            ],
            "text/html": [
              "\n",
              "  <div id=\"df-c018ad88-a31c-4ffd-a879-86abe539a87c\">\n",
              "    <div class=\"colab-df-container\">\n",
              "      <div>\n",
              "<style scoped>\n",
              "    .dataframe tbody tr th:only-of-type {\n",
              "        vertical-align: middle;\n",
              "    }\n",
              "\n",
              "    .dataframe tbody tr th {\n",
              "        vertical-align: top;\n",
              "    }\n",
              "\n",
              "    .dataframe thead th {\n",
              "        text-align: right;\n",
              "    }\n",
              "</style>\n",
              "<table border=\"1\" class=\"dataframe\">\n",
              "  <thead>\n",
              "    <tr style=\"text-align: right;\">\n",
              "      <th></th>\n",
              "      <th>patient_id</th>\n",
              "      <th>heart_disease_present</th>\n",
              "    </tr>\n",
              "  </thead>\n",
              "  <tbody>\n",
              "    <tr>\n",
              "      <th>0</th>\n",
              "      <td>0z64un</td>\n",
              "      <td>0</td>\n",
              "    </tr>\n",
              "    <tr>\n",
              "      <th>1</th>\n",
              "      <td>ryoo3j</td>\n",
              "      <td>0</td>\n",
              "    </tr>\n",
              "    <tr>\n",
              "      <th>2</th>\n",
              "      <td>yt1s1x</td>\n",
              "      <td>1</td>\n",
              "    </tr>\n",
              "    <tr>\n",
              "      <th>3</th>\n",
              "      <td>l2xjde</td>\n",
              "      <td>1</td>\n",
              "    </tr>\n",
              "    <tr>\n",
              "      <th>4</th>\n",
              "      <td>oyt4ek</td>\n",
              "      <td>0</td>\n",
              "    </tr>\n",
              "  </tbody>\n",
              "</table>\n",
              "</div>\n",
              "      <button class=\"colab-df-convert\" onclick=\"convertToInteractive('df-c018ad88-a31c-4ffd-a879-86abe539a87c')\"\n",
              "              title=\"Convert this dataframe to an interactive table.\"\n",
              "              style=\"display:none;\">\n",
              "        \n",
              "  <svg xmlns=\"http://www.w3.org/2000/svg\" height=\"24px\"viewBox=\"0 0 24 24\"\n",
              "       width=\"24px\">\n",
              "    <path d=\"M0 0h24v24H0V0z\" fill=\"none\"/>\n",
              "    <path d=\"M18.56 5.44l.94 2.06.94-2.06 2.06-.94-2.06-.94-.94-2.06-.94 2.06-2.06.94zm-11 1L8.5 8.5l.94-2.06 2.06-.94-2.06-.94L8.5 2.5l-.94 2.06-2.06.94zm10 10l.94 2.06.94-2.06 2.06-.94-2.06-.94-.94-2.06-.94 2.06-2.06.94z\"/><path d=\"M17.41 7.96l-1.37-1.37c-.4-.4-.92-.59-1.43-.59-.52 0-1.04.2-1.43.59L10.3 9.45l-7.72 7.72c-.78.78-.78 2.05 0 2.83L4 21.41c.39.39.9.59 1.41.59.51 0 1.02-.2 1.41-.59l7.78-7.78 2.81-2.81c.8-.78.8-2.07 0-2.86zM5.41 20L4 18.59l7.72-7.72 1.47 1.35L5.41 20z\"/>\n",
              "  </svg>\n",
              "      </button>\n",
              "      \n",
              "  <style>\n",
              "    .colab-df-container {\n",
              "      display:flex;\n",
              "      flex-wrap:wrap;\n",
              "      gap: 12px;\n",
              "    }\n",
              "\n",
              "    .colab-df-convert {\n",
              "      background-color: #E8F0FE;\n",
              "      border: none;\n",
              "      border-radius: 50%;\n",
              "      cursor: pointer;\n",
              "      display: none;\n",
              "      fill: #1967D2;\n",
              "      height: 32px;\n",
              "      padding: 0 0 0 0;\n",
              "      width: 32px;\n",
              "    }\n",
              "\n",
              "    .colab-df-convert:hover {\n",
              "      background-color: #E2EBFA;\n",
              "      box-shadow: 0px 1px 2px rgba(60, 64, 67, 0.3), 0px 1px 3px 1px rgba(60, 64, 67, 0.15);\n",
              "      fill: #174EA6;\n",
              "    }\n",
              "\n",
              "    [theme=dark] .colab-df-convert {\n",
              "      background-color: #3B4455;\n",
              "      fill: #D2E3FC;\n",
              "    }\n",
              "\n",
              "    [theme=dark] .colab-df-convert:hover {\n",
              "      background-color: #434B5C;\n",
              "      box-shadow: 0px 1px 3px 1px rgba(0, 0, 0, 0.15);\n",
              "      filter: drop-shadow(0px 1px 2px rgba(0, 0, 0, 0.3));\n",
              "      fill: #FFFFFF;\n",
              "    }\n",
              "  </style>\n",
              "\n",
              "      <script>\n",
              "        const buttonEl =\n",
              "          document.querySelector('#df-c018ad88-a31c-4ffd-a879-86abe539a87c button.colab-df-convert');\n",
              "        buttonEl.style.display =\n",
              "          google.colab.kernel.accessAllowed ? 'block' : 'none';\n",
              "\n",
              "        async function convertToInteractive(key) {\n",
              "          const element = document.querySelector('#df-c018ad88-a31c-4ffd-a879-86abe539a87c');\n",
              "          const dataTable =\n",
              "            await google.colab.kernel.invokeFunction('convertToInteractive',\n",
              "                                                     [key], {});\n",
              "          if (!dataTable) return;\n",
              "\n",
              "          const docLinkHtml = 'Like what you see? Visit the ' +\n",
              "            '<a target=\"_blank\" href=https://colab.research.google.com/notebooks/data_table.ipynb>data table notebook</a>'\n",
              "            + ' to learn more about interactive tables.';\n",
              "          element.innerHTML = '';\n",
              "          dataTable['output_type'] = 'display_data';\n",
              "          await google.colab.output.renderOutput(dataTable, element);\n",
              "          const docLink = document.createElement('div');\n",
              "          docLink.innerHTML = docLinkHtml;\n",
              "          element.appendChild(docLink);\n",
              "        }\n",
              "      </script>\n",
              "    </div>\n",
              "  </div>\n",
              "  "
            ]
          },
          "metadata": {},
          "execution_count": 392
        }
      ],
      "source": [
        "Y.head()"
      ]
    },
    {
      "cell_type": "code",
      "execution_count": null,
      "metadata": {
        "colab": {
          "base_uri": "https://localhost:8080/",
          "height": 488
        },
        "id": "LA5Z2davC-9X",
        "outputId": "9ac6d8a9-21fe-4e40-a7ab-c711df3416dc"
      },
      "outputs": [
        {
          "output_type": "execute_result",
          "data": {
            "text/plain": [
              "                                           0       1       2  \\\n",
              "patient_id                            0z64un  ryoo3j  yt1s1x   \n",
              "slope_of_peak_exercise_st_segment          1       2       1   \n",
              "thal                                  normal  normal  normal   \n",
              "resting_blood_pressure                   128     110     125   \n",
              "chest_pain_type                            2       3       4   \n",
              "num_major_vessels                          0       0       3   \n",
              "fasting_blood_sugar_gt_120_mg_per_dl       0       0       0   \n",
              "resting_ekg_results                        2       0       2   \n",
              "serum_cholesterol_mg_per_dl              308     214     304   \n",
              "oldpeak_eq_st_depression                 0.0     1.6     0.0   \n",
              "sex                                        1       0       1   \n",
              "age                                       45      54      77   \n",
              "max_heart_rate_achieved                  170     158     162   \n",
              "exercise_induced_angina                    0       0       1   \n",
              "\n",
              "                                                      3                  4  \n",
              "patient_id                                       l2xjde             oyt4ek  \n",
              "slope_of_peak_exercise_st_segment                     1                  3  \n",
              "thal                                  reversible_defect  reversible_defect  \n",
              "resting_blood_pressure                              152                178  \n",
              "chest_pain_type                                       4                  1  \n",
              "num_major_vessels                                     0                  0  \n",
              "fasting_blood_sugar_gt_120_mg_per_dl                  0                  0  \n",
              "resting_ekg_results                                   0                  2  \n",
              "serum_cholesterol_mg_per_dl                         223                270  \n",
              "oldpeak_eq_st_depression                            0.0                4.2  \n",
              "sex                                                   1                  1  \n",
              "age                                                  40                 59  \n",
              "max_heart_rate_achieved                             181                145  \n",
              "exercise_induced_angina                               0                  0  "
            ],
            "text/html": [
              "\n",
              "  <div id=\"df-692f4b02-6bb9-4f64-968f-b1fcfdd85b8d\">\n",
              "    <div class=\"colab-df-container\">\n",
              "      <div>\n",
              "<style scoped>\n",
              "    .dataframe tbody tr th:only-of-type {\n",
              "        vertical-align: middle;\n",
              "    }\n",
              "\n",
              "    .dataframe tbody tr th {\n",
              "        vertical-align: top;\n",
              "    }\n",
              "\n",
              "    .dataframe thead th {\n",
              "        text-align: right;\n",
              "    }\n",
              "</style>\n",
              "<table border=\"1\" class=\"dataframe\">\n",
              "  <thead>\n",
              "    <tr style=\"text-align: right;\">\n",
              "      <th></th>\n",
              "      <th>0</th>\n",
              "      <th>1</th>\n",
              "      <th>2</th>\n",
              "      <th>3</th>\n",
              "      <th>4</th>\n",
              "    </tr>\n",
              "  </thead>\n",
              "  <tbody>\n",
              "    <tr>\n",
              "      <th>patient_id</th>\n",
              "      <td>0z64un</td>\n",
              "      <td>ryoo3j</td>\n",
              "      <td>yt1s1x</td>\n",
              "      <td>l2xjde</td>\n",
              "      <td>oyt4ek</td>\n",
              "    </tr>\n",
              "    <tr>\n",
              "      <th>slope_of_peak_exercise_st_segment</th>\n",
              "      <td>1</td>\n",
              "      <td>2</td>\n",
              "      <td>1</td>\n",
              "      <td>1</td>\n",
              "      <td>3</td>\n",
              "    </tr>\n",
              "    <tr>\n",
              "      <th>thal</th>\n",
              "      <td>normal</td>\n",
              "      <td>normal</td>\n",
              "      <td>normal</td>\n",
              "      <td>reversible_defect</td>\n",
              "      <td>reversible_defect</td>\n",
              "    </tr>\n",
              "    <tr>\n",
              "      <th>resting_blood_pressure</th>\n",
              "      <td>128</td>\n",
              "      <td>110</td>\n",
              "      <td>125</td>\n",
              "      <td>152</td>\n",
              "      <td>178</td>\n",
              "    </tr>\n",
              "    <tr>\n",
              "      <th>chest_pain_type</th>\n",
              "      <td>2</td>\n",
              "      <td>3</td>\n",
              "      <td>4</td>\n",
              "      <td>4</td>\n",
              "      <td>1</td>\n",
              "    </tr>\n",
              "    <tr>\n",
              "      <th>num_major_vessels</th>\n",
              "      <td>0</td>\n",
              "      <td>0</td>\n",
              "      <td>3</td>\n",
              "      <td>0</td>\n",
              "      <td>0</td>\n",
              "    </tr>\n",
              "    <tr>\n",
              "      <th>fasting_blood_sugar_gt_120_mg_per_dl</th>\n",
              "      <td>0</td>\n",
              "      <td>0</td>\n",
              "      <td>0</td>\n",
              "      <td>0</td>\n",
              "      <td>0</td>\n",
              "    </tr>\n",
              "    <tr>\n",
              "      <th>resting_ekg_results</th>\n",
              "      <td>2</td>\n",
              "      <td>0</td>\n",
              "      <td>2</td>\n",
              "      <td>0</td>\n",
              "      <td>2</td>\n",
              "    </tr>\n",
              "    <tr>\n",
              "      <th>serum_cholesterol_mg_per_dl</th>\n",
              "      <td>308</td>\n",
              "      <td>214</td>\n",
              "      <td>304</td>\n",
              "      <td>223</td>\n",
              "      <td>270</td>\n",
              "    </tr>\n",
              "    <tr>\n",
              "      <th>oldpeak_eq_st_depression</th>\n",
              "      <td>0.0</td>\n",
              "      <td>1.6</td>\n",
              "      <td>0.0</td>\n",
              "      <td>0.0</td>\n",
              "      <td>4.2</td>\n",
              "    </tr>\n",
              "    <tr>\n",
              "      <th>sex</th>\n",
              "      <td>1</td>\n",
              "      <td>0</td>\n",
              "      <td>1</td>\n",
              "      <td>1</td>\n",
              "      <td>1</td>\n",
              "    </tr>\n",
              "    <tr>\n",
              "      <th>age</th>\n",
              "      <td>45</td>\n",
              "      <td>54</td>\n",
              "      <td>77</td>\n",
              "      <td>40</td>\n",
              "      <td>59</td>\n",
              "    </tr>\n",
              "    <tr>\n",
              "      <th>max_heart_rate_achieved</th>\n",
              "      <td>170</td>\n",
              "      <td>158</td>\n",
              "      <td>162</td>\n",
              "      <td>181</td>\n",
              "      <td>145</td>\n",
              "    </tr>\n",
              "    <tr>\n",
              "      <th>exercise_induced_angina</th>\n",
              "      <td>0</td>\n",
              "      <td>0</td>\n",
              "      <td>1</td>\n",
              "      <td>0</td>\n",
              "      <td>0</td>\n",
              "    </tr>\n",
              "  </tbody>\n",
              "</table>\n",
              "</div>\n",
              "      <button class=\"colab-df-convert\" onclick=\"convertToInteractive('df-692f4b02-6bb9-4f64-968f-b1fcfdd85b8d')\"\n",
              "              title=\"Convert this dataframe to an interactive table.\"\n",
              "              style=\"display:none;\">\n",
              "        \n",
              "  <svg xmlns=\"http://www.w3.org/2000/svg\" height=\"24px\"viewBox=\"0 0 24 24\"\n",
              "       width=\"24px\">\n",
              "    <path d=\"M0 0h24v24H0V0z\" fill=\"none\"/>\n",
              "    <path d=\"M18.56 5.44l.94 2.06.94-2.06 2.06-.94-2.06-.94-.94-2.06-.94 2.06-2.06.94zm-11 1L8.5 8.5l.94-2.06 2.06-.94-2.06-.94L8.5 2.5l-.94 2.06-2.06.94zm10 10l.94 2.06.94-2.06 2.06-.94-2.06-.94-.94-2.06-.94 2.06-2.06.94z\"/><path d=\"M17.41 7.96l-1.37-1.37c-.4-.4-.92-.59-1.43-.59-.52 0-1.04.2-1.43.59L10.3 9.45l-7.72 7.72c-.78.78-.78 2.05 0 2.83L4 21.41c.39.39.9.59 1.41.59.51 0 1.02-.2 1.41-.59l7.78-7.78 2.81-2.81c.8-.78.8-2.07 0-2.86zM5.41 20L4 18.59l7.72-7.72 1.47 1.35L5.41 20z\"/>\n",
              "  </svg>\n",
              "      </button>\n",
              "      \n",
              "  <style>\n",
              "    .colab-df-container {\n",
              "      display:flex;\n",
              "      flex-wrap:wrap;\n",
              "      gap: 12px;\n",
              "    }\n",
              "\n",
              "    .colab-df-convert {\n",
              "      background-color: #E8F0FE;\n",
              "      border: none;\n",
              "      border-radius: 50%;\n",
              "      cursor: pointer;\n",
              "      display: none;\n",
              "      fill: #1967D2;\n",
              "      height: 32px;\n",
              "      padding: 0 0 0 0;\n",
              "      width: 32px;\n",
              "    }\n",
              "\n",
              "    .colab-df-convert:hover {\n",
              "      background-color: #E2EBFA;\n",
              "      box-shadow: 0px 1px 2px rgba(60, 64, 67, 0.3), 0px 1px 3px 1px rgba(60, 64, 67, 0.15);\n",
              "      fill: #174EA6;\n",
              "    }\n",
              "\n",
              "    [theme=dark] .colab-df-convert {\n",
              "      background-color: #3B4455;\n",
              "      fill: #D2E3FC;\n",
              "    }\n",
              "\n",
              "    [theme=dark] .colab-df-convert:hover {\n",
              "      background-color: #434B5C;\n",
              "      box-shadow: 0px 1px 3px 1px rgba(0, 0, 0, 0.15);\n",
              "      filter: drop-shadow(0px 1px 2px rgba(0, 0, 0, 0.3));\n",
              "      fill: #FFFFFF;\n",
              "    }\n",
              "  </style>\n",
              "\n",
              "      <script>\n",
              "        const buttonEl =\n",
              "          document.querySelector('#df-692f4b02-6bb9-4f64-968f-b1fcfdd85b8d button.colab-df-convert');\n",
              "        buttonEl.style.display =\n",
              "          google.colab.kernel.accessAllowed ? 'block' : 'none';\n",
              "\n",
              "        async function convertToInteractive(key) {\n",
              "          const element = document.querySelector('#df-692f4b02-6bb9-4f64-968f-b1fcfdd85b8d');\n",
              "          const dataTable =\n",
              "            await google.colab.kernel.invokeFunction('convertToInteractive',\n",
              "                                                     [key], {});\n",
              "          if (!dataTable) return;\n",
              "\n",
              "          const docLinkHtml = 'Like what you see? Visit the ' +\n",
              "            '<a target=\"_blank\" href=https://colab.research.google.com/notebooks/data_table.ipynb>data table notebook</a>'\n",
              "            + ' to learn more about interactive tables.';\n",
              "          element.innerHTML = '';\n",
              "          dataTable['output_type'] = 'display_data';\n",
              "          await google.colab.output.renderOutput(dataTable, element);\n",
              "          const docLink = document.createElement('div');\n",
              "          docLink.innerHTML = docLinkHtml;\n",
              "          element.appendChild(docLink);\n",
              "        }\n",
              "      </script>\n",
              "    </div>\n",
              "  </div>\n",
              "  "
            ]
          },
          "metadata": {},
          "execution_count": 393
        }
      ],
      "source": [
        "X.head().T"
      ]
    },
    {
      "cell_type": "code",
      "execution_count": null,
      "metadata": {
        "colab": {
          "base_uri": "https://localhost:8080/",
          "height": 112
        },
        "id": "b-jryM33E_wO",
        "outputId": "1e3274e4-f034-4762-8551-93e964c7b4cb"
      },
      "outputs": [
        {
          "output_type": "execute_result",
          "data": {
            "text/plain": [
              "                            0       1       2       3       4\n",
              "patient_id             0z64un  ryoo3j  yt1s1x  l2xjde  oyt4ek\n",
              "heart_disease_present       0       0       1       1       0"
            ],
            "text/html": [
              "\n",
              "  <div id=\"df-602db281-07b9-4263-8574-9d6c507b2923\">\n",
              "    <div class=\"colab-df-container\">\n",
              "      <div>\n",
              "<style scoped>\n",
              "    .dataframe tbody tr th:only-of-type {\n",
              "        vertical-align: middle;\n",
              "    }\n",
              "\n",
              "    .dataframe tbody tr th {\n",
              "        vertical-align: top;\n",
              "    }\n",
              "\n",
              "    .dataframe thead th {\n",
              "        text-align: right;\n",
              "    }\n",
              "</style>\n",
              "<table border=\"1\" class=\"dataframe\">\n",
              "  <thead>\n",
              "    <tr style=\"text-align: right;\">\n",
              "      <th></th>\n",
              "      <th>0</th>\n",
              "      <th>1</th>\n",
              "      <th>2</th>\n",
              "      <th>3</th>\n",
              "      <th>4</th>\n",
              "    </tr>\n",
              "  </thead>\n",
              "  <tbody>\n",
              "    <tr>\n",
              "      <th>patient_id</th>\n",
              "      <td>0z64un</td>\n",
              "      <td>ryoo3j</td>\n",
              "      <td>yt1s1x</td>\n",
              "      <td>l2xjde</td>\n",
              "      <td>oyt4ek</td>\n",
              "    </tr>\n",
              "    <tr>\n",
              "      <th>heart_disease_present</th>\n",
              "      <td>0</td>\n",
              "      <td>0</td>\n",
              "      <td>1</td>\n",
              "      <td>1</td>\n",
              "      <td>0</td>\n",
              "    </tr>\n",
              "  </tbody>\n",
              "</table>\n",
              "</div>\n",
              "      <button class=\"colab-df-convert\" onclick=\"convertToInteractive('df-602db281-07b9-4263-8574-9d6c507b2923')\"\n",
              "              title=\"Convert this dataframe to an interactive table.\"\n",
              "              style=\"display:none;\">\n",
              "        \n",
              "  <svg xmlns=\"http://www.w3.org/2000/svg\" height=\"24px\"viewBox=\"0 0 24 24\"\n",
              "       width=\"24px\">\n",
              "    <path d=\"M0 0h24v24H0V0z\" fill=\"none\"/>\n",
              "    <path d=\"M18.56 5.44l.94 2.06.94-2.06 2.06-.94-2.06-.94-.94-2.06-.94 2.06-2.06.94zm-11 1L8.5 8.5l.94-2.06 2.06-.94-2.06-.94L8.5 2.5l-.94 2.06-2.06.94zm10 10l.94 2.06.94-2.06 2.06-.94-2.06-.94-.94-2.06-.94 2.06-2.06.94z\"/><path d=\"M17.41 7.96l-1.37-1.37c-.4-.4-.92-.59-1.43-.59-.52 0-1.04.2-1.43.59L10.3 9.45l-7.72 7.72c-.78.78-.78 2.05 0 2.83L4 21.41c.39.39.9.59 1.41.59.51 0 1.02-.2 1.41-.59l7.78-7.78 2.81-2.81c.8-.78.8-2.07 0-2.86zM5.41 20L4 18.59l7.72-7.72 1.47 1.35L5.41 20z\"/>\n",
              "  </svg>\n",
              "      </button>\n",
              "      \n",
              "  <style>\n",
              "    .colab-df-container {\n",
              "      display:flex;\n",
              "      flex-wrap:wrap;\n",
              "      gap: 12px;\n",
              "    }\n",
              "\n",
              "    .colab-df-convert {\n",
              "      background-color: #E8F0FE;\n",
              "      border: none;\n",
              "      border-radius: 50%;\n",
              "      cursor: pointer;\n",
              "      display: none;\n",
              "      fill: #1967D2;\n",
              "      height: 32px;\n",
              "      padding: 0 0 0 0;\n",
              "      width: 32px;\n",
              "    }\n",
              "\n",
              "    .colab-df-convert:hover {\n",
              "      background-color: #E2EBFA;\n",
              "      box-shadow: 0px 1px 2px rgba(60, 64, 67, 0.3), 0px 1px 3px 1px rgba(60, 64, 67, 0.15);\n",
              "      fill: #174EA6;\n",
              "    }\n",
              "\n",
              "    [theme=dark] .colab-df-convert {\n",
              "      background-color: #3B4455;\n",
              "      fill: #D2E3FC;\n",
              "    }\n",
              "\n",
              "    [theme=dark] .colab-df-convert:hover {\n",
              "      background-color: #434B5C;\n",
              "      box-shadow: 0px 1px 3px 1px rgba(0, 0, 0, 0.15);\n",
              "      filter: drop-shadow(0px 1px 2px rgba(0, 0, 0, 0.3));\n",
              "      fill: #FFFFFF;\n",
              "    }\n",
              "  </style>\n",
              "\n",
              "      <script>\n",
              "        const buttonEl =\n",
              "          document.querySelector('#df-602db281-07b9-4263-8574-9d6c507b2923 button.colab-df-convert');\n",
              "        buttonEl.style.display =\n",
              "          google.colab.kernel.accessAllowed ? 'block' : 'none';\n",
              "\n",
              "        async function convertToInteractive(key) {\n",
              "          const element = document.querySelector('#df-602db281-07b9-4263-8574-9d6c507b2923');\n",
              "          const dataTable =\n",
              "            await google.colab.kernel.invokeFunction('convertToInteractive',\n",
              "                                                     [key], {});\n",
              "          if (!dataTable) return;\n",
              "\n",
              "          const docLinkHtml = 'Like what you see? Visit the ' +\n",
              "            '<a target=\"_blank\" href=https://colab.research.google.com/notebooks/data_table.ipynb>data table notebook</a>'\n",
              "            + ' to learn more about interactive tables.';\n",
              "          element.innerHTML = '';\n",
              "          dataTable['output_type'] = 'display_data';\n",
              "          await google.colab.output.renderOutput(dataTable, element);\n",
              "          const docLink = document.createElement('div');\n",
              "          docLink.innerHTML = docLinkHtml;\n",
              "          element.appendChild(docLink);\n",
              "        }\n",
              "      </script>\n",
              "    </div>\n",
              "  </div>\n",
              "  "
            ]
          },
          "metadata": {},
          "execution_count": 394
        }
      ],
      "source": [
        "Y.head().T"
      ]
    },
    {
      "cell_type": "markdown",
      "metadata": {
        "id": "3cEftG6YFlDd"
      },
      "source": [
        "# **BASIC CHECKS**"
      ]
    },
    {
      "cell_type": "markdown",
      "metadata": {
        "id": "7FU3qRPVGFb6"
      },
      "source": [
        "**SHAPE**:\n",
        " \n",
        "  To understand number of columns and rows from the dataset"
      ]
    },
    {
      "cell_type": "code",
      "execution_count": null,
      "metadata": {
        "colab": {
          "base_uri": "https://localhost:8080/"
        },
        "id": "iKVsb56DFp8M",
        "outputId": "7ad7fed1-72a3-4059-97cd-494fcb77d08d"
      },
      "outputs": [
        {
          "output_type": "execute_result",
          "data": {
            "text/plain": [
              "(180, 14)"
            ]
          },
          "metadata": {},
          "execution_count": 395
        }
      ],
      "source": [
        "X.shape"
      ]
    },
    {
      "cell_type": "code",
      "execution_count": null,
      "metadata": {
        "colab": {
          "base_uri": "https://localhost:8080/"
        },
        "id": "Dth_U_N7FLtU",
        "outputId": "766b54e6-b6d3-4eb4-c944-e05a78889f48"
      },
      "outputs": [
        {
          "output_type": "execute_result",
          "data": {
            "text/plain": [
              "(180, 2)"
            ]
          },
          "metadata": {},
          "execution_count": 396
        }
      ],
      "source": [
        "Y.shape"
      ]
    },
    {
      "cell_type": "markdown",
      "metadata": {
        "id": "Ab0NZpu6HL7u"
      },
      "source": [
        "\n",
        "* No of rows  in the given X dataset is **180**\n",
        "* No of columns in the given X dataset is **14**\n",
        "* No of rows in the given Y dataset is **180** \n",
        "* No of columns in the given Y dataset is **2**"
      ]
    },
    {
      "cell_type": "markdown",
      "source": [
        "Lets merge X (values) and Y (labels) datasets, which is independent and dependent variables"
      ],
      "metadata": {
        "id": "EEVtHFVcJx7H"
      }
    },
    {
      "cell_type": "code",
      "source": [
        "df=pd.merge(X,Y)\n",
        "df.head()"
      ],
      "metadata": {
        "colab": {
          "base_uri": "https://localhost:8080/",
          "height": 270
        },
        "id": "RhUrdM_CGwGB",
        "outputId": "6345438c-4972-484c-933c-723bcd8f7627"
      },
      "execution_count": null,
      "outputs": [
        {
          "output_type": "execute_result",
          "data": {
            "text/plain": [
              "  patient_id  slope_of_peak_exercise_st_segment               thal  \\\n",
              "0     0z64un                                  1             normal   \n",
              "1     ryoo3j                                  2             normal   \n",
              "2     yt1s1x                                  1             normal   \n",
              "3     l2xjde                                  1  reversible_defect   \n",
              "4     oyt4ek                                  3  reversible_defect   \n",
              "\n",
              "   resting_blood_pressure  chest_pain_type  num_major_vessels  \\\n",
              "0                     128                2                  0   \n",
              "1                     110                3                  0   \n",
              "2                     125                4                  3   \n",
              "3                     152                4                  0   \n",
              "4                     178                1                  0   \n",
              "\n",
              "   fasting_blood_sugar_gt_120_mg_per_dl  resting_ekg_results  \\\n",
              "0                                     0                    2   \n",
              "1                                     0                    0   \n",
              "2                                     0                    2   \n",
              "3                                     0                    0   \n",
              "4                                     0                    2   \n",
              "\n",
              "   serum_cholesterol_mg_per_dl  oldpeak_eq_st_depression  sex  age  \\\n",
              "0                          308                       0.0    1   45   \n",
              "1                          214                       1.6    0   54   \n",
              "2                          304                       0.0    1   77   \n",
              "3                          223                       0.0    1   40   \n",
              "4                          270                       4.2    1   59   \n",
              "\n",
              "   max_heart_rate_achieved  exercise_induced_angina  heart_disease_present  \n",
              "0                      170                        0                      0  \n",
              "1                      158                        0                      0  \n",
              "2                      162                        1                      1  \n",
              "3                      181                        0                      1  \n",
              "4                      145                        0                      0  "
            ],
            "text/html": [
              "\n",
              "  <div id=\"df-ef9dece5-7aee-4307-8516-0412de85018e\">\n",
              "    <div class=\"colab-df-container\">\n",
              "      <div>\n",
              "<style scoped>\n",
              "    .dataframe tbody tr th:only-of-type {\n",
              "        vertical-align: middle;\n",
              "    }\n",
              "\n",
              "    .dataframe tbody tr th {\n",
              "        vertical-align: top;\n",
              "    }\n",
              "\n",
              "    .dataframe thead th {\n",
              "        text-align: right;\n",
              "    }\n",
              "</style>\n",
              "<table border=\"1\" class=\"dataframe\">\n",
              "  <thead>\n",
              "    <tr style=\"text-align: right;\">\n",
              "      <th></th>\n",
              "      <th>patient_id</th>\n",
              "      <th>slope_of_peak_exercise_st_segment</th>\n",
              "      <th>thal</th>\n",
              "      <th>resting_blood_pressure</th>\n",
              "      <th>chest_pain_type</th>\n",
              "      <th>num_major_vessels</th>\n",
              "      <th>fasting_blood_sugar_gt_120_mg_per_dl</th>\n",
              "      <th>resting_ekg_results</th>\n",
              "      <th>serum_cholesterol_mg_per_dl</th>\n",
              "      <th>oldpeak_eq_st_depression</th>\n",
              "      <th>sex</th>\n",
              "      <th>age</th>\n",
              "      <th>max_heart_rate_achieved</th>\n",
              "      <th>exercise_induced_angina</th>\n",
              "      <th>heart_disease_present</th>\n",
              "    </tr>\n",
              "  </thead>\n",
              "  <tbody>\n",
              "    <tr>\n",
              "      <th>0</th>\n",
              "      <td>0z64un</td>\n",
              "      <td>1</td>\n",
              "      <td>normal</td>\n",
              "      <td>128</td>\n",
              "      <td>2</td>\n",
              "      <td>0</td>\n",
              "      <td>0</td>\n",
              "      <td>2</td>\n",
              "      <td>308</td>\n",
              "      <td>0.0</td>\n",
              "      <td>1</td>\n",
              "      <td>45</td>\n",
              "      <td>170</td>\n",
              "      <td>0</td>\n",
              "      <td>0</td>\n",
              "    </tr>\n",
              "    <tr>\n",
              "      <th>1</th>\n",
              "      <td>ryoo3j</td>\n",
              "      <td>2</td>\n",
              "      <td>normal</td>\n",
              "      <td>110</td>\n",
              "      <td>3</td>\n",
              "      <td>0</td>\n",
              "      <td>0</td>\n",
              "      <td>0</td>\n",
              "      <td>214</td>\n",
              "      <td>1.6</td>\n",
              "      <td>0</td>\n",
              "      <td>54</td>\n",
              "      <td>158</td>\n",
              "      <td>0</td>\n",
              "      <td>0</td>\n",
              "    </tr>\n",
              "    <tr>\n",
              "      <th>2</th>\n",
              "      <td>yt1s1x</td>\n",
              "      <td>1</td>\n",
              "      <td>normal</td>\n",
              "      <td>125</td>\n",
              "      <td>4</td>\n",
              "      <td>3</td>\n",
              "      <td>0</td>\n",
              "      <td>2</td>\n",
              "      <td>304</td>\n",
              "      <td>0.0</td>\n",
              "      <td>1</td>\n",
              "      <td>77</td>\n",
              "      <td>162</td>\n",
              "      <td>1</td>\n",
              "      <td>1</td>\n",
              "    </tr>\n",
              "    <tr>\n",
              "      <th>3</th>\n",
              "      <td>l2xjde</td>\n",
              "      <td>1</td>\n",
              "      <td>reversible_defect</td>\n",
              "      <td>152</td>\n",
              "      <td>4</td>\n",
              "      <td>0</td>\n",
              "      <td>0</td>\n",
              "      <td>0</td>\n",
              "      <td>223</td>\n",
              "      <td>0.0</td>\n",
              "      <td>1</td>\n",
              "      <td>40</td>\n",
              "      <td>181</td>\n",
              "      <td>0</td>\n",
              "      <td>1</td>\n",
              "    </tr>\n",
              "    <tr>\n",
              "      <th>4</th>\n",
              "      <td>oyt4ek</td>\n",
              "      <td>3</td>\n",
              "      <td>reversible_defect</td>\n",
              "      <td>178</td>\n",
              "      <td>1</td>\n",
              "      <td>0</td>\n",
              "      <td>0</td>\n",
              "      <td>2</td>\n",
              "      <td>270</td>\n",
              "      <td>4.2</td>\n",
              "      <td>1</td>\n",
              "      <td>59</td>\n",
              "      <td>145</td>\n",
              "      <td>0</td>\n",
              "      <td>0</td>\n",
              "    </tr>\n",
              "  </tbody>\n",
              "</table>\n",
              "</div>\n",
              "      <button class=\"colab-df-convert\" onclick=\"convertToInteractive('df-ef9dece5-7aee-4307-8516-0412de85018e')\"\n",
              "              title=\"Convert this dataframe to an interactive table.\"\n",
              "              style=\"display:none;\">\n",
              "        \n",
              "  <svg xmlns=\"http://www.w3.org/2000/svg\" height=\"24px\"viewBox=\"0 0 24 24\"\n",
              "       width=\"24px\">\n",
              "    <path d=\"M0 0h24v24H0V0z\" fill=\"none\"/>\n",
              "    <path d=\"M18.56 5.44l.94 2.06.94-2.06 2.06-.94-2.06-.94-.94-2.06-.94 2.06-2.06.94zm-11 1L8.5 8.5l.94-2.06 2.06-.94-2.06-.94L8.5 2.5l-.94 2.06-2.06.94zm10 10l.94 2.06.94-2.06 2.06-.94-2.06-.94-.94-2.06-.94 2.06-2.06.94z\"/><path d=\"M17.41 7.96l-1.37-1.37c-.4-.4-.92-.59-1.43-.59-.52 0-1.04.2-1.43.59L10.3 9.45l-7.72 7.72c-.78.78-.78 2.05 0 2.83L4 21.41c.39.39.9.59 1.41.59.51 0 1.02-.2 1.41-.59l7.78-7.78 2.81-2.81c.8-.78.8-2.07 0-2.86zM5.41 20L4 18.59l7.72-7.72 1.47 1.35L5.41 20z\"/>\n",
              "  </svg>\n",
              "      </button>\n",
              "      \n",
              "  <style>\n",
              "    .colab-df-container {\n",
              "      display:flex;\n",
              "      flex-wrap:wrap;\n",
              "      gap: 12px;\n",
              "    }\n",
              "\n",
              "    .colab-df-convert {\n",
              "      background-color: #E8F0FE;\n",
              "      border: none;\n",
              "      border-radius: 50%;\n",
              "      cursor: pointer;\n",
              "      display: none;\n",
              "      fill: #1967D2;\n",
              "      height: 32px;\n",
              "      padding: 0 0 0 0;\n",
              "      width: 32px;\n",
              "    }\n",
              "\n",
              "    .colab-df-convert:hover {\n",
              "      background-color: #E2EBFA;\n",
              "      box-shadow: 0px 1px 2px rgba(60, 64, 67, 0.3), 0px 1px 3px 1px rgba(60, 64, 67, 0.15);\n",
              "      fill: #174EA6;\n",
              "    }\n",
              "\n",
              "    [theme=dark] .colab-df-convert {\n",
              "      background-color: #3B4455;\n",
              "      fill: #D2E3FC;\n",
              "    }\n",
              "\n",
              "    [theme=dark] .colab-df-convert:hover {\n",
              "      background-color: #434B5C;\n",
              "      box-shadow: 0px 1px 3px 1px rgba(0, 0, 0, 0.15);\n",
              "      filter: drop-shadow(0px 1px 2px rgba(0, 0, 0, 0.3));\n",
              "      fill: #FFFFFF;\n",
              "    }\n",
              "  </style>\n",
              "\n",
              "      <script>\n",
              "        const buttonEl =\n",
              "          document.querySelector('#df-ef9dece5-7aee-4307-8516-0412de85018e button.colab-df-convert');\n",
              "        buttonEl.style.display =\n",
              "          google.colab.kernel.accessAllowed ? 'block' : 'none';\n",
              "\n",
              "        async function convertToInteractive(key) {\n",
              "          const element = document.querySelector('#df-ef9dece5-7aee-4307-8516-0412de85018e');\n",
              "          const dataTable =\n",
              "            await google.colab.kernel.invokeFunction('convertToInteractive',\n",
              "                                                     [key], {});\n",
              "          if (!dataTable) return;\n",
              "\n",
              "          const docLinkHtml = 'Like what you see? Visit the ' +\n",
              "            '<a target=\"_blank\" href=https://colab.research.google.com/notebooks/data_table.ipynb>data table notebook</a>'\n",
              "            + ' to learn more about interactive tables.';\n",
              "          element.innerHTML = '';\n",
              "          dataTable['output_type'] = 'display_data';\n",
              "          await google.colab.output.renderOutput(dataTable, element);\n",
              "          const docLink = document.createElement('div');\n",
              "          docLink.innerHTML = docLinkHtml;\n",
              "          element.appendChild(docLink);\n",
              "        }\n",
              "      </script>\n",
              "    </div>\n",
              "  </div>\n",
              "  "
            ]
          },
          "metadata": {},
          "execution_count": 397
        }
      ]
    },
    {
      "cell_type": "markdown",
      "source": [
        "**Basic Information** about given Dataset"
      ],
      "metadata": {
        "id": "w7o3E1ljHo1b"
      }
    },
    {
      "cell_type": "code",
      "source": [
        "df.info()"
      ],
      "metadata": {
        "colab": {
          "base_uri": "https://localhost:8080/"
        },
        "id": "f81Zi6hPHjUy",
        "outputId": "12763a87-3fcc-45dd-d075-084949c44dcd"
      },
      "execution_count": null,
      "outputs": [
        {
          "output_type": "stream",
          "name": "stdout",
          "text": [
            "<class 'pandas.core.frame.DataFrame'>\n",
            "Int64Index: 180 entries, 0 to 179\n",
            "Data columns (total 15 columns):\n",
            " #   Column                                Non-Null Count  Dtype  \n",
            "---  ------                                --------------  -----  \n",
            " 0   patient_id                            180 non-null    object \n",
            " 1   slope_of_peak_exercise_st_segment     180 non-null    int64  \n",
            " 2   thal                                  180 non-null    object \n",
            " 3   resting_blood_pressure                180 non-null    int64  \n",
            " 4   chest_pain_type                       180 non-null    int64  \n",
            " 5   num_major_vessels                     180 non-null    int64  \n",
            " 6   fasting_blood_sugar_gt_120_mg_per_dl  180 non-null    int64  \n",
            " 7   resting_ekg_results                   180 non-null    int64  \n",
            " 8   serum_cholesterol_mg_per_dl           180 non-null    int64  \n",
            " 9   oldpeak_eq_st_depression              180 non-null    float64\n",
            " 10  sex                                   180 non-null    int64  \n",
            " 11  age                                   180 non-null    int64  \n",
            " 12  max_heart_rate_achieved               180 non-null    int64  \n",
            " 13  exercise_induced_angina               180 non-null    int64  \n",
            " 14  heart_disease_present                 180 non-null    int64  \n",
            "dtypes: float64(1), int64(12), object(2)\n",
            "memory usage: 22.5+ KB\n"
          ]
        }
      ]
    },
    {
      "cell_type": "markdown",
      "source": [
        "From the above **data info** ,\n",
        "\n",
        " * Data has object, integer, float values\n",
        " * Variable column has no null or missing values\n",
        " * `patient_id` and `thal` has object type data\n",
        " * Only `oldpeak_eq_st_depression` has Float data type\n",
        "  \n"
      ],
      "metadata": {
        "id": "i9enpO4XKdR-"
      }
    },
    {
      "cell_type": "markdown",
      "metadata": {
        "id": "VaYEL8WwIkS8"
      },
      "source": [
        "**DESCRIBE :**\n",
        "\n",
        "It returns the count, mean, standard deviation, minimum and maximum values and the quantiles of the data.\n",
        "\n"
      ]
    },
    {
      "cell_type": "code",
      "execution_count": null,
      "metadata": {
        "colab": {
          "base_uri": "https://localhost:8080/",
          "height": 364
        },
        "id": "nA1NblbmOZ_F",
        "outputId": "b92d4e2e-4e0d-44b3-f305-10be80714515"
      },
      "outputs": [
        {
          "output_type": "execute_result",
          "data": {
            "text/plain": [
              "       slope_of_peak_exercise_st_segment  resting_blood_pressure  \\\n",
              "count                         180.000000              180.000000   \n",
              "mean                            1.550000              131.311111   \n",
              "std                             0.618838               17.010443   \n",
              "min                             1.000000               94.000000   \n",
              "25%                             1.000000              120.000000   \n",
              "50%                             1.000000              130.000000   \n",
              "75%                             2.000000              140.000000   \n",
              "max                             3.000000              180.000000   \n",
              "\n",
              "       chest_pain_type  num_major_vessels  \\\n",
              "count       180.000000         180.000000   \n",
              "mean          3.155556           0.694444   \n",
              "std           0.938454           0.969347   \n",
              "min           1.000000           0.000000   \n",
              "25%           3.000000           0.000000   \n",
              "50%           3.000000           0.000000   \n",
              "75%           4.000000           1.000000   \n",
              "max           4.000000           3.000000   \n",
              "\n",
              "       fasting_blood_sugar_gt_120_mg_per_dl  resting_ekg_results  \\\n",
              "count                            180.000000           180.000000   \n",
              "mean                               0.161111             1.050000   \n",
              "std                                0.368659             0.998742   \n",
              "min                                0.000000             0.000000   \n",
              "25%                                0.000000             0.000000   \n",
              "50%                                0.000000             2.000000   \n",
              "75%                                0.000000             2.000000   \n",
              "max                                1.000000             2.000000   \n",
              "\n",
              "       serum_cholesterol_mg_per_dl  oldpeak_eq_st_depression         sex  \\\n",
              "count                   180.000000                180.000000  180.000000   \n",
              "mean                    249.211111                  1.010000    0.688889   \n",
              "std                      52.717969                  1.121357    0.464239   \n",
              "min                     126.000000                  0.000000    0.000000   \n",
              "25%                     213.750000                  0.000000    0.000000   \n",
              "50%                     245.500000                  0.800000    1.000000   \n",
              "75%                     281.250000                  1.600000    1.000000   \n",
              "max                     564.000000                  6.200000    1.000000   \n",
              "\n",
              "              age  max_heart_rate_achieved  exercise_induced_angina  \\\n",
              "count  180.000000               180.000000               180.000000   \n",
              "mean    54.811111               149.483333                 0.316667   \n",
              "std      9.334737                22.063513                 0.466474   \n",
              "min     29.000000                96.000000                 0.000000   \n",
              "25%     48.000000               132.000000                 0.000000   \n",
              "50%     55.000000               152.000000                 0.000000   \n",
              "75%     62.000000               166.250000                 1.000000   \n",
              "max     77.000000               202.000000                 1.000000   \n",
              "\n",
              "       heart_disease_present  \n",
              "count             180.000000  \n",
              "mean                0.444444  \n",
              "std                 0.498290  \n",
              "min                 0.000000  \n",
              "25%                 0.000000  \n",
              "50%                 0.000000  \n",
              "75%                 1.000000  \n",
              "max                 1.000000  "
            ],
            "text/html": [
              "\n",
              "  <div id=\"df-e6b45fc9-0687-4ec6-abf6-5b8371cbda61\">\n",
              "    <div class=\"colab-df-container\">\n",
              "      <div>\n",
              "<style scoped>\n",
              "    .dataframe tbody tr th:only-of-type {\n",
              "        vertical-align: middle;\n",
              "    }\n",
              "\n",
              "    .dataframe tbody tr th {\n",
              "        vertical-align: top;\n",
              "    }\n",
              "\n",
              "    .dataframe thead th {\n",
              "        text-align: right;\n",
              "    }\n",
              "</style>\n",
              "<table border=\"1\" class=\"dataframe\">\n",
              "  <thead>\n",
              "    <tr style=\"text-align: right;\">\n",
              "      <th></th>\n",
              "      <th>slope_of_peak_exercise_st_segment</th>\n",
              "      <th>resting_blood_pressure</th>\n",
              "      <th>chest_pain_type</th>\n",
              "      <th>num_major_vessels</th>\n",
              "      <th>fasting_blood_sugar_gt_120_mg_per_dl</th>\n",
              "      <th>resting_ekg_results</th>\n",
              "      <th>serum_cholesterol_mg_per_dl</th>\n",
              "      <th>oldpeak_eq_st_depression</th>\n",
              "      <th>sex</th>\n",
              "      <th>age</th>\n",
              "      <th>max_heart_rate_achieved</th>\n",
              "      <th>exercise_induced_angina</th>\n",
              "      <th>heart_disease_present</th>\n",
              "    </tr>\n",
              "  </thead>\n",
              "  <tbody>\n",
              "    <tr>\n",
              "      <th>count</th>\n",
              "      <td>180.000000</td>\n",
              "      <td>180.000000</td>\n",
              "      <td>180.000000</td>\n",
              "      <td>180.000000</td>\n",
              "      <td>180.000000</td>\n",
              "      <td>180.000000</td>\n",
              "      <td>180.000000</td>\n",
              "      <td>180.000000</td>\n",
              "      <td>180.000000</td>\n",
              "      <td>180.000000</td>\n",
              "      <td>180.000000</td>\n",
              "      <td>180.000000</td>\n",
              "      <td>180.000000</td>\n",
              "    </tr>\n",
              "    <tr>\n",
              "      <th>mean</th>\n",
              "      <td>1.550000</td>\n",
              "      <td>131.311111</td>\n",
              "      <td>3.155556</td>\n",
              "      <td>0.694444</td>\n",
              "      <td>0.161111</td>\n",
              "      <td>1.050000</td>\n",
              "      <td>249.211111</td>\n",
              "      <td>1.010000</td>\n",
              "      <td>0.688889</td>\n",
              "      <td>54.811111</td>\n",
              "      <td>149.483333</td>\n",
              "      <td>0.316667</td>\n",
              "      <td>0.444444</td>\n",
              "    </tr>\n",
              "    <tr>\n",
              "      <th>std</th>\n",
              "      <td>0.618838</td>\n",
              "      <td>17.010443</td>\n",
              "      <td>0.938454</td>\n",
              "      <td>0.969347</td>\n",
              "      <td>0.368659</td>\n",
              "      <td>0.998742</td>\n",
              "      <td>52.717969</td>\n",
              "      <td>1.121357</td>\n",
              "      <td>0.464239</td>\n",
              "      <td>9.334737</td>\n",
              "      <td>22.063513</td>\n",
              "      <td>0.466474</td>\n",
              "      <td>0.498290</td>\n",
              "    </tr>\n",
              "    <tr>\n",
              "      <th>min</th>\n",
              "      <td>1.000000</td>\n",
              "      <td>94.000000</td>\n",
              "      <td>1.000000</td>\n",
              "      <td>0.000000</td>\n",
              "      <td>0.000000</td>\n",
              "      <td>0.000000</td>\n",
              "      <td>126.000000</td>\n",
              "      <td>0.000000</td>\n",
              "      <td>0.000000</td>\n",
              "      <td>29.000000</td>\n",
              "      <td>96.000000</td>\n",
              "      <td>0.000000</td>\n",
              "      <td>0.000000</td>\n",
              "    </tr>\n",
              "    <tr>\n",
              "      <th>25%</th>\n",
              "      <td>1.000000</td>\n",
              "      <td>120.000000</td>\n",
              "      <td>3.000000</td>\n",
              "      <td>0.000000</td>\n",
              "      <td>0.000000</td>\n",
              "      <td>0.000000</td>\n",
              "      <td>213.750000</td>\n",
              "      <td>0.000000</td>\n",
              "      <td>0.000000</td>\n",
              "      <td>48.000000</td>\n",
              "      <td>132.000000</td>\n",
              "      <td>0.000000</td>\n",
              "      <td>0.000000</td>\n",
              "    </tr>\n",
              "    <tr>\n",
              "      <th>50%</th>\n",
              "      <td>1.000000</td>\n",
              "      <td>130.000000</td>\n",
              "      <td>3.000000</td>\n",
              "      <td>0.000000</td>\n",
              "      <td>0.000000</td>\n",
              "      <td>2.000000</td>\n",
              "      <td>245.500000</td>\n",
              "      <td>0.800000</td>\n",
              "      <td>1.000000</td>\n",
              "      <td>55.000000</td>\n",
              "      <td>152.000000</td>\n",
              "      <td>0.000000</td>\n",
              "      <td>0.000000</td>\n",
              "    </tr>\n",
              "    <tr>\n",
              "      <th>75%</th>\n",
              "      <td>2.000000</td>\n",
              "      <td>140.000000</td>\n",
              "      <td>4.000000</td>\n",
              "      <td>1.000000</td>\n",
              "      <td>0.000000</td>\n",
              "      <td>2.000000</td>\n",
              "      <td>281.250000</td>\n",
              "      <td>1.600000</td>\n",
              "      <td>1.000000</td>\n",
              "      <td>62.000000</td>\n",
              "      <td>166.250000</td>\n",
              "      <td>1.000000</td>\n",
              "      <td>1.000000</td>\n",
              "    </tr>\n",
              "    <tr>\n",
              "      <th>max</th>\n",
              "      <td>3.000000</td>\n",
              "      <td>180.000000</td>\n",
              "      <td>4.000000</td>\n",
              "      <td>3.000000</td>\n",
              "      <td>1.000000</td>\n",
              "      <td>2.000000</td>\n",
              "      <td>564.000000</td>\n",
              "      <td>6.200000</td>\n",
              "      <td>1.000000</td>\n",
              "      <td>77.000000</td>\n",
              "      <td>202.000000</td>\n",
              "      <td>1.000000</td>\n",
              "      <td>1.000000</td>\n",
              "    </tr>\n",
              "  </tbody>\n",
              "</table>\n",
              "</div>\n",
              "      <button class=\"colab-df-convert\" onclick=\"convertToInteractive('df-e6b45fc9-0687-4ec6-abf6-5b8371cbda61')\"\n",
              "              title=\"Convert this dataframe to an interactive table.\"\n",
              "              style=\"display:none;\">\n",
              "        \n",
              "  <svg xmlns=\"http://www.w3.org/2000/svg\" height=\"24px\"viewBox=\"0 0 24 24\"\n",
              "       width=\"24px\">\n",
              "    <path d=\"M0 0h24v24H0V0z\" fill=\"none\"/>\n",
              "    <path d=\"M18.56 5.44l.94 2.06.94-2.06 2.06-.94-2.06-.94-.94-2.06-.94 2.06-2.06.94zm-11 1L8.5 8.5l.94-2.06 2.06-.94-2.06-.94L8.5 2.5l-.94 2.06-2.06.94zm10 10l.94 2.06.94-2.06 2.06-.94-2.06-.94-.94-2.06-.94 2.06-2.06.94z\"/><path d=\"M17.41 7.96l-1.37-1.37c-.4-.4-.92-.59-1.43-.59-.52 0-1.04.2-1.43.59L10.3 9.45l-7.72 7.72c-.78.78-.78 2.05 0 2.83L4 21.41c.39.39.9.59 1.41.59.51 0 1.02-.2 1.41-.59l7.78-7.78 2.81-2.81c.8-.78.8-2.07 0-2.86zM5.41 20L4 18.59l7.72-7.72 1.47 1.35L5.41 20z\"/>\n",
              "  </svg>\n",
              "      </button>\n",
              "      \n",
              "  <style>\n",
              "    .colab-df-container {\n",
              "      display:flex;\n",
              "      flex-wrap:wrap;\n",
              "      gap: 12px;\n",
              "    }\n",
              "\n",
              "    .colab-df-convert {\n",
              "      background-color: #E8F0FE;\n",
              "      border: none;\n",
              "      border-radius: 50%;\n",
              "      cursor: pointer;\n",
              "      display: none;\n",
              "      fill: #1967D2;\n",
              "      height: 32px;\n",
              "      padding: 0 0 0 0;\n",
              "      width: 32px;\n",
              "    }\n",
              "\n",
              "    .colab-df-convert:hover {\n",
              "      background-color: #E2EBFA;\n",
              "      box-shadow: 0px 1px 2px rgba(60, 64, 67, 0.3), 0px 1px 3px 1px rgba(60, 64, 67, 0.15);\n",
              "      fill: #174EA6;\n",
              "    }\n",
              "\n",
              "    [theme=dark] .colab-df-convert {\n",
              "      background-color: #3B4455;\n",
              "      fill: #D2E3FC;\n",
              "    }\n",
              "\n",
              "    [theme=dark] .colab-df-convert:hover {\n",
              "      background-color: #434B5C;\n",
              "      box-shadow: 0px 1px 3px 1px rgba(0, 0, 0, 0.15);\n",
              "      filter: drop-shadow(0px 1px 2px rgba(0, 0, 0, 0.3));\n",
              "      fill: #FFFFFF;\n",
              "    }\n",
              "  </style>\n",
              "\n",
              "      <script>\n",
              "        const buttonEl =\n",
              "          document.querySelector('#df-e6b45fc9-0687-4ec6-abf6-5b8371cbda61 button.colab-df-convert');\n",
              "        buttonEl.style.display =\n",
              "          google.colab.kernel.accessAllowed ? 'block' : 'none';\n",
              "\n",
              "        async function convertToInteractive(key) {\n",
              "          const element = document.querySelector('#df-e6b45fc9-0687-4ec6-abf6-5b8371cbda61');\n",
              "          const dataTable =\n",
              "            await google.colab.kernel.invokeFunction('convertToInteractive',\n",
              "                                                     [key], {});\n",
              "          if (!dataTable) return;\n",
              "\n",
              "          const docLinkHtml = 'Like what you see? Visit the ' +\n",
              "            '<a target=\"_blank\" href=https://colab.research.google.com/notebooks/data_table.ipynb>data table notebook</a>'\n",
              "            + ' to learn more about interactive tables.';\n",
              "          element.innerHTML = '';\n",
              "          dataTable['output_type'] = 'display_data';\n",
              "          await google.colab.output.renderOutput(dataTable, element);\n",
              "          const docLink = document.createElement('div');\n",
              "          docLink.innerHTML = docLinkHtml;\n",
              "          element.appendChild(docLink);\n",
              "        }\n",
              "      </script>\n",
              "    </div>\n",
              "  </div>\n",
              "  "
            ]
          },
          "metadata": {},
          "execution_count": 399
        }
      ],
      "source": [
        "df.describe()"
      ]
    },
    {
      "cell_type": "markdown",
      "source": [
        "Statistical Information on **Categorical Dataset**"
      ],
      "metadata": {
        "id": "kZ11zC3CGfa7"
      }
    },
    {
      "cell_type": "code",
      "execution_count": null,
      "metadata": {
        "colab": {
          "base_uri": "https://localhost:8080/",
          "height": 175
        },
        "id": "XI06hQJFPHar",
        "outputId": "91763c64-2b5c-4999-e4c0-f254283acf78"
      },
      "outputs": [
        {
          "output_type": "execute_result",
          "data": {
            "text/plain": [
              "       patient_id    thal\n",
              "count         180     180\n",
              "unique        180       3\n",
              "top        0z64un  normal\n",
              "freq            1      98"
            ],
            "text/html": [
              "\n",
              "  <div id=\"df-d1cac84a-851d-4ade-9c55-65d82b561abf\">\n",
              "    <div class=\"colab-df-container\">\n",
              "      <div>\n",
              "<style scoped>\n",
              "    .dataframe tbody tr th:only-of-type {\n",
              "        vertical-align: middle;\n",
              "    }\n",
              "\n",
              "    .dataframe tbody tr th {\n",
              "        vertical-align: top;\n",
              "    }\n",
              "\n",
              "    .dataframe thead th {\n",
              "        text-align: right;\n",
              "    }\n",
              "</style>\n",
              "<table border=\"1\" class=\"dataframe\">\n",
              "  <thead>\n",
              "    <tr style=\"text-align: right;\">\n",
              "      <th></th>\n",
              "      <th>patient_id</th>\n",
              "      <th>thal</th>\n",
              "    </tr>\n",
              "  </thead>\n",
              "  <tbody>\n",
              "    <tr>\n",
              "      <th>count</th>\n",
              "      <td>180</td>\n",
              "      <td>180</td>\n",
              "    </tr>\n",
              "    <tr>\n",
              "      <th>unique</th>\n",
              "      <td>180</td>\n",
              "      <td>3</td>\n",
              "    </tr>\n",
              "    <tr>\n",
              "      <th>top</th>\n",
              "      <td>0z64un</td>\n",
              "      <td>normal</td>\n",
              "    </tr>\n",
              "    <tr>\n",
              "      <th>freq</th>\n",
              "      <td>1</td>\n",
              "      <td>98</td>\n",
              "    </tr>\n",
              "  </tbody>\n",
              "</table>\n",
              "</div>\n",
              "      <button class=\"colab-df-convert\" onclick=\"convertToInteractive('df-d1cac84a-851d-4ade-9c55-65d82b561abf')\"\n",
              "              title=\"Convert this dataframe to an interactive table.\"\n",
              "              style=\"display:none;\">\n",
              "        \n",
              "  <svg xmlns=\"http://www.w3.org/2000/svg\" height=\"24px\"viewBox=\"0 0 24 24\"\n",
              "       width=\"24px\">\n",
              "    <path d=\"M0 0h24v24H0V0z\" fill=\"none\"/>\n",
              "    <path d=\"M18.56 5.44l.94 2.06.94-2.06 2.06-.94-2.06-.94-.94-2.06-.94 2.06-2.06.94zm-11 1L8.5 8.5l.94-2.06 2.06-.94-2.06-.94L8.5 2.5l-.94 2.06-2.06.94zm10 10l.94 2.06.94-2.06 2.06-.94-2.06-.94-.94-2.06-.94 2.06-2.06.94z\"/><path d=\"M17.41 7.96l-1.37-1.37c-.4-.4-.92-.59-1.43-.59-.52 0-1.04.2-1.43.59L10.3 9.45l-7.72 7.72c-.78.78-.78 2.05 0 2.83L4 21.41c.39.39.9.59 1.41.59.51 0 1.02-.2 1.41-.59l7.78-7.78 2.81-2.81c.8-.78.8-2.07 0-2.86zM5.41 20L4 18.59l7.72-7.72 1.47 1.35L5.41 20z\"/>\n",
              "  </svg>\n",
              "      </button>\n",
              "      \n",
              "  <style>\n",
              "    .colab-df-container {\n",
              "      display:flex;\n",
              "      flex-wrap:wrap;\n",
              "      gap: 12px;\n",
              "    }\n",
              "\n",
              "    .colab-df-convert {\n",
              "      background-color: #E8F0FE;\n",
              "      border: none;\n",
              "      border-radius: 50%;\n",
              "      cursor: pointer;\n",
              "      display: none;\n",
              "      fill: #1967D2;\n",
              "      height: 32px;\n",
              "      padding: 0 0 0 0;\n",
              "      width: 32px;\n",
              "    }\n",
              "\n",
              "    .colab-df-convert:hover {\n",
              "      background-color: #E2EBFA;\n",
              "      box-shadow: 0px 1px 2px rgba(60, 64, 67, 0.3), 0px 1px 3px 1px rgba(60, 64, 67, 0.15);\n",
              "      fill: #174EA6;\n",
              "    }\n",
              "\n",
              "    [theme=dark] .colab-df-convert {\n",
              "      background-color: #3B4455;\n",
              "      fill: #D2E3FC;\n",
              "    }\n",
              "\n",
              "    [theme=dark] .colab-df-convert:hover {\n",
              "      background-color: #434B5C;\n",
              "      box-shadow: 0px 1px 3px 1px rgba(0, 0, 0, 0.15);\n",
              "      filter: drop-shadow(0px 1px 2px rgba(0, 0, 0, 0.3));\n",
              "      fill: #FFFFFF;\n",
              "    }\n",
              "  </style>\n",
              "\n",
              "      <script>\n",
              "        const buttonEl =\n",
              "          document.querySelector('#df-d1cac84a-851d-4ade-9c55-65d82b561abf button.colab-df-convert');\n",
              "        buttonEl.style.display =\n",
              "          google.colab.kernel.accessAllowed ? 'block' : 'none';\n",
              "\n",
              "        async function convertToInteractive(key) {\n",
              "          const element = document.querySelector('#df-d1cac84a-851d-4ade-9c55-65d82b561abf');\n",
              "          const dataTable =\n",
              "            await google.colab.kernel.invokeFunction('convertToInteractive',\n",
              "                                                     [key], {});\n",
              "          if (!dataTable) return;\n",
              "\n",
              "          const docLinkHtml = 'Like what you see? Visit the ' +\n",
              "            '<a target=\"_blank\" href=https://colab.research.google.com/notebooks/data_table.ipynb>data table notebook</a>'\n",
              "            + ' to learn more about interactive tables.';\n",
              "          element.innerHTML = '';\n",
              "          dataTable['output_type'] = 'display_data';\n",
              "          await google.colab.output.renderOutput(dataTable, element);\n",
              "          const docLink = document.createElement('div');\n",
              "          docLink.innerHTML = docLinkHtml;\n",
              "          element.appendChild(docLink);\n",
              "        }\n",
              "      </script>\n",
              "    </div>\n",
              "  </div>\n",
              "  "
            ]
          },
          "metadata": {},
          "execution_count": 400
        }
      ],
      "source": [
        "df.describe(include='O') "
      ]
    },
    {
      "cell_type": "code",
      "source": [
        "for label, content in df.items():\n",
        "  if pd.api.types.is_string_dtype(content):\n",
        "    print(label)"
      ],
      "metadata": {
        "colab": {
          "base_uri": "https://localhost:8080/"
        },
        "id": "qVqWhfWYIDix",
        "outputId": "918adcea-6a3b-415f-cab5-3b8565b4cacb"
      },
      "execution_count": null,
      "outputs": [
        {
          "output_type": "stream",
          "name": "stdout",
          "text": [
            "patient_id\n",
            "thal\n"
          ]
        }
      ]
    },
    {
      "cell_type": "markdown",
      "source": [
        "Total no of Numerical data is **13**\n",
        "\n",
        "Total no of Categorical data is **2**"
      ],
      "metadata": {
        "id": "o43Wb3czIucA"
      }
    },
    {
      "cell_type": "markdown",
      "source": [
        "# **EXPLORATORY DATA ANALYSIS** "
      ],
      "metadata": {
        "id": "-vI1UqUNHRhu"
      }
    },
    {
      "cell_type": "markdown",
      "metadata": {
        "id": "Z_LPbaRsKJ5x"
      },
      "source": [
        "\n",
        " \n",
        "For initial investigation on data\n",
        " \n",
        "* To discover patterns \n",
        "* To plot anomalis\n",
        "\n",
        "* To check assumptions with statistics and graphical representations\n",
        "\n",
        "                                     \n"
      ]
    },
    {
      "cell_type": "markdown",
      "metadata": {
        "id": "2G5i3ECjj81a"
      },
      "source": [
        "Importing sweetviz to analyze dataset"
      ]
    },
    {
      "cell_type": "code",
      "execution_count": null,
      "metadata": {
        "id": "JBNlnzLvefXJ"
      },
      "outputs": [],
      "source": [
        "#pip install sweetviz"
      ]
    },
    {
      "cell_type": "markdown",
      "metadata": {
        "id": "tp4WiYhLkWzU"
      },
      "source": [
        "UNIVARIATE ANALYSIS :\n",
        "\n",
        "  *  To check features using various statistical methods and visualizations\n",
        "   \n",
        "   *  Missing values\n",
        "   * Outliers\n",
        "   * Normal distribution - skewness and kurtosis"
      ]
    },
    {
      "cell_type": "code",
      "execution_count": null,
      "metadata": {
        "colab": {
          "base_uri": "https://localhost:8080/",
          "height": 35
        },
        "id": "oUyBlun6kV60",
        "outputId": "e50927e9-39d1-402b-8cab-d8bebe4cc7bf"
      },
      "outputs": [
        {
          "output_type": "execute_result",
          "data": {
            "text/plain": [
              "\"heart_disease_report = sv.analyze(df) #display the report\\nheart_disease_report.show_html('Heart_Disease.html')\""
            ],
            "application/vnd.google.colaboratory.intrinsic+json": {
              "type": "string"
            }
          },
          "metadata": {},
          "execution_count": 403
        }
      ],
      "source": [
        "'''heart_disease_report = sv.analyze(df) #display the report\n",
        "heart_disease_report.show_html('Heart_Disease.html')'''"
      ]
    },
    {
      "cell_type": "markdown",
      "source": [
        "**INSIGHTS FROM ABOVE UNIVARIATE ANALYSIS :**\n",
        "     \n",
        "*   slope_of_peak_exercise_st_segment is **flat slope** , which is present in **93 patients(53%)**.\n",
        "\n",
        "*   Only 7% of patient has **downslope(12 - patient)**\n",
        "* 98 Patients have normal thal\n",
        "* Patients with reversible deffect are 41% and fixed defect 4% \n",
        "* Resting blood pressure , most of the patients have **blood pressure** around **130** and is present in **26 patients**.\n",
        "* 46% of patients have type 4 pain , only 7% of patient has type 1 pain\n",
        "* **109 patients(59%)**  have aroata vessels as **major blood vessel** type\n",
        "* Only 8% of patients have pulmonary blood vessel type which is less in number.\n",
        "* **84%** of patient have (**0 Type**) - blood sugar range that will not affect heart (< 120 mg/dl)\n",
        "* Only **29** patients have (**1- type**) blood sugar \n",
        "* patients with resting electrocardiographic results is **normal** for only 85 patients(**47%**).\n",
        "* Only **one patient** has ST-T (preclinical cardiac involement), which is **type 1**.\n",
        "*serum cholestrol level is high between 204 to 239.\n",
        "* **Oldpeak depression** is high between **0.0 to 0.5**, has occured in **56 patients**.\n",
        "*Only one patient has 6.0 peak \n",
        "* **68%** of patients have **pain** due to **exercise** and 52 patients have pain without doing exercise. \n",
        "* **Males** are **highly** affected than compared to females \n",
        "* Around **124 patients** with heart disease are **male** and **56 patients** are **females** with heart disease.\n",
        "*Age between 45 to 65 are highly affected by heart disease \n",
        "*80  patients are with heart disease , while 100 patients are without heart disease. \n",
        "\n",
        "\n",
        "\n",
        "\n"
      ],
      "metadata": {
        "id": "v-NwENrcRLo2"
      }
    },
    {
      "cell_type": "markdown",
      "source": [
        "## BIVARIATE ANALYSIS"
      ],
      "metadata": {
        "id": "W_HGXAhDLbAl"
      }
    },
    {
      "cell_type": "markdown",
      "metadata": {
        "id": "Y_6APaLP0IGB"
      },
      "source": [
        "  *  To check features using various statistical methods and visualizations\n",
        "   \n",
        "   *  Missing values\n",
        "   * Outliers\n",
        "   * Normal distribution - skewness and kurtosis"
      ]
    },
    {
      "cell_type": "code",
      "execution_count": null,
      "metadata": {
        "id": "UMCsuXyq2-gJ",
        "colab": {
          "base_uri": "https://localhost:8080/",
          "height": 1000
        },
        "outputId": "5e43e5ab-eb2b-4226-ea1b-9a528ee1d216"
      },
      "outputs": [
        {
          "output_type": "display_data",
          "data": {
            "text/plain": [
              "<Figure size 720x1080 with 15 Axes>"
            ],
            "image/png": "[encoded data removed]"
          },
          "metadata": {}
        }
      ],
      "source": [
        "plt.figure(figsize=(10,15), facecolor='white')# defining  canvas size\n",
        "plotnumber = 1 # initializing plotnumber variable to 1 it will maintain the count of how many graph is going to plot in canvas \n",
        "\n",
        "for column in df: # iteration of columns / acessing the columns from  dataset \n",
        "    if plotnumber<=15 :     # as there are 13 columns in the data\n",
        "        ax = plt.subplot(5,3,plotnumber)# plotting 40 graphs (4-rows,3-columns) ,plotnumber is for count  \n",
        "        sns.histplot(x=df[column],hue=df.heart_disease_present) ## it give frequency hue =value counts\n",
        "        plt.xlabel(column,fontsize=10) #assigning name to x-axis and \"name\" font size is 10\n",
        "        plt.ylabel('heart_disease_present ',fontsize=10)#assigning name to y-axis and \"name\" font size is 10\n",
        "    plotnumber+=1 # increment of plotnumber \n",
        "plt.tight_layout()#to show plot"
      ]
    },
    {
      "cell_type": "markdown",
      "source": [
        "**INSIGHTS FROM BIVARIATE ANALYSIS:**\n",
        "\n",
        "  * **Maximum heart rate** around **100 to 140** , which leads to heart disease.\n",
        "\n",
        "  * Pain due to **exercise range** around **0.90 to 1.00** has occured only in **40** patients.\n",
        "  * **Ages** around **60** has high chances of getting heart disease.\n",
        "  * **Males** are highly affected to **heart disease** than females.\n",
        "  * **Peak range** of st depression more than **1** are affected by heart disease.\n",
        "  * Patients with **serum cholestrol** around **350** has high heart related problem.\n",
        "  *Blood sugar  range around **0 to 0.10** has high chances of getting heart disease\n",
        "  *Patients with **Type 0 blood vessel** are more affected, **around 30**.\n",
        "  * **slope of exercise** around **2.0** has **highly occured** in patients than other slope points.\n",
        "  * **Chest pain** **type4** has occured **more** in heart patients."
      ],
      "metadata": {
        "id": "M62TzkglNfQ1"
      }
    },
    {
      "cell_type": "markdown",
      "metadata": {
        "id": "sO4lki_Y647N"
      },
      "source": [
        "*  Less number of unique values are analyzed are categorical features"
      ]
    },
    {
      "cell_type": "code",
      "source": [
        "plt.figure(figsize=(10,4))\n",
        "ax=sns.countplot(x='age',hue='heart_disease_present',data=df);"
      ],
      "metadata": {
        "id": "83z5GpeDUu7c",
        "colab": {
          "base_uri": "https://localhost:8080/",
          "height": 279
        },
        "outputId": "ef06db46-90ae-48b2-dbb8-7a1bb20eaf28"
      },
      "execution_count": null,
      "outputs": [
        {
          "output_type": "display_data",
          "data": {
            "text/plain": [
              "<Figure size 720x288 with 1 Axes>"
            ],
            "image/png": "[encoded data removed]"
          },
          "metadata": {
            "needs_background": "light"
          }
        }
      ]
    },
    {
      "cell_type": "markdown",
      "source": [
        "AGE :\n",
        "  * Patients age between 58 to 62 has high chance of getting heart disease.\n",
        " "
      ],
      "metadata": {
        "id": "FM9uwSWWURh6"
      }
    },
    {
      "cell_type": "code",
      "source": [
        "plt.figure(figsize=(4,4))\n",
        "ax=sns.countplot(x='slope_of_peak_exercise_st_segment',hue='heart_disease_present',data=df);"
      ],
      "metadata": {
        "id": "oFKJtUzMM_H-",
        "colab": {
          "base_uri": "https://localhost:8080/",
          "height": 280
        },
        "outputId": "69799a58-72d4-467d-e0b0-c8b0aac22bee"
      },
      "execution_count": null,
      "outputs": [
        {
          "output_type": "display_data",
          "data": {
            "text/plain": [
              "<Figure size 288x288 with 1 Axes>"
            ],
            "image/png": "[encoded data removed]"
          },
          "metadata": {
            "needs_background": "light"
          }
        }
      ]
    },
    {
      "cell_type": "markdown",
      "source": [
        "SLOPE OF EXERCISE ST:\n",
        "\n",
        " * Type 1 -slope(flat),present in only 25% of patients. \n",
        " * Type 2 slope(upslope) is high as compared to Type 3.   \n",
        " "
      ],
      "metadata": {
        "id": "CfEX0jaeOVBl"
      }
    },
    {
      "cell_type": "code",
      "source": [
        "plt.figure(figsize=(4,4))\n",
        "ax=sns.countplot(x='chest_pain_type',hue='heart_disease_present',data=df);"
      ],
      "metadata": {
        "id": "X1eZTtCtOXeX",
        "colab": {
          "base_uri": "https://localhost:8080/",
          "height": 280
        },
        "outputId": "7ea5cae8-fabc-4d4a-8814-bb422de90875"
      },
      "execution_count": null,
      "outputs": [
        {
          "output_type": "display_data",
          "data": {
            "text/plain": [
              "<Figure size 288x288 with 1 Axes>"
            ],
            "image/png": "[encoded data removed]"
          },
          "metadata": {
            "needs_background": "light"
          }
        }
      ]
    },
    {
      "cell_type": "markdown",
      "source": [
        "CHEST PAIN:\n",
        "   * Type 4 chest pain is more in heart disease patient"
      ],
      "metadata": {
        "id": "AVhXJb8HOwAc"
      }
    },
    {
      "cell_type": "code",
      "source": [
        "plt.figure(figsize=(4,4))\n",
        "ax=sns.countplot(x='num_major_vessels',hue='heart_disease_present',data=df);"
      ],
      "metadata": {
        "id": "xnBWe8vkOx9l",
        "colab": {
          "base_uri": "https://localhost:8080/",
          "height": 282
        },
        "outputId": "2566befa-fab9-474c-eae7-2e2c9ab2611f"
      },
      "execution_count": null,
      "outputs": [
        {
          "output_type": "display_data",
          "data": {
            "text/plain": [
              "<Figure size 288x288 with 1 Axes>"
            ],
            "image/png": "[encoded data removed]"
          },
          "metadata": {
            "needs_background": "light"
          }
        }
      ]
    },
    {
      "cell_type": "markdown",
      "source": [
        "MAJOR VESSELS:\n",
        " \n",
        " * **0** - Arota vessels are seen in **many** heart disease people.\n",
        " * 1 - vena cava and  2 - pulmonary artery are present in less number of patients as compared to patients with arota vessels.\n",
        " * **3** - pulmonary vien is seen **less** heart patients."
      ],
      "metadata": {
        "id": "zje3sj9bPEjO"
      }
    },
    {
      "cell_type": "code",
      "source": [
        "plt.figure(figsize=(4,4))\n",
        "ax=sns.countplot(x='fasting_blood_sugar_gt_120_mg_per_dl',hue='heart_disease_present',data=df);"
      ],
      "metadata": {
        "id": "rXnSGxlXPHE6",
        "colab": {
          "base_uri": "https://localhost:8080/",
          "height": 280
        },
        "outputId": "ea3d3fcc-638a-4689-9c24-ce3e34a9eb04"
      },
      "execution_count": null,
      "outputs": [
        {
          "output_type": "display_data",
          "data": {
            "text/plain": [
              "<Figure size 288x288 with 1 Axes>"
            ],
            "image/png": "[encoded data removed]"
          },
          "metadata": {
            "needs_background": "light"
          }
        }
      ]
    },
    {
      "cell_type": "markdown",
      "source": [
        "FASTING BLOOD SUGAR:\n",
        "\n",
        "\n",
        "* 0 - blood sugar range that will not affect heart (< 120 mg/dl), has occured more in patients\n",
        "* **1** - blood sugar range that **will affect heart** (> 120 mg/dl), seen only in **few patients**.\n"
      ],
      "metadata": {
        "id": "SxlaNgP3T7Od"
      }
    },
    {
      "cell_type": "code",
      "source": [
        "plt.figure(figsize=(4,4))\n",
        "ax=sns.countplot(x='resting_ekg_results',hue='heart_disease_present',data=df);"
      ],
      "metadata": {
        "id": "Oiy38UcJTZpH",
        "colab": {
          "base_uri": "https://localhost:8080/",
          "height": 280
        },
        "outputId": "5bbf7346-974f-4177-ca68-a208f624164c"
      },
      "execution_count": null,
      "outputs": [
        {
          "output_type": "display_data",
          "data": {
            "text/plain": [
              "<Figure size 288x288 with 1 Axes>"
            ],
            "image/png": "[encoded data removed]"
          },
          "metadata": {
            "needs_background": "light"
          }
        }
      ]
    },
    {
      "cell_type": "markdown",
      "source": [
        "RESTING EKA:\n",
        " \n",
        " * 0 - normal , it is noticed in average number of heart patients\n",
        " * 1 - has ST-T (preclinical cardiac involement) level is seen only in few   patients .\n",
        "\n",
        " * **2 - hypertrophy** (maximum heart rate) level  is present in **many pantients.**"
      ],
      "metadata": {
        "id": "zDlL8vieUAxi"
      }
    },
    {
      "cell_type": "code",
      "source": [
        "plt.figure(figsize=(4,4))\n",
        "ax=sns.countplot(x='sex',hue='heart_disease_present',data=df);"
      ],
      "metadata": {
        "id": "DJyiXalQUCPm",
        "colab": {
          "base_uri": "https://localhost:8080/",
          "height": 279
        },
        "outputId": "245287df-fd70-4ab1-a282-0de0862ad91e"
      },
      "execution_count": null,
      "outputs": [
        {
          "output_type": "display_data",
          "data": {
            "text/plain": [
              "<Figure size 288x288 with 1 Axes>"
            ],
            "image/png": "[encoded data removed]"
          },
          "metadata": {
            "needs_background": "light"
          }
        }
      ]
    },
    {
      "cell_type": "markdown",
      "source": [
        "SEX:\n",
        "\n",
        "  * **Males(1)** have **high** chance of getting heart disease compared to womens.  "
      ],
      "metadata": {
        "id": "HIPHgyw6T_id"
      }
    },
    {
      "cell_type": "code",
      "source": [
        "plt.figure(figsize=(4,4))\n",
        "ax=sns.countplot(x='exercise_induced_angina',hue='heart_disease_present',data=df);"
      ],
      "metadata": {
        "id": "_DTY24dLUee4",
        "colab": {
          "base_uri": "https://localhost:8080/",
          "height": 280
        },
        "outputId": "fcbac645-78ad-4351-fac6-7da38da96383"
      },
      "execution_count": null,
      "outputs": [
        {
          "output_type": "display_data",
          "data": {
            "text/plain": [
              "<Figure size 288x288 with 1 Axes>"
            ],
            "image/png": "[encoded data removed]"
          },
          "metadata": {
            "needs_background": "light"
          }
        }
      ]
    },
    {
      "cell_type": "markdown",
      "source": [
        "EXERCISE INDUCED ANGINA:\n",
        "   * Patients with **chest pain(1)** has **high risk** of getting heart disease than patiemts without chest pain(0). "
      ],
      "metadata": {
        "id": "Hl-Tyhn0Up_l"
      }
    },
    {
      "cell_type": "code",
      "source": [
        "sns.scatterplot(x='age',y='max_heart_rate_achieved',data=df);"
      ],
      "metadata": {
        "id": "QKxjCd15ZQKB",
        "colab": {
          "base_uri": "https://localhost:8080/",
          "height": 279
        },
        "outputId": "1171c3cf-3b29-4304-a987-45dd9df4f7aa"
      },
      "execution_count": null,
      "outputs": [
        {
          "output_type": "display_data",
          "data": {
            "text/plain": [
              "<Figure size 432x288 with 1 Axes>"
            ],
            "image/png": "[encoded data removed]"
          },
          "metadata": {
            "needs_background": "light"
          }
        }
      ]
    },
    {
      "cell_type": "markdown",
      "source": [
        "AGE:\n",
        "  \n",
        "   * Patients age between 40 to 70 has high chances of achieving maximum heart rate."
      ],
      "metadata": {
        "id": "_XibC7tma5zc"
      }
    },
    {
      "cell_type": "code",
      "source": [
        "sns.scatterplot(x='max_heart_rate_achieved',y='oldpeak_eq_st_depression',data=df);"
      ],
      "metadata": {
        "id": "O6n7H_Kea6l7",
        "colab": {
          "base_uri": "https://localhost:8080/",
          "height": 280
        },
        "outputId": "2d3cc4f9-61b8-428f-e212-efb2df7c54c9"
      },
      "execution_count": null,
      "outputs": [
        {
          "output_type": "display_data",
          "data": {
            "text/plain": [
              "<Figure size 432x288 with 1 Axes>"
            ],
            "image/png": "[encoded data removed]"
          },
          "metadata": {
            "needs_background": "light"
          }
        }
      ]
    },
    {
      "cell_type": "markdown",
      "source": [
        "OLDPEAK ST DEPRESSION:\n",
        " \n",
        " *  St depression range from **0 to 1.5**, occured in many patients which leads to **maximum heart rate(140 - 190)** , which is seen in **many heart patients**"
      ],
      "metadata": {
        "id": "LIdcov65dama"
      }
    },
    {
      "cell_type": "code",
      "source": [
        "sns.scatterplot(x='resting_blood_pressure',y='age',data=df);"
      ],
      "metadata": {
        "id": "_n_KEwEAdbus",
        "colab": {
          "base_uri": "https://localhost:8080/",
          "height": 280
        },
        "outputId": "6c00e313-ab21-4e51-c564-ce1b5559728a"
      },
      "execution_count": null,
      "outputs": [
        {
          "output_type": "display_data",
          "data": {
            "text/plain": [
              "<Figure size 432x288 with 1 Axes>"
            ],
            "image/png": "[encoded data removed]"
          },
          "metadata": {
            "needs_background": "light"
          }
        }
      ]
    },
    {
      "cell_type": "markdown",
      "source": [
        "RESTING BLOOD PRESSURE WITH AGE:\n",
        " \n",
        " * Blood pressure range **around 110 to 160** is highly seen in patients age **more than 40** "
      ],
      "metadata": {
        "id": "i9lnTIOyeo7I"
      }
    },
    {
      "cell_type": "code",
      "source": [
        "sns.scatterplot(x='max_heart_rate_achieved',y='age',data=df);"
      ],
      "metadata": {
        "id": "athbpKgoep2r",
        "colab": {
          "base_uri": "https://localhost:8080/",
          "height": 280
        },
        "outputId": "468e9912-81ea-45ac-91a9-f91ce76ad972"
      },
      "execution_count": null,
      "outputs": [
        {
          "output_type": "display_data",
          "data": {
            "text/plain": [
              "<Figure size 432x288 with 1 Axes>"
            ],
            "image/png": "[encoded data removed]"
          },
          "metadata": {
            "needs_background": "light"
          }
        }
      ]
    },
    {
      "cell_type": "markdown",
      "source": [
        "AGE:\n",
        " \n",
        "  *  Patients age from **40 till 70** has **high** chance to acheive maximum heart rate."
      ],
      "metadata": {
        "id": "NkcA1Aref1WI"
      }
    },
    {
      "cell_type": "code",
      "source": [
        "sns.scatterplot(x='serum_cholesterol_mg_per_dl',y='max_heart_rate_achieved',data=df);"
      ],
      "metadata": {
        "id": "LX4lqmP-f1s3",
        "colab": {
          "base_uri": "https://localhost:8080/",
          "height": 280
        },
        "outputId": "5247a1cd-94eb-4538-ecef-e1dd5bce75a7"
      },
      "execution_count": null,
      "outputs": [
        {
          "output_type": "display_data",
          "data": {
            "text/plain": [
              "<Figure size 432x288 with 1 Axes>"
            ],
            "image/png": "[encoded data removed]"
          },
          "metadata": {
            "needs_background": "light"
          }
        }
      ]
    },
    {
      "cell_type": "markdown",
      "source": [
        "SERUM CHOLESTROL:\n",
        " \n",
        "  * Patients with serum cholestrol range from **200 to 380** are **highly** occured ,which leads to maximum heart rate.  "
      ],
      "metadata": {
        "id": "WZi4hxQ-gAxe"
      }
    },
    {
      "cell_type": "markdown",
      "source": [
        "# DataPreprocessing"
      ],
      "metadata": {
        "id": "002vg-DdgeYF"
      }
    },
    {
      "cell_type": "code",
      "source": [
        "df.duplicated().sum()"
      ],
      "metadata": {
        "id": "qKy1q-h5gm8l",
        "colab": {
          "base_uri": "https://localhost:8080/"
        },
        "outputId": "a9683bec-c6b7-438e-cef9-73b8933fb111"
      },
      "execution_count": null,
      "outputs": [
        {
          "output_type": "execute_result",
          "data": {
            "text/plain": [
              "0"
            ]
          },
          "metadata": {},
          "execution_count": 418
        }
      ]
    },
    {
      "cell_type": "markdown",
      "source": [
        "No **Duplicate Values**"
      ],
      "metadata": {
        "id": "FJguB4bfg1I-"
      }
    },
    {
      "cell_type": "code",
      "source": [
        "df.isnull().sum()"
      ],
      "metadata": {
        "id": "IeipRRS7g5Bh",
        "colab": {
          "base_uri": "https://localhost:8080/"
        },
        "outputId": "9137a756-f953-4d0e-8cd5-94ebdec016c8"
      },
      "execution_count": null,
      "outputs": [
        {
          "output_type": "execute_result",
          "data": {
            "text/plain": [
              "patient_id                              0\n",
              "slope_of_peak_exercise_st_segment       0\n",
              "thal                                    0\n",
              "resting_blood_pressure                  0\n",
              "chest_pain_type                         0\n",
              "num_major_vessels                       0\n",
              "fasting_blood_sugar_gt_120_mg_per_dl    0\n",
              "resting_ekg_results                     0\n",
              "serum_cholesterol_mg_per_dl             0\n",
              "oldpeak_eq_st_depression                0\n",
              "sex                                     0\n",
              "age                                     0\n",
              "max_heart_rate_achieved                 0\n",
              "exercise_induced_angina                 0\n",
              "heart_disease_present                   0\n",
              "dtype: int64"
            ]
          },
          "metadata": {},
          "execution_count": 419
        }
      ]
    },
    {
      "cell_type": "markdown",
      "source": [
        "**No NULL** Values"
      ],
      "metadata": {
        "id": "wIEf93Owg-tQ"
      }
    },
    {
      "cell_type": "markdown",
      "source": [
        "## Convert Categorical to numerial"
      ],
      "metadata": {
        "id": "VEeJZvaohi3h"
      }
    },
    {
      "cell_type": "code",
      "source": [
        "one_hot_encoded_df = pd.get_dummies(df['thal'])\n",
        "one_hot_encoded_df "
      ],
      "metadata": {
        "id": "V5Gp2Zw5hmkQ",
        "colab": {
          "base_uri": "https://localhost:8080/",
          "height": 424
        },
        "outputId": "c7cf918a-f470-41aa-a110-fbc1947228ed"
      },
      "execution_count": null,
      "outputs": [
        {
          "output_type": "execute_result",
          "data": {
            "text/plain": [
              "     fixed_defect  normal  reversible_defect\n",
              "0               0       1                  0\n",
              "1               0       1                  0\n",
              "2               0       1                  0\n",
              "3               0       0                  1\n",
              "4               0       0                  1\n",
              "..            ...     ...                ...\n",
              "175             0       0                  1\n",
              "176             0       1                  0\n",
              "177             0       0                  1\n",
              "178             0       1                  0\n",
              "179             0       1                  0\n",
              "\n",
              "[180 rows x 3 columns]"
            ],
            "text/html": [
              "\n",
              "  <div id=\"df-51934cca-706b-4546-8cc7-105a61f41ac7\">\n",
              "    <div class=\"colab-df-container\">\n",
              "      <div>\n",
              "<style scoped>\n",
              "    .dataframe tbody tr th:only-of-type {\n",
              "        vertical-align: middle;\n",
              "    }\n",
              "\n",
              "    .dataframe tbody tr th {\n",
              "        vertical-align: top;\n",
              "    }\n",
              "\n",
              "    .dataframe thead th {\n",
              "        text-align: right;\n",
              "    }\n",
              "</style>\n",
              "<table border=\"1\" class=\"dataframe\">\n",
              "  <thead>\n",
              "    <tr style=\"text-align: right;\">\n",
              "      <th></th>\n",
              "      <th>fixed_defect</th>\n",
              "      <th>normal</th>\n",
              "      <th>reversible_defect</th>\n",
              "    </tr>\n",
              "  </thead>\n",
              "  <tbody>\n",
              "    <tr>\n",
              "      <th>0</th>\n",
              "      <td>0</td>\n",
              "      <td>1</td>\n",
              "      <td>0</td>\n",
              "    </tr>\n",
              "    <tr>\n",
              "      <th>1</th>\n",
              "      <td>0</td>\n",
              "      <td>1</td>\n",
              "      <td>0</td>\n",
              "    </tr>\n",
              "    <tr>\n",
              "      <th>2</th>\n",
              "      <td>0</td>\n",
              "      <td>1</td>\n",
              "      <td>0</td>\n",
              "    </tr>\n",
              "    <tr>\n",
              "      <th>3</th>\n",
              "      <td>0</td>\n",
              "      <td>0</td>\n",
              "      <td>1</td>\n",
              "    </tr>\n",
              "    <tr>\n",
              "      <th>4</th>\n",
              "      <td>0</td>\n",
              "      <td>0</td>\n",
              "      <td>1</td>\n",
              "    </tr>\n",
              "    <tr>\n",
              "      <th>...</th>\n",
              "      <td>...</td>\n",
              "      <td>...</td>\n",
              "      <td>...</td>\n",
              "    </tr>\n",
              "    <tr>\n",
              "      <th>175</th>\n",
              "      <td>0</td>\n",
              "      <td>0</td>\n",
              "      <td>1</td>\n",
              "    </tr>\n",
              "    <tr>\n",
              "      <th>176</th>\n",
              "      <td>0</td>\n",
              "      <td>1</td>\n",
              "      <td>0</td>\n",
              "    </tr>\n",
              "    <tr>\n",
              "      <th>177</th>\n",
              "      <td>0</td>\n",
              "      <td>0</td>\n",
              "      <td>1</td>\n",
              "    </tr>\n",
              "    <tr>\n",
              "      <th>178</th>\n",
              "      <td>0</td>\n",
              "      <td>1</td>\n",
              "      <td>0</td>\n",
              "    </tr>\n",
              "    <tr>\n",
              "      <th>179</th>\n",
              "      <td>0</td>\n",
              "      <td>1</td>\n",
              "      <td>0</td>\n",
              "    </tr>\n",
              "  </tbody>\n",
              "</table>\n",
              "<p>180 rows × 3 columns</p>\n",
              "</div>\n",
              "      <button class=\"colab-df-convert\" onclick=\"convertToInteractive('df-51934cca-706b-4546-8cc7-105a61f41ac7')\"\n",
              "              title=\"Convert this dataframe to an interactive table.\"\n",
              "              style=\"display:none;\">\n",
              "        \n",
              "  <svg xmlns=\"http://www.w3.org/2000/svg\" height=\"24px\"viewBox=\"0 0 24 24\"\n",
              "       width=\"24px\">\n",
              "    <path d=\"M0 0h24v24H0V0z\" fill=\"none\"/>\n",
              "    <path d=\"M18.56 5.44l.94 2.06.94-2.06 2.06-.94-2.06-.94-.94-2.06-.94 2.06-2.06.94zm-11 1L8.5 8.5l.94-2.06 2.06-.94-2.06-.94L8.5 2.5l-.94 2.06-2.06.94zm10 10l.94 2.06.94-2.06 2.06-.94-2.06-.94-.94-2.06-.94 2.06-2.06.94z\"/><path d=\"M17.41 7.96l-1.37-1.37c-.4-.4-.92-.59-1.43-.59-.52 0-1.04.2-1.43.59L10.3 9.45l-7.72 7.72c-.78.78-.78 2.05 0 2.83L4 21.41c.39.39.9.59 1.41.59.51 0 1.02-.2 1.41-.59l7.78-7.78 2.81-2.81c.8-.78.8-2.07 0-2.86zM5.41 20L4 18.59l7.72-7.72 1.47 1.35L5.41 20z\"/>\n",
              "  </svg>\n",
              "      </button>\n",
              "      \n",
              "  <style>\n",
              "    .colab-df-container {\n",
              "      display:flex;\n",
              "      flex-wrap:wrap;\n",
              "      gap: 12px;\n",
              "    }\n",
              "\n",
              "    .colab-df-convert {\n",
              "      background-color: #E8F0FE;\n",
              "      border: none;\n",
              "      border-radius: 50%;\n",
              "      cursor: pointer;\n",
              "      display: none;\n",
              "      fill: #1967D2;\n",
              "      height: 32px;\n",
              "      padding: 0 0 0 0;\n",
              "      width: 32px;\n",
              "    }\n",
              "\n",
              "    .colab-df-convert:hover {\n",
              "      background-color: #E2EBFA;\n",
              "      box-shadow: 0px 1px 2px rgba(60, 64, 67, 0.3), 0px 1px 3px 1px rgba(60, 64, 67, 0.15);\n",
              "      fill: #174EA6;\n",
              "    }\n",
              "\n",
              "    [theme=dark] .colab-df-convert {\n",
              "      background-color: #3B4455;\n",
              "      fill: #D2E3FC;\n",
              "    }\n",
              "\n",
              "    [theme=dark] .colab-df-convert:hover {\n",
              "      background-color: #434B5C;\n",
              "      box-shadow: 0px 1px 3px 1px rgba(0, 0, 0, 0.15);\n",
              "      filter: drop-shadow(0px 1px 2px rgba(0, 0, 0, 0.3));\n",
              "      fill: #FFFFFF;\n",
              "    }\n",
              "  </style>\n",
              "\n",
              "      <script>\n",
              "        const buttonEl =\n",
              "          document.querySelector('#df-51934cca-706b-4546-8cc7-105a61f41ac7 button.colab-df-convert');\n",
              "        buttonEl.style.display =\n",
              "          google.colab.kernel.accessAllowed ? 'block' : 'none';\n",
              "\n",
              "        async function convertToInteractive(key) {\n",
              "          const element = document.querySelector('#df-51934cca-706b-4546-8cc7-105a61f41ac7');\n",
              "          const dataTable =\n",
              "            await google.colab.kernel.invokeFunction('convertToInteractive',\n",
              "                                                     [key], {});\n",
              "          if (!dataTable) return;\n",
              "\n",
              "          const docLinkHtml = 'Like what you see? Visit the ' +\n",
              "            '<a target=\"_blank\" href=https://colab.research.google.com/notebooks/data_table.ipynb>data table notebook</a>'\n",
              "            + ' to learn more about interactive tables.';\n",
              "          element.innerHTML = '';\n",
              "          dataTable['output_type'] = 'display_data';\n",
              "          await google.colab.output.renderOutput(dataTable, element);\n",
              "          const docLink = document.createElement('div');\n",
              "          docLink.innerHTML = docLinkHtml;\n",
              "          element.appendChild(docLink);\n",
              "        }\n",
              "      </script>\n",
              "    </div>\n",
              "  </div>\n",
              "  "
            ]
          },
          "metadata": {},
          "execution_count": 420
        }
      ]
    },
    {
      "cell_type": "code",
      "source": [
        "one_hot_encoded_df.rename({'fixed_defect': 'thal_fixed_defect', 'reversible_defect': 'thal_reversible_defect','normal':'thal_normal'}, axis=1, inplace=True)"
      ],
      "metadata": {
        "id": "BwGJ0dYtj46p"
      },
      "execution_count": null,
      "outputs": []
    },
    {
      "cell_type": "code",
      "source": [
        "df.drop('thal',axis=1,inplace=True)"
      ],
      "metadata": {
        "id": "uFGmk2lEmKbe"
      },
      "execution_count": null,
      "outputs": []
    },
    {
      "cell_type": "code",
      "source": [
        "df=df.join(one_hot_encoded_df)\n"
      ],
      "metadata": {
        "id": "y6LHurlGm6dp"
      },
      "execution_count": null,
      "outputs": []
    },
    {
      "cell_type": "code",
      "source": [
        "df.head()"
      ],
      "metadata": {
        "id": "ZVgCevVozxRH",
        "colab": {
          "base_uri": "https://localhost:8080/",
          "height": 270
        },
        "outputId": "d42325a4-3208-455f-df84-8c74615847e1"
      },
      "execution_count": null,
      "outputs": [
        {
          "output_type": "execute_result",
          "data": {
            "text/plain": [
              "  patient_id  slope_of_peak_exercise_st_segment  resting_blood_pressure  \\\n",
              "0     0z64un                                  1                     128   \n",
              "1     ryoo3j                                  2                     110   \n",
              "2     yt1s1x                                  1                     125   \n",
              "3     l2xjde                                  1                     152   \n",
              "4     oyt4ek                                  3                     178   \n",
              "\n",
              "   chest_pain_type  num_major_vessels  fasting_blood_sugar_gt_120_mg_per_dl  \\\n",
              "0                2                  0                                     0   \n",
              "1                3                  0                                     0   \n",
              "2                4                  3                                     0   \n",
              "3                4                  0                                     0   \n",
              "4                1                  0                                     0   \n",
              "\n",
              "   resting_ekg_results  serum_cholesterol_mg_per_dl  oldpeak_eq_st_depression  \\\n",
              "0                    2                          308                       0.0   \n",
              "1                    0                          214                       1.6   \n",
              "2                    2                          304                       0.0   \n",
              "3                    0                          223                       0.0   \n",
              "4                    2                          270                       4.2   \n",
              "\n",
              "   sex  age  max_heart_rate_achieved  exercise_induced_angina  \\\n",
              "0    1   45                      170                        0   \n",
              "1    0   54                      158                        0   \n",
              "2    1   77                      162                        1   \n",
              "3    1   40                      181                        0   \n",
              "4    1   59                      145                        0   \n",
              "\n",
              "   heart_disease_present  thal_fixed_defect  thal_normal  \\\n",
              "0                      0                  0            1   \n",
              "1                      0                  0            1   \n",
              "2                      1                  0            1   \n",
              "3                      1                  0            0   \n",
              "4                      0                  0            0   \n",
              "\n",
              "   thal_reversible_defect  \n",
              "0                       0  \n",
              "1                       0  \n",
              "2                       0  \n",
              "3                       1  \n",
              "4                       1  "
            ],
            "text/html": [
              "\n",
              "  <div id=\"df-13d8a033-4dde-4a8e-ad9b-b3906ec2092e\">\n",
              "    <div class=\"colab-df-container\">\n",
              "      <div>\n",
              "<style scoped>\n",
              "    .dataframe tbody tr th:only-of-type {\n",
              "        vertical-align: middle;\n",
              "    }\n",
              "\n",
              "    .dataframe tbody tr th {\n",
              "        vertical-align: top;\n",
              "    }\n",
              "\n",
              "    .dataframe thead th {\n",
              "        text-align: right;\n",
              "    }\n",
              "</style>\n",
              "<table border=\"1\" class=\"dataframe\">\n",
              "  <thead>\n",
              "    <tr style=\"text-align: right;\">\n",
              "      <th></th>\n",
              "      <th>patient_id</th>\n",
              "      <th>slope_of_peak_exercise_st_segment</th>\n",
              "      <th>resting_blood_pressure</th>\n",
              "      <th>chest_pain_type</th>\n",
              "      <th>num_major_vessels</th>\n",
              "      <th>fasting_blood_sugar_gt_120_mg_per_dl</th>\n",
              "      <th>resting_ekg_results</th>\n",
              "      <th>serum_cholesterol_mg_per_dl</th>\n",
              "      <th>oldpeak_eq_st_depression</th>\n",
              "      <th>sex</th>\n",
              "      <th>age</th>\n",
              "      <th>max_heart_rate_achieved</th>\n",
              "      <th>exercise_induced_angina</th>\n",
              "      <th>heart_disease_present</th>\n",
              "      <th>thal_fixed_defect</th>\n",
              "      <th>thal_normal</th>\n",
              "      <th>thal_reversible_defect</th>\n",
              "    </tr>\n",
              "  </thead>\n",
              "  <tbody>\n",
              "    <tr>\n",
              "      <th>0</th>\n",
              "      <td>0z64un</td>\n",
              "      <td>1</td>\n",
              "      <td>128</td>\n",
              "      <td>2</td>\n",
              "      <td>0</td>\n",
              "      <td>0</td>\n",
              "      <td>2</td>\n",
              "      <td>308</td>\n",
              "      <td>0.0</td>\n",
              "      <td>1</td>\n",
              "      <td>45</td>\n",
              "      <td>170</td>\n",
              "      <td>0</td>\n",
              "      <td>0</td>\n",
              "      <td>0</td>\n",
              "      <td>1</td>\n",
              "      <td>0</td>\n",
              "    </tr>\n",
              "    <tr>\n",
              "      <th>1</th>\n",
              "      <td>ryoo3j</td>\n",
              "      <td>2</td>\n",
              "      <td>110</td>\n",
              "      <td>3</td>\n",
              "      <td>0</td>\n",
              "      <td>0</td>\n",
              "      <td>0</td>\n",
              "      <td>214</td>\n",
              "      <td>1.6</td>\n",
              "      <td>0</td>\n",
              "      <td>54</td>\n",
              "      <td>158</td>\n",
              "      <td>0</td>\n",
              "      <td>0</td>\n",
              "      <td>0</td>\n",
              "      <td>1</td>\n",
              "      <td>0</td>\n",
              "    </tr>\n",
              "    <tr>\n",
              "      <th>2</th>\n",
              "      <td>yt1s1x</td>\n",
              "      <td>1</td>\n",
              "      <td>125</td>\n",
              "      <td>4</td>\n",
              "      <td>3</td>\n",
              "      <td>0</td>\n",
              "      <td>2</td>\n",
              "      <td>304</td>\n",
              "      <td>0.0</td>\n",
              "      <td>1</td>\n",
              "      <td>77</td>\n",
              "      <td>162</td>\n",
              "      <td>1</td>\n",
              "      <td>1</td>\n",
              "      <td>0</td>\n",
              "      <td>1</td>\n",
              "      <td>0</td>\n",
              "    </tr>\n",
              "    <tr>\n",
              "      <th>3</th>\n",
              "      <td>l2xjde</td>\n",
              "      <td>1</td>\n",
              "      <td>152</td>\n",
              "      <td>4</td>\n",
              "      <td>0</td>\n",
              "      <td>0</td>\n",
              "      <td>0</td>\n",
              "      <td>223</td>\n",
              "      <td>0.0</td>\n",
              "      <td>1</td>\n",
              "      <td>40</td>\n",
              "      <td>181</td>\n",
              "      <td>0</td>\n",
              "      <td>1</td>\n",
              "      <td>0</td>\n",
              "      <td>0</td>\n",
              "      <td>1</td>\n",
              "    </tr>\n",
              "    <tr>\n",
              "      <th>4</th>\n",
              "      <td>oyt4ek</td>\n",
              "      <td>3</td>\n",
              "      <td>178</td>\n",
              "      <td>1</td>\n",
              "      <td>0</td>\n",
              "      <td>0</td>\n",
              "      <td>2</td>\n",
              "      <td>270</td>\n",
              "      <td>4.2</td>\n",
              "      <td>1</td>\n",
              "      <td>59</td>\n",
              "      <td>145</td>\n",
              "      <td>0</td>\n",
              "      <td>0</td>\n",
              "      <td>0</td>\n",
              "      <td>0</td>\n",
              "      <td>1</td>\n",
              "    </tr>\n",
              "  </tbody>\n",
              "</table>\n",
              "</div>\n",
              "      <button class=\"colab-df-convert\" onclick=\"convertToInteractive('df-13d8a033-4dde-4a8e-ad9b-b3906ec2092e')\"\n",
              "              title=\"Convert this dataframe to an interactive table.\"\n",
              "              style=\"display:none;\">\n",
              "        \n",
              "  <svg xmlns=\"http://www.w3.org/2000/svg\" height=\"24px\"viewBox=\"0 0 24 24\"\n",
              "       width=\"24px\">\n",
              "    <path d=\"M0 0h24v24H0V0z\" fill=\"none\"/>\n",
              "    <path d=\"M18.56 5.44l.94 2.06.94-2.06 2.06-.94-2.06-.94-.94-2.06-.94 2.06-2.06.94zm-11 1L8.5 8.5l.94-2.06 2.06-.94-2.06-.94L8.5 2.5l-.94 2.06-2.06.94zm10 10l.94 2.06.94-2.06 2.06-.94-2.06-.94-.94-2.06-.94 2.06-2.06.94z\"/><path d=\"M17.41 7.96l-1.37-1.37c-.4-.4-.92-.59-1.43-.59-.52 0-1.04.2-1.43.59L10.3 9.45l-7.72 7.72c-.78.78-.78 2.05 0 2.83L4 21.41c.39.39.9.59 1.41.59.51 0 1.02-.2 1.41-.59l7.78-7.78 2.81-2.81c.8-.78.8-2.07 0-2.86zM5.41 20L4 18.59l7.72-7.72 1.47 1.35L5.41 20z\"/>\n",
              "  </svg>\n",
              "      </button>\n",
              "      \n",
              "  <style>\n",
              "    .colab-df-container {\n",
              "      display:flex;\n",
              "      flex-wrap:wrap;\n",
              "      gap: 12px;\n",
              "    }\n",
              "\n",
              "    .colab-df-convert {\n",
              "      background-color: #E8F0FE;\n",
              "      border: none;\n",
              "      border-radius: 50%;\n",
              "      cursor: pointer;\n",
              "      display: none;\n",
              "      fill: #1967D2;\n",
              "      height: 32px;\n",
              "      padding: 0 0 0 0;\n",
              "      width: 32px;\n",
              "    }\n",
              "\n",
              "    .colab-df-convert:hover {\n",
              "      background-color: #E2EBFA;\n",
              "      box-shadow: 0px 1px 2px rgba(60, 64, 67, 0.3), 0px 1px 3px 1px rgba(60, 64, 67, 0.15);\n",
              "      fill: #174EA6;\n",
              "    }\n",
              "\n",
              "    [theme=dark] .colab-df-convert {\n",
              "      background-color: #3B4455;\n",
              "      fill: #D2E3FC;\n",
              "    }\n",
              "\n",
              "    [theme=dark] .colab-df-convert:hover {\n",
              "      background-color: #434B5C;\n",
              "      box-shadow: 0px 1px 3px 1px rgba(0, 0, 0, 0.15);\n",
              "      filter: drop-shadow(0px 1px 2px rgba(0, 0, 0, 0.3));\n",
              "      fill: #FFFFFF;\n",
              "    }\n",
              "  </style>\n",
              "\n",
              "      <script>\n",
              "        const buttonEl =\n",
              "          document.querySelector('#df-13d8a033-4dde-4a8e-ad9b-b3906ec2092e button.colab-df-convert');\n",
              "        buttonEl.style.display =\n",
              "          google.colab.kernel.accessAllowed ? 'block' : 'none';\n",
              "\n",
              "        async function convertToInteractive(key) {\n",
              "          const element = document.querySelector('#df-13d8a033-4dde-4a8e-ad9b-b3906ec2092e');\n",
              "          const dataTable =\n",
              "            await google.colab.kernel.invokeFunction('convertToInteractive',\n",
              "                                                     [key], {});\n",
              "          if (!dataTable) return;\n",
              "\n",
              "          const docLinkHtml = 'Like what you see? Visit the ' +\n",
              "            '<a target=\"_blank\" href=https://colab.research.google.com/notebooks/data_table.ipynb>data table notebook</a>'\n",
              "            + ' to learn more about interactive tables.';\n",
              "          element.innerHTML = '';\n",
              "          dataTable['output_type'] = 'display_data';\n",
              "          await google.colab.output.renderOutput(dataTable, element);\n",
              "          const docLink = document.createElement('div');\n",
              "          docLink.innerHTML = docLinkHtml;\n",
              "          element.appendChild(docLink);\n",
              "        }\n",
              "      </script>\n",
              "    </div>\n",
              "  </div>\n",
              "  "
            ]
          },
          "metadata": {},
          "execution_count": 424
        }
      ]
    },
    {
      "cell_type": "markdown",
      "source": [
        "Changed **thal datatype from categorical to numerical**"
      ],
      "metadata": {
        "id": "PE2sKRaYzZz3"
      }
    },
    {
      "cell_type": "markdown",
      "source": [
        "## Drop unwanted column"
      ],
      "metadata": {
        "id": "EblDEHSGygVV"
      }
    },
    {
      "cell_type": "code",
      "source": [
        "df.drop('patient_id',axis=1,inplace=True)"
      ],
      "metadata": {
        "id": "M3P2t5syxary"
      },
      "execution_count": null,
      "outputs": []
    },
    {
      "cell_type": "code",
      "source": [
        "df.info()"
      ],
      "metadata": {
        "id": "pG8U4RLUzuGL",
        "colab": {
          "base_uri": "https://localhost:8080/"
        },
        "outputId": "13c7656b-bdd6-40f1-b17d-ffecc64f73ee"
      },
      "execution_count": null,
      "outputs": [
        {
          "output_type": "stream",
          "name": "stdout",
          "text": [
            "<class 'pandas.core.frame.DataFrame'>\n",
            "Int64Index: 180 entries, 0 to 179\n",
            "Data columns (total 16 columns):\n",
            " #   Column                                Non-Null Count  Dtype  \n",
            "---  ------                                --------------  -----  \n",
            " 0   slope_of_peak_exercise_st_segment     180 non-null    int64  \n",
            " 1   resting_blood_pressure                180 non-null    int64  \n",
            " 2   chest_pain_type                       180 non-null    int64  \n",
            " 3   num_major_vessels                     180 non-null    int64  \n",
            " 4   fasting_blood_sugar_gt_120_mg_per_dl  180 non-null    int64  \n",
            " 5   resting_ekg_results                   180 non-null    int64  \n",
            " 6   serum_cholesterol_mg_per_dl           180 non-null    int64  \n",
            " 7   oldpeak_eq_st_depression              180 non-null    float64\n",
            " 8   sex                                   180 non-null    int64  \n",
            " 9   age                                   180 non-null    int64  \n",
            " 10  max_heart_rate_achieved               180 non-null    int64  \n",
            " 11  exercise_induced_angina               180 non-null    int64  \n",
            " 12  heart_disease_present                 180 non-null    int64  \n",
            " 13  thal_fixed_defect                     180 non-null    uint8  \n",
            " 14  thal_normal                           180 non-null    uint8  \n",
            " 15  thal_reversible_defect                180 non-null    uint8  \n",
            "dtypes: float64(1), int64(12), uint8(3)\n",
            "memory usage: 24.3 KB\n"
          ]
        }
      ]
    },
    {
      "cell_type": "markdown",
      "source": [
        "# Modeling"
      ],
      "metadata": {
        "id": "IvOZtk7n0G7S"
      }
    },
    {
      "cell_type": "markdown",
      "source": [
        "## Splitting data into Training and Testing"
      ],
      "metadata": {
        "id": "CgwEOOi40Td8"
      }
    },
    {
      "cell_type": "code",
      "source": [
        "X=df[['serum_cholesterol_mg_per_dl','resting_blood_pressure','chest_pain_type',\n",
        "      'num_major_vessels','fasting_blood_sugar_gt_120_mg_per_dl','resting_ekg_results',\n",
        "      'serum_cholesterol_mg_per_dl','oldpeak_eq_st_depression','sex','max_heart_rate_achieved','age',\n",
        "      'exercise_induced_angina','thal_fixed_defect','thal_normal','thal_reversible_defect']] #independent variable\n",
        "y=df.heart_disease_present   #target variable"
      ],
      "metadata": {
        "id": "fDQb5SuK0aU-"
      },
      "execution_count": null,
      "outputs": []
    },
    {
      "cell_type": "markdown",
      "source": [
        "**X** is **independent** variable\n",
        "\n",
        "**y** is **dependent** variable"
      ],
      "metadata": {
        "id": "xBAoYgbw2QNB"
      }
    },
    {
      "cell_type": "code",
      "source": [
        "np.random.seed(42)\n",
        "X_train, X_test, y_train, y_test = train_test_split(X, y, test_size=0.2)"
      ],
      "metadata": {
        "id": "Hwd94byW2Dpl"
      },
      "execution_count": null,
      "outputs": []
    },
    {
      "cell_type": "markdown",
      "source": [
        "Spliting training and test data"
      ],
      "metadata": {
        "id": "2aM2aTWV2h87"
      }
    },
    {
      "cell_type": "code",
      "source": [
        "print(X_train.shape, y_train.shape, X_test.shape, y_test.shape)"
      ],
      "metadata": {
        "id": "SGQLRqAo2maj",
        "colab": {
          "base_uri": "https://localhost:8080/"
        },
        "outputId": "d25522f0-19bc-495b-daa1-a76ca0bf52b0"
      },
      "execution_count": null,
      "outputs": [
        {
          "output_type": "stream",
          "name": "stdout",
          "text": [
            "(144, 15) (144,) (36, 15) (36,)\n"
          ]
        }
      ]
    },
    {
      "cell_type": "markdown",
      "source": [
        "## Feature Selection"
      ],
      "metadata": {
        "id": "nvebHtX_2y2i"
      }
    },
    {
      "cell_type": "code",
      "source": [
        "plt.figure(figsize=(10,10))\n",
        "cor = X_train.corr()\n",
        "sns.heatmap(cor, annot=True, cmap=plt.cm.YlGnBu)\n",
        "plt.show()"
      ],
      "metadata": {
        "id": "C_fyBMtS26U9",
        "colab": {
          "base_uri": "https://localhost:8080/",
          "height": 782
        },
        "outputId": "466e2720-6882-40fa-c8c7-109ed2e91f41"
      },
      "execution_count": null,
      "outputs": [
        {
          "output_type": "display_data",
          "data": {
            "text/plain": [
              "<Figure size 720x720 with 2 Axes>"
            ],
            "image/png": "[encoded data removed]"
          },
          "metadata": {
            "needs_background": "light"
          }
        }
      ]
    },
    {
      "cell_type": "code",
      "source": [
        "def correlation(dataset, threshold):\n",
        "    col_corr = set()  # Set of all the names of correlated columns\n",
        "    corr_matrix = dataset.corr()\n",
        "    for i in range(len(corr_matrix.columns)):\n",
        "        for j in range(i):\n",
        "            if abs(corr_matrix.iloc[i, j]) > threshold: # we are interested in absolute coeff value\n",
        "                colname = corr_matrix.columns[i]  # getting the name of column\n",
        "                col_corr.add(colname)\n",
        "    return col_corr"
      ],
      "metadata": {
        "id": "vOSYJZ7p3DXh"
      },
      "execution_count": null,
      "outputs": []
    },
    {
      "cell_type": "markdown",
      "source": [
        "Set the threashold to find **Highly correlation columns**"
      ],
      "metadata": {
        "id": "6rDS4FZq3HRY"
      }
    },
    {
      "cell_type": "code",
      "source": [
        "corr_features = correlation(X_train, 0.7)\n",
        "len(set(corr_features))"
      ],
      "metadata": {
        "id": "bYs-cmfr3PPO",
        "colab": {
          "base_uri": "https://localhost:8080/"
        },
        "outputId": "b657ef55-02c5-4ea2-960d-d87dd2e21acc"
      },
      "execution_count": null,
      "outputs": [
        {
          "output_type": "execute_result",
          "data": {
            "text/plain": [
              "2"
            ]
          },
          "metadata": {},
          "execution_count": 432
        }
      ]
    },
    {
      "cell_type": "markdown",
      "source": [
        "**2 Columns** are highly correlated"
      ],
      "metadata": {
        "id": "Mhq12i8h3TZh"
      }
    },
    {
      "cell_type": "code",
      "source": [
        "corr_features"
      ],
      "metadata": {
        "id": "G4CzGooZ3ZC4",
        "colab": {
          "base_uri": "https://localhost:8080/"
        },
        "outputId": "1500330f-b034-44f2-b95a-53e2ed37fd1c"
      },
      "execution_count": null,
      "outputs": [
        {
          "output_type": "execute_result",
          "data": {
            "text/plain": [
              "{'serum_cholesterol_mg_per_dl', 'thal_reversible_defect'}"
            ]
          },
          "metadata": {},
          "execution_count": 433
        }
      ]
    },
    {
      "cell_type": "markdown",
      "source": [
        "Correlated columns"
      ],
      "metadata": {
        "id": "Zc8W1GbK3eV9"
      }
    },
    {
      "cell_type": "markdown",
      "source": [
        "## Dropping Highly correlated features"
      ],
      "metadata": {
        "id": "oKq2z4PO3rGL"
      }
    },
    {
      "cell_type": "code",
      "source": [
        "X_train.drop(corr_features,axis=1)\n",
        "X_test.drop(corr_features,axis=1)"
      ],
      "metadata": {
        "id": "zMa81SY33yxR",
        "colab": {
          "base_uri": "https://localhost:8080/",
          "height": 1000
        },
        "outputId": "18ac3b5b-989f-4f97-e157-8808154f7297"
      },
      "execution_count": null,
      "outputs": [
        {
          "output_type": "execute_result",
          "data": {
            "text/plain": [
              "     resting_blood_pressure  chest_pain_type  num_major_vessels  \\\n",
              "19                      136                2                  2   \n",
              "42                      110                3                  1   \n",
              "153                     112                4                  1   \n",
              "78                      145                4                  2   \n",
              "145                     140                2                  2   \n",
              "15                      144                4                  0   \n",
              "24                      156                2                  0   \n",
              "68                      135                2                  0   \n",
              "113                     180                3                  0   \n",
              "118                     132                4                  1   \n",
              "93                      140                4                  2   \n",
              "159                     130                4                  2   \n",
              "69                      120                3                  3   \n",
              "142                     120                2                  0   \n",
              "45                      124                2                  0   \n",
              "16                      130                2                  0   \n",
              "51                      130                3                  1   \n",
              "125                     160                3                  0   \n",
              "96                      145                4                  2   \n",
              "56                      110                4                  1   \n",
              "97                      160                1                  1   \n",
              "120                     138                1                  1   \n",
              "143                     110                4                  0   \n",
              "30                      130                3                  0   \n",
              "9                       120                3                  0   \n",
              "172                     118                4                  0   \n",
              "60                      115                3                  0   \n",
              "18                      130                2                  0   \n",
              "148                     108                3                  0   \n",
              "173                     140                4                  0   \n",
              "109                     124                4                  0   \n",
              "55                      130                3                  0   \n",
              "140                     140                4                  0   \n",
              "126                     102                4                  0   \n",
              "66                      130                4                  3   \n",
              "29                      110                3                  0   \n",
              "\n",
              "     fasting_blood_sugar_gt_120_mg_per_dl  resting_ekg_results  \\\n",
              "19                                      1                    2   \n",
              "42                                      1                    2   \n",
              "153                                     0                    2   \n",
              "78                                      0                    2   \n",
              "145                                     0                    0   \n",
              "15                                      0                    2   \n",
              "24                                      0                    2   \n",
              "68                                      0                    2   \n",
              "113                                     1                    2   \n",
              "118                                     0                    0   \n",
              "93                                      0                    2   \n",
              "159                                     0                    2   \n",
              "69                                      0                    0   \n",
              "142                                     0                    0   \n",
              "45                                      0                    0   \n",
              "16                                      0                    2   \n",
              "51                                      0                    0   \n",
              "125                                     0                    2   \n",
              "96                                      0                    2   \n",
              "56                                      0                    0   \n",
              "97                                      1                    2   \n",
              "120                                     1                    2   \n",
              "143                                     0                    2   \n",
              "30                                      0                    2   \n",
              "9                                       0                    0   \n",
              "172                                     0                    0   \n",
              "60                                      0                    2   \n",
              "18                                      0                    2   \n",
              "148                                     0                    0   \n",
              "173                                     0                    0   \n",
              "109                                     0                    2   \n",
              "55                                      0                    0   \n",
              "140                                     0                    0   \n",
              "126                                     0                    2   \n",
              "66                                      0                    2   \n",
              "29                                      0                    0   \n",
              "\n",
              "     oldpeak_eq_st_depression  sex  max_heart_rate_achieved  age  \\\n",
              "19                        0.0    0                      152   58   \n",
              "42                        0.0    0                      130   71   \n",
              "153                       0.0    1                      153   44   \n",
              "78                        2.8    1                      142   60   \n",
              "145                       0.0    0                      179   63   \n",
              "15                        0.9    1                      126   50   \n",
              "24                        0.0    1                      143   70   \n",
              "68                        1.4    0                      161   55   \n",
              "113                       1.6    1                      150   68   \n",
              "118                       1.2    1                      132   55   \n",
              "93                        1.2    1                      170   60   \n",
              "159                       2.4    1                      132   60   \n",
              "69                        2.0    1                      139   49   \n",
              "142                       0.0    1                      173   44   \n",
              "45                        0.3    1                      141   57   \n",
              "16                        0.6    0                      175   45   \n",
              "51                        1.9    1                      162   43   \n",
              "125                       0.8    0                      151   65   \n",
              "96                        2.0    1                      132   64   \n",
              "56                        2.8    1                      126   54   \n",
              "97                        0.1    1                      131   69   \n",
              "120                       1.4    1                      174   65   \n",
              "143                       2.0    1                      114   40   \n",
              "30                        2.0    1                      168   41   \n",
              "9                         1.6    0                      158   50   \n",
              "172                       1.2    1                      140   39   \n",
              "60                        1.6    0                      160   67   \n",
              "18                        0.0    1                      202   29   \n",
              "148                       0.0    1                      152   47   \n",
              "173                       1.6    1                      173   51   \n",
              "109                       0.5    1                      166   48   \n",
              "55                        0.4    1                      179   44   \n",
              "140                       5.6    1                      111   55   \n",
              "126                       0.6    0                      122   42   \n",
              "66                        2.4    1                      109   70   \n",
              "29                        0.6    1                      123   51   \n",
              "\n",
              "     exercise_induced_angina  thal_fixed_defect  thal_normal  \n",
              "19                         0                  0            1  \n",
              "42                         0                  0            1  \n",
              "153                        0                  0            1  \n",
              "78                         1                  0            0  \n",
              "145                        0                  0            1  \n",
              "15                         1                  0            0  \n",
              "24                         0                  0            1  \n",
              "68                         0                  0            1  \n",
              "113                        1                  0            0  \n",
              "118                        1                  0            0  \n",
              "93                         0                  0            0  \n",
              "159                        1                  0            0  \n",
              "69                         0                  0            0  \n",
              "142                        0                  0            0  \n",
              "45                         0                  0            0  \n",
              "16                         0                  0            1  \n",
              "51                         0                  0            1  \n",
              "125                        0                  0            1  \n",
              "96                         0                  1            0  \n",
              "56                         1                  0            0  \n",
              "97                         0                  0            1  \n",
              "120                        0                  0            1  \n",
              "143                        1                  0            0  \n",
              "30                         0                  0            1  \n",
              "9                          0                  0            1  \n",
              "172                        0                  0            0  \n",
              "60                         0                  0            0  \n",
              "18                         0                  0            1  \n",
              "148                        0                  0            1  \n",
              "173                        1                  0            0  \n",
              "109                        0                  0            0  \n",
              "55                         1                  0            1  \n",
              "140                        1                  0            0  \n",
              "126                        0                  0            1  \n",
              "66                         0                  0            1  \n",
              "29                         0                  0            1  "
            ],
            "text/html": [
              "\n",
              "  <div id=\"df-dbd6c818-1dba-49a8-8cbb-c522388cc272\">\n",
              "    <div class=\"colab-df-container\">\n",
              "      <div>\n",
              "<style scoped>\n",
              "    .dataframe tbody tr th:only-of-type {\n",
              "        vertical-align: middle;\n",
              "    }\n",
              "\n",
              "    .dataframe tbody tr th {\n",
              "        vertical-align: top;\n",
              "    }\n",
              "\n",
              "    .dataframe thead th {\n",
              "        text-align: right;\n",
              "    }\n",
              "</style>\n",
              "<table border=\"1\" class=\"dataframe\">\n",
              "  <thead>\n",
              "    <tr style=\"text-align: right;\">\n",
              "      <th></th>\n",
              "      <th>resting_blood_pressure</th>\n",
              "      <th>chest_pain_type</th>\n",
              "      <th>num_major_vessels</th>\n",
              "      <th>fasting_blood_sugar_gt_120_mg_per_dl</th>\n",
              "      <th>resting_ekg_results</th>\n",
              "      <th>oldpeak_eq_st_depression</th>\n",
              "      <th>sex</th>\n",
              "      <th>max_heart_rate_achieved</th>\n",
              "      <th>age</th>\n",
              "      <th>exercise_induced_angina</th>\n",
              "      <th>thal_fixed_defect</th>\n",
              "      <th>thal_normal</th>\n",
              "    </tr>\n",
              "  </thead>\n",
              "  <tbody>\n",
              "    <tr>\n",
              "      <th>19</th>\n",
              "      <td>136</td>\n",
              "      <td>2</td>\n",
              "      <td>2</td>\n",
              "      <td>1</td>\n",
              "      <td>2</td>\n",
              "      <td>0.0</td>\n",
              "      <td>0</td>\n",
              "      <td>152</td>\n",
              "      <td>58</td>\n",
              "      <td>0</td>\n",
              "      <td>0</td>\n",
              "      <td>1</td>\n",
              "    </tr>\n",
              "    <tr>\n",
              "      <th>42</th>\n",
              "      <td>110</td>\n",
              "      <td>3</td>\n",
              "      <td>1</td>\n",
              "      <td>1</td>\n",
              "      <td>2</td>\n",
              "      <td>0.0</td>\n",
              "      <td>0</td>\n",
              "      <td>130</td>\n",
              "      <td>71</td>\n",
              "      <td>0</td>\n",
              "      <td>0</td>\n",
              "      <td>1</td>\n",
              "    </tr>\n",
              "    <tr>\n",
              "      <th>153</th>\n",
              "      <td>112</td>\n",
              "      <td>4</td>\n",
              "      <td>1</td>\n",
              "      <td>0</td>\n",
              "      <td>2</td>\n",
              "      <td>0.0</td>\n",
              "      <td>1</td>\n",
              "      <td>153</td>\n",
              "      <td>44</td>\n",
              "      <td>0</td>\n",
              "      <td>0</td>\n",
              "      <td>1</td>\n",
              "    </tr>\n",
              "    <tr>\n",
              "      <th>78</th>\n",
              "      <td>145</td>\n",
              "      <td>4</td>\n",
              "      <td>2</td>\n",
              "      <td>0</td>\n",
              "      <td>2</td>\n",
              "      <td>2.8</td>\n",
              "      <td>1</td>\n",
              "      <td>142</td>\n",
              "      <td>60</td>\n",
              "      <td>1</td>\n",
              "      <td>0</td>\n",
              "      <td>0</td>\n",
              "    </tr>\n",
              "    <tr>\n",
              "      <th>145</th>\n",
              "      <td>140</td>\n",
              "      <td>2</td>\n",
              "      <td>2</td>\n",
              "      <td>0</td>\n",
              "      <td>0</td>\n",
              "      <td>0.0</td>\n",
              "      <td>0</td>\n",
              "      <td>179</td>\n",
              "      <td>63</td>\n",
              "      <td>0</td>\n",
              "      <td>0</td>\n",
              "      <td>1</td>\n",
              "    </tr>\n",
              "    <tr>\n",
              "      <th>15</th>\n",
              "      <td>144</td>\n",
              "      <td>4</td>\n",
              "      <td>0</td>\n",
              "      <td>0</td>\n",
              "      <td>2</td>\n",
              "      <td>0.9</td>\n",
              "      <td>1</td>\n",
              "      <td>126</td>\n",
              "      <td>50</td>\n",
              "      <td>1</td>\n",
              "      <td>0</td>\n",
              "      <td>0</td>\n",
              "    </tr>\n",
              "    <tr>\n",
              "      <th>24</th>\n",
              "      <td>156</td>\n",
              "      <td>2</td>\n",
              "      <td>0</td>\n",
              "      <td>0</td>\n",
              "      <td>2</td>\n",
              "      <td>0.0</td>\n",
              "      <td>1</td>\n",
              "      <td>143</td>\n",
              "      <td>70</td>\n",
              "      <td>0</td>\n",
              "      <td>0</td>\n",
              "      <td>1</td>\n",
              "    </tr>\n",
              "    <tr>\n",
              "      <th>68</th>\n",
              "      <td>135</td>\n",
              "      <td>2</td>\n",
              "      <td>0</td>\n",
              "      <td>0</td>\n",
              "      <td>2</td>\n",
              "      <td>1.4</td>\n",
              "      <td>0</td>\n",
              "      <td>161</td>\n",
              "      <td>55</td>\n",
              "      <td>0</td>\n",
              "      <td>0</td>\n",
              "      <td>1</td>\n",
              "    </tr>\n",
              "    <tr>\n",
              "      <th>113</th>\n",
              "      <td>180</td>\n",
              "      <td>3</td>\n",
              "      <td>0</td>\n",
              "      <td>1</td>\n",
              "      <td>2</td>\n",
              "      <td>1.6</td>\n",
              "      <td>1</td>\n",
              "      <td>150</td>\n",
              "      <td>68</td>\n",
              "      <td>1</td>\n",
              "      <td>0</td>\n",
              "      <td>0</td>\n",
              "    </tr>\n",
              "    <tr>\n",
              "      <th>118</th>\n",
              "      <td>132</td>\n",
              "      <td>4</td>\n",
              "      <td>1</td>\n",
              "      <td>0</td>\n",
              "      <td>0</td>\n",
              "      <td>1.2</td>\n",
              "      <td>1</td>\n",
              "      <td>132</td>\n",
              "      <td>55</td>\n",
              "      <td>1</td>\n",
              "      <td>0</td>\n",
              "      <td>0</td>\n",
              "    </tr>\n",
              "    <tr>\n",
              "      <th>93</th>\n",
              "      <td>140</td>\n",
              "      <td>4</td>\n",
              "      <td>2</td>\n",
              "      <td>0</td>\n",
              "      <td>2</td>\n",
              "      <td>1.2</td>\n",
              "      <td>1</td>\n",
              "      <td>170</td>\n",
              "      <td>60</td>\n",
              "      <td>0</td>\n",
              "      <td>0</td>\n",
              "      <td>0</td>\n",
              "    </tr>\n",
              "    <tr>\n",
              "      <th>159</th>\n",
              "      <td>130</td>\n",
              "      <td>4</td>\n",
              "      <td>2</td>\n",
              "      <td>0</td>\n",
              "      <td>2</td>\n",
              "      <td>2.4</td>\n",
              "      <td>1</td>\n",
              "      <td>132</td>\n",
              "      <td>60</td>\n",
              "      <td>1</td>\n",
              "      <td>0</td>\n",
              "      <td>0</td>\n",
              "    </tr>\n",
              "    <tr>\n",
              "      <th>69</th>\n",
              "      <td>120</td>\n",
              "      <td>3</td>\n",
              "      <td>3</td>\n",
              "      <td>0</td>\n",
              "      <td>0</td>\n",
              "      <td>2.0</td>\n",
              "      <td>1</td>\n",
              "      <td>139</td>\n",
              "      <td>49</td>\n",
              "      <td>0</td>\n",
              "      <td>0</td>\n",
              "      <td>0</td>\n",
              "    </tr>\n",
              "    <tr>\n",
              "      <th>142</th>\n",
              "      <td>120</td>\n",
              "      <td>2</td>\n",
              "      <td>0</td>\n",
              "      <td>0</td>\n",
              "      <td>0</td>\n",
              "      <td>0.0</td>\n",
              "      <td>1</td>\n",
              "      <td>173</td>\n",
              "      <td>44</td>\n",
              "      <td>0</td>\n",
              "      <td>0</td>\n",
              "      <td>0</td>\n",
              "    </tr>\n",
              "    <tr>\n",
              "      <th>45</th>\n",
              "      <td>124</td>\n",
              "      <td>2</td>\n",
              "      <td>0</td>\n",
              "      <td>0</td>\n",
              "      <td>0</td>\n",
              "      <td>0.3</td>\n",
              "      <td>1</td>\n",
              "      <td>141</td>\n",
              "      <td>57</td>\n",
              "      <td>0</td>\n",
              "      <td>0</td>\n",
              "      <td>0</td>\n",
              "    </tr>\n",
              "    <tr>\n",
              "      <th>16</th>\n",
              "      <td>130</td>\n",
              "      <td>2</td>\n",
              "      <td>0</td>\n",
              "      <td>0</td>\n",
              "      <td>2</td>\n",
              "      <td>0.6</td>\n",
              "      <td>0</td>\n",
              "      <td>175</td>\n",
              "      <td>45</td>\n",
              "      <td>0</td>\n",
              "      <td>0</td>\n",
              "      <td>1</td>\n",
              "    </tr>\n",
              "    <tr>\n",
              "      <th>51</th>\n",
              "      <td>130</td>\n",
              "      <td>3</td>\n",
              "      <td>1</td>\n",
              "      <td>0</td>\n",
              "      <td>0</td>\n",
              "      <td>1.9</td>\n",
              "      <td>1</td>\n",
              "      <td>162</td>\n",
              "      <td>43</td>\n",
              "      <td>0</td>\n",
              "      <td>0</td>\n",
              "      <td>1</td>\n",
              "    </tr>\n",
              "    <tr>\n",
              "      <th>125</th>\n",
              "      <td>160</td>\n",
              "      <td>3</td>\n",
              "      <td>0</td>\n",
              "      <td>0</td>\n",
              "      <td>2</td>\n",
              "      <td>0.8</td>\n",
              "      <td>0</td>\n",
              "      <td>151</td>\n",
              "      <td>65</td>\n",
              "      <td>0</td>\n",
              "      <td>0</td>\n",
              "      <td>1</td>\n",
              "    </tr>\n",
              "    <tr>\n",
              "      <th>96</th>\n",
              "      <td>145</td>\n",
              "      <td>4</td>\n",
              "      <td>2</td>\n",
              "      <td>0</td>\n",
              "      <td>2</td>\n",
              "      <td>2.0</td>\n",
              "      <td>1</td>\n",
              "      <td>132</td>\n",
              "      <td>64</td>\n",
              "      <td>0</td>\n",
              "      <td>1</td>\n",
              "      <td>0</td>\n",
              "    </tr>\n",
              "    <tr>\n",
              "      <th>56</th>\n",
              "      <td>110</td>\n",
              "      <td>4</td>\n",
              "      <td>1</td>\n",
              "      <td>0</td>\n",
              "      <td>0</td>\n",
              "      <td>2.8</td>\n",
              "      <td>1</td>\n",
              "      <td>126</td>\n",
              "      <td>54</td>\n",
              "      <td>1</td>\n",
              "      <td>0</td>\n",
              "      <td>0</td>\n",
              "    </tr>\n",
              "    <tr>\n",
              "      <th>97</th>\n",
              "      <td>160</td>\n",
              "      <td>1</td>\n",
              "      <td>1</td>\n",
              "      <td>1</td>\n",
              "      <td>2</td>\n",
              "      <td>0.1</td>\n",
              "      <td>1</td>\n",
              "      <td>131</td>\n",
              "      <td>69</td>\n",
              "      <td>0</td>\n",
              "      <td>0</td>\n",
              "      <td>1</td>\n",
              "    </tr>\n",
              "    <tr>\n",
              "      <th>120</th>\n",
              "      <td>138</td>\n",
              "      <td>1</td>\n",
              "      <td>1</td>\n",
              "      <td>1</td>\n",
              "      <td>2</td>\n",
              "      <td>1.4</td>\n",
              "      <td>1</td>\n",
              "      <td>174</td>\n",
              "      <td>65</td>\n",
              "      <td>0</td>\n",
              "      <td>0</td>\n",
              "      <td>1</td>\n",
              "    </tr>\n",
              "    <tr>\n",
              "      <th>143</th>\n",
              "      <td>110</td>\n",
              "      <td>4</td>\n",
              "      <td>0</td>\n",
              "      <td>0</td>\n",
              "      <td>2</td>\n",
              "      <td>2.0</td>\n",
              "      <td>1</td>\n",
              "      <td>114</td>\n",
              "      <td>40</td>\n",
              "      <td>1</td>\n",
              "      <td>0</td>\n",
              "      <td>0</td>\n",
              "    </tr>\n",
              "    <tr>\n",
              "      <th>30</th>\n",
              "      <td>130</td>\n",
              "      <td>3</td>\n",
              "      <td>0</td>\n",
              "      <td>0</td>\n",
              "      <td>2</td>\n",
              "      <td>2.0</td>\n",
              "      <td>1</td>\n",
              "      <td>168</td>\n",
              "      <td>41</td>\n",
              "      <td>0</td>\n",
              "      <td>0</td>\n",
              "      <td>1</td>\n",
              "    </tr>\n",
              "    <tr>\n",
              "      <th>9</th>\n",
              "      <td>120</td>\n",
              "      <td>3</td>\n",
              "      <td>0</td>\n",
              "      <td>0</td>\n",
              "      <td>0</td>\n",
              "      <td>1.6</td>\n",
              "      <td>0</td>\n",
              "      <td>158</td>\n",
              "      <td>50</td>\n",
              "      <td>0</td>\n",
              "      <td>0</td>\n",
              "      <td>1</td>\n",
              "    </tr>\n",
              "    <tr>\n",
              "      <th>172</th>\n",
              "      <td>118</td>\n",
              "      <td>4</td>\n",
              "      <td>0</td>\n",
              "      <td>0</td>\n",
              "      <td>0</td>\n",
              "      <td>1.2</td>\n",
              "      <td>1</td>\n",
              "      <td>140</td>\n",
              "      <td>39</td>\n",
              "      <td>0</td>\n",
              "      <td>0</td>\n",
              "      <td>0</td>\n",
              "    </tr>\n",
              "    <tr>\n",
              "      <th>60</th>\n",
              "      <td>115</td>\n",
              "      <td>3</td>\n",
              "      <td>0</td>\n",
              "      <td>0</td>\n",
              "      <td>2</td>\n",
              "      <td>1.6</td>\n",
              "      <td>0</td>\n",
              "      <td>160</td>\n",
              "      <td>67</td>\n",
              "      <td>0</td>\n",
              "      <td>0</td>\n",
              "      <td>0</td>\n",
              "    </tr>\n",
              "    <tr>\n",
              "      <th>18</th>\n",
              "      <td>130</td>\n",
              "      <td>2</td>\n",
              "      <td>0</td>\n",
              "      <td>0</td>\n",
              "      <td>2</td>\n",
              "      <td>0.0</td>\n",
              "      <td>1</td>\n",
              "      <td>202</td>\n",
              "      <td>29</td>\n",
              "      <td>0</td>\n",
              "      <td>0</td>\n",
              "      <td>1</td>\n",
              "    </tr>\n",
              "    <tr>\n",
              "      <th>148</th>\n",
              "      <td>108</td>\n",
              "      <td>3</td>\n",
              "      <td>0</td>\n",
              "      <td>0</td>\n",
              "      <td>0</td>\n",
              "      <td>0.0</td>\n",
              "      <td>1</td>\n",
              "      <td>152</td>\n",
              "      <td>47</td>\n",
              "      <td>0</td>\n",
              "      <td>0</td>\n",
              "      <td>1</td>\n",
              "    </tr>\n",
              "    <tr>\n",
              "      <th>173</th>\n",
              "      <td>140</td>\n",
              "      <td>4</td>\n",
              "      <td>0</td>\n",
              "      <td>0</td>\n",
              "      <td>0</td>\n",
              "      <td>1.6</td>\n",
              "      <td>1</td>\n",
              "      <td>173</td>\n",
              "      <td>51</td>\n",
              "      <td>1</td>\n",
              "      <td>0</td>\n",
              "      <td>0</td>\n",
              "    </tr>\n",
              "    <tr>\n",
              "      <th>109</th>\n",
              "      <td>124</td>\n",
              "      <td>4</td>\n",
              "      <td>0</td>\n",
              "      <td>0</td>\n",
              "      <td>2</td>\n",
              "      <td>0.5</td>\n",
              "      <td>1</td>\n",
              "      <td>166</td>\n",
              "      <td>48</td>\n",
              "      <td>0</td>\n",
              "      <td>0</td>\n",
              "      <td>0</td>\n",
              "    </tr>\n",
              "    <tr>\n",
              "      <th>55</th>\n",
              "      <td>130</td>\n",
              "      <td>3</td>\n",
              "      <td>0</td>\n",
              "      <td>0</td>\n",
              "      <td>0</td>\n",
              "      <td>0.4</td>\n",
              "      <td>1</td>\n",
              "      <td>179</td>\n",
              "      <td>44</td>\n",
              "      <td>1</td>\n",
              "      <td>0</td>\n",
              "      <td>1</td>\n",
              "    </tr>\n",
              "    <tr>\n",
              "      <th>140</th>\n",
              "      <td>140</td>\n",
              "      <td>4</td>\n",
              "      <td>0</td>\n",
              "      <td>0</td>\n",
              "      <td>0</td>\n",
              "      <td>5.6</td>\n",
              "      <td>1</td>\n",
              "      <td>111</td>\n",
              "      <td>55</td>\n",
              "      <td>1</td>\n",
              "      <td>0</td>\n",
              "      <td>0</td>\n",
              "    </tr>\n",
              "    <tr>\n",
              "      <th>126</th>\n",
              "      <td>102</td>\n",
              "      <td>4</td>\n",
              "      <td>0</td>\n",
              "      <td>0</td>\n",
              "      <td>2</td>\n",
              "      <td>0.6</td>\n",
              "      <td>0</td>\n",
              "      <td>122</td>\n",
              "      <td>42</td>\n",
              "      <td>0</td>\n",
              "      <td>0</td>\n",
              "      <td>1</td>\n",
              "    </tr>\n",
              "    <tr>\n",
              "      <th>66</th>\n",
              "      <td>130</td>\n",
              "      <td>4</td>\n",
              "      <td>3</td>\n",
              "      <td>0</td>\n",
              "      <td>2</td>\n",
              "      <td>2.4</td>\n",
              "      <td>1</td>\n",
              "      <td>109</td>\n",
              "      <td>70</td>\n",
              "      <td>0</td>\n",
              "      <td>0</td>\n",
              "      <td>1</td>\n",
              "    </tr>\n",
              "    <tr>\n",
              "      <th>29</th>\n",
              "      <td>110</td>\n",
              "      <td>3</td>\n",
              "      <td>0</td>\n",
              "      <td>0</td>\n",
              "      <td>0</td>\n",
              "      <td>0.6</td>\n",
              "      <td>1</td>\n",
              "      <td>123</td>\n",
              "      <td>51</td>\n",
              "      <td>0</td>\n",
              "      <td>0</td>\n",
              "      <td>1</td>\n",
              "    </tr>\n",
              "  </tbody>\n",
              "</table>\n",
              "</div>\n",
              "      <button class=\"colab-df-convert\" onclick=\"convertToInteractive('df-dbd6c818-1dba-49a8-8cbb-c522388cc272')\"\n",
              "              title=\"Convert this dataframe to an interactive table.\"\n",
              "              style=\"display:none;\">\n",
              "        \n",
              "  <svg xmlns=\"http://www.w3.org/2000/svg\" height=\"24px\"viewBox=\"0 0 24 24\"\n",
              "       width=\"24px\">\n",
              "    <path d=\"M0 0h24v24H0V0z\" fill=\"none\"/>\n",
              "    <path d=\"M18.56 5.44l.94 2.06.94-2.06 2.06-.94-2.06-.94-.94-2.06-.94 2.06-2.06.94zm-11 1L8.5 8.5l.94-2.06 2.06-.94-2.06-.94L8.5 2.5l-.94 2.06-2.06.94zm10 10l.94 2.06.94-2.06 2.06-.94-2.06-.94-.94-2.06-.94 2.06-2.06.94z\"/><path d=\"M17.41 7.96l-1.37-1.37c-.4-.4-.92-.59-1.43-.59-.52 0-1.04.2-1.43.59L10.3 9.45l-7.72 7.72c-.78.78-.78 2.05 0 2.83L4 21.41c.39.39.9.59 1.41.59.51 0 1.02-.2 1.41-.59l7.78-7.78 2.81-2.81c.8-.78.8-2.07 0-2.86zM5.41 20L4 18.59l7.72-7.72 1.47 1.35L5.41 20z\"/>\n",
              "  </svg>\n",
              "      </button>\n",
              "      \n",
              "  <style>\n",
              "    .colab-df-container {\n",
              "      display:flex;\n",
              "      flex-wrap:wrap;\n",
              "      gap: 12px;\n",
              "    }\n",
              "\n",
              "    .colab-df-convert {\n",
              "      background-color: #E8F0FE;\n",
              "      border: none;\n",
              "      border-radius: 50%;\n",
              "      cursor: pointer;\n",
              "      display: none;\n",
              "      fill: #1967D2;\n",
              "      height: 32px;\n",
              "      padding: 0 0 0 0;\n",
              "      width: 32px;\n",
              "    }\n",
              "\n",
              "    .colab-df-convert:hover {\n",
              "      background-color: #E2EBFA;\n",
              "      box-shadow: 0px 1px 2px rgba(60, 64, 67, 0.3), 0px 1px 3px 1px rgba(60, 64, 67, 0.15);\n",
              "      fill: #174EA6;\n",
              "    }\n",
              "\n",
              "    [theme=dark] .colab-df-convert {\n",
              "      background-color: #3B4455;\n",
              "      fill: #D2E3FC;\n",
              "    }\n",
              "\n",
              "    [theme=dark] .colab-df-convert:hover {\n",
              "      background-color: #434B5C;\n",
              "      box-shadow: 0px 1px 3px 1px rgba(0, 0, 0, 0.15);\n",
              "      filter: drop-shadow(0px 1px 2px rgba(0, 0, 0, 0.3));\n",
              "      fill: #FFFFFF;\n",
              "    }\n",
              "  </style>\n",
              "\n",
              "      <script>\n",
              "        const buttonEl =\n",
              "          document.querySelector('#df-dbd6c818-1dba-49a8-8cbb-c522388cc272 button.colab-df-convert');\n",
              "        buttonEl.style.display =\n",
              "          google.colab.kernel.accessAllowed ? 'block' : 'none';\n",
              "\n",
              "        async function convertToInteractive(key) {\n",
              "          const element = document.querySelector('#df-dbd6c818-1dba-49a8-8cbb-c522388cc272');\n",
              "          const dataTable =\n",
              "            await google.colab.kernel.invokeFunction('convertToInteractive',\n",
              "                                                     [key], {});\n",
              "          if (!dataTable) return;\n",
              "\n",
              "          const docLinkHtml = 'Like what you see? Visit the ' +\n",
              "            '<a target=\"_blank\" href=https://colab.research.google.com/notebooks/data_table.ipynb>data table notebook</a>'\n",
              "            + ' to learn more about interactive tables.';\n",
              "          element.innerHTML = '';\n",
              "          dataTable['output_type'] = 'display_data';\n",
              "          await google.colab.output.renderOutput(dataTable, element);\n",
              "          const docLink = document.createElement('div');\n",
              "          docLink.innerHTML = docLinkHtml;\n",
              "          element.appendChild(docLink);\n",
              "        }\n",
              "      </script>\n",
              "    </div>\n",
              "  </div>\n",
              "  "
            ]
          },
          "metadata": {},
          "execution_count": 434
        }
      ]
    },
    {
      "cell_type": "markdown",
      "source": [
        "## Modeling"
      ],
      "metadata": {
        "id": "u60u_Ubz1xsx"
      }
    },
    {
      "cell_type": "markdown",
      "source": [
        "Now we've got our data splitted into training and testing sets, it's time to build a machine learning model.\n",
        "\n",
        "We'll Train it (finding patterns) on the training set.\n",
        "\n",
        "and then test it testing set\n",
        "\n",
        "selecting a model from : https://scikit-learn.org/stable/tutorial/machine_learning_map/index.html\n",
        "\n",
        "after having a look I found some model to work with.\n",
        "\n",
        "We're going to try 6 different Machine Learning Model:\n",
        "1. `Logistic Regression`\n",
        "2. `K-Nearest neighbours Classifer`\n",
        "3. `RandomForestClassifer`\n",
        "4. `SVC Classifier`\n",
        "5. `XGBOOST Classifier`\n",
        "6. `SGD Classifier`"
      ],
      "metadata": {
        "id": "Y_XLo6b32BHr"
      }
    },
    {
      "cell_type": "code",
      "source": [
        "# Putting Models in a Dictionary to make our function more dynamic\n",
        "models = {\n",
        "    \"Logistic Regression\":LogisticRegression(),\n",
        "    \"KNN\":KNeighborsClassifier(),\n",
        "    \"Random Forest\":RandomForestClassifier(),\n",
        "    \"SVC\":SVC(),\n",
        "    \"Xgboost\":XGBClassifier(),\n",
        "    \"SGD\":SGDClassifier()\n",
        "\n",
        "}\n",
        "\n",
        "# Create a function to fit and score models\n",
        "def fit_and_score(models, X_train, X_test, y_train, y_test):\n",
        "  \"\"\"\n",
        "  Fits and evaluate given machine learning models.\n",
        "  Models: a dictionary of diccerent sklearn Machine Learnng Models\n",
        "  X_train : Training data (no labeles)\n",
        "  X_test : Testing data (no labels)\n",
        "  y_train : Training labels\n",
        "  y_test : Test labels\n",
        "  \"\"\"\n",
        "  # Setting up Random seeds\n",
        "  np.random.seed(42)\n",
        "  # Make a dictionary to keep model scores\n",
        "  model_scores ={}\n",
        "  # Loop through models\n",
        "  for name, model in models.items():\n",
        "    # Fit the model to data\n",
        "    model.fit(X_train.drop(corr_features,axis=1), y_train)\n",
        "    # Evaluate the model and append its score to model_scores\n",
        "    model_scores[name] = model.score(X_test.drop(corr_features,axis=1),y_test)\n",
        "  return model_scores"
      ],
      "metadata": {
        "id": "4KNgh5MD2HJB"
      },
      "execution_count": null,
      "outputs": []
    },
    {
      "cell_type": "code",
      "source": [
        "%time\n",
        "model_scores = fit_and_score(models=models,\n",
        "                             X_train=X_train,\n",
        "                             X_test=X_test,\n",
        "                             y_train = y_train,\n",
        "                             y_test = y_test)"
      ],
      "metadata": {
        "colab": {
          "base_uri": "https://localhost:8080/"
        },
        "id": "s7EnDfB625jX",
        "outputId": "57f54306-8977-4a6d-cf56-7fff5526c82b"
      },
      "execution_count": null,
      "outputs": [
        {
          "output_type": "stream",
          "name": "stdout",
          "text": [
            "CPU times: user 4 µs, sys: 0 ns, total: 4 µs\n",
            "Wall time: 9.06 µs\n"
          ]
        }
      ]
    },
    {
      "cell_type": "code",
      "source": [
        "model_scores"
      ],
      "metadata": {
        "colab": {
          "base_uri": "https://localhost:8080/"
        },
        "id": "T0b3CFB_2_l_",
        "outputId": "c7637407-9891-47e3-b46a-f7c0bfcb7583"
      },
      "execution_count": null,
      "outputs": [
        {
          "output_type": "execute_result",
          "data": {
            "text/plain": [
              "{'Logistic Regression': 0.8611111111111112,\n",
              " 'KNN': 0.4722222222222222,\n",
              " 'Random Forest': 0.8333333333333334,\n",
              " 'SVC': 0.5833333333333334,\n",
              " 'Xgboost': 0.8055555555555556,\n",
              " 'SGD': 0.5}"
            ]
          },
          "metadata": {},
          "execution_count": 437
        }
      ]
    },
    {
      "cell_type": "markdown",
      "source": [
        "Let's visulaize the model comparision before goin any further"
      ],
      "metadata": {
        "id": "J5T8K66Q4n1l"
      }
    },
    {
      "cell_type": "code",
      "source": [
        "model_compare = pd.DataFrame(model_scores, index=[\"accuracy\"])\n",
        "model_compare.T.plot.bar();"
      ],
      "metadata": {
        "colab": {
          "base_uri": "https://localhost:8080/",
          "height": 351
        },
        "id": "2SHgQRkS4s88",
        "outputId": "4bc218c3-0fec-450d-fcaa-90d1bfb6cd99"
      },
      "execution_count": null,
      "outputs": [
        {
          "output_type": "display_data",
          "data": {
            "text/plain": [
              "<Figure size 432x288 with 1 Axes>"
            ],
            "image/png": "[encoded data removed]"
          },
          "metadata": {
            "needs_background": "light"
          }
        }
      ]
    },
    {
      "cell_type": "markdown",
      "source": [
        "As we can see `LogisticRegressor`,`XGBoost Classification`, and`RandomForestClassifer`. performs best while `SVC Classification`, and `SGD Classification` and was slightly behind and `KNN`was perform worst.\n",
        "\n",
        "but still, model's first predictions aren't always what we should based our next step off.\n",
        "\n",
        "so let's do Hyperparameter Tuning"
      ],
      "metadata": {
        "id": "u2Rfvw9L5GF-"
      }
    },
    {
      "cell_type": "markdown",
      "source": [
        "# Hyper Tuning"
      ],
      "metadata": {
        "id": "fmHukIBd-DpS"
      }
    },
    {
      "cell_type": "markdown",
      "source": [
        "## Logistic Regression"
      ],
      "metadata": {
        "id": "VJEHoF_y-PLT"
      }
    },
    {
      "cell_type": "code",
      "source": [
        "# Creating a hyperparameter grid for LogisticRegression\n",
        "log_reg_grid = {\"C\":np.logspace(-4,4,20),\n",
        "                \"solver\":[\"liblinear\"]}\n",
        "\n",
        "# Create a hyperparameter grid for RandomForestClassifer\n",
        "rf_grid = {\"n_estimators\":np.arange(10,1000,50),\n",
        "           \"max_depth\":[None,3,5,10],\n",
        "           \"min_samples_split\":np.arange(2,20,2),\n",
        "           \"min_samples_leaf\":np.arange(1,20,2)}"
      ],
      "metadata": {
        "id": "zr762wbI-jKb"
      },
      "execution_count": null,
      "outputs": []
    },
    {
      "cell_type": "markdown",
      "source": [
        "So now rather than doing hyperparamer tuning by hand or manully let's use `RandomizedSearchCV`"
      ],
      "metadata": {
        "id": "gOL7Gsua-oGH"
      }
    },
    {
      "cell_type": "code",
      "source": [
        "np.random.seed(42)\n",
        "\n",
        "# setup random hyperparameter search for LogisticRegression\n",
        "rs_log_reg = RandomizedSearchCV(LogisticRegression(),\n",
        "                                param_distributions=log_reg_grid,\n",
        "                                cv=5,\n",
        "                                n_iter=20,\n",
        "                                verbose=True)\n",
        "\n",
        "# Fit random hyperparameter search model for LoisticRegression\n",
        "rs_log_reg.fit(X_train.drop(corr_features,axis=1), y_train)"
      ],
      "metadata": {
        "colab": {
          "base_uri": "https://localhost:8080/"
        },
        "id": "4BnkEzQ0-pub",
        "outputId": "e47b2714-4f37-4f45-89a9-9d2878ed3b99"
      },
      "execution_count": null,
      "outputs": [
        {
          "output_type": "stream",
          "name": "stdout",
          "text": [
            "Fitting 5 folds for each of 20 candidates, totalling 100 fits\n"
          ]
        },
        {
          "output_type": "execute_result",
          "data": {
            "text/plain": [
              "RandomizedSearchCV(cv=5, estimator=LogisticRegression(), n_iter=20,\n",
              "                   param_distributions={'C': array([1.00000000e-04, 2.63665090e-04, 6.95192796e-04, 1.83298071e-03,\n",
              "       4.83293024e-03, 1.27427499e-02, 3.35981829e-02, 8.85866790e-02,\n",
              "       2.33572147e-01, 6.15848211e-01, 1.62377674e+00, 4.28133240e+00,\n",
              "       1.12883789e+01, 2.97635144e+01, 7.84759970e+01, 2.06913808e+02,\n",
              "       5.45559478e+02, 1.43844989e+03, 3.79269019e+03, 1.00000000e+04]),\n",
              "                                        'solver': ['liblinear']},\n",
              "                   verbose=True)"
            ]
          },
          "metadata": {},
          "execution_count": 440
        }
      ]
    },
    {
      "cell_type": "code",
      "source": [
        "rs_log_reg.best_params_"
      ],
      "metadata": {
        "colab": {
          "base_uri": "https://localhost:8080/"
        },
        "id": "i_jboWEG-1s9",
        "outputId": "4cb3d69e-5d84-48da-b0c5-a254b51c77c7"
      },
      "execution_count": null,
      "outputs": [
        {
          "output_type": "execute_result",
          "data": {
            "text/plain": [
              "{'solver': 'liblinear', 'C': 0.615848211066026}"
            ]
          },
          "metadata": {},
          "execution_count": 441
        }
      ]
    },
    {
      "cell_type": "code",
      "source": [
        "rs_log_reg.score(X_test.drop(corr_features,axis=1),y_test)"
      ],
      "metadata": {
        "colab": {
          "base_uri": "https://localhost:8080/"
        },
        "id": "eIgngiwh-52_",
        "outputId": "24a63fa4-d2a0-4948-fa55-7a82ff2df787"
      },
      "execution_count": null,
      "outputs": [
        {
          "output_type": "execute_result",
          "data": {
            "text/plain": [
              "0.8611111111111112"
            ]
          },
          "metadata": {},
          "execution_count": 442
        }
      ]
    },
    {
      "cell_type": "markdown",
      "source": [
        "After Tuning Logistic Regression, we got the best score as **0.86** as same as before tuning"
      ],
      "metadata": {
        "id": "ETh4BKON_Eu0"
      }
    },
    {
      "cell_type": "markdown",
      "source": [
        "## k Nearest Neighbor"
      ],
      "metadata": {
        "id": "ywULWiN1_ctj"
      }
    },
    {
      "cell_type": "code",
      "source": [
        "%time\n",
        "# Let's Tune KNN\n",
        "\n",
        "train_scores = []\n",
        "test_scores = []\n",
        "\n",
        "#create a list of different values of n_neighbours\n",
        "neighbours = range(1,10)\n",
        "\n",
        "# setup KNN instance\n",
        "knn = KNeighborsClassifier()\n",
        "\n",
        "# Loop through different n_neigbours\n",
        "for i in neighbours:\n",
        "  knn.set_params(n_neighbors = i)\n",
        "\n",
        "  # Fit the algorithm\n",
        "  knn.fit(X_train.drop(corr_features,axis=1), y_train)\n",
        "\n",
        "  # Update the training score list\n",
        "  train_scores.append(knn.score(X_train.drop(corr_features,axis=1), y_train))\n",
        "\n",
        "  # Update the test score list\n",
        "  test_scores.append(knn.score(X_test.drop(corr_features,axis=1), y_test))"
      ],
      "metadata": {
        "colab": {
          "base_uri": "https://localhost:8080/"
        },
        "id": "LqF1qhR4_nhO",
        "outputId": "4c388f9a-ad18-4567-9213-67f7583f7475"
      },
      "execution_count": null,
      "outputs": [
        {
          "output_type": "stream",
          "name": "stdout",
          "text": [
            "CPU times: user 2 µs, sys: 0 ns, total: 2 µs\n",
            "Wall time: 5.72 µs\n"
          ]
        }
      ]
    },
    {
      "cell_type": "code",
      "source": [
        "train_scores"
      ],
      "metadata": {
        "colab": {
          "base_uri": "https://localhost:8080/"
        },
        "id": "yJZjpvP3_ty1",
        "outputId": "bd18ea83-44cd-4571-9af9-fbf469f55747"
      },
      "execution_count": null,
      "outputs": [
        {
          "output_type": "execute_result",
          "data": {
            "text/plain": [
              "[1.0,\n",
              " 0.7847222222222222,\n",
              " 0.7638888888888888,\n",
              " 0.7430555555555556,\n",
              " 0.7638888888888888,\n",
              " 0.7222222222222222,\n",
              " 0.7569444444444444,\n",
              " 0.7430555555555556,\n",
              " 0.7291666666666666]"
            ]
          },
          "metadata": {},
          "execution_count": 444
        }
      ]
    },
    {
      "cell_type": "code",
      "source": [
        "test_scores"
      ],
      "metadata": {
        "colab": {
          "base_uri": "https://localhost:8080/"
        },
        "id": "a-JvEE5J_ySS",
        "outputId": "96466a0e-f846-4ad9-e848-56d27d19556f"
      },
      "execution_count": null,
      "outputs": [
        {
          "output_type": "execute_result",
          "data": {
            "text/plain": [
              "[0.6111111111111112,\n",
              " 0.5833333333333334,\n",
              " 0.5833333333333334,\n",
              " 0.5555555555555556,\n",
              " 0.4722222222222222,\n",
              " 0.5277777777777778,\n",
              " 0.5555555555555556,\n",
              " 0.5833333333333334,\n",
              " 0.5833333333333334]"
            ]
          },
          "metadata": {},
          "execution_count": 445
        }
      ]
    },
    {
      "cell_type": "code",
      "source": [
        "plt.plot(neighbours, train_scores, label = \"Train Score\")\n",
        "plt.plot(neighbours, test_scores, label = \"Test Score\")\n",
        "plt.xticks(np.arange(1,21,1))\n",
        "plt.xlabel(\"Number of Neighbours\")\n",
        "plt.ylabel(\"Model Score\")\n",
        "plt.legend()\n",
        "\n",
        "print(f\"Maximum KNN score on the test data:\",max(test_scores) )\n"
      ],
      "metadata": {
        "colab": {
          "base_uri": "https://localhost:8080/",
          "height": 296
        },
        "id": "yoE8vbl__3vc",
        "outputId": "9581adb8-c39d-46c4-ad4e-f09c51446248"
      },
      "execution_count": null,
      "outputs": [
        {
          "output_type": "stream",
          "name": "stdout",
          "text": [
            "Maximum KNN score on the test data: 0.6111111111111112\n"
          ]
        },
        {
          "output_type": "display_data",
          "data": {
            "text/plain": [
              "<Figure size 432x288 with 1 Axes>"
            ],
            "image/png": "[encoded data removed]"
          },
          "metadata": {
            "needs_background": "light"
          }
        }
      ]
    },
    {
      "cell_type": "markdown",
      "source": [
        "After Tuning Logistic Regression, we got best score as **0.61** as higher than before tuning"
      ],
      "metadata": {
        "id": "A32ulHnhAhFL"
      }
    },
    {
      "cell_type": "markdown",
      "source": [
        "## Stochastic Gradient Descent"
      ],
      "metadata": {
        "id": "5GN1e_K-BG9i"
      }
    },
    {
      "cell_type": "code",
      "source": [
        "loss = ['hinge', 'log', 'modified_huber', 'squared_hinge',  \n",
        "'perceptron'] \n",
        "penalty = ['l1', 'l2', 'elasticnet'] \n",
        "alpha = [0.0001, 0.001, 0.01, 0.1, 1, 10, 100, 1000] \n",
        "learning_rate = ['constant', 'optimal', 'invscaling', 'adaptive'] \n",
        "\n",
        "eta0 = [1, 10, 100] "
      ],
      "metadata": {
        "id": "d7735gFcBM48"
      },
      "execution_count": null,
      "outputs": []
    },
    {
      "cell_type": "code",
      "source": [
        "param_distributions = dict(loss=loss, \n",
        "penalty=penalty, \n",
        "alpha=alpha, \n",
        "learning_rate=learning_rate, \n",
        "\n",
        "eta0=eta0) "
      ],
      "metadata": {
        "id": "jVAVIC1bBSdp"
      },
      "execution_count": null,
      "outputs": []
    },
    {
      "cell_type": "markdown",
      "source": [
        "So now rather than doing hyperparamer tuning by hand or manully let's use `RandomizedSearchCV`"
      ],
      "metadata": {
        "id": "sFeeNgzhCJY3"
      }
    },
    {
      "cell_type": "code",
      "source": [
        "np.random.seed(42)\n",
        "sgd = SGDClassifier(loss=\"hinge\", penalty=\"l2\", max_iter=5) \n",
        "random = RandomizedSearchCV(estimator=sgd, \n",
        "param_distributions=param_distributions, \n",
        "scoring='roc_auc', \n",
        "verbose=1, n_jobs=-1, \n",
        "n_iter=1000) "
      ],
      "metadata": {
        "id": "1I1qnn04BfeR"
      },
      "execution_count": null,
      "outputs": []
    },
    {
      "cell_type": "code",
      "source": [
        "random_result = random.fit(X_train.drop(corr_features,axis=1), y_train)"
      ],
      "metadata": {
        "colab": {
          "base_uri": "https://localhost:8080/"
        },
        "id": "OKKhm7qPBkIP",
        "outputId": "9e62fcfb-ff20-402f-8999-cb69fa2bd314"
      },
      "execution_count": null,
      "outputs": [
        {
          "output_type": "stream",
          "name": "stdout",
          "text": [
            "Fitting 5 folds for each of 1000 candidates, totalling 5000 fits\n"
          ]
        }
      ]
    },
    {
      "cell_type": "code",
      "source": [
        "random_result.best_params_"
      ],
      "metadata": {
        "colab": {
          "base_uri": "https://localhost:8080/"
        },
        "id": "gqKzp82IBt6P",
        "outputId": "a3983dc9-770a-40ba-88e3-517267b09c6d"
      },
      "execution_count": null,
      "outputs": [
        {
          "output_type": "execute_result",
          "data": {
            "text/plain": [
              "{'penalty': 'l2',\n",
              " 'loss': 'modified_huber',\n",
              " 'learning_rate': 'constant',\n",
              " 'eta0': 10,\n",
              " 'alpha': 0.001}"
            ]
          },
          "metadata": {},
          "execution_count": 451
        }
      ]
    },
    {
      "cell_type": "code",
      "source": [
        "np.random.seed(42)\n",
        "sgd1=SGDClassifier(penalty='l2',\n",
        " loss = 'hinge',\n",
        " learning_rate = 'constant',\n",
        " eta0 = 1,\n",
        " alpha = 0.01)"
      ],
      "metadata": {
        "id": "qERLQAssByj3"
      },
      "execution_count": null,
      "outputs": []
    },
    {
      "cell_type": "code",
      "source": [
        "sgd1.fit(X_train.drop(corr_features,axis=1),y_train)"
      ],
      "metadata": {
        "colab": {
          "base_uri": "https://localhost:8080/"
        },
        "id": "Ahc6TsNzB2sS",
        "outputId": "3917c0b4-c464-469e-c047-62b18e18f29c"
      },
      "execution_count": null,
      "outputs": [
        {
          "output_type": "execute_result",
          "data": {
            "text/plain": [
              "SGDClassifier(alpha=0.01, eta0=1, learning_rate='constant')"
            ]
          },
          "metadata": {},
          "execution_count": 453
        }
      ]
    },
    {
      "cell_type": "code",
      "source": [
        "sgd1.score(X_test.drop(corr_features,axis=1),y_test)"
      ],
      "metadata": {
        "colab": {
          "base_uri": "https://localhost:8080/"
        },
        "id": "wAhIaL2BB6EL",
        "outputId": "7887e942-a35c-4957-d660-1ddcd83a7fe7"
      },
      "execution_count": null,
      "outputs": [
        {
          "output_type": "execute_result",
          "data": {
            "text/plain": [
              "0.5555555555555556"
            ]
          },
          "metadata": {},
          "execution_count": 454
        }
      ]
    },
    {
      "cell_type": "markdown",
      "source": [
        "After Tuned Stochastic Gradient Descent and got best score as **0.55** as **higher** than before tuning."
      ],
      "metadata": {
        "id": "Qda6ig16BWjj"
      }
    },
    {
      "cell_type": "markdown",
      "source": [
        "## Random Forest Classification"
      ],
      "metadata": {
        "id": "IgHuEioECqUv"
      }
    },
    {
      "cell_type": "code",
      "source": [
        "n_estimators=[int(x) for x in np.linspace(start=200,stop=2000,num=10)]\n",
        "n_estimators"
      ],
      "metadata": {
        "colab": {
          "base_uri": "https://localhost:8080/"
        },
        "id": "-i4Eto8lC185",
        "outputId": "c4ea4f42-10ac-4f06-b7c8-8bfe4ef7a01c"
      },
      "execution_count": null,
      "outputs": [
        {
          "output_type": "execute_result",
          "data": {
            "text/plain": [
              "[200, 400, 600, 800, 1000, 1200, 1400, 1600, 1800, 2000]"
            ]
          },
          "metadata": {},
          "execution_count": 455
        }
      ]
    },
    {
      "cell_type": "code",
      "source": [
        "n_estimators = [int(x) for x in np.linspace(start=200, stop=2000, num=10)]\n",
        "max_features = ['auto', 'sqrt']\n",
        "max_depth = [int(x) for x in np.linspace(10, 110, num=11)]\n",
        "max_depth.append(None)\n",
        "min_samples_split = list(range(1,11))\n",
        "min_samples_leaf = list(range(1,11))\n",
        "bootstrap = [True, False] \n",
        "\n",
        "    \n",
        "params={\n",
        "  'n_estimators': n_estimators, 'max_features': max_features,\n",
        "               'max_depth': max_depth, 'min_samples_split': min_samples_split,\n",
        "               'min_samples_leaf': min_samples_leaf, 'bootstrap': bootstrap\n",
        "     \n",
        "}\n"
      ],
      "metadata": {
        "id": "93xAgdPaC6ce"
      },
      "execution_count": null,
      "outputs": []
    },
    {
      "cell_type": "code",
      "source": [
        "np.random.seed(42)\n",
        "RC1=RandomForestClassifier()"
      ],
      "metadata": {
        "id": "o0KP7zuKC-zW"
      },
      "execution_count": null,
      "outputs": []
    },
    {
      "cell_type": "markdown",
      "source": [
        "So now rather than doing hyperparamer tuning by hand or manully let's use `RandomizedSearchCV`"
      ],
      "metadata": {
        "id": "xd14UEX-DDdM"
      }
    },
    {
      "cell_type": "code",
      "source": [
        "RS=RandomizedSearchCV(estimator=RC1, scoring='f1',param_distributions=params, n_iter=100, cv=3, \n",
        "                               verbose=3, random_state=42, n_jobs=-1)\n",
        "\n",
        "RS.fit(X_train.drop(corr_features,axis=1),y_train)"
      ],
      "metadata": {
        "colab": {
          "base_uri": "https://localhost:8080/"
        },
        "id": "56pUFfTUDGGO",
        "outputId": "10d4a0cf-432c-4172-93dc-7502e82ffac9"
      },
      "execution_count": null,
      "outputs": [
        {
          "output_type": "stream",
          "name": "stdout",
          "text": [
            "Fitting 3 folds for each of 100 candidates, totalling 300 fits\n"
          ]
        },
        {
          "output_type": "execute_result",
          "data": {
            "text/plain": [
              "RandomizedSearchCV(cv=3, estimator=RandomForestClassifier(), n_iter=100,\n",
              "                   n_jobs=-1,\n",
              "                   param_distributions={'bootstrap': [True, False],\n",
              "                                        'max_depth': [10, 20, 30, 40, 50, 60,\n",
              "                                                      70, 80, 90, 100, 110,\n",
              "                                                      None],\n",
              "                                        'max_features': ['auto', 'sqrt'],\n",
              "                                        'min_samples_leaf': [1, 2, 3, 4, 5, 6,\n",
              "                                                             7, 8, 9, 10],\n",
              "                                        'min_samples_split': [1, 2, 3, 4, 5, 6,\n",
              "                                                              7, 8, 9, 10],\n",
              "                                        'n_estimators': [200, 400, 600, 800,\n",
              "                                                         1000, 1200, 1400, 1600,\n",
              "                                                         1800, 2000]},\n",
              "                   random_state=42, scoring='f1', verbose=3)"
            ]
          },
          "metadata": {},
          "execution_count": 458
        }
      ]
    },
    {
      "cell_type": "code",
      "source": [
        "RS.best_estimator_"
      ],
      "metadata": {
        "colab": {
          "base_uri": "https://localhost:8080/"
        },
        "id": "rPYgQHZwEfyL",
        "outputId": "7750e846-a6ba-44d9-a851-f4e7d5078b4b"
      },
      "execution_count": null,
      "outputs": [
        {
          "output_type": "execute_result",
          "data": {
            "text/plain": [
              "RandomForestClassifier(max_depth=110, max_features='sqrt', min_samples_leaf=3,\n",
              "                       min_samples_split=8, n_estimators=400)"
            ]
          },
          "metadata": {},
          "execution_count": 459
        }
      ]
    },
    {
      "cell_type": "code",
      "source": [
        "best_params=RS.best_params_ #best_params"
      ],
      "metadata": {
        "id": "lNqJSebFEmFZ"
      },
      "execution_count": null,
      "outputs": []
    },
    {
      "cell_type": "code",
      "source": [
        "best_params"
      ],
      "metadata": {
        "colab": {
          "base_uri": "https://localhost:8080/"
        },
        "id": "S73gh5KfJLCW",
        "outputId": "ed6abdd0-55a8-455d-d324-0cb305b6de77"
      },
      "execution_count": null,
      "outputs": [
        {
          "output_type": "execute_result",
          "data": {
            "text/plain": [
              "{'n_estimators': 400,\n",
              " 'min_samples_split': 8,\n",
              " 'min_samples_leaf': 3,\n",
              " 'max_features': 'sqrt',\n",
              " 'max_depth': 110,\n",
              " 'bootstrap': True}"
            ]
          },
          "metadata": {},
          "execution_count": 461
        }
      ]
    },
    {
      "cell_type": "code",
      "source": [
        "np.random.seed(42)\n",
        "model_RC=RandomForestClassifier(max_features='sqrt', min_samples_leaf=3,max_depth= 90,\n",
        "                       min_samples_split=7, n_estimators=600,bootstrap= True) #fit with best_params\n",
        "model_RC.fit(X_train.drop(corr_features,axis=1), y_train)"
      ],
      "metadata": {
        "colab": {
          "base_uri": "https://localhost:8080/"
        },
        "id": "OaieLzicEruy",
        "outputId": "38c3aff7-1d43-40d8-ae0d-e76bc6cdddfd"
      },
      "execution_count": null,
      "outputs": [
        {
          "output_type": "execute_result",
          "data": {
            "text/plain": [
              "RandomForestClassifier(max_depth=90, max_features='sqrt', min_samples_leaf=3,\n",
              "                       min_samples_split=7, n_estimators=600)"
            ]
          },
          "metadata": {},
          "execution_count": 462
        }
      ]
    },
    {
      "cell_type": "code",
      "source": [
        "model_RC.score(X_test.drop(corr_features,axis=1),y_test)"
      ],
      "metadata": {
        "colab": {
          "base_uri": "https://localhost:8080/"
        },
        "id": "bZQpwzNrExVw",
        "outputId": "e0323722-a133-4b5b-ebc6-3beec7e6a67c"
      },
      "execution_count": null,
      "outputs": [
        {
          "output_type": "execute_result",
          "data": {
            "text/plain": [
              "0.8055555555555556"
            ]
          },
          "metadata": {},
          "execution_count": 463
        }
      ]
    },
    {
      "cell_type": "markdown",
      "source": [
        "After Random Forest Classification Tuned and got best score as **0.80** as less than before tuning."
      ],
      "metadata": {
        "id": "QFRL2vibE71c"
      }
    },
    {
      "cell_type": "markdown",
      "source": [
        "## Support Vector Classification"
      ],
      "metadata": {
        "id": "XM4H1-4GFLge"
      }
    },
    {
      "cell_type": "code",
      "source": [
        "#Hyper params\n",
        "params={'C':[0.1,0.2,1,10,100,1000,10000,100000],\n",
        "         'gamma':[0.1,0.01,0.001,0.0001,0.00001]}"
      ],
      "metadata": {
        "id": "q3WxYFrRFTFi"
      },
      "execution_count": null,
      "outputs": []
    },
    {
      "cell_type": "markdown",
      "source": [
        "So now rather than doing hyperparamer tuning by hand or manully let's use `GridSearchCV`"
      ],
      "metadata": {
        "id": "nTnQfcBhFXWX"
      }
    },
    {
      "cell_type": "code",
      "source": [
        "#GridSearchCV\n",
        "\n",
        "svc_grid=GridSearchCV(SVC(random_state=42),params,scoring='f1',\n",
        "    n_jobs=-1,\n",
        "    refit=True,\n",
        "    verbose=3,                  \n",
        "    cv=3)\n",
        "svc_grid.fit(X_train.drop(corr_features,axis=1), y_train)"
      ],
      "metadata": {
        "colab": {
          "base_uri": "https://localhost:8080/"
        },
        "id": "pLsnfFhnFc4K",
        "outputId": "caa22965-8397-4d64-a5b6-8ce1f3a11b29"
      },
      "execution_count": null,
      "outputs": [
        {
          "output_type": "stream",
          "name": "stdout",
          "text": [
            "Fitting 3 folds for each of 40 candidates, totalling 120 fits\n"
          ]
        },
        {
          "output_type": "execute_result",
          "data": {
            "text/plain": [
              "GridSearchCV(cv=3, estimator=SVC(random_state=42), n_jobs=-1,\n",
              "             param_grid={'C': [0.1, 0.2, 1, 10, 100, 1000, 10000, 100000],\n",
              "                         'gamma': [0.1, 0.01, 0.001, 0.0001, 1e-05]},\n",
              "             scoring='f1', verbose=3)"
            ]
          },
          "metadata": {},
          "execution_count": 465
        }
      ]
    },
    {
      "cell_type": "code",
      "source": [
        "svc_grid.best_estimator_ "
      ],
      "metadata": {
        "colab": {
          "base_uri": "https://localhost:8080/"
        },
        "id": "qB_uX0qGFhHF",
        "outputId": "be68286a-3fc9-47c1-ae57-8a3e6c6eb92e"
      },
      "execution_count": null,
      "outputs": [
        {
          "output_type": "execute_result",
          "data": {
            "text/plain": [
              "SVC(C=10000, gamma=1e-05, random_state=42)"
            ]
          },
          "metadata": {},
          "execution_count": 466
        }
      ]
    },
    {
      "cell_type": "code",
      "source": [
        "best_params=svc_grid.best_params_ #best_params\n",
        "best_params"
      ],
      "metadata": {
        "colab": {
          "base_uri": "https://localhost:8080/"
        },
        "id": "y2Yj4GvDFlmk",
        "outputId": "f5b257fd-3859-4511-df5d-a1d463ee61f2"
      },
      "execution_count": null,
      "outputs": [
        {
          "output_type": "execute_result",
          "data": {
            "text/plain": [
              "{'C': 10000, 'gamma': 1e-05}"
            ]
          },
          "metadata": {},
          "execution_count": 467
        }
      ]
    },
    {
      "cell_type": "code",
      "source": [
        "svc_best_params=SVC(C=10000, gamma=1e-05, random_state=42,verbose=3)"
      ],
      "metadata": {
        "id": "08WQ94jEFp-J"
      },
      "execution_count": null,
      "outputs": []
    },
    {
      "cell_type": "code",
      "source": [
        "svc_best_params"
      ],
      "metadata": {
        "colab": {
          "base_uri": "https://localhost:8080/"
        },
        "id": "D3yUjm7sFt0g",
        "outputId": "7d79aed2-d0ea-4f97-c472-31f198d6c7ee"
      },
      "execution_count": null,
      "outputs": [
        {
          "output_type": "execute_result",
          "data": {
            "text/plain": [
              "SVC(C=10000, gamma=1e-05, random_state=42, verbose=3)"
            ]
          },
          "metadata": {},
          "execution_count": 469
        }
      ]
    },
    {
      "cell_type": "code",
      "source": [
        "svc_best_params.fit(X_train.drop(corr_features,axis=1), y_train)"
      ],
      "metadata": {
        "colab": {
          "base_uri": "https://localhost:8080/"
        },
        "id": "j4hm-IVHFyJx",
        "outputId": "036e2d78-f500-4984-eedd-d6e61a3f8f1d"
      },
      "execution_count": null,
      "outputs": [
        {
          "output_type": "stream",
          "name": "stdout",
          "text": [
            "[LibSVM]"
          ]
        },
        {
          "output_type": "execute_result",
          "data": {
            "text/plain": [
              "SVC(C=10000, gamma=1e-05, random_state=42, verbose=3)"
            ]
          },
          "metadata": {},
          "execution_count": 470
        }
      ]
    },
    {
      "cell_type": "code",
      "source": [
        "svc_best_params.score(X_test.drop(corr_features,axis=1),y_test)"
      ],
      "metadata": {
        "colab": {
          "base_uri": "https://localhost:8080/"
        },
        "id": "0fnYLwpxF4kN",
        "outputId": "cbfa50eb-83c0-4006-c345-7f514a5c8777"
      },
      "execution_count": null,
      "outputs": [
        {
          "output_type": "execute_result",
          "data": {
            "text/plain": [
              "0.8333333333333334"
            ]
          },
          "metadata": {},
          "execution_count": 471
        }
      ]
    },
    {
      "cell_type": "markdown",
      "source": [
        "Afte Tuning **SVC**,we  got **0.83** as higher than before tuning."
      ],
      "metadata": {
        "id": "izYghNeoGOcW"
      }
    },
    {
      "cell_type": "markdown",
      "source": [
        "## XGBOOST Classification"
      ],
      "metadata": {
        "id": "Ybg8sJ9xGrNn"
      }
    },
    {
      "cell_type": "code",
      "source": [
        "params_xg={\n",
        "    'gamma':[x for x in np.linspace(0,100,1000)],\n",
        "    'max_depth':[int(x) for x in range(1,11)],\n",
        "\n",
        "    'n_estimators':[int(x) for x in np.arange(1,200)],\n",
        "    'learning_rate':[0.01,0.02,0.03,0.05,0.1,0.2,0.300000012,0.4,0.5]\n",
        "}"
      ],
      "metadata": {
        "id": "blTlKmrFGvDU"
      },
      "execution_count": null,
      "outputs": []
    },
    {
      "cell_type": "code",
      "source": [
        "np.random.seed(42)\n",
        "XG=XGBClassifier()"
      ],
      "metadata": {
        "id": "E7EUzUpyG2px"
      },
      "execution_count": null,
      "outputs": []
    },
    {
      "cell_type": "markdown",
      "source": [
        "So now rather than doing hyperparamer tuning by hand or manully let's use `RandomizedSearchCV`"
      ],
      "metadata": {
        "id": "eUWfxTADHE3Q"
      }
    },
    {
      "cell_type": "code",
      "source": [
        "Xg_RS=RandomizedSearchCV(estimator=XG, scoring='f1',param_distributions=params_xg, n_iter=100, cv=3, \n",
        "                               verbose=3, random_state=42, n_jobs=-1)\n",
        "\n",
        "Xg_RS.fit(X_train.drop(corr_features,axis=1), y_train)"
      ],
      "metadata": {
        "colab": {
          "base_uri": "https://localhost:8080/"
        },
        "id": "8MRku_e9HG8y",
        "outputId": "b6d99786-3d44-4489-a9e4-75c0561fae0d"
      },
      "execution_count": null,
      "outputs": [
        {
          "output_type": "stream",
          "name": "stdout",
          "text": [
            "Fitting 3 folds for each of 100 candidates, totalling 300 fits\n"
          ]
        },
        {
          "output_type": "execute_result",
          "data": {
            "text/plain": [
              "RandomizedSearchCV(cv=3, estimator=XGBClassifier(), n_iter=100, n_jobs=-1,\n",
              "                   param_distributions={'gamma': [0.0, 0.1001001001001001,\n",
              "                                                  0.2002002002002002,\n",
              "                                                  0.3003003003003003,\n",
              "                                                  0.4004004004004004,\n",
              "                                                  0.5005005005005005,\n",
              "                                                  0.6006006006006006,\n",
              "                                                  0.7007007007007008,\n",
              "                                                  0.8008008008008008,\n",
              "                                                  0.9009009009009009,\n",
              "                                                  1.001001001001001,\n",
              "                                                  1.1011011011011012,\n",
              "                                                  1.2012012012012012,\n",
              "                                                  1.3013013013013013...\n",
              "                                                  2.4024024024024024,\n",
              "                                                  2.5025025025025025,\n",
              "                                                  2.6026026026026026,\n",
              "                                                  2.702702702702703,\n",
              "                                                  2.802802802802803,\n",
              "                                                  2.902902902902903, ...],\n",
              "                                        'learning_rate': [0.01, 0.02, 0.03,\n",
              "                                                          0.05, 0.1, 0.2,\n",
              "                                                          0.300000012, 0.4,\n",
              "                                                          0.5],\n",
              "                                        'max_depth': [1, 2, 3, 4, 5, 6, 7, 8, 9,\n",
              "                                                      10],\n",
              "                                        'n_estimators': [1, 2, 3, 4, 5, 6, 7, 8,\n",
              "                                                         9, 10, 11, 12, 13, 14,\n",
              "                                                         15, 16, 17, 18, 19, 20,\n",
              "                                                         21, 22, 23, 24, 25, 26,\n",
              "                                                         27, 28, 29, 30, ...]},\n",
              "                   random_state=42, scoring='f1', verbose=3)"
            ]
          },
          "metadata": {},
          "execution_count": 474
        }
      ]
    },
    {
      "cell_type": "code",
      "source": [
        "Xg_RS.best_estimator_ #best_estimator"
      ],
      "metadata": {
        "colab": {
          "base_uri": "https://localhost:8080/"
        },
        "id": "43xmsjRZHQwT",
        "outputId": "d47dc0a4-a777-4b0f-c775-d44a7bc91738"
      },
      "execution_count": null,
      "outputs": [
        {
          "output_type": "execute_result",
          "data": {
            "text/plain": [
              "XGBClassifier(gamma=0.2002002002002002, learning_rate=0.300000012, max_depth=7,\n",
              "              n_estimators=31)"
            ]
          },
          "metadata": {},
          "execution_count": 475
        }
      ]
    },
    {
      "cell_type": "code",
      "source": [
        "best_params_xg=Xg_RS.best_params_ #best_params\n",
        "best_params_xg"
      ],
      "metadata": {
        "colab": {
          "base_uri": "https://localhost:8080/"
        },
        "id": "a6U80Eh3HVJk",
        "outputId": "0fc30f85-e519-4b78-aa02-0b339d30c584"
      },
      "execution_count": null,
      "outputs": [
        {
          "output_type": "execute_result",
          "data": {
            "text/plain": [
              "{'n_estimators': 31,\n",
              " 'max_depth': 7,\n",
              " 'learning_rate': 0.300000012,\n",
              " 'gamma': 0.2002002002002002}"
            ]
          },
          "metadata": {},
          "execution_count": 476
        }
      ]
    },
    {
      "cell_type": "code",
      "source": [
        "xg_boost=XGBClassifier(gamma=0.2002002002002002, learning_rate=0.300000012, max_depth=7,\n",
        "              n_estimators=31, random_state=42)\n",
        "xg_boost.fit(X_train.drop(corr_features,axis=1), y_train) #fit"
      ],
      "metadata": {
        "colab": {
          "base_uri": "https://localhost:8080/"
        },
        "id": "xuWNC9NSHaBV",
        "outputId": "fad44829-5b74-40cc-fdf6-4db83bfd9588"
      },
      "execution_count": null,
      "outputs": [
        {
          "output_type": "execute_result",
          "data": {
            "text/plain": [
              "XGBClassifier(gamma=0.2002002002002002, learning_rate=0.300000012, max_depth=7,\n",
              "              n_estimators=31, random_state=42)"
            ]
          },
          "metadata": {},
          "execution_count": 477
        }
      ]
    },
    {
      "cell_type": "code",
      "source": [
        "xg_boost.score(X_test.drop(corr_features,axis=1),y_test)"
      ],
      "metadata": {
        "colab": {
          "base_uri": "https://localhost:8080/"
        },
        "id": "mjla7v_sHlFu",
        "outputId": "fbe454a9-87b0-4d3e-dada-bdab5c83e22b"
      },
      "execution_count": null,
      "outputs": [
        {
          "output_type": "execute_result",
          "data": {
            "text/plain": [
              "0.8333333333333334"
            ]
          },
          "metadata": {},
          "execution_count": 478
        }
      ]
    },
    {
      "cell_type": "markdown",
      "source": [
        "After Tuned XGBPOOOST Classifier and got best score as **0.83** as higher than before tunning"
      ],
      "metadata": {
        "id": "PRJ10B-LRUvV"
      }
    },
    {
      "cell_type": "markdown",
      "source": [
        "**RESULT:**\n",
        "\n",
        "   * We can see that ML model Logistic Regression gives a good accuracy of 86%, compared to other models. "
      ],
      "metadata": {
        "id": "fvJ7MaDNRyAr"
      }
    },
    {
      "cell_type": "markdown",
      "source": [
        "\n",
        "\n",
        "**THANK YOU**"
      ],
      "metadata": {
        "id": "XyziDRVIThCt"
      }
    }
  ],
  "metadata": {
    "colab": {
      "collapsed_sections": [],
      "provenance": [],
      "include_colab_link": true
    },
    "kernelspec": {
      "display_name": "Python 3",
      "name": "python3"
    },
    "language_info": {
      "name": "python"
    }
  },
  "nbformat": 4,
  "nbformat_minor": 0
}